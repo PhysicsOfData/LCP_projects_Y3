{
  "nbformat": 4,
  "nbformat_minor": 0,
  "metadata": {
    "colab": {
      "name": "FunctionKalmanFilter3.ipynb",
      "provenance": [],
      "collapsed_sections": []
    },
    "kernelspec": {
      "display_name": "Python 3",
      "language": "python",
      "name": "python3"
    },
    "language_info": {
      "codemirror_mode": {
        "name": "ipython",
        "version": 3
      },
      "file_extension": ".py",
      "mimetype": "text/x-python",
      "name": "python",
      "nbconvert_exporter": "python",
      "pygments_lexer": "ipython3",
      "version": "3.8.5"
    }
  },
  "cells": [
    {
      "cell_type": "code",
      "metadata": {
        "id": "90rosaYrfpnQ"
      },
      "source": [
        "import numpy as np\r\n",
        "import pandas as pd\r\n",
        "import matplotlib.pyplot as plt\r\n",
        "import math\r\n",
        "from scipy.spatial import distance"
      ],
      "execution_count": 1,
      "outputs": []
    },
    {
      "cell_type": "markdown",
      "metadata": {
        "id": "aAG8mcEykKVE"
      },
      "source": [
        "# Kalman Filter"
      ]
    },
    {
      "cell_type": "markdown",
      "metadata": {
        "id": "T7Hso2WSkKVT"
      },
      "source": [
        "### Introduction and mathematical formulation\n",
        "\n",
        "The Kalman filter is an algorithm that provides estimates of some unknown variables given the measurements observed over time containing statistical noise or other inaccuracies. It is composed by a set of mathematical equations that implement a predictor-corrector type estimator that is optimal in the sense that it minimizes the estimated error covariance."
      ]
    },
    {
      "cell_type": "markdown",
      "metadata": {
        "id": "_KOaviJzkKVZ"
      },
      "source": [
        "The Kalman filter addresses the general problem of trying to estimate the state $x$ ∈ ℜ$^n$ of a discrete-time controlled process that is governed by the linear stochastic\n",
        "difference equation:\n",
        "\n",
        "$x_k = Ax_{k-1} +Bu_k +w_{k-1}\\quad\\mathrm{,} \\quad\\quad  p(w) ≈ N(0,Q)$        \n",
        "\n",
        "with a measurement $y$ ∈ ℜ$^m$ that is:\n",
        "\n",
        "$y_k = Hx_{k} + v_{k}\\quad\\mathrm{,}  \\quad\\quad\\quad\\quad\\quad\\quad p(v) ≈ N(0,R)$\n",
        "\n",
        "The random variables $w_k$ and $v_k$  represent the process and measurement noise respectively. They are assumed to be independent of each other, white, and with normal probability distributions.\n",
        "\n",
        "In practice, the process noise covariance $Q$ and measurement noise $R$ covariance matrices might change with each time step or measurement, however here we assume they are constant. The $nxn$ matrix $A$ relates the state at the previous time step to the state at the current step, in the absence of either a driving function or process noise. The $n×1$ matrix $B$ relates the optional control input $u$ ∈ ℜ$^l$ to the state $x$. The $mxn$ matrix $H$ in the measurement equation relates the state to the\n",
        "measurement $y_k$."
      ]
    },
    {
      "cell_type": "markdown",
      "metadata": {
        "id": "oBBTCKekkKVi"
      },
      "source": [
        "The Kalman filter process has two steps: the prediction step, where the next state of the system is predicted given the previous measurements, and the update step, where the current state of the system is estimated given the measurement at that time step.\n",
        "The steps translate to equations as follows:\n",
        "\n",
        "#### I. Prediction\n",
        "\n",
        "$X{_k}^- = A_{k-1}X_{k-1} +B_kU_k $\n",
        "\n",
        "$P{_k}^- = A_{k-1}P_{k-1}A_{k-1}^T +Q_{k-1} $\n",
        "\n",
        "#### II. Update\n",
        "\n",
        "$V{_k} = Y_{k} - H_kX{_k}^- $\n",
        "\n",
        "$S{_k} = H_{k}P_{k-1}H_{k}^T + R_k $\n",
        "\n",
        "$K{_k} = P{_k}H_{k-1}^TS{_k}^- $ \n",
        "\n",
        "$X{_k} = X{_k}^- + K{_k}V_{k} $\n",
        "\n",
        "$P{_k} = P{_k}^- - K_kS_kK_{k}^T $\n",
        "\n",
        "where:\n",
        "\n",
        "• $X{_k}^-$ and $P{_k}^-$ are the predicted mean and covariance of the state, respectively, on the time step k before seeing the measurement.\n",
        "\n",
        "• $X_k$ and $P_k$ are the estimated mean and covariance of the state, respectively, on time step k after seeing the measurement.\n",
        "\n",
        "• $Y_k$ is mean of the measurement on time step k.\n",
        "\n",
        "• $V_k$ is the innovation or the measurement residual on time step k .\n",
        "\n",
        "• $S_k$ is the measurement prediction covariance on the time step k .\n",
        "\n",
        "• $K_k$ is the filter gain, which tells how much the predictions should be corrected on time step k. \n"
      ]
    },
    {
      "cell_type": "markdown",
      "metadata": {
        "id": "dt8AEt8hkKVm"
      },
      "source": [
        "### Python code of Kalman Filter \n",
        "\n",
        "#### I. Prediction step\n",
        "\n",
        "This step has to predict the mean $X$ and the covariance $P$ of the system state at the time step $k$ . The Python function \n",
        "$\\texttt{kf_predict}$ performs the prediction of these output ( $X$ and $P$ ) when giving six input:"
      ]
    },
    {
      "cell_type": "markdown",
      "metadata": {
        "id": "yRmtbI7DkKVp"
      },
      "source": [
        "$X$ : The mean state estimate of the previous step $(k −1)$. \n",
        "\n",
        "$P$ : The state covariance of previous step $(k −1)$.\n",
        "\n",
        "$A$ : The transition $nxn$ matrix.\n",
        "\n",
        "$Q$ : The process noise covariance matrix.\n",
        "\n",
        "$B$ : The input effect matrix.\n",
        "\n",
        "$U$ : The control input. \n",
        "\n",
        "The Python code of this step is given by: "
      ]
    },
    {
      "cell_type": "code",
      "metadata": {
        "id": "P1TmhczPkKVr"
      },
      "source": [
        "def kf_predict(X, P, A, Q, B, U):\n",
        "    X = np.dot(A, X) + np.dot(B, U)\n",
        "    P = np.dot(A, np.dot(P, A.T)) + Q\n",
        "    return(X,P)"
      ],
      "execution_count": 2,
      "outputs": []
    },
    {
      "cell_type": "markdown",
      "metadata": {
        "id": "C_wK8hGPkKVs"
      },
      "source": [
        "#### II. Update step\n",
        "\n",
        "At the time step $k$ , this update step computes the posterior mean $X$ and covariance $P$ of the system state given a new measurement $Y$ . The Python function $\\texttt{kf_update}$ performs the update of $X$ and $P$ giving the predicted $X$ and $P$ matrices, the measurement vector $Y$ , the measurement matrix $H$ and the measurement covariance matrix $R$ . The additional input will be:\n",
        "\n",
        "$K$ : the Kalman Gain matrix\n",
        "\n",
        "$IM$ : the Mean of predictive distribution of $Y$\n",
        "\n",
        "$IS$ : the Covariance or predictive mean of $Y$\n",
        "\n",
        "$LH$ : the Predictive probability (likelihood) of measurement which is computed using the Python function $\\texttt{gauss_pdf}$. \n",
        "\n",
        "The Python code of these two functions is given by:"
      ]
    },
    {
      "cell_type": "code",
      "metadata": {
        "id": "6A7v0-2OkKVt"
      },
      "source": [
        "def kf_update(X, P, Y, H, R):\n",
        "    IM = np.dot(H, X)\n",
        "    IS = R + np.dot(H, np.dot(P, H.T))\n",
        "    K = np.dot(P, np.dot(H.T, np.linalg.inv(IS)))\n",
        "    X = X + np.dot(K, (Y-IM))\n",
        "    P = P - np.dot(K, np.dot(IS, K.T))\n",
        "    LH = gauss_pdf(Y, IM, IS)\n",
        "    return (X,P,K,IM,IS,LH)\n",
        "\n",
        "def gauss_pdf(X, M, S):\n",
        "    if M.shape[1] == 1:\n",
        "        DX = X - np.tile(M, X.shape[1])\n",
        "        E = 0.5 * np.sum(DX * (np.dot(np.linalg.inv(S), DX)), axis=0)\n",
        "        E = E + 0.5 * M.shape[0] * math.log(2 * math.pi) + 0.5 * math.log(np.linalg.det(S))\n",
        "        P = math.exp(-E)\n",
        "    elif X.shape[1] == 1:\n",
        "        DX = np.tile(X, M.shape[1])- M\n",
        "        E = 0.5 * np.sum(DX * (np.dot(np.linalg.inv(S), DX)), axis=0)\n",
        "        E = E + 0.5 * M.shape[0] * math.log(2 * math.pi) + 0.5 * math.log(np.linalg.det(S))\n",
        "        P = math.exp(-E)\n",
        "    else:\n",
        "        DX = X-M\n",
        "        E = 0.5 * np.dot(DX.T, np.dot(np.linalg.inv(S), DX))\n",
        "        E = E + 0.5 * M.shape[0] * math.log(2 * math.pi) + 0.5 * math.log(np.linalg.det(S))\n",
        "        P = math.exp(-E)\n",
        "        return (P[0],E[0]) "
      ],
      "execution_count": 3,
      "outputs": []
    },
    {
      "cell_type": "markdown",
      "metadata": {
        "id": "pgFmYJZjkKVu"
      },
      "source": [
        "### Inizialization of the matrices\n",
        "\n",
        "#### Choose the State Variables X\n",
        "\n",
        "The first step is to choose our state variables. We are tracking in two dimensions, so we know that we have the two observed variables $x$ and $y$. If we created our Kalman filter using only those two variables the performance would not be very good because we would be ignoring the information velocity can provide to us. We will incorporate velocity into our equations as well. We will represent this as:\n",
        "\n",
        "$$\\mathbf X = \\begin{bmatrix}x&y & v_x & v_y\\end{bmatrix}$$\n",
        "\n",
        "where $v_x$ and $v_y$ are respectively the component of velocity $v$ along the x and y-axis."
      ]
    },
    {
      "cell_type": "markdown",
      "metadata": {
        "id": "GnpoCKf8kKVv"
      },
      "source": [
        "In order to derive from the know vector $v$ the velocity along the axis x and y, we calculate, for each time step, the angle between the vector $v$ and its components as:\n",
        "\n",
        "$$\\alpha = arctan \\frac{y_{c}-y_{c-1}}{x_{c}-x_{c-1}} $$\n",
        "\n",
        "where:\n",
        "\n",
        "$(x_c,y_{c})$ are the coordinates of the cell associated with the x-y veichle location\n",
        "\n",
        "$(x_{c-1},y_{c-1})$ are the coordinates of the cell visited before the current one\n",
        "\n",
        "Then, we can calculate the two components as:\n",
        "\n",
        "$v_x = v * cos(\\alpha)$\n",
        "\n",
        "$v_y = v * sin(\\alpha)$"
      ]
    },
    {
      "cell_type": "code",
      "metadata": {
        "id": "16ilSD9hkKVy"
      },
      "source": [
        "#The method velocity return the components of velocity  v along the x and y-axis given C, C-1, v and BS_loc.\n",
        "\n",
        "def acc_BS(i,BS_loc):\n",
        "    return BS_loc.iloc[int(i)-1]\n",
        "\n",
        "def velocity(c_id1,cmin1_id1,v,BS_loc):    \n",
        "    BS_c = np.array([])\n",
        "    BS_c_min1 = np.array([])\n",
        "    for i in c_id1:\n",
        "        BS_c = np.append(BS_c,acc_BS(i,BS_loc))\n",
        "    BS_c = BS_c.reshape(-1,2)\n",
        "\n",
        "    for i in cmin1_id1:\n",
        "        if ( int(i)<= 0):\n",
        "            BS_c_min1 = np.append(BS_c_min1, acc_BS(c_id1[0],BS_loc))\n",
        "            continue\n",
        "        BS_c_min1 = np.append(BS_c_min1,acc_BS(i,BS_loc))\n",
        "    BS_c_min1 = BS_c_min1.reshape(-1,2)\n",
        "\n",
        "\n",
        "    num_rows, num_cols = BS_c.shape\n",
        "    alpha = np.array([])\n",
        "    for i in range(0,num_rows):\n",
        "        if ( BS_c[i,1] == BS_c_min1[i,1]):\n",
        "            t = 0\n",
        "            alpha = np.append(alpha,np.arctan(t))\n",
        "            continue\n",
        "        if (BS_c[i,0] == BS_c_min1[i,0]):\n",
        "            if ( BS_c[i,1] > BS_c_min1[i,1]):\n",
        "                alpha = np.append(alpha,np.pi/2)\n",
        "            else:\n",
        "                alpha = np.append(alpha,-np.pi/2)\n",
        "            continue  \n",
        "        t = (BS_c[i,1]-BS_c_min1[i,1])/(BS_c[i,0]-BS_c_min1[i,0])\n",
        "        alpha = np.append(alpha,np.arctan(t))\n",
        "\n",
        "    v_id1 = np.array([])\n",
        "    for i in range(0,alpha.size):\n",
        "          v_id1 = np.append(v_id1,[v[i]*np.cos(alpha[i]),v[i]*np.sin(alpha[i])])\n",
        "    v_id1 = v_id1.reshape(-1,2) \n",
        "    return v_id1"
      ],
      "execution_count": 4,
      "outputs": []
    },
    {
      "cell_type": "markdown",
      "metadata": {
        "id": "4AKrnbNjkKVz"
      },
      "source": [
        "#### Covariance matrix P\n",
        "\n",
        "We suppose that, at the beginning, the covariance matrix is a diagonal matrix like:\n",
        "$$\n",
        "P\n",
        "=\n",
        "\\begin{bmatrix}0.01 & 0 & 0 & 0\\\\0 & 0.01 &  0 & 0\\\\0 & 0 & 0.01 & 0 \\\\ 0 & 0 &  0 & 0.01\\end{bmatrix}\n",
        "$$"
      ]
    },
    {
      "cell_type": "markdown",
      "metadata": {
        "id": "X5SNDKGikKVz"
      },
      "source": [
        "#### Transition matrix A\n",
        "\n",
        "Our next step is to design the state transition function. Recall that the state transition function is implemented as a matrix $A$ that we multiply with the previous state of our system to get the next state with the equation:\n",
        "\n",
        "$x_k = Ax_{k-1} +Bu_k +w_{k-1}\\quad\\mathrm{}$\n",
        "\n",
        " The state transition equations are:\n",
        "\n",
        "$$\n",
        "\\begin{aligned}\n",
        "x = 1x +  0y + \\Delta t v_x + 0 v_y \\\\\n",
        "y = 0x +  1y + 0v_x + \\Delta t v_y \\\\\n",
        "v_x = 0x + 0y + 1v_x + 0 v_y \\\\\n",
        "v_y = 0x  + 0y + 0v_x + 1 v_y\n",
        "\\end{aligned}\n",
        "$$\n",
        "Laying it out that way shows us both the values and row-column organization required for $A$. We convert this to matrix-vector form:\n",
        "\n",
        "$$\n",
        "A\n",
        "=\n",
        "\\begin{bmatrix}1 & 0 & \\Delta t & 0\\\\0 & 1 &  0 & \\Delta t\\\\0 & 0 & 1 & 0 \\\\ 0 & 0 &  0 & 1\\end{bmatrix}\n",
        "$$"
      ]
    },
    {
      "cell_type": "markdown",
      "metadata": {
        "id": "RQ3-y1kUkKV0"
      },
      "source": [
        "#### Measurement matrix H\n",
        "The measurement matrix $H$ defines how we go from the state variables $x$ to the measurements $y$ with the equation:\n",
        "\n",
        "$y_k = Hx_{k} + v_{k} $\n",
        "\n",
        " In this case we have measurements for (x,y), so we will design $y_k$ as a vector of dimension 2x1. Our state variable $x$ is size 4x1. We can deduce the required size for $\\textbf{H}$ by recalling that multiplying a matrix of size 2x1 by 1x4 yields a matrix of size 2x4. Thus,\n",
        "\n",
        "$$\n",
        "H\n",
        "=\n",
        "\\begin{bmatrix}1 & 0 & 0 & 0\\\\0 & 1 &  0 & 0\\\\\\end{bmatrix}\n",
        "$$\n"
      ]
    },
    {
      "cell_type": "markdown",
      "metadata": {
        "id": "y0SecElLkKV0"
      },
      "source": [
        "We are now ready to implement the Kalman Filter:"
      ]
    },
    {
      "cell_type": "code",
      "metadata": {
        "id": "hoYCbbCKkKV0"
      },
      "source": [
        "#The method Kalman_Filter_C2 predicts the trajectory (that in this case, means the base cells C+2 that pick up the cars at time instant t+2, knowing the previously predicted base cell \n",
        "#(C+1) of one vehicle specified by its ID and calculate the percentage of correct predictions\n",
        "\n",
        "\n",
        "def Kalman_Filter_C2(df, BS_loc, ID):\n",
        "    df1 = df[df['ID'] == ID]\n",
        "\n",
        "    #x and y coordinates of the BS location\n",
        "    bs = BS_loc[['X', 'Y']].to_numpy()\n",
        "    x_bs = BS_loc['X'].to_numpy()\n",
        "    y_bs = BS_loc['Y'].to_numpy()\n",
        "\n",
        "    #measurements is the vector with x and y coordinates of the vehicle location at each step\n",
        "    measurements = df1[['car_x', 'car_y']].to_numpy() \n",
        "\n",
        "    #Speeds of the vehicle at each step\n",
        "    v = df1['m/s'].to_numpy()\n",
        "\n",
        "    #hexagonal cell associated with the x-y veichle location\n",
        "    c_id1 = df1['C'].to_numpy()\n",
        "\n",
        "    #hexagonal cell to which the vehicle will be connected in the next time step\n",
        "    c1 = df1['C+1'].to_numpy()\n",
        "\n",
        "    #hexagonal cell visited before the current one\n",
        "    cmin1_id1 = df1['C-1'].to_numpy()\n",
        "\n",
        "    v_id1 = velocity(c_id1,cmin1_id1,v,BS_loc)\n",
        "\n",
        "    #time step of mobile movement \n",
        "    dt = 1 \n",
        "\n",
        "    X = np.array([[measurements[0, 0]], [measurements[0, 1]],[v_id1[0,0]],[v_id1[0,1]]])\n",
        "    P = np.diag((0.01, 0.01, 0.01, 0.01)) \n",
        "    A = np.array([[1, 0, dt , 0], [0, 1, 0, dt], [0, 0, 1, 0], [0, 0, 0, 1]]) \n",
        "\n",
        "    Q = np.eye(X.shape[0]) \n",
        "    B = np.eye(X.shape[0]) \n",
        "    U = np.zeros((X.shape[0],1)) \n",
        "\n",
        "    # Measurement matrices \n",
        "    Y = np.array([[X[0,0] + abs(np.random.randn(1)[0])], [X[1,0] + abs(np.random.randn(1)[0])]]) \n",
        "    H = np.array([[1, 0, 0, 0], [0, 1, 0, 0]]) \n",
        "    R = np.eye(Y.shape[0])\n",
        "\n",
        "    # Number of iterations in Kalman Filter\n",
        "    N_iter = len(df1)\n",
        "    plt.figure(figsize=(15, 8))\n",
        "\n",
        "    mes0 = []\n",
        "    mes1 = []\n",
        "    mes_c2_0 = []\n",
        "    mes_c2_1 = []\n",
        "    pred0 = []\n",
        "    pred1 = []\n",
        "    pred_c2_0= []\n",
        "    pred_c2_1= []\n",
        "    #up0 = []\n",
        "    #up1 = []\n",
        "\n",
        "    # Applying the Kalman Filter\n",
        "    for i in np.arange(0, N_iter):\n",
        "         \n",
        "        X = np.array([[measurements[i, 0]], [measurements[i, 1]],[v_id1[i,0]],[v_id1[i,1]]])\n",
        "        (X, P) = kf_predict(X, P, A, Q, B, U)\n",
        "        pred0.append(X[0,0])#This is the predict value\n",
        "        pred1.append(X[1,0])\n",
        "    \n",
        "        (X, P, K, IM, IS, LH) = kf_update(X, P, Y, H, R)\n",
        "\n",
        "        Y = np.array([[X[0,0]],[X[1, 0]]])\n",
        "        mes0.append(Y[0]) #This is the measured value\n",
        "        mes1.append(Y[1])\n",
        "\n",
        "        #C+2\n",
        "        P_C2 = P\n",
        "        X = np.array([[mes0[len(mes0)-1]], [mes1[len(mes1)-1]],[v_id1[i,0]],[v_id1[i,1]]])\n",
        "        (X, P_C2) = kf_predict(X, P_C2, A, Q, B, U)\n",
        "        pred_c2_0.append(X[0,0])#This is the predict value\n",
        "        pred_c2_1.append(X[1,0])\n",
        "        (X, P_C2, K, IM, IS, LH) = kf_update(X, P_C2, Y, H, R)\n",
        "\n",
        "        mes_c2_0.append(X[0,0]) #This is the measured value\n",
        "        mes_c2_1.append(X[1, 0])\n",
        "\n",
        "    print(\"ID\",ID)\n",
        "    \n",
        "    #Check if the base station that is nearest to the predicted coordinates is the real next base station (column C+1) \n",
        "    correct = 0\n",
        "    error = 0\n",
        "    N = len(BS_loc)\n",
        "    for i in np.arange(0, N_iter-1):\n",
        "        pred = np.array([pred_c2_0[i],pred_c2_1[i]])\n",
        "        #pred = np.array([measurements[i, 0],measurements[i, 1]])\n",
        "        min_dist = distance.euclidean(pred,bs[0])\n",
        "    \n",
        "        for j in np.arange(0,N-1):\n",
        "            dist = distance.euclidean(pred,bs[j])\n",
        "            if dist < min_dist:\n",
        "                min_dist = dist\n",
        "                index = j+1\n",
        "\n",
        "        if ( c1[i+1] <= 0):\n",
        "            continue         \n",
        "            \n",
        "        if (index==c1[i+1]):\n",
        "            correct = correct +1\n",
        "            #print(\"instante \",i,\" bs pred\", index, \"real bs \",c1[i])\n",
        "        else: \n",
        "            error = error +1\n",
        "            #print(\"instante \",i,\" bs pred\", index, \"real bs \",c1[i])\n",
        "    print(\"\\n% of times the car is connected to the nearest BS (prediction) :\",(correct*100)/(correct+error),\"%\")\n",
        "    return measurements,pred_c2_0, pred_c2_1, mes_c2_0, mes_c2_1"
      ],
      "execution_count": 5,
      "outputs": []
    },
    {
      "cell_type": "code",
      "metadata": {
        "id": "Cf31fEirkKV1"
      },
      "source": [
        ""
      ],
      "execution_count": 5,
      "outputs": []
    }
  ]
}