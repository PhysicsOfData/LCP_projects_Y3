{
 "cells": [
  {
   "cell_type": "markdown",
   "metadata": {},
   "source": [
    "# Simulation of a positron-induced Muon Source (part 1)\n",
    "\n",
    "\n",
    "### Authors:\n",
    "* Saverio Monaco\n",
    "* Marianna Zeragic De Giorgio\n",
    "* Gerardo Javier Carmona\n",
    "* Hilario Capettini \n",
    "\n",
    "### Description\n",
    "\n",
    "The production of a high brillance muon beam is one of the most important challenge for the future of Particle Physics. A particularly interesting idea consists of shooting high energy positrons on a target, aiming at the production of muons by means of the process $e^+ + e^- \\rightarrow \\mu^+ + \\mu^-$. To mimize the divergence of the resulting \"muon beam\", the positrons energy is chosen so that the reaction occurs close to threshold (assuming the electrons in the target to be at rest). The main goal of this project is to produce a Monte Carlo simulation of such a process. \n",
    "\n",
    "\n",
    "### References\n",
    "\n",
    "* [LEMMA](https://arxiv.org/pdf/1509.04454.pdf) paper. The original paper describing the positron-induced low emittance muon source, ehere all the relevant kinematic features of the process have been studied\n",
    "* [Babayaga](https://www2.pv.infn.it/~hepcomplex/babayaga.html) event generator. You may want to install and run it as a comparison for your results.\n",
    "* [2018 Experiment](https://arxiv.org/pdf/1909.13716.pdf): the paper describing the (very poor..) results of the experiment carried out in summer 2018\n",
    "* [2021 proposal](https://cds.cern.ch/record/2712394?ln=en): the proposal for the experiment in 2021\n",
    "\n",
    "\n",
    "### Contact\n",
    "\n",
    "* Marco Zanetti <marco.zanetti@unipd.it>\n",
    "* Camilla Curatolo <camilla.curatolo@pd.infn.it>\n",
    "* Jacopo Pazzini <jacopo.pazzini@unipd.it>\n",
    "* Alberto Zucchetta <alberto.zucchetta@pd.infn.it>"
   ]
  },
  {
   "cell_type": "markdown",
   "metadata": {},
   "source": [
    "## Analytical part\n",
    "\n",
    "1. Compute the process leading-order cross section, $\\sigma(\\theta; \\sqrt{s})$, as a function of the scattering angle $\\theta$ and with the  center of mass energy $\\sqrt{s}$ as a parameter. Start by computing it in the center of mass system. N.B.: textbooks reports such cross section in the relativistic limit, i.e. for $\\sqrt{s}\\gg m_\\mu$, which is clearly not the case here ($\\sqrt{s}\\sim 2m_\\mu$);\n",
    "\n",
    "2. compute and display the angle and momentum components distributions of the emerging muon pairs;\n",
    "\n",
    "3. boost muons four-momenta in the laboratory frame, i.e. in the frame where the electron is at rest and the positron has enough energy to give rise to the process;"
   ]
  },
  {
   "cell_type": "code",
   "execution_count": null,
   "metadata": {},
   "outputs": [],
   "source": [
    "#Import the required packages\n",
    "import numpy as np\n",
    "import matplotlib.pyplot as plt\n",
    "from scipy import stats\n",
    "import scipy.integrate as integrate\n",
    "import csv\n",
    "import pandas as pd\n",
    "from matplotlib.ticker import FormatStrFormatter\n",
    "import math"
   ]
  },
  {
   "cell_type": "code",
   "execution_count": null,
   "metadata": {},
   "outputs": [],
   "source": [
    "#Define the universal constants\n",
    "muon_mass       = 0.1056583745       #[GeV]\n",
    "electron_mass   = 0.00051099894      #[GeV]\n",
    "alpha           = 0.007297           #[]            \n",
    "Avogadro_number = 6.02214076e23      #[#/mol]"
   ]
  },
  {
   "cell_type": "markdown",
   "metadata": {},
   "source": [
    "The differential cross section was obtained from [MANDELN] and it is  $$\\left(\\frac{d\\sigma}{d\\Omega}\\right)_{CM}=\\frac{2\\,\\alpha^2}{s^2}\\frac{|p'|}{\\sqrt{s}}\\left(\\frac{s}{4}+p'^2\\cos^2\\vartheta+m_\\mu^2\\right)$$\n",
    "\n",
    "Using the relativistic total energy  $$E_{CM}^2=4p'^2+4m_\\mu^2\\rightarrow p'^2=\\frac{E_{CM}^2}{4}-m_\\mu^2\\rightarrow p'^2=\\frac{s}{4}-m_\\mu^2$$\n",
    "\n",
    "The differential cross section can be rewritten as:\n",
    "$$\\left(\\frac{d\\sigma}{d\\Omega}\\right)_{CM}=\\frac{2\\,\\alpha^2}{s}\\sqrt{\\frac{1}{4}-\\frac{m_\\mu^2}{s}}\\left[\\left(\\frac{1}{4}+\\frac{m_\\mu^2}{s}\\right)+\\left(\\frac{1}{4}- \\frac{m_\\mu^2}{s}\\right)\\cos^2{\\theta}\\right]$$\n",
    "\n",
    "Integrating over the solid angle we obtain the total cross section as a function of the total center of mass energy:\n",
    "$$\\sigma(s)=\\frac{8\\pi\\,\\alpha^2}{3\\,s}\\sqrt{\\frac{1}{4}-\\frac{m_\\mu^2}{s}}\\left[1 + 2\\frac{m_\\mu^2}{s}\\right]$$\n",
    "\n",
    "To obtain the Probability Density Function (PDF) the integration must be performed only over the azymuthal angle $\\phi$ and as a result we obtain a function of the polar angle $\\theta$ with the center of mass energy $\\sqrt{s}$ as a parameter.\n",
    "$$PDF(\\theta)=\\frac{4\\pi\\,\\alpha^2}{s}\\sqrt{\\frac{1}{4}-\\frac{m_\\mu^2}{s}}\\left[\\left(\\frac{1}{4}+\\frac{m_\\mu^2}{s}\\right)+\\left(\\frac{1}{4}- \\frac{m_\\mu^2}{s}\\right)\\cos^2{\\theta}\\right]$$\n",
    "\n",
    "This PDF is not normalized but it is easily done dividing it through the total cross section. \n"
   ]
  },
  {
   "cell_type": "code",
   "execution_count": null,
   "metadata": {},
   "outputs": [],
   "source": [
    "#rs is the sqrt(s)= E\n",
    "#The units are Barn so 1ub = 2.56819e-3  GeV^-2      \n",
    "gev_to_ub = 389.379\n",
    "\n",
    "def cross_section(rs):\n",
    "    '''Takes the com energy rs in GeV and returns the total cross section in ub.'''\n",
    "    s = rs**2\n",
    "    sigma = 8 *np.pi * alpha**2 / (3*s) *\\\n",
    "        np.sqrt(1/4 - muon_mass**2 / s) *\\\n",
    "        (1 + 2 * muon_mass**2 / s)\n",
    "\n",
    "    return sigma * gev_to_ub\n",
    "\n",
    "\n",
    "def diff_cross_section(rs,theta):\n",
    "    '''Takes the com energy rs in GeV, an angle theta in radians and returns the corresponding differential cross section in ub.'''\n",
    "    s =rs**2\n",
    "    dsigma = 2 * alpha**2 / s *\\\n",
    "        np.sqrt(1/4 - muon_mass**2 / s) *\\\n",
    "        (1/4 + muon_mass**2 / s + (1/4 - muon_mass**2 / s)*np.cos(theta)**2)\n",
    "\n",
    "    return dsigma * gev_to_ub\n",
    "\n",
    "def pdf_theta(rs,theta):\n",
    "    '''Gives the (not normalized) probability density for a scattering angle theta in radians for a scattering with com energy rs in GeV.'''\n",
    "    y = 2*np.pi *np.sin(theta)*diff_cross_section(rs,theta)\n",
    "\n",
    "    return y\n",
    "    \n",
    "def pdf_theta_normalized(rs,theta):\n",
    "    '''Gives the (normalized) probability density for a scattering angle theta in radians for a scattering with com energy rs in GeV.'''\n",
    "    y =pdf_theta(rs,theta)/cross_section(rs)\n",
    "\n",
    "    return y\n",
    "    \n",
    "def pdf_p_normalized(rs,theta):\n",
    "    y =pdf_p(rs,theta)/cross_section(rs)\n",
    "    return y"
   ]
  },
  {
   "cell_type": "code",
   "execution_count": null,
   "metadata": {},
   "outputs": [],
   "source": [
    "#Functions\n",
    "def plot_momenta_hist(px,py,pz,title,color):\n",
    "    fig, (ax1,ax2,ax3) = plt.subplots(nrows=1, ncols=3, figsize=(12, 4))\n",
    "   \n",
    "    n, bins, _ = ax1.hist(px, bins=50,color=color, ec='grey')\n",
    "    ax1.set_xlabel(r'$p_x$ [GeV]', fontsize=15)\n",
    "    ax1.set_ylabel('Counts', fontsize=15)\n",
    "    ax1.ticklabel_format(axis=\"y\", style=\"sci\", scilimits=(5,5))\n",
    "    ax1.xaxis.set_major_formatter(FormatStrFormatter('%.2f'))\n",
    "\n",
    "\n",
    "    n, bins, _ = ax2.hist(py, bins=50,color=color, ec='grey')\n",
    "    ax2.set_title(title, fontsize=15)\n",
    "    ax2.set_xlabel(r'$p_y$ [GeV]', fontsize=15)\n",
    "    ax2.ticklabel_format(axis=\"y\", style=\"sci\", scilimits=(5,5))\n",
    "    ax2.xaxis.set_major_formatter(FormatStrFormatter('%.2f'))\n",
    "\n",
    "\n",
    "\n",
    "    n, bins, _ = ax3.hist(pz, bins=50,color=color, ec='grey')\n",
    "    ax3.set_xlabel(r'$p_z$ [GeV]', fontsize=15)\n",
    "    ax3.ticklabel_format(axis=\"y\", style=\"sci\", scilimits=(5,5))\n",
    "    ax3.xaxis.set_major_formatter(FormatStrFormatter('%.2f'))\n",
    "\n",
    "    plt.show() \n",
    "    \n",
    "def plot_angles_hist(theta,phi,colort,colorp):\n",
    "    fig, (ax1,ax2) = plt.subplots(nrows=1, ncols=2, figsize=(12, 4))\n",
    "\n",
    "    n, bins, _ = ax1.hist(theta, bins=50,color=colort, ec='black')\n",
    "    ax1.set_title(r'$\\mu^+$', fontsize=20)\n",
    "    ax1.set_xlabel(r'$\\theta$ [°]', fontsize=20)\n",
    "    ax1.set_ylabel('Counts', fontsize=20)\n",
    "    ax1.ticklabel_format(axis=\"y\", style=\"sci\", scilimits=(5,5))\n",
    "\n",
    "    n, bins, _ = ax2.hist(phi, bins=50,color=colorp, ec='black')\n",
    "    ax2.set_title(r'$\\mu^+$', fontsize=20)\n",
    "    ax2.set_xlabel(r'$\\phi$ [°]', fontsize=20)\n",
    "    ax2.ticklabel_format(axis=\"y\", style=\"sci\", scilimits=(5,5))\n",
    "\n",
    "    plt.show()"
   ]
  },
  {
   "cell_type": "code",
   "execution_count": null,
   "metadata": {},
   "outputs": [],
   "source": [
    "#\n",
    "###\n",
    "####\n",
    "#####\n",
    "######\n",
    "####### Analysis\n",
    "######\n",
    "#####\n",
    "###\n",
    "##\n",
    "#"
   ]
  },
  {
   "cell_type": "code",
   "execution_count": null,
   "metadata": {},
   "outputs": [],
   "source": [
    "##################################################################################\n",
    "#Analysis parameters\n",
    "delta = 0.001\n",
    "E = 2 * muon_mass + delta  #This is the proposed energy just above the threshold\n",
    "N = 10**7\n",
    "deg=180/np.pi #Conversion radiants to degrees\n",
    "\n",
    "###################################################################################"
   ]
  },
  {
   "cell_type": "code",
   "execution_count": null,
   "metadata": {},
   "outputs": [],
   "source": [
    "print(\"Momentum in the CM\", '%.5f' % np.sqrt(E**2/4-muon_mass**2), \"GeV\")\n",
    "print(\"Total relativistic energy in the CM\", '%.5f' % E, \"GeV\")\n",
    "print(\"Cross section\", '%.5f' % cross_section(E), \"barn\")"
   ]
  },
  {
   "cell_type": "code",
   "execution_count": null,
   "metadata": {},
   "outputs": [],
   "source": [
    "fig, ax = plt.subplots(figsize=(6,6))\n",
    "theta = np.linspace(0,np.pi)\n",
    "ax.plot(theta*deg, diff_cross_section(E,theta),color='blue', label='PDF')\n",
    "\n",
    "plt.title(r'Diferential cross section for $\\sqrt{s}=$'+str('%.5f' % E)+str(\" GeV\"), fontsize=15)\n",
    "plt.xlabel(r'$ \\theta [°] $', fontsize=15)\n",
    "plt.ylabel(r'$ \\frac{d\\sigma}{d\\Omega} [\\mu b]$', fontsize=15)\n",
    "#plt.legend()\n",
    "plt.show()"
   ]
  },
  {
   "cell_type": "code",
   "execution_count": null,
   "metadata": {
    "scrolled": false
   },
   "outputs": [],
   "source": [
    "#import warnings\n",
    "#warnings.filterwarnings(\"ignore\")\n",
    "\n",
    "fig, (ax1, ax2) = plt.subplots(nrows=1, ncols=2, figsize=(12, 6))\n",
    "rs = np.linspace(2*muon_mass, 0.5)\n",
    "ax1.plot(rs, cross_section(rs),color='blue', label='PDF')\n",
    "\n",
    "ax1.set_title('Total cross section', fontsize=15)\n",
    "ax1.set_xlabel(r'$ \\sqrt{S} [GeV]$', fontsize=15)\n",
    "ax1.set_ylabel(r'$ \\sigma [\\mu b]$', fontsize=15)\n",
    "#plt.legend()\n",
    "\n",
    "rs = np.linspace(2*muon_mass, 0.23)\n",
    "ax2.plot(rs, cross_section(rs),color='blue', label='PDF')\n",
    "\n",
    "ax2.set_title('Total cross section', fontsize=15)\n",
    "ax2.set_xlabel(r'$ \\sqrt{S} [GeV]$', fontsize=15)\n",
    "ax2.set_ylabel(r'$ \\sigma [\\mu b]$', fontsize=15)\n",
    "ax2.set_xlim(0.21,0.23)\n",
    "plt.show()"
   ]
  },
  {
   "cell_type": "code",
   "execution_count": null,
   "metadata": {
    "scrolled": false
   },
   "outputs": [],
   "source": [
    "print('Angular distribution')\n",
    "fig, (ax1, ax2) = plt.subplots(nrows=1, ncols=2, figsize=(12, 6))\n",
    "\n",
    "theta = np.linspace(0, np.pi)\n",
    "\n",
    "\n",
    "ax1.plot(theta*deg, pdf_theta(E,theta),color='blue', label='PDF')\n",
    "ax1.set_title(r'$ PDF(\\theta)$ for $\\sqrt{s}=$'+str('%.5f' % E)+str(\" GeV\"), fontsize=15)\n",
    "ax1.set_xlabel(r'$ \\theta [°] $', fontsize=20)\n",
    "ax1.set_ylabel(r'$ PDF$', fontsize=20)\n",
    "#plt.legend()\n",
    "\n",
    "\n",
    "\n",
    "ax2.plot(theta*deg, pdf_theta_normalized(E,theta),color='blue', label='PDF')\n",
    "ax2.set_title(r'Normalized $ PDF(\\theta)$ for $\\sqrt{s}=$'+str('%.5f' % E)+str(\" GeV\"), fontsize=15)\n",
    "ax2.set_xlabel(r'$ \\theta [°] $', fontsize=20)\n",
    "ax2.set_ylabel(r'$ PDF$', fontsize=20)\n",
    "plt.show()\n",
    "\n",
    "print('Check the normalization')\n",
    "x2 = lambda x: pdf_theta(E,x)\n",
    "print('Integral of the PDF in [0,pi]', \"{:.5f}\".format(integrate.quad(x2, 0., np.pi)[0]))\n",
    "x2 = lambda x: pdf_theta_normalized(E,x)\n",
    "print('Integral of the normalized PDF in [0,pi]', \"{:.5f}\".format(integrate.quad(x2, 0., np.pi)[0]))"
   ]
  },
  {
   "cell_type": "markdown",
   "metadata": {},
   "source": [
    "## Monte Carlo Simulation\n",
    "\n",
    "4. write a Monte Carlo simulation that generates scattering events following the distrubtions that you found analytically; \n",
    "5. produce a synthetic dataset of about $N=10^5$ (or more) events. Events should be listed as rows in a file with columns representing the muons coordinates (keep in mind that in the lab frame muons are relativistic and thus the number of coordinates can be only 3 per muon);\n"
   ]
  },
  {
   "cell_type": "code",
   "execution_count": null,
   "metadata": {},
   "outputs": [],
   "source": [
    "#\n",
    "###\n",
    "####\n",
    "#####\n",
    "######\n",
    "#######\n",
    "######\n",
    "#####\n",
    "###\n",
    "##\n",
    "#"
   ]
  },
  {
   "cell_type": "code",
   "execution_count": null,
   "metadata": {},
   "outputs": [],
   "source": [
    "# In order to sample theta angles, we have taken the inverse cumulative density function transform approach.\n",
    "\n",
    "def inv_cdf(rs,r):\n",
    "    '''Takes a CoM energy rs in GeV, and an array r of U(0,1) samples to generate an array of theta samples distributed according to the scattering pdf.\\n\n",
    "    Also admits an array of energies of the same size of the sample array.'''\n",
    "    s = rs**2\n",
    "    p = 3*(s+4*muon_mass**2)/(s-4*muon_mass**2)\n",
    "    q = 4*(2*r-1)*(s+2*muon_mass**2)/(s-4*muon_mass**2)\n",
    "    h = p**3/27+q**2/4\n",
    "    cos_t = np.cbrt(-q/2+np.sqrt(h))+np.cbrt(-q/2-np.sqrt(h))\n",
    "    rand_theta = np.arccos(cos_t)\n",
    "\n",
    "    return rand_theta"
   ]
  },
  {
   "cell_type": "code",
   "execution_count": null,
   "metadata": {
    "scrolled": true
   },
   "outputs": [],
   "source": [
    "# Plot scaled histogram\n",
    "fig, ax = plt.subplots(figsize=(12,4))\n",
    "\n",
    "n, bins, _ = ax.hist(inv_cdf(E,np.random.random(N)), bins=50, color='orange', ec='black')\n",
    "\n",
    "d = (bins[1]-bins[0])\n",
    "scaling = d * n.sum()\n",
    "ax.plot(bins, pdf_theta_normalized(E,bins)*scaling, color='blue', label='PDF')\n",
    "\n",
    "plt.title('Histogram of accepted samples for'r'$ \\sqrt{S}=$'+str('%.5f' % E), fontsize=20)\n",
    "plt.xlabel(r'$ \\theta [rad]$', fontsize=20)\n",
    "plt.ylabel('Counts', fontsize=20)\n",
    "plt.legend()\n",
    "plt.show()"
   ]
  },
  {
   "cell_type": "markdown",
   "metadata": {},
   "source": [
    "To check that the distributions we are using are correct we compared them with Babayaga Event Generator [https://www2.pv.infn.it/~hepcomplex/babayaga.html] using as inputs the following values:\n",
    "\n",
    "* final state = mm \n",
    "* ecms   =      0.2200 GeV\n",
    "* thmin  =      0.0000 deg\n",
    "* thmax  =    180.0000 deg\n",
    "* acoll. =     10.0000 deg\n",
    "* emin   =      0.0000 GeV\n",
    "* ord    = exp   \n",
    "* model  = matched   \n",
    "* nphot mode =   -1\n",
    "* seed   =700253512\n",
    "* iarun  =    1\n",
    "* eps    = .000500000\n",
    "* darkmod =    0\n"
   ]
  },
  {
   "cell_type": "code",
   "execution_count": null,
   "metadata": {},
   "outputs": [],
   "source": [
    "#Comparison with BabaYaga algorithm\n",
    "\n",
    "file_data = np.loadtxt('matched_ep_th_exp_200.txt', usecols=(0,1,2))\n",
    "\n",
    "theta_bby,dcs = file_data[:,0],file_data[:,1]\n",
    "centroid = theta_bby + (theta_bby[0] + theta_bby[1])/2\n",
    "dcs = dcs / ((theta[1] - theta[0])*dcs).sum()\n",
    "dcs =dcs/np.max(dcs)\n",
    "\n",
    "\n",
    "\n",
    "fig, ax = plt.subplots(figsize=(12,4))\n",
    "\n",
    "n, bins, _ = ax.hist(inv_cdf(E,np.random.random(N))*deg, bins=50, color='orange', ec='black')\n",
    "ax.plot(theta_bby,dcs*np.max(n), linewidth=2.5, label='Babayaga results')\n",
    "\n",
    "plt.title('Comparison between project samples and Babayaga samples.', fontsize=20)\n",
    "plt.xlabel(r'$ \\theta [°]$', fontsize=20)\n",
    "plt.ylabel('Counts', fontsize=20)\n",
    "plt.legend()\n",
    "\n",
    "\n",
    "\n",
    "plt.show()"
   ]
  },
  {
   "cell_type": "code",
   "execution_count": null,
   "metadata": {},
   "outputs": [],
   "source": [
    "#\n",
    "###\n",
    "####\n",
    "#####\n",
    "######\n",
    "####### SIMULATION 1\n",
    "######\n",
    "#####\n",
    "###\n",
    "##\n",
    "#"
   ]
  },
  {
   "cell_type": "code",
   "execution_count": null,
   "metadata": {},
   "outputs": [],
   "source": [
    "##################################################################################\n",
    "#Simulation parameters\n",
    "\n",
    "delta = 0.001\n",
    "E = 2 * muon_mass + delta  #This is the proposed energy just above the threshold\n",
    "N = 10**7\n",
    "\n",
    "###################################################################################"
   ]
  },
  {
   "cell_type": "code",
   "execution_count": null,
   "metadata": {},
   "outputs": [],
   "source": [
    "#Obtain the parameters distribution\n",
    "theta_instances = inv_cdf(E,np.random.random(N))\n",
    "#N_instances     = len(theta_instances)\n",
    "phi_instances   = np.random.uniform(0., 2*np.pi, N)\n",
    "\n",
    "#The resulting space-momentum magnitude for each muon is the square of half the com energy minus the square of the muon mass.\n",
    "p = np.sqrt(E**2/4-muon_mass**2)"
   ]
  },
  {
   "cell_type": "code",
   "execution_count": null,
   "metadata": {},
   "outputs": [],
   "source": [
    "#Obtain the muons momenta and build the file  (Is it in the CoM frame?)\n",
    "\n",
    "def sph_to_cart(r,theta,phi):\n",
    "    '''Converts from spherical coordinates to cartesian coordinates'''\n",
    "    V = np.vstack([\n",
    "        r*np.sin(theta)*np.cos(phi),\n",
    "        r*np.sin(theta)*np.sin(phi),\n",
    "        r*np.cos(theta)\n",
    "    ])\n",
    "    return V\n",
    "\n",
    "pxm, pym, pzm = sph_to_cart(p, theta_instances, phi_instances)\n",
    "\n",
    "pxam = -pxm\n",
    "pyam = -pym\n",
    "pzam = -pzm"
   ]
  },
  {
   "cell_type": "code",
   "execution_count": null,
   "metadata": {
    "scrolled": true
   },
   "outputs": [],
   "source": [
    "from IPython.display import Math\n",
    "#Write the results to a file\n",
    "\n",
    "#print(r'$\\sqrt(s)$', '%.5f' % E, \"GeV\")\n",
    "display(Math('\\sqrt s \\qquad\\qquad\\!\\!{} \\,\\,\\, GeV'.format(round(E,5))))\n",
    "print('Norm of p ', '%.5f' % p, \"GeV\")\n",
    "#file_name='muons_momentum_com.csv'\n",
    "#data=pd.read_csv(file_name)\n",
    "#data"
   ]
  },
  {
   "cell_type": "code",
   "execution_count": null,
   "metadata": {
    "scrolled": true
   },
   "outputs": [],
   "source": [
    "plot_angles_hist(theta_instances*deg, phi_instances*deg,'orange','blue')"
   ]
  },
  {
   "cell_type": "code",
   "execution_count": null,
   "metadata": {
    "scrolled": true
   },
   "outputs": [],
   "source": [
    "plot_momenta_hist(pxm,pym,pzm,r'$\\mu^+$ momentum components in the center of mass frame','orange')\n",
    "plot_momenta_hist(pxam,pyam,pzam,r'$\\mu^-$ momentum components in the center of mass frame','blue')"
   ]
  },
  {
   "cell_type": "markdown",
   "metadata": {},
   "source": [
    "<img src=\"img/comframe.svg\" width=\"600\" style=\"float: left;\">"
   ]
  },
  {
   "cell_type": "markdown",
   "metadata": {},
   "source": [
    "The Lab frame is the frame where the electrons are at rest (in a target). In order to transpose the problem from the center of mass frame in this other frame, it is important to consider Special Relativity in the calculations, being the electron and positron highly energetic (in order to produce the muon pair).\n",
    "\n",
    "The generic boost in a frame moving with velocity $u$ in the z direction is:\n",
    "\n",
    "$$\\Lambda = \\left(\\begin{array}{c}\n",
    "           \\gamma & 0 & 0 & -u\\gamma \\\\\n",
    "           0 & 1  & 0 & 0 \\\\\n",
    "           0    &  0      & 1 & 0 \\\\\n",
    "           -u\\gamma     &  0       & 0 & \\gamma \\\\ \n",
    "\\end{array}\\right)$$\n",
    "\n",
    "In our case since the velocity is negative, the Lorentz Matrix for the electron moving at velocity $-v$ in the CoM frame is:\n",
    "\n",
    "$$\\Lambda = \\left(\\begin{array}{c}\n",
    "           \\gamma & 0 & 0 & v\\gamma \\\\\n",
    "           0 & 1  & 0 & 0 \\\\\n",
    "           0    &  0      & 1 & 0 \\\\\n",
    "           v\\gamma     &  0       & 0 & \\gamma \\\\ \n",
    "\\end{array}\\right)$$\n",
    "\n",
    "Since the electron is moving exclusively in the $z$ direction in the CoM frame, we can derive its velocity from the definition of relativistic momentum:\n",
    "$$p=m_e\\gamma v\\to v\\gamma = \\frac{p}{m_e}\\to \\frac{v}{\\sqrt{1-v^2}}=\\frac{p}{m_e}\\to v= \\frac{p}{m_e\\sqrt{1+\\frac{p^2}{m_e^2}}}=\\frac{p}{\\sqrt{m_e^2 + p^2}}$$\n",
    "\n",
    "Notice that the energy of the particle in the COM is $E_p=\\sqrt{m_e^2+p^2}$ (the denominator)\n",
    "\n",
    "$$\\begin{cases}E_p^2=m_e^2+p^2\\\\ E^2_{CM}=4m_e^2+4p^2\\end{cases}$$\n",
    "\n",
    "then v becomes:\n",
    "$$v=\\sqrt{  \\frac{E^2_{CM}-4m_e^2}{E^2_{CM}}  }$$"
   ]
  },
  {
   "cell_type": "code",
   "execution_count": null,
   "metadata": {},
   "outputs": [],
   "source": [
    "################################################"
   ]
  },
  {
   "cell_type": "markdown",
   "metadata": {},
   "source": [
    "To boost from the CoM frame to the Lab frame the Lorentz matrix is the following:\n",
    "\n",
    "$$\\Lambda = \\left(\\begin{array}{c}\n",
    "           \\gamma & 0 & 0 & v\\gamma \\\\\n",
    "           0 & 1  & 0 & 0 \\\\\n",
    "           0    &  0      & 1 & 0 \\\\\n",
    "           v\\gamma     &  0       & 0 & \\gamma \\\\ \n",
    "\\end{array}\\right),\\qquad\\qquad v=\\sqrt{  \\frac{E^2_{CM}-4m_e^2}{E^2_{CM}}  }$$\n",
    "\n",
    "To get the momenta of the muons in the Lab frame we need to apply the Lorentz matrix to their 4-momenta:\n",
    "\n",
    "$$\\Lambda^\\mu_\\nu P^\\nu = P'^\\mu$$\n",
    "\n",
    "Where $P^\\nu$ is the 4 momentum before the boosting (in the COM frame) and $P'^\\nu$ is the 4 momentum after the boosting (in the LAB frame)\n",
    "\n",
    "$$P=\\left(\\begin{array}{c}m\\gamma \\\\ p\\cos\\varphi \\\\ p\\sin\\varphi\\sin\\vartheta \\\\ p\\sin\\varphi\\cos\\vartheta\\end{array}\\right)$$\n",
    "\n",
    "\n",
    "$$P'=\\left(\\begin{array}{c}\n",
    "           \\gamma & 0 & 0 & v\\gamma \\\\\n",
    "           0 & 1  & 0 & 0 \\\\\n",
    "           0    &  0      & 1 & 0 \\\\\n",
    "           v\\gamma     &  0       & 0 & \\gamma \\\\ \n",
    "\\end{array}\\right)\\left(\\begin{array}{c}m\\gamma \\\\ p\\cos\\varphi \\\\ p\\sin\\varphi\\sin\\vartheta \\\\ p\\sin\\varphi\\cos\\vartheta\\end{array}\\right)=\\left(\\begin{array}{c}m\\gamma^2 + \\gamma vp\\cos\\vartheta \\\\ p\\cos\\varphi \\\\ p\\sin\\vartheta\\\\ m\\gamma^2 v + \\gamma p\\cos\\vartheta \\end{array}\\right)$$\n",
    "\n",
    "During a Lorentz Boost in the z direction $\\varphi$ does not change, but $\\vartheta$ does. From the matricial equation above we can get the relationship $\\vartheta\\leftrightarrow\\vartheta'$ the angle of the scattered particle before and after the boosts:\n",
    "\n",
    "$$\\begin{cases}\n",
    "    m\\gamma^2v+\\gamma p\\cos\\vartheta = p'\\cos\\vartheta' \\\\\n",
    "    p\\sin\\vartheta = p\\sin\\vartheta'\n",
    "\\end{cases}$$\n",
    "\n",
    "Writing $m\\gamma^2 v$ as $\\gamma p$ we have:\n",
    "\n",
    "$$\\begin{cases}\n",
    "    \\gamma p +\\gamma p\\cos\\vartheta = p'\\cos\\vartheta' \\\\\n",
    "    p\\sin\\vartheta = p\\sin\\vartheta'\n",
    "\\end{cases}$$\n",
    "\n",
    "Dividing the first to the second we get:\n",
    " $$\\tan\\vartheta'=\\frac{1}{\\gamma}\\left(\\frac{\\sin\\vartheta}{1+\\cos\\vartheta}\\right)$$"
   ]
  },
  {
   "cell_type": "code",
   "execution_count": null,
   "metadata": {},
   "outputs": [],
   "source": [
    "#Boost the results to the laboratory frame\n",
    "def boost(v_i,x_0,x_i):\n",
    "    g = 1/np.sqrt(1-v_i**2)\n",
    "    b_x_0 = g*(x_0-v_i*x_i)\n",
    "    b_x_i = g*(x_i-v_i*x_0)\n",
    "    return b_x_0, b_x_i\n",
    "\n",
    "vz = -np.sqrt(1-4*electron_mass**2/E**2)   \n",
    "gamma = 1/np.sqrt(1-vz**2)"
   ]
  },
  {
   "cell_type": "code",
   "execution_count": null,
   "metadata": {},
   "outputs": [],
   "source": [
    "print('Gamma', '%.5f' % gamma)\n",
    "print('Speed along z axis (vz)', '%.5f' % vz)"
   ]
  },
  {
   "cell_type": "code",
   "execution_count": null,
   "metadata": {},
   "outputs": [],
   "source": [
    "pxm_lb = pxm\n",
    "pym_lb = pym\n",
    "E_lb, pzm_lb = boost(vz,E/2,pzm)\n",
    "\n",
    "pxam_lb = pxam \n",
    "pyam_lb = pyam\n",
    "_, pzam_lb = boost(vz,E/2,pzam)"
   ]
  },
  {
   "cell_type": "code",
   "execution_count": null,
   "metadata": {},
   "outputs": [],
   "source": [
    "#Check the file\n",
    "\n",
    "#print(r'$\\sqrt(s)$', '%.5f' % E, \"GeV\")\n",
    "display(Math('\\sqrt s \\qquad\\quad\\,{} \\,\\,\\, GeV'.format(round(E,5))))\n",
    "print('Norm of p', '%.5f' % p, \"GeV\")\n",
    "#file_name='/home/usuario/PoD/muons_momentum_lab.csv'\n",
    "#data=pd.read_csv(file_name)\n",
    "#data"
   ]
  },
  {
   "cell_type": "code",
   "execution_count": null,
   "metadata": {},
   "outputs": [],
   "source": [
    "plot_momenta_hist(pxm_lb,pym_lb,pzm_lb,r'$\\mu^+$ momentum components in the laboratory frame','orange')\n",
    "plot_momenta_hist(pxm_lb,pym_lb,pzm_lb,r'$\\mu^-$ momentum components in the laboratory frame','blue')"
   ]
  },
  {
   "cell_type": "code",
   "execution_count": null,
   "metadata": {
    "scrolled": true
   },
   "outputs": [],
   "source": [
    "theta_lb = np.arccos(pzm_lb/np.sqrt(pxm_lb**2+pym_lb**2+pzm_lb**2))\n",
    "phi_lb = np.arctan2(pym_lb,pxm_lb)\n",
    "\n",
    "plot_angles_hist(theta_lb*deg, phi_lb*deg, 'orange','blue')\n",
    "\n",
    "theta_max_t = 4 * electron_mass /E **2 * np.sqrt(E **2 /4. -muon_mass**2)\n",
    "print('Maximum theta according to the theory [Antonelli]', \"{:.5f}\".format(theta_max_t*deg), \"deg\")\n",
    "print('Maximum theta in the simulation                  ', \"{:.5f}\".format(np.max(theta_lb)*deg), \"deg\")"
   ]
  },
  {
   "cell_type": "code",
   "execution_count": null,
   "metadata": {},
   "outputs": [],
   "source": [
    "p_cm = -E**2/4 + pxm**2+pym**2+pzm**2\n",
    "print('Squared four momentum in the CM frame',p_cm)\n",
    "\n",
    "p_lb = -E_lb**2 + pxm_lb**2+pym_lb**2+pzm_lb**2\n",
    "print('Squared four momentum in the LB frame',p_lb)\n",
    "\n",
    "print('Muon energy in the laboratory frame',E_lb)"
   ]
  },
  {
   "cell_type": "code",
   "execution_count": null,
   "metadata": {},
   "outputs": [],
   "source": [
    "#Visualization of the energy spread\n",
    "\n",
    "fig, ax = plt.subplots(figsize=(12,4))\n",
    "\n",
    "n, bins, _ = ax.hist(E_lb, bins=50, color='orange', ec='black')\n",
    "plt.title(r'$\\mu^+$ energy spread in the laboratory frame.', fontsize=20)\n",
    "plt.xlabel(' Energy [GeV]', fontsize=20)\n",
    "plt.ylabel('Counts', fontsize=20)\n",
    "plt.show()\n",
    "\n",
    "de_max_t = E / (2*electron_mass) * np.sqrt(E **2 /4 - muon_mass**2)\n",
    "print('Difference between max and min energy of the muons according to the theory [Antonelli]', \"{:.5f}\".format(de_max_t), \"GeV\")\n",
    "print('')\n",
    "print('Difference between max and min energy of the muons', \"{:.5f}\".format(np.max(E_lb)-np.min(E_lb)), \"GeV\")"
   ]
  },
  {
   "cell_type": "code",
   "execution_count": null,
   "metadata": {},
   "outputs": [],
   "source": []
  },
  {
   "cell_type": "code",
   "execution_count": null,
   "metadata": {},
   "outputs": [],
   "source": [
    "#Write the results to a file \n",
    "\n",
    "s1_muons_com = pd.DataFrame({'Theta' : theta_instances,'Phi' : phi_instances,'Muon px' : pxm, 'Muon py' : pym, 'Muon pz' : pzm})\n",
    "#s1_muons_com.to_csv('s1_muons_momentum_com.csv', index=False)\n",
    "\n",
    "s1_muons_lab = pd.DataFrame({'Theta' : theta_lb,'Phi' : phi_lb,'Muon px' : pxm_lb, 'Muon py' : pym_lb, 'Muon pz' : pzm_lb})\n",
    "#s1_muons_lab.to_csv('s1_muons_momentum_lab.csv', index=False)"
   ]
  },
  {
   "cell_type": "code",
   "execution_count": null,
   "metadata": {},
   "outputs": [],
   "source": [
    "#\n",
    "###\n",
    "####\n",
    "#####\n",
    "######\n",
    "#######\n",
    "######\n",
    "#####\n",
    "###\n",
    "##\n",
    "#"
   ]
  },
  {
   "cell_type": "markdown",
   "metadata": {},
   "source": [
    "## Properties of the target \n",
    "6. assume a $3$ cm thick Beryllium block is used as target and a rate of positron on target of $10^6$ Hz. Compute the rescaling factor (weight) you need to apply to the $N$ simulated events such that they represent the statistics that would be gathered in a week of countinuous operations;\n"
   ]
  },
  {
   "cell_type": "markdown",
   "metadata": {},
   "source": [
    "The number of $\\mu^+ \\mu^-$ pairs produced per positron on the target is given by:\n",
    "\n",
    "\n",
    "$$n(\\mu^+ \\mu^-) = n^+ \\rho^- l \\sigma(\\mu^+ \\mu^-)$$\n",
    "\n",
    "\n",
    "where $n^+$ is the number of positrons, $\\rho^-$ is the electron density in the medium, $l$ is the thickness of the target, and $\\sigma(\\mu^+ \\mu^-)$ is the muon pairs production cross section. [Antonelli]\n",
    "\n",
    "\n",
    "\n"
   ]
  },
  {
   "cell_type": "code",
   "execution_count": null,
   "metadata": {
    "scrolled": true
   },
   "outputs": [],
   "source": [
    "#We build a dataframe with some material properties to be analysed\n",
    "\n",
    "Material = ['H',    'He',   'Li',  'Be',    'B',    'C',     'Cu',   'W',    'Pb']\n",
    "Z        = [ 1 ,     2,      3,     4,       5,      6,       29,     74,     82]\n",
    "A        = [1.00794, 4.0026, 6.941, 9.01218, 10.811, 12.0107, 63.546, 183.84, 207.2]\n",
    "X0       = [900.6,   786,    156.2, 35.2,    22.2,   21.4,    1.4,    0.4,    0.6]\n",
    "\n",
    "properties_dic = {'Material': Material, 'Z': Z, 'A': A, 'X0': X0}\n",
    "properties = pd.DataFrame(data=properties_dic)\n",
    "properties\n"
   ]
  },
  {
   "cell_type": "code",
   "execution_count": null,
   "metadata": {},
   "outputs": [],
   "source": [
    "######\n",
    "#Realistic target\n",
    "positron_frequency = 1.e6                     #[Hz]\n",
    "target_length      = 3                        #[cm]\n",
    "cs                 = cross_section(E)*10.e-31 #[uBarn]--> [cm^2]\n",
    "time               = 60 * 60 *24 *7           #[secconds]\n",
    "\n",
    "\n",
    "properties['L'] = target_length\n",
    "properties['Cross section'] = cs\n",
    "\n",
    "\n",
    "#Number of positrons \n",
    "N_positrons = positron_frequency * time \n",
    "\n",
    "#Number of muons\n",
    "properties['N_muons'] = N_positrons * (properties['Z']*Avogadro_number/properties['A']) * properties['Cross section'] * properties['L']\n",
    "\n",
    "#Weight\n",
    "rf = properties.at[3,'N_muons']/N\n",
    "####"
   ]
  },
  {
   "cell_type": "code",
   "execution_count": null,
   "metadata": {},
   "outputs": [],
   "source": [
    "properties"
   ]
  },
  {
   "cell_type": "code",
   "execution_count": null,
   "metadata": {},
   "outputs": [],
   "source": [
    "print('Number of positrons produced in a week                                 '\"{:.2e}\".format( N_positrons))\n",
    "print('')\n",
    "print('Number of simulated events                                             '\"{:.2e}\".format( N ))\n",
    "print('')\n",
    "print('Rescaling factor if using Be as a target', '%.5f' % rf)\n",
    "print('')\n",
    "print('Number of muons produced after a week using Be as a target             '\"{:.2e}\".format( properties.at[3,'N_muons']))"
   ]
  },
  {
   "cell_type": "code",
   "execution_count": null,
   "metadata": {},
   "outputs": [],
   "source": [
    "#\n",
    "###\n",
    "####\n",
    "#####\n",
    "######\n",
    "####### \n",
    "######\n",
    "#####\n",
    "###\n",
    "##\n",
    "#"
   ]
  },
  {
   "cell_type": "markdown",
   "metadata": {},
   "source": [
    "## Properties of  the beam\n",
    "7. repeat what done so far simulating now the actual transverse shape and energy spread of the beam: for the former assume a flat distribution in a circle of radius $r=1$ cm and for the latter a gaussian distribution centered at the nominal beam energy and a width of $0.5$ GeV;"
   ]
  },
  {
   "cell_type": "code",
   "execution_count": null,
   "metadata": {},
   "outputs": [],
   "source": [
    "##################################################################################\n",
    "#Simulation parameters\n",
    "\n",
    "N = 10**7  #Number of positrons\n",
    "E_lab = 45  #GeV\n",
    "sigma = 0.5 # mean and standard deviation\n",
    "\n",
    "###################################################################################"
   ]
  },
  {
   "cell_type": "code",
   "execution_count": null,
   "metadata": {},
   "outputs": [],
   "source": [
    "#Realistic beam\n",
    "#Up to this point we have been assuming that the energy of the incident \n",
    "#beam had a constant value, now we want to make a model where the energy\n",
    "#of the beam has a gaussian distribution.\n",
    "\n",
    "E_lab_instances = np.random.normal(E_lab, sigma, N)\n",
    "\n",
    "#Now we need to boost them to the CoM frame\n",
    "vz    = np.sqrt((E_lab-electron_mass)/(E_lab+electron_mass))\n",
    "gamma = 1/np.sqrt(1-vz**2)\n",
    "\n",
    "E_cm_instances = 2 *gamma*(E_lab_instances-vz*np.sqrt(E_lab_instances**2-electron_mass**2))"
   ]
  },
  {
   "cell_type": "code",
   "execution_count": null,
   "metadata": {
    "scrolled": true
   },
   "outputs": [],
   "source": [
    "#Plot scaled histogram\n",
    "fig, (ax1,ax2) = plt.subplots(nrows=2, ncols=1, figsize=(12, 10))\n",
    "\n",
    "n, bins, _ = ax1.hist(E_lab_instances, bins=90,color='orange', ec='black')\n",
    "\n",
    "d = (bins[1]-bins[0])\n",
    "scaling = d * n.sum()\n",
    "\n",
    "ax1.plot(bins, scaling/(sigma * np.sqrt(2 * np.pi)) *np.exp( - (bins - E_lab)**2 / (2 * sigma**2) ),color='blue', label='Gaussian distribution media= sigma=')\n",
    "\n",
    "ax1.set_title('Positron beam energy distribution in the Lab frame', fontsize=15)\n",
    "ax1.set_xlabel(' Energy [GeV]', fontsize=15)\n",
    "ax1.set_ylabel('Counts', fontsize=15)\n",
    "ax1.legend()\n",
    "\n",
    "n, bins, _ = ax2.hist(E_cm_instances, bins=90,color='orange', ec='black')\n",
    "\n",
    "d = (bins[1]-bins[0])\n",
    "scaling = d * n.sum()\n",
    "\n",
    "ax2.axvline(x=2*muon_mass, label='Threshold energy')\n",
    "#ax2.plot(bins, scaling/(sigma * np.sqrt(2 * np.pi)) *np.exp( - (bins - E_lab)**2 / (2 * sigma**2) ),color='blue', label='PDF')\n",
    "ax2.set_title('Positron beam energy distribution in the CoM frame', fontsize=15)\n",
    "ax2.set_xlabel(' Energy [GeV]', fontsize=15)\n",
    "ax2.set_ylabel('Counts', fontsize=15)\n",
    "ax2.legend()\n",
    "\n",
    "plt.subplots_adjust(top=0.8, wspace=0.4, hspace=0.4)\n",
    "\n",
    "plt.show()"
   ]
  },
  {
   "cell_type": "code",
   "execution_count": null,
   "metadata": {
    "scrolled": true
   },
   "outputs": [],
   "source": [
    "#Once we have the energy distribution plot a heatmap of the beam\n",
    "\n",
    "def circular_section(data):\n",
    "    \n",
    "    # specify circle parameters: centre ij and radius\n",
    "    pixels =len(data[0,:])\n",
    "    ci,cj = pixels/2 , pixels/2\n",
    "    cr=pixels/3\n",
    "\n",
    "    # Create index arrays to z\n",
    "    I,J=np.meshgrid(np.arange(data.shape[0]),np.arange(data.shape[1]))\n",
    "\n",
    "    # calculate distance of all points to centre\n",
    "    dist=np.sqrt((I-ci)**2+(J-cj)**2)\n",
    "\n",
    "    # Assign value of 1 to those points where dist<cr:\n",
    "    data[np.where(dist>cr)]=0\n",
    "    return data\n",
    "\n",
    "\n",
    "\n",
    "pixels=300\n",
    "size  =(-1.5,1.5,-1.5,1.5)\n",
    "\n",
    "# We randomly pick (pixel x pixels) elements of the energy distribution to plot the beam cross section\n",
    "\n",
    "z = np.random.choice(E_lab_instances, size=(pixels,pixels), replace=True, p=None) \n",
    "\n",
    "\n",
    "plt.rcParams[\"figure.figsize\"] = (8,8)\n",
    "plt.imshow(circular_section(z),cmap='plasma', extent=(size),origin='lower')\n",
    "plt.title('Positron beam cross section',fontsize=17)\n",
    "plt.ylabel(r'${y}$ [cm]',fontsize=17)  \n",
    "plt.xlabel(r'${x}$ [cm]',fontsize=17)\n",
    "plt.colorbar()\n",
    "plt.clim(np.min(E_lab_instances),np.max(E_lab_instances))\n",
    "plt.show()"
   ]
  },
  {
   "cell_type": "code",
   "execution_count": null,
   "metadata": {},
   "outputs": [],
   "source": [
    "#\n",
    "###\n",
    "####\n",
    "#####\n",
    "######\n",
    "####### SIMULATION 2\n",
    "######\n",
    "#####\n",
    "###\n",
    "##\n",
    "#"
   ]
  },
  {
   "cell_type": "code",
   "execution_count": null,
   "metadata": {},
   "outputs": [],
   "source": [
    "##################################################################################\n",
    "#Simulation parameters\n",
    "\n",
    "N     = 10**6 #Number of positrons \n",
    "E_lab = 45    #GeV\n",
    "sigma = 0.5   # mean and standard deviation\n",
    "\n",
    "###################################################################################"
   ]
  },
  {
   "cell_type": "code",
   "execution_count": null,
   "metadata": {},
   "outputs": [],
   "source": [
    "##Now that we have the energy distributions and also an idea of the shape\n",
    "##we can repeat the previous part\n",
    "\n",
    "#Obtain the positron energy samples in the laboratory frame\n",
    "E_lab_samples = np.random.normal(E_lab, sigma, N)\n",
    "\n",
    "#Boost of the positrons energy to the Center of Mass Frame\n",
    "vz    = np.sqrt((E_lab-electron_mass)/(E_lab+electron_mass))\n",
    "gamma = 1/np.sqrt(1-vz**2)\n",
    "\n",
    "E_cm_samples = 2 *gamma*(E_lab_samples-vz*np.sqrt(E_lab_samples**2-electron_mass**2))\n",
    "\n",
    "#Filter the values below the threshold\n",
    "E_cm_samples = E_cm_samples[E_cm_samples> 2* muon_mass]\n",
    "\n",
    "N_instances = len(E_cm_samples)\n",
    "\n",
    "theta_cm_instances = inv_cdf(E_cm_samples,np.random.random(N_instances))\n",
    "\n",
    "phi_cm_instances   = np.random.uniform(0., 2*np.pi, N_instances)"
   ]
  },
  {
   "cell_type": "code",
   "execution_count": null,
   "metadata": {},
   "outputs": [],
   "source": [
    "#Calculate the total momentum p       CM\n",
    "#Calculate the momentum components in CM\n",
    "p_cm_instances = np.sqrt(E_cm_samples**2/4-muon_mass**2)\n",
    "\n",
    "pxm_cm, pym_cm, pzm_cm = sph_to_cart(p_cm_instances,theta_cm_instances,phi_cm_instances) \n",
    "#Calculate the momentum components in LAB\n",
    "vz = -np.sqrt(1-4*electron_mass**2/E_cm_samples**2)   \n",
    "gamma = 1/np.sqrt(1-vz**2)\n",
    "\n",
    "pxm_lb = pxm_cm\n",
    "pym_lb = pym_cm\n",
    "pzm_lb = gamma * pzm_cm - vz * gamma *E_cm_samples/2\n",
    "\n",
    "#Calculate the total momentum p       LAB\n",
    "#Obtain the angles thet and phi       LAB\n",
    "p_lb_instances = np.sqrt(pxm_lb**2 + pym_lb**2 + pzm_lb**2)\n",
    "\n",
    "theta_lb_instances = np.arccos(pzm_lb/p_lb_instances)\n",
    "phi_lb_instances   = np.arctan2(pym_lb,pxm_lb)"
   ]
  },
  {
   "cell_type": "code",
   "execution_count": null,
   "metadata": {
    "scrolled": true
   },
   "outputs": [],
   "source": [
    "plot_angles_hist(theta_cm_instances*deg,phi_cm_instances*deg,'orange','blue')\n",
    "plot_angles_hist(theta_lb_instances*deg,phi_lb_instances*deg,'orange','blue')\n",
    "\n",
    "theta_max_t = 4 * electron_mass /np.max(E_cm_samples) **2 * np.sqrt(np.max(E_cm_samples) **2 /4. -muon_mass**2)\n",
    "print('Maximum theta according to the theory [Antonelli]', \"{:.5f}\".format(theta_max_t*deg), \"deg\")\n",
    "print('Maximum theta in the simulation                  ', \"{:.5f}\".format(np.max(theta_lb_instances)*deg), \"deg\")\n",
    "print('The media for the theta angle                    ', \"{:.5f}\".format(np.average(theta_lb_instances)*deg), \"deg\")"
   ]
  },
  {
   "cell_type": "code",
   "execution_count": null,
   "metadata": {
    "scrolled": true
   },
   "outputs": [],
   "source": [
    "plot_momenta_hist(pxm_cm,pym_cm,pzm_cm,r'$\\mu^+$ momentum components in the CoM frame','orange')\n",
    "plot_momenta_hist(pxm_lb,pym_lb,pzm_lb,r'$\\mu^+$ momentum components in the LAB frame','dodgerblue')"
   ]
  },
  {
   "cell_type": "code",
   "execution_count": null,
   "metadata": {},
   "outputs": [],
   "source": [
    "#Check of the four momenta\n",
    "p_cm = -E_cm_samples**2/4 + pxm_cm**2+pym_cm**2+pzm_cm**2\n",
    "print('Squared four momentum in the CM frame',p_cm)\n",
    "\n",
    "E_lb = gamma*(E_cm_samples/2-pzm_cm*vz)\n",
    "p_lb = -E_lb**2 + pxm_lb**2+pym_lb**2+pzm_lb**2\n",
    "print('Squared four momentum in the LB frame',p_lb)"
   ]
  },
  {
   "cell_type": "code",
   "execution_count": null,
   "metadata": {},
   "outputs": [],
   "source": [
    "#Write the results to a file \n",
    "\n",
    "s2_muons_com = pd.DataFrame({'Theta' : theta_cm_instances,'Phi' : phi_cm_instances,'Muon px' : pxm_cm, 'Muon py' : pym_cm, 'Muon pz' : pzm_cm})\n",
    "#s2_muons_com.to_csv('s2_muons_momentum_com.csv', index=False)\n",
    "\n",
    "s2_muons_lab = pd.DataFrame({'Theta' : theta_lb_instances,'Phi' : phi_lb_instances,'Muon px' : pxm_lb, 'Muon py' : pym_lb, 'Muon pz' : pzm_lb})\n",
    "#s2_muons_lab.to_csv('s2_muons_momentum_lab.csv', index=False)"
   ]
  },
  {
   "cell_type": "markdown",
   "metadata": {},
   "source": [
    "## Aditional considerations\n",
    "\n",
    "8. given that the electrons traversing the target lose energy as $E(z)=E_0 \\exp{-z/X_0}$ (with z the longitudinal coordinate of the target, the one parallel to the beam direction and $X_0$ is the Beryllium radiation length), compute the nominal beam energy $E_0$ such that muon pairs can be generated along the whole length of the target;\n",
    "9. (optional) take the former point into account when generating the events (i.e. the proccess $\\sqrt{s}$ depend on the position along the target where the $e^+ - e^-$ scattering occurrs.\n",
    "\n"
   ]
  },
  {
   "cell_type": "code",
   "execution_count": null,
   "metadata": {},
   "outputs": [],
   "source": [
    "#Plots of energy decay for different materials\n",
    "x = np.linspace(0,3,num=100)\n",
    "for i in range(0,8):\n",
    "    plt.plot(x, 45 * np.exp(-x/properties.at[i,'X0']),label = properties.at[i,'Material'])\n",
    "plt.title('Energy decay for different materials', fontsize=15)\n",
    "plt.xlabel('Penetration distance [cm]', fontsize=15)\n",
    "plt.ylabel('Energy [Gev]', fontsize=15)\n",
    "plt.legend()\n",
    "plt.show()"
   ]
  },
  {
   "cell_type": "code",
   "execution_count": null,
   "metadata": {},
   "outputs": [],
   "source": [
    "#\n",
    "###\n",
    "####\n",
    "#####\n",
    "######\n",
    "####### SIMULATION 3\n",
    "######\n",
    "#####\n",
    "###\n",
    "##\n",
    "#"
   ]
  },
  {
   "cell_type": "code",
   "execution_count": null,
   "metadata": {},
   "outputs": [],
   "source": [
    "##################################################################################\n",
    "#Simulation parameters\n",
    "\n",
    "N     = 10**6 #Number of positrons\n",
    "E_lab = 45    #[GeV]\n",
    "sigma = 0.5   # mean and standard deviation\n",
    "\n",
    "###################################################################################"
   ]
  },
  {
   "cell_type": "code",
   "execution_count": null,
   "metadata": {},
   "outputs": [],
   "source": [
    "E0_cm = 2 *muon_mass/np.exp(-target_length/properties.at[3,'X0'])\n",
    "\n",
    "print('Beryllium radiation length',properties.at[3,'X0'],'Cm')\n",
    "print('Nominal beam energy in the CoM frame', '%.5f' % E0_cm, 'GeV')\n",
    "\n",
    "vz    = -np.sqrt(1-4*electron_mass**2/E0_cm**2)   \n",
    "gamma = 1/np.sqrt(1-vz**2)\n",
    "p     = np.sqrt(E0_cm**2/4-muon_mass**2)\n",
    "pzm   = p * np.cos(0)                                       \n",
    "E0_lb = gamma*(E0_cm/2-pzm*vz)\n",
    "\n",
    "E0_lb =(2*muon_mass**2/electron_mass -electron_mass)*np.exp(target_length/properties.at[3,'X0']) ##CORRECT\n",
    "print('Nominal beam energy in the Lab frame', '%.5f' % E0_lb, 'GeV')"
   ]
  },
  {
   "cell_type": "code",
   "execution_count": null,
   "metadata": {},
   "outputs": [],
   "source": [
    "#be generated along the whole length of the target as the media.\n",
    "#E_lab = E0_lb   \n",
    "\n",
    "#Obtain the positron energy samples in the laboratory frame\n",
    "E_lab_samples = np.random.normal(E_lab, sigma, N)\n",
    "\n",
    "#We keep the distribution for ploting purposes\n",
    "E_lab_plot = E_lab_samples \n",
    "\n",
    "#Now we distribute the energies according the position in the Beryllium plate\n",
    "##########################################################################\n",
    "x = np.random.uniform(low=0., high=target_length, size=(len(E_lab_samples),))\n",
    "E_lab_samples = E_lab_samples*np.exp(-x/properties.at[3,'X0'])\n",
    "##########################################################################\n",
    "\n",
    "#Boost of the positrons energy to the Center of Mass Frame\n",
    "vz    = np.sqrt((E_lab_samples-electron_mass)/(E_lab_samples+electron_mass))   \n",
    "gamma = 1/np.sqrt(1-vz**2)\n",
    "\n",
    "E_cm_samples = 2 *gamma*(E_lab_samples-vz*np.sqrt(E_lab_samples**2-electron_mass**2))\n",
    "\n",
    "#Filter the values below the threshold\n",
    "b = E_cm_samples[E_cm_samples> 2* muon_mass]\n",
    "\n",
    "N_instances = len(b)\n",
    "\n",
    "theta_cm_instances = inv_cdf(b,np.random.random(N_instances))\n",
    "\n",
    "phi_cm_instances   = np.random.uniform(0., 2*np.pi, N_instances)"
   ]
  },
  {
   "cell_type": "code",
   "execution_count": null,
   "metadata": {},
   "outputs": [],
   "source": [
    "#Energy distributions\n",
    "fig, (ax1,ax2) = plt.subplots(nrows=1, ncols=2, figsize=(12, 4))\n",
    "\n",
    "n, bins, _ = ax1.hist(E_lab_plot, bins=50,color='orange', ec='grey')\n",
    "ax1.set_title('Beam energy', fontsize=10)\n",
    "ax1.set_xlabel(r'$Energy$ [GeV]', fontsize=15)\n",
    "ax1.set_ylabel('Counts', fontsize=15)\n",
    "#ax1.ticklabel_format(axis=\"y\", style=\"sci\", scilimits=(5,5))\n",
    "ax1.xaxis.set_major_formatter(FormatStrFormatter('%.2f'))\n",
    "\n",
    "\n",
    "n, bins, _ = ax2.hist(E_lab_samples, bins=50,color='orange', ec='grey')\n",
    "ax2.set_title('Beam energy atenuation (material)', fontsize=10)\n",
    "ax2.set_xlabel(r'$Energy$ [GeV]', fontsize=15)\n",
    "#ax2.ticklabel_format(axis=\"y\", style=\"sci\", scilimits=(5,5))\n",
    "ax2.xaxis.set_major_formatter(FormatStrFormatter('%.2f'))\n",
    "\n",
    "plt.show()"
   ]
  },
  {
   "cell_type": "code",
   "execution_count": null,
   "metadata": {},
   "outputs": [],
   "source": [
    "#Calculate the total momentum p       CM\n",
    "#Calculate the momentum components in CM\n",
    "p_cm_instances = np.sqrt(b**2/4-muon_mass**2)\n",
    "\n",
    "pxm_cm, pym_cm, pzm_cm = sph_to_cart(p_cm_instances, theta_cm_instances, phi_cm_instances)\n",
    "\n",
    "#Calculate the momentum components in LAB\n",
    "vz = -np.sqrt(1-4*electron_mass**2/b**2)   \n",
    "gamma = 1/np.sqrt(1-vz**2)\n",
    "\n",
    "pxm_lb = pxm_cm\n",
    "pym_lb = pym_cm\n",
    "pzm_lb = gamma * pzm_cm - vz * gamma *b/2\n",
    "\n",
    "#Calculate the total momentum p       LAB\n",
    "#Obtain the angles thet and phi       LAB\n",
    "p_lb_instances = np.sqrt(pxm_lb**2 + pym_lb**2 + pzm_lb**2)\n",
    "\n",
    "theta_lb_instances = np.arccos(pzm_lb/p_lb_instances)\n",
    "phi_lb_instances   = np.arctan2(pym_lb,pxm_lb)"
   ]
  },
  {
   "cell_type": "code",
   "execution_count": null,
   "metadata": {
    "scrolled": true
   },
   "outputs": [],
   "source": [
    "plot_angles_hist(theta_cm_instances*deg,phi_cm_instances*deg,'orange','blue')\n",
    "plot_angles_hist(theta_lb_instances*deg,phi_lb_instances*deg,'orange','blue')\n",
    "\n",
    "theta_max_t = 4 * electron_mass /np.max(b) **2 * np.sqrt(np.max(b) **2 /4. -muon_mass**2)\n",
    "print('Maximum theta according to the theory [Antonelli]', \"{:.5f}\".format(theta_max_t*deg), \"deg\")\n",
    "print('Maximum theta in the simulation                  ', \"{:.5f}\".format(np.max(theta_lb_instances)*deg), \"deg\")\n",
    "print('The media for the theta angle                    ', \"{:.5f}\".format(np.average(theta_lb_instances)*deg), \"deg\")"
   ]
  },
  {
   "cell_type": "code",
   "execution_count": null,
   "metadata": {
    "scrolled": true
   },
   "outputs": [],
   "source": [
    "plot_momenta_hist(pxm_cm,pym_cm,pzm_cm,r'$\\mu^+$ momentum components in the CoM frame','orange')\n",
    "plot_momenta_hist(pxm_lb,pym_lb,pzm_lb,r'$\\mu^+$ momentum components in the LAB frame','dodgerblue')"
   ]
  },
  {
   "cell_type": "code",
   "execution_count": null,
   "metadata": {},
   "outputs": [],
   "source": [
    "#Check of the four momenta\n",
    "p_cm = -b**2/4 + pxm_cm**2+pym_cm**2+pzm_cm**2\n",
    "print('Squared four momentum in the CM frame',p_cm)\n",
    "\n",
    "E_lb = gamma*(b/2-pzm_cm*vz)\n",
    "p_lb = -E_lb**2 + pxm_lb**2+pym_lb**2+pzm_lb**2\n",
    "print('Squared four momentum in the LB frame',p_lb)"
   ]
  },
  {
   "cell_type": "code",
   "execution_count": null,
   "metadata": {},
   "outputs": [],
   "source": [
    "#Write the results to a file \n",
    "\n",
    "s3_muons_com = pd.DataFrame({'Theta' : theta_cm_instances,'Phi' : phi_cm_instances,'Muon px' : pxm_cm, 'Muon py' : pym_cm, 'Muon pz' : pzm_cm})\n",
    "#s3_muons_com.to_csv('s3_muons_momentum_com.csv', index=False)\n",
    "\n",
    "s3_muons_lab = pd.DataFrame({'Theta' : theta_lb_instances,'Phi' : phi_lb_instances,'Muon px' : pxm_lb, 'Muon py' : pym_lb, 'Muon pz' : pzm_lb})\n",
    "#s3_muons_lab.to_csv('s3_muons_momentum_lab.csv', index=False)"
   ]
  }
 ],
 "metadata": {
  "kernelspec": {
   "display_name": "Python 3",
   "language": "python",
   "name": "python3"
  },
  "language_info": {
   "codemirror_mode": {
    "name": "ipython",
    "version": 3
   },
   "file_extension": ".py",
   "mimetype": "text/x-python",
   "name": "python",
   "nbconvert_exporter": "python",
   "pygments_lexer": "ipython3",
   "version": "3.8.5"
  }
 },
 "nbformat": 4,
 "nbformat_minor": 2
}
