{
 "cells": [
  {
   "cell_type": "code",
   "execution_count": 1,
   "metadata": {},
   "outputs": [],
   "source": [
    "#Importing the required libraries.\n",
    "import pandas as pd #for dataframes and reading csv files.\n",
    "import numpy as np # for math operations(sqrt)\n",
    "import matplotlib.pyplot as plt #for plotting the graphs\n",
    "import IPython\n",
    "from IPython.display import display, HTML\n",
    "import plotly.express as px\n",
    "import plotly.graph_objects as go\n",
    "import csv\n",
    "\n",
    "\n",
    "%config InlineBackend.figure_format = 'retina'"
   ]
  },
  {
   "cell_type": "code",
   "execution_count": 2,
   "metadata": {},
   "outputs": [],
   "source": [
    "#displaying dataframes\n",
    "def display_side(dfs:list, captions:list):\n",
    "    output = \"\"\n",
    "    combined = dict(zip(captions, dfs))\n",
    "    for caption, df in combined.items():\n",
    "        output += df.style.set_table_attributes(\"style='display:inline'\").set_caption(caption)._repr_html_()\n",
    "        output += \"\\xa0\\xa0\\xa0\"\n",
    "    display(HTML(output))"
   ]
  },
  {
   "cell_type": "code",
   "execution_count": 3,
   "metadata": {},
   "outputs": [],
   "source": [
    "#codici_istat_comune\n",
    "file_name=\"data/codici_istat_comune.csv\"\n",
    "data_cic=pd.read_csv(file_name,sep=\",\",delimiter=',',header=0,quoting=3,escapechar=\"\\\"\",encoding=\"latin-1\")\n",
    "codist_com=pd.DataFrame(data_cic)\n",
    "codist_com\n",
    "\n",
    "#codici_nazioni\n",
    "file_name=\"data/codici_nazioni.csv\"\n",
    "data_cin=pd.read_csv(file_name,delimiter=',',header=0,quoting=2, #quoting=2 \"Non-Numerical value ex. \"Colombia\";\n",
    "                                error_bad_lines=True,encoding=\"utf-16\",quotechar = '\"',escapechar='\\r')\n",
    "codist_naz=pd.DataFrame(data_cin)\n",
    "codist_naz\n",
    "\n",
    "#disitinct userr day\n",
    "file_name=\"data/distinct_users_day.csv\"\n",
    "read_users_day=pd.read_csv(file_name,sep=\",\",encoding=\"latin-1\")\n",
    "dist_users_day=pd.DataFrame(read_users_day)\n",
    "dist_users_day\n",
    "\n",
    "# Getting DataFrame for codici_istat_provincia.csv\n",
    "file_name=\"data/codici_istat_provincia.csv\"\n",
    "data_cip=pd.read_csv(file_name,sep=\",\",header=0,quoting=3,escapechar=\"\\\"\",encoding=\"latin-1\")\n",
    "codist_prov=pd.DataFrame(data_cip)\n",
    "codist_prov\n",
    "\n",
    "#dataframe from day_od.csv: \"day origin and destination\"\n",
    "file_name=\"data/day_od.csv\"\n",
    "read_day_od=pd.read_csv(file_name,sep=\",\",encoding='utf-16', header=0) #comment: explicit header=0 to replace column names;  \n",
    "columns=[\"Month\",\"Day\",\"Origin\",\"Destination\",\"Cust_Class\",\"Cod_Country\",\"Cod_Pro\",\"Pro_Com\",\"Flow\"]\n",
    "read_day_od.columns=columns\n",
    "day_od=pd.DataFrame(read_day_od)"
   ]
  },
  {
   "cell_type": "markdown",
   "metadata": {},
   "source": [
    "# Punto 2"
   ]
  },
  {
   "cell_type": "code",
   "execution_count": 6,
   "metadata": {},
   "outputs": [
    {
     "data": {
      "text/html": [
       "<style  type=\"text/css\" >\n",
       "</style><table id=\"T_519b9c52_5413_11eb_a861_00155d47bbd4\" style='display:inline'><caption>Cleaning</caption><thead>    <tr>        <th class=\"blank level0\" ></th>        <th class=\"col_heading level0 col0\" >DOW</th>        <th class=\"col_heading level0 col1\" >COD_COUNTRY</th>        <th class=\"col_heading level0 col2\" >VISITORS</th>        <th class=\"col_heading level0 col3\" >COUNTRY_NAME_IT</th>    </tr></thead><tbody>\n",
       "                <tr>\n",
       "                        <th id=\"T_519b9c52_5413_11eb_a861_00155d47bbd4level0_row0\" class=\"row_heading level0 row0\" >0</th>\n",
       "                        <td id=\"T_519b9c52_5413_11eb_a861_00155d47bbd4row0_col0\" class=\"data row0 col0\" >Mercoledì</td>\n",
       "                        <td id=\"T_519b9c52_5413_11eb_a861_00155d47bbd4row0_col1\" class=\"data row0 col1\" >208.000000</td>\n",
       "                        <td id=\"T_519b9c52_5413_11eb_a861_00155d47bbd4row0_col2\" class=\"data row0 col2\" >20312</td>\n",
       "                        <td id=\"T_519b9c52_5413_11eb_a861_00155d47bbd4row0_col3\" class=\"data row0 col3\" >Francia</td>\n",
       "            </tr>\n",
       "            <tr>\n",
       "                        <th id=\"T_519b9c52_5413_11eb_a861_00155d47bbd4level0_row1\" class=\"row_heading level0 row1\" >1</th>\n",
       "                        <td id=\"T_519b9c52_5413_11eb_a861_00155d47bbd4row1_col0\" class=\"data row1 col0\" >Domenica</td>\n",
       "                        <td id=\"T_519b9c52_5413_11eb_a861_00155d47bbd4row1_col1\" class=\"data row1 col1\" >228.000000</td>\n",
       "                        <td id=\"T_519b9c52_5413_11eb_a861_00155d47bbd4row1_col2\" class=\"data row1 col2\" >20264</td>\n",
       "                        <td id=\"T_519b9c52_5413_11eb_a861_00155d47bbd4row1_col3\" class=\"data row1 col3\" >Svizzera</td>\n",
       "            </tr>\n",
       "            <tr>\n",
       "                        <th id=\"T_519b9c52_5413_11eb_a861_00155d47bbd4level0_row2\" class=\"row_heading level0 row2\" >2</th>\n",
       "                        <td id=\"T_519b9c52_5413_11eb_a861_00155d47bbd4row2_col0\" class=\"data row2 col0\" >Lunedì</td>\n",
       "                        <td id=\"T_519b9c52_5413_11eb_a861_00155d47bbd4row2_col1\" class=\"data row2 col1\" >208.000000</td>\n",
       "                        <td id=\"T_519b9c52_5413_11eb_a861_00155d47bbd4row2_col2\" class=\"data row2 col2\" >19696</td>\n",
       "                        <td id=\"T_519b9c52_5413_11eb_a861_00155d47bbd4row2_col3\" class=\"data row2 col3\" >Francia</td>\n",
       "            </tr>\n",
       "            <tr>\n",
       "                        <th id=\"T_519b9c52_5413_11eb_a861_00155d47bbd4level0_row3\" class=\"row_heading level0 row3\" >3</th>\n",
       "                        <td id=\"T_519b9c52_5413_11eb_a861_00155d47bbd4row3_col0\" class=\"data row3 col0\" >Sabato</td>\n",
       "                        <td id=\"T_519b9c52_5413_11eb_a861_00155d47bbd4row3_col1\" class=\"data row3 col1\" >228.000000</td>\n",
       "                        <td id=\"T_519b9c52_5413_11eb_a861_00155d47bbd4row3_col2\" class=\"data row3 col2\" >18260</td>\n",
       "                        <td id=\"T_519b9c52_5413_11eb_a861_00155d47bbd4row3_col3\" class=\"data row3 col3\" >Svizzera</td>\n",
       "            </tr>\n",
       "            <tr>\n",
       "                        <th id=\"T_519b9c52_5413_11eb_a861_00155d47bbd4level0_row4\" class=\"row_heading level0 row4\" >4</th>\n",
       "                        <td id=\"T_519b9c52_5413_11eb_a861_00155d47bbd4row4_col0\" class=\"data row4 col0\" >Giovedì</td>\n",
       "                        <td id=\"T_519b9c52_5413_11eb_a861_00155d47bbd4row4_col1\" class=\"data row4 col1\" >208.000000</td>\n",
       "                        <td id=\"T_519b9c52_5413_11eb_a861_00155d47bbd4row4_col2\" class=\"data row4 col2\" >18164</td>\n",
       "                        <td id=\"T_519b9c52_5413_11eb_a861_00155d47bbd4row4_col3\" class=\"data row4 col3\" >Francia</td>\n",
       "            </tr>\n",
       "            <tr>\n",
       "                        <th id=\"T_519b9c52_5413_11eb_a861_00155d47bbd4level0_row5\" class=\"row_heading level0 row5\" >5</th>\n",
       "                        <td id=\"T_519b9c52_5413_11eb_a861_00155d47bbd4row5_col0\" class=\"data row5 col0\" >Domenica</td>\n",
       "                        <td id=\"T_519b9c52_5413_11eb_a861_00155d47bbd4row5_col1\" class=\"data row5 col1\" >208.000000</td>\n",
       "                        <td id=\"T_519b9c52_5413_11eb_a861_00155d47bbd4row5_col2\" class=\"data row5 col2\" >18064</td>\n",
       "                        <td id=\"T_519b9c52_5413_11eb_a861_00155d47bbd4row5_col3\" class=\"data row5 col3\" >Francia</td>\n",
       "            </tr>\n",
       "            <tr>\n",
       "                        <th id=\"T_519b9c52_5413_11eb_a861_00155d47bbd4level0_row6\" class=\"row_heading level0 row6\" >6</th>\n",
       "                        <td id=\"T_519b9c52_5413_11eb_a861_00155d47bbd4row6_col0\" class=\"data row6 col0\" >Martedì</td>\n",
       "                        <td id=\"T_519b9c52_5413_11eb_a861_00155d47bbd4row6_col1\" class=\"data row6 col1\" >208.000000</td>\n",
       "                        <td id=\"T_519b9c52_5413_11eb_a861_00155d47bbd4row6_col2\" class=\"data row6 col2\" >18000</td>\n",
       "                        <td id=\"T_519b9c52_5413_11eb_a861_00155d47bbd4row6_col3\" class=\"data row6 col3\" >Francia</td>\n",
       "            </tr>\n",
       "            <tr>\n",
       "                        <th id=\"T_519b9c52_5413_11eb_a861_00155d47bbd4level0_row7\" class=\"row_heading level0 row7\" >7</th>\n",
       "                        <td id=\"T_519b9c52_5413_11eb_a861_00155d47bbd4row7_col0\" class=\"data row7 col0\" >Lunedì</td>\n",
       "                        <td id=\"T_519b9c52_5413_11eb_a861_00155d47bbd4row7_col1\" class=\"data row7 col1\" >228.000000</td>\n",
       "                        <td id=\"T_519b9c52_5413_11eb_a861_00155d47bbd4row7_col2\" class=\"data row7 col2\" >17984</td>\n",
       "                        <td id=\"T_519b9c52_5413_11eb_a861_00155d47bbd4row7_col3\" class=\"data row7 col3\" >Svizzera</td>\n",
       "            </tr>\n",
       "            <tr>\n",
       "                        <th id=\"T_519b9c52_5413_11eb_a861_00155d47bbd4level0_row8\" class=\"row_heading level0 row8\" >8</th>\n",
       "                        <td id=\"T_519b9c52_5413_11eb_a861_00155d47bbd4row8_col0\" class=\"data row8 col0\" >Sabato</td>\n",
       "                        <td id=\"T_519b9c52_5413_11eb_a861_00155d47bbd4row8_col1\" class=\"data row8 col1\" >208.000000</td>\n",
       "                        <td id=\"T_519b9c52_5413_11eb_a861_00155d47bbd4row8_col2\" class=\"data row8 col2\" >17928</td>\n",
       "                        <td id=\"T_519b9c52_5413_11eb_a861_00155d47bbd4row8_col3\" class=\"data row8 col3\" >Francia</td>\n",
       "            </tr>\n",
       "            <tr>\n",
       "                        <th id=\"T_519b9c52_5413_11eb_a861_00155d47bbd4level0_row9\" class=\"row_heading level0 row9\" >9</th>\n",
       "                        <td id=\"T_519b9c52_5413_11eb_a861_00155d47bbd4row9_col0\" class=\"data row9 col0\" >Venerdì</td>\n",
       "                        <td id=\"T_519b9c52_5413_11eb_a861_00155d47bbd4row9_col1\" class=\"data row9 col1\" >208.000000</td>\n",
       "                        <td id=\"T_519b9c52_5413_11eb_a861_00155d47bbd4row9_col2\" class=\"data row9 col2\" >17508</td>\n",
       "                        <td id=\"T_519b9c52_5413_11eb_a861_00155d47bbd4row9_col3\" class=\"data row9 col3\" >Francia</td>\n",
       "            </tr>\n",
       "    </tbody></table>   <style  type=\"text/css\" >\n",
       "</style><table id=\"T_519f4639_5413_11eb_80b8_00155d47bbd4\" style='display:inline'><caption>Groupby</caption><thead>    <tr>        <th class=\"blank level0\" ></th>        <th class=\"col_heading level0 col0\" >COUNTRY_NAME_IT</th>        <th class=\"col_heading level0 col1\" >VISITORS</th>    </tr></thead><tbody>\n",
       "                <tr>\n",
       "                        <th id=\"T_519f4639_5413_11eb_80b8_00155d47bbd4level0_row0\" class=\"row_heading level0 row0\" >0</th>\n",
       "                        <td id=\"T_519f4639_5413_11eb_80b8_00155d47bbd4row0_col0\" class=\"data row0 col0\" >Francia</td>\n",
       "                        <td id=\"T_519f4639_5413_11eb_80b8_00155d47bbd4row0_col1\" class=\"data row0 col1\" >129672</td>\n",
       "            </tr>\n",
       "            <tr>\n",
       "                        <th id=\"T_519f4639_5413_11eb_80b8_00155d47bbd4level0_row1\" class=\"row_heading level0 row1\" >1</th>\n",
       "                        <td id=\"T_519f4639_5413_11eb_80b8_00155d47bbd4row1_col0\" class=\"data row1 col0\" >Svizzera</td>\n",
       "                        <td id=\"T_519f4639_5413_11eb_80b8_00155d47bbd4row1_col1\" class=\"data row1 col1\" >116884</td>\n",
       "            </tr>\n",
       "            <tr>\n",
       "                        <th id=\"T_519f4639_5413_11eb_80b8_00155d47bbd4level0_row2\" class=\"row_heading level0 row2\" >2</th>\n",
       "                        <td id=\"T_519f4639_5413_11eb_80b8_00155d47bbd4row2_col0\" class=\"data row2 col0\" >Germania</td>\n",
       "                        <td id=\"T_519f4639_5413_11eb_80b8_00155d47bbd4row2_col1\" class=\"data row2 col1\" >109176</td>\n",
       "            </tr>\n",
       "            <tr>\n",
       "                        <th id=\"T_519f4639_5413_11eb_80b8_00155d47bbd4level0_row3\" class=\"row_heading level0 row3\" >3</th>\n",
       "                        <td id=\"T_519f4639_5413_11eb_80b8_00155d47bbd4row3_col0\" class=\"data row3 col0\" >Cina</td>\n",
       "                        <td id=\"T_519f4639_5413_11eb_80b8_00155d47bbd4row3_col1\" class=\"data row3 col1\" >107796</td>\n",
       "            </tr>\n",
       "            <tr>\n",
       "                        <th id=\"T_519f4639_5413_11eb_80b8_00155d47bbd4level0_row4\" class=\"row_heading level0 row4\" >4</th>\n",
       "                        <td id=\"T_519f4639_5413_11eb_80b8_00155d47bbd4row4_col0\" class=\"data row4 col0\" >Austria</td>\n",
       "                        <td id=\"T_519f4639_5413_11eb_80b8_00155d47bbd4row4_col1\" class=\"data row4 col1\" >96776</td>\n",
       "            </tr>\n",
       "            <tr>\n",
       "                        <th id=\"T_519f4639_5413_11eb_80b8_00155d47bbd4level0_row5\" class=\"row_heading level0 row5\" >5</th>\n",
       "                        <td id=\"T_519f4639_5413_11eb_80b8_00155d47bbd4row5_col0\" class=\"data row5 col0\" >Stati Uniti d'America</td>\n",
       "                        <td id=\"T_519f4639_5413_11eb_80b8_00155d47bbd4row5_col1\" class=\"data row5 col1\" >76136</td>\n",
       "            </tr>\n",
       "            <tr>\n",
       "                        <th id=\"T_519f4639_5413_11eb_80b8_00155d47bbd4level0_row6\" class=\"row_heading level0 row6\" >6</th>\n",
       "                        <td id=\"T_519f4639_5413_11eb_80b8_00155d47bbd4row6_col0\" class=\"data row6 col0\" >Spagna</td>\n",
       "                        <td id=\"T_519f4639_5413_11eb_80b8_00155d47bbd4row6_col1\" class=\"data row6 col1\" >71872</td>\n",
       "            </tr>\n",
       "            <tr>\n",
       "                        <th id=\"T_519f4639_5413_11eb_80b8_00155d47bbd4level0_row7\" class=\"row_heading level0 row7\" >7</th>\n",
       "                        <td id=\"T_519f4639_5413_11eb_80b8_00155d47bbd4row7_col0\" class=\"data row7 col0\" >Paesi Bassi</td>\n",
       "                        <td id=\"T_519f4639_5413_11eb_80b8_00155d47bbd4row7_col1\" class=\"data row7 col1\" >70432</td>\n",
       "            </tr>\n",
       "            <tr>\n",
       "                        <th id=\"T_519f4639_5413_11eb_80b8_00155d47bbd4level0_row8\" class=\"row_heading level0 row8\" >8</th>\n",
       "                        <td id=\"T_519f4639_5413_11eb_80b8_00155d47bbd4row8_col0\" class=\"data row8 col0\" >Romania</td>\n",
       "                        <td id=\"T_519f4639_5413_11eb_80b8_00155d47bbd4row8_col1\" class=\"data row8 col1\" >59012</td>\n",
       "            </tr>\n",
       "            <tr>\n",
       "                        <th id=\"T_519f4639_5413_11eb_80b8_00155d47bbd4level0_row9\" class=\"row_heading level0 row9\" >9</th>\n",
       "                        <td id=\"T_519f4639_5413_11eb_80b8_00155d47bbd4row9_col0\" class=\"data row9 col0\" >Gran Bretagna</td>\n",
       "                        <td id=\"T_519f4639_5413_11eb_80b8_00155d47bbd4row9_col1\" class=\"data row9 col1\" >46180</td>\n",
       "            </tr>\n",
       "    </tbody></table>   "
      ],
      "text/plain": [
       "<IPython.core.display.HTML object>"
      ]
     },
     "metadata": {},
     "output_type": "display_data"
    }
   ],
   "source": [
    "#Cleaning data and groupbying\n",
    "visitors = dist_users_day[dist_users_day['CUST_CLASS'] == 'foreigner'\n",
    "                         ].merge(codist_naz,on='COD_COUNTRY'\n",
    "                         ).sort_values(by=['VISITORS'],ascending=False,ignore_index=True\n",
    "                         ).drop(columns=['COD_PRO','PRO_COM','CUST_CLASS'],axis=1\n",
    "                         ).dropna(axis='rows')\n",
    "        \n",
    "visitors1 = visitors.groupby(['COUNTRY_NAME_IT'],as_index=False\n",
    "                            ).sum(\n",
    "                            ).sort_values(by=['VISITORS'],ascending=False,ignore_index=True\n",
    "                            ).drop(columns=['COD_COUNTRY'],axis=1\n",
    "                            ).copy()\n",
    "    \n",
    "display_side([visitors.head(10), visitors1.head(10)], ['Cleaning', 'Groupby'])"
   ]
  },
  {
   "cell_type": "code",
   "execution_count": 323,
   "metadata": {},
   "outputs": [
    {
     "data": {
      "application/vnd.plotly.v1+json": {
       "config": {
        "displayModeBar": true,
        "plotlyServerURL": "https://plot.ly"
       },
       "data": [
        {
         "domain": {
          "x": [
           0,
           1
          ],
          "y": [
           0,
           1
          ]
         },
         "hole": 0.25,
         "hoverinfo": "percent+value",
         "hovertemplate": "COUNTRY_NAME_IT=%{label}<br>VISITORS=%{value}<extra></extra>",
         "labels": [
          "Francia",
          "Svizzera",
          "Germania",
          "Cina",
          "Austria",
          "Stati Uniti d'America",
          "Spagna",
          "Paesi Bassi",
          "Romania",
          "Gran Bretagna",
          "Russia",
          "Ungheria",
          "Croazia",
          "Slovenia",
          "Belgio",
          "Bulgaria",
          "Polonia",
          "Giappone",
          "Repubblica Ceca",
          "Messico"
         ],
         "legendgroup": "",
         "marker": {
          "line": {
           "color": "#000000",
           "width": 1.5
          }
         },
         "name": "",
         "showlegend": true,
         "textfont": {
          "size": 12
         },
         "textinfo": "percent+label+value",
         "textposition": "inside",
         "type": "pie",
         "values": [
          129672,
          116884,
          109176,
          107796,
          96776,
          76136,
          71872,
          70432,
          59012,
          46180,
          42424,
          30344,
          26504,
          25760,
          25380,
          21472,
          18580,
          13032,
          13004,
          12552
         ]
        }
       ],
       "layout": {
        "legend": {
         "tracegroupgap": 0
        },
        "margin": {
         "b": 0,
         "l": 0,
         "r": 0,
         "t": 50
        },
        "piecolorway": [
         "rgb(103,0,31)",
         "rgb(178,24,43)",
         "rgb(214,96,77)",
         "rgb(244,165,130)",
         "rgb(253,219,199)",
         "rgb(247,247,247)",
         "rgb(209,229,240)",
         "rgb(146,197,222)",
         "rgb(67,147,195)",
         "rgb(33,102,172)",
         "rgb(5,48,97)"
        ],
        "template": {
         "data": {
          "bar": [
           {
            "error_x": {
             "color": "#2a3f5f"
            },
            "error_y": {
             "color": "#2a3f5f"
            },
            "marker": {
             "line": {
              "color": "#E5ECF6",
              "width": 0.5
             }
            },
            "type": "bar"
           }
          ],
          "barpolar": [
           {
            "marker": {
             "line": {
              "color": "#E5ECF6",
              "width": 0.5
             }
            },
            "type": "barpolar"
           }
          ],
          "carpet": [
           {
            "aaxis": {
             "endlinecolor": "#2a3f5f",
             "gridcolor": "white",
             "linecolor": "white",
             "minorgridcolor": "white",
             "startlinecolor": "#2a3f5f"
            },
            "baxis": {
             "endlinecolor": "#2a3f5f",
             "gridcolor": "white",
             "linecolor": "white",
             "minorgridcolor": "white",
             "startlinecolor": "#2a3f5f"
            },
            "type": "carpet"
           }
          ],
          "choropleth": [
           {
            "colorbar": {
             "outlinewidth": 0,
             "ticks": ""
            },
            "type": "choropleth"
           }
          ],
          "contour": [
           {
            "colorbar": {
             "outlinewidth": 0,
             "ticks": ""
            },
            "colorscale": [
             [
              0,
              "#0d0887"
             ],
             [
              0.1111111111111111,
              "#46039f"
             ],
             [
              0.2222222222222222,
              "#7201a8"
             ],
             [
              0.3333333333333333,
              "#9c179e"
             ],
             [
              0.4444444444444444,
              "#bd3786"
             ],
             [
              0.5555555555555556,
              "#d8576b"
             ],
             [
              0.6666666666666666,
              "#ed7953"
             ],
             [
              0.7777777777777778,
              "#fb9f3a"
             ],
             [
              0.8888888888888888,
              "#fdca26"
             ],
             [
              1,
              "#f0f921"
             ]
            ],
            "type": "contour"
           }
          ],
          "contourcarpet": [
           {
            "colorbar": {
             "outlinewidth": 0,
             "ticks": ""
            },
            "type": "contourcarpet"
           }
          ],
          "heatmap": [
           {
            "colorbar": {
             "outlinewidth": 0,
             "ticks": ""
            },
            "colorscale": [
             [
              0,
              "#0d0887"
             ],
             [
              0.1111111111111111,
              "#46039f"
             ],
             [
              0.2222222222222222,
              "#7201a8"
             ],
             [
              0.3333333333333333,
              "#9c179e"
             ],
             [
              0.4444444444444444,
              "#bd3786"
             ],
             [
              0.5555555555555556,
              "#d8576b"
             ],
             [
              0.6666666666666666,
              "#ed7953"
             ],
             [
              0.7777777777777778,
              "#fb9f3a"
             ],
             [
              0.8888888888888888,
              "#fdca26"
             ],
             [
              1,
              "#f0f921"
             ]
            ],
            "type": "heatmap"
           }
          ],
          "heatmapgl": [
           {
            "colorbar": {
             "outlinewidth": 0,
             "ticks": ""
            },
            "colorscale": [
             [
              0,
              "#0d0887"
             ],
             [
              0.1111111111111111,
              "#46039f"
             ],
             [
              0.2222222222222222,
              "#7201a8"
             ],
             [
              0.3333333333333333,
              "#9c179e"
             ],
             [
              0.4444444444444444,
              "#bd3786"
             ],
             [
              0.5555555555555556,
              "#d8576b"
             ],
             [
              0.6666666666666666,
              "#ed7953"
             ],
             [
              0.7777777777777778,
              "#fb9f3a"
             ],
             [
              0.8888888888888888,
              "#fdca26"
             ],
             [
              1,
              "#f0f921"
             ]
            ],
            "type": "heatmapgl"
           }
          ],
          "histogram": [
           {
            "marker": {
             "colorbar": {
              "outlinewidth": 0,
              "ticks": ""
             }
            },
            "type": "histogram"
           }
          ],
          "histogram2d": [
           {
            "colorbar": {
             "outlinewidth": 0,
             "ticks": ""
            },
            "colorscale": [
             [
              0,
              "#0d0887"
             ],
             [
              0.1111111111111111,
              "#46039f"
             ],
             [
              0.2222222222222222,
              "#7201a8"
             ],
             [
              0.3333333333333333,
              "#9c179e"
             ],
             [
              0.4444444444444444,
              "#bd3786"
             ],
             [
              0.5555555555555556,
              "#d8576b"
             ],
             [
              0.6666666666666666,
              "#ed7953"
             ],
             [
              0.7777777777777778,
              "#fb9f3a"
             ],
             [
              0.8888888888888888,
              "#fdca26"
             ],
             [
              1,
              "#f0f921"
             ]
            ],
            "type": "histogram2d"
           }
          ],
          "histogram2dcontour": [
           {
            "colorbar": {
             "outlinewidth": 0,
             "ticks": ""
            },
            "colorscale": [
             [
              0,
              "#0d0887"
             ],
             [
              0.1111111111111111,
              "#46039f"
             ],
             [
              0.2222222222222222,
              "#7201a8"
             ],
             [
              0.3333333333333333,
              "#9c179e"
             ],
             [
              0.4444444444444444,
              "#bd3786"
             ],
             [
              0.5555555555555556,
              "#d8576b"
             ],
             [
              0.6666666666666666,
              "#ed7953"
             ],
             [
              0.7777777777777778,
              "#fb9f3a"
             ],
             [
              0.8888888888888888,
              "#fdca26"
             ],
             [
              1,
              "#f0f921"
             ]
            ],
            "type": "histogram2dcontour"
           }
          ],
          "mesh3d": [
           {
            "colorbar": {
             "outlinewidth": 0,
             "ticks": ""
            },
            "type": "mesh3d"
           }
          ],
          "parcoords": [
           {
            "line": {
             "colorbar": {
              "outlinewidth": 0,
              "ticks": ""
             }
            },
            "type": "parcoords"
           }
          ],
          "pie": [
           {
            "automargin": true,
            "type": "pie"
           }
          ],
          "scatter": [
           {
            "marker": {
             "colorbar": {
              "outlinewidth": 0,
              "ticks": ""
             }
            },
            "type": "scatter"
           }
          ],
          "scatter3d": [
           {
            "line": {
             "colorbar": {
              "outlinewidth": 0,
              "ticks": ""
             }
            },
            "marker": {
             "colorbar": {
              "outlinewidth": 0,
              "ticks": ""
             }
            },
            "type": "scatter3d"
           }
          ],
          "scattercarpet": [
           {
            "marker": {
             "colorbar": {
              "outlinewidth": 0,
              "ticks": ""
             }
            },
            "type": "scattercarpet"
           }
          ],
          "scattergeo": [
           {
            "marker": {
             "colorbar": {
              "outlinewidth": 0,
              "ticks": ""
             }
            },
            "type": "scattergeo"
           }
          ],
          "scattergl": [
           {
            "marker": {
             "colorbar": {
              "outlinewidth": 0,
              "ticks": ""
             }
            },
            "type": "scattergl"
           }
          ],
          "scattermapbox": [
           {
            "marker": {
             "colorbar": {
              "outlinewidth": 0,
              "ticks": ""
             }
            },
            "type": "scattermapbox"
           }
          ],
          "scatterpolar": [
           {
            "marker": {
             "colorbar": {
              "outlinewidth": 0,
              "ticks": ""
             }
            },
            "type": "scatterpolar"
           }
          ],
          "scatterpolargl": [
           {
            "marker": {
             "colorbar": {
              "outlinewidth": 0,
              "ticks": ""
             }
            },
            "type": "scatterpolargl"
           }
          ],
          "scatterternary": [
           {
            "marker": {
             "colorbar": {
              "outlinewidth": 0,
              "ticks": ""
             }
            },
            "type": "scatterternary"
           }
          ],
          "surface": [
           {
            "colorbar": {
             "outlinewidth": 0,
             "ticks": ""
            },
            "colorscale": [
             [
              0,
              "#0d0887"
             ],
             [
              0.1111111111111111,
              "#46039f"
             ],
             [
              0.2222222222222222,
              "#7201a8"
             ],
             [
              0.3333333333333333,
              "#9c179e"
             ],
             [
              0.4444444444444444,
              "#bd3786"
             ],
             [
              0.5555555555555556,
              "#d8576b"
             ],
             [
              0.6666666666666666,
              "#ed7953"
             ],
             [
              0.7777777777777778,
              "#fb9f3a"
             ],
             [
              0.8888888888888888,
              "#fdca26"
             ],
             [
              1,
              "#f0f921"
             ]
            ],
            "type": "surface"
           }
          ],
          "table": [
           {
            "cells": {
             "fill": {
              "color": "#EBF0F8"
             },
             "line": {
              "color": "white"
             }
            },
            "header": {
             "fill": {
              "color": "#C8D4E3"
             },
             "line": {
              "color": "white"
             }
            },
            "type": "table"
           }
          ]
         },
         "layout": {
          "annotationdefaults": {
           "arrowcolor": "#2a3f5f",
           "arrowhead": 0,
           "arrowwidth": 1
          },
          "autotypenumbers": "strict",
          "coloraxis": {
           "colorbar": {
            "outlinewidth": 0,
            "ticks": ""
           }
          },
          "colorscale": {
           "diverging": [
            [
             0,
             "#8e0152"
            ],
            [
             0.1,
             "#c51b7d"
            ],
            [
             0.2,
             "#de77ae"
            ],
            [
             0.3,
             "#f1b6da"
            ],
            [
             0.4,
             "#fde0ef"
            ],
            [
             0.5,
             "#f7f7f7"
            ],
            [
             0.6,
             "#e6f5d0"
            ],
            [
             0.7,
             "#b8e186"
            ],
            [
             0.8,
             "#7fbc41"
            ],
            [
             0.9,
             "#4d9221"
            ],
            [
             1,
             "#276419"
            ]
           ],
           "sequential": [
            [
             0,
             "#0d0887"
            ],
            [
             0.1111111111111111,
             "#46039f"
            ],
            [
             0.2222222222222222,
             "#7201a8"
            ],
            [
             0.3333333333333333,
             "#9c179e"
            ],
            [
             0.4444444444444444,
             "#bd3786"
            ],
            [
             0.5555555555555556,
             "#d8576b"
            ],
            [
             0.6666666666666666,
             "#ed7953"
            ],
            [
             0.7777777777777778,
             "#fb9f3a"
            ],
            [
             0.8888888888888888,
             "#fdca26"
            ],
            [
             1,
             "#f0f921"
            ]
           ],
           "sequentialminus": [
            [
             0,
             "#0d0887"
            ],
            [
             0.1111111111111111,
             "#46039f"
            ],
            [
             0.2222222222222222,
             "#7201a8"
            ],
            [
             0.3333333333333333,
             "#9c179e"
            ],
            [
             0.4444444444444444,
             "#bd3786"
            ],
            [
             0.5555555555555556,
             "#d8576b"
            ],
            [
             0.6666666666666666,
             "#ed7953"
            ],
            [
             0.7777777777777778,
             "#fb9f3a"
            ],
            [
             0.8888888888888888,
             "#fdca26"
            ],
            [
             1,
             "#f0f921"
            ]
           ]
          },
          "colorway": [
           "#636efa",
           "#EF553B",
           "#00cc96",
           "#ab63fa",
           "#FFA15A",
           "#19d3f3",
           "#FF6692",
           "#B6E880",
           "#FF97FF",
           "#FECB52"
          ],
          "font": {
           "color": "#2a3f5f"
          },
          "geo": {
           "bgcolor": "white",
           "lakecolor": "white",
           "landcolor": "#E5ECF6",
           "showlakes": true,
           "showland": true,
           "subunitcolor": "white"
          },
          "hoverlabel": {
           "align": "left"
          },
          "hovermode": "closest",
          "mapbox": {
           "style": "light"
          },
          "paper_bgcolor": "white",
          "plot_bgcolor": "#E5ECF6",
          "polar": {
           "angularaxis": {
            "gridcolor": "white",
            "linecolor": "white",
            "ticks": ""
           },
           "bgcolor": "#E5ECF6",
           "radialaxis": {
            "gridcolor": "white",
            "linecolor": "white",
            "ticks": ""
           }
          },
          "scene": {
           "xaxis": {
            "backgroundcolor": "#E5ECF6",
            "gridcolor": "white",
            "gridwidth": 2,
            "linecolor": "white",
            "showbackground": true,
            "ticks": "",
            "zerolinecolor": "white"
           },
           "yaxis": {
            "backgroundcolor": "#E5ECF6",
            "gridcolor": "white",
            "gridwidth": 2,
            "linecolor": "white",
            "showbackground": true,
            "ticks": "",
            "zerolinecolor": "white"
           },
           "zaxis": {
            "backgroundcolor": "#E5ECF6",
            "gridcolor": "white",
            "gridwidth": 2,
            "linecolor": "white",
            "showbackground": true,
            "ticks": "",
            "zerolinecolor": "white"
           }
          },
          "shapedefaults": {
           "line": {
            "color": "#2a3f5f"
           }
          },
          "ternary": {
           "aaxis": {
            "gridcolor": "white",
            "linecolor": "white",
            "ticks": ""
           },
           "baxis": {
            "gridcolor": "white",
            "linecolor": "white",
            "ticks": ""
           },
           "bgcolor": "#E5ECF6",
           "caxis": {
            "gridcolor": "white",
            "linecolor": "white",
            "ticks": ""
           }
          },
          "title": {
           "x": 0.05
          },
          "xaxis": {
           "automargin": true,
           "gridcolor": "white",
           "linecolor": "white",
           "ticks": "",
           "title": {
            "standoff": 15
           },
           "zerolinecolor": "white",
           "zerolinewidth": 2
          },
          "yaxis": {
           "automargin": true,
           "gridcolor": "white",
           "linecolor": "white",
           "ticks": "",
           "title": {
            "standoff": 15
           },
           "zerolinecolor": "white",
           "zerolinewidth": 2
          }
         }
        },
        "title": {
         "text": "Ranking of foreigner visitors weekly"
        }
       }
      },
      "text/html": [
       "<div>                            <div id=\"3f945f7c-0ef8-402c-8668-ac53f132bfd0\" class=\"plotly-graph-div\" style=\"height:525px; width:100%;\"></div>            <script type=\"text/javascript\">                require([\"plotly\"], function(Plotly) {                    window.PLOTLYENV=window.PLOTLYENV || {};                                    if (document.getElementById(\"3f945f7c-0ef8-402c-8668-ac53f132bfd0\")) {                    Plotly.newPlot(                        \"3f945f7c-0ef8-402c-8668-ac53f132bfd0\",                        [{\"domain\": {\"x\": [0.0, 1.0], \"y\": [0.0, 1.0]}, \"hole\": 0.25, \"hoverinfo\": \"percent+value\", \"hovertemplate\": \"COUNTRY_NAME_IT=%{label}<br>VISITORS=%{value}<extra></extra>\", \"labels\": [\"Francia\", \"Svizzera\", \"Germania\", \"Cina\", \"Austria\", \"Stati Uniti d'America\", \"Spagna\", \"Paesi Bassi\", \"Romania\", \"Gran Bretagna\", \"Russia\", \"Ungheria\", \"Croazia\", \"Slovenia\", \"Belgio\", \"Bulgaria\", \"Polonia\", \"Giappone\", \"Repubblica Ceca\", \"Messico\"], \"legendgroup\": \"\", \"marker\": {\"line\": {\"color\": \"#000000\", \"width\": 1.5}}, \"name\": \"\", \"showlegend\": true, \"textfont\": {\"size\": 12}, \"textinfo\": \"percent+label+value\", \"textposition\": \"inside\", \"type\": \"pie\", \"values\": [129672, 116884, 109176, 107796, 96776, 76136, 71872, 70432, 59012, 46180, 42424, 30344, 26504, 25760, 25380, 21472, 18580, 13032, 13004, 12552]}],                        {\"legend\": {\"tracegroupgap\": 0}, \"margin\": {\"b\": 0, \"l\": 0, \"r\": 0, \"t\": 50}, \"piecolorway\": [\"rgb(103,0,31)\", \"rgb(178,24,43)\", \"rgb(214,96,77)\", \"rgb(244,165,130)\", \"rgb(253,219,199)\", \"rgb(247,247,247)\", \"rgb(209,229,240)\", \"rgb(146,197,222)\", \"rgb(67,147,195)\", \"rgb(33,102,172)\", \"rgb(5,48,97)\"], \"template\": {\"data\": {\"bar\": [{\"error_x\": {\"color\": \"#2a3f5f\"}, \"error_y\": {\"color\": \"#2a3f5f\"}, \"marker\": {\"line\": {\"color\": \"#E5ECF6\", \"width\": 0.5}}, \"type\": \"bar\"}], \"barpolar\": [{\"marker\": {\"line\": {\"color\": \"#E5ECF6\", \"width\": 0.5}}, \"type\": \"barpolar\"}], \"carpet\": [{\"aaxis\": {\"endlinecolor\": \"#2a3f5f\", \"gridcolor\": \"white\", \"linecolor\": \"white\", \"minorgridcolor\": \"white\", \"startlinecolor\": \"#2a3f5f\"}, \"baxis\": {\"endlinecolor\": \"#2a3f5f\", \"gridcolor\": \"white\", \"linecolor\": \"white\", \"minorgridcolor\": \"white\", \"startlinecolor\": \"#2a3f5f\"}, \"type\": \"carpet\"}], \"choropleth\": [{\"colorbar\": {\"outlinewidth\": 0, \"ticks\": \"\"}, \"type\": \"choropleth\"}], \"contour\": [{\"colorbar\": {\"outlinewidth\": 0, \"ticks\": \"\"}, \"colorscale\": [[0.0, \"#0d0887\"], [0.1111111111111111, \"#46039f\"], [0.2222222222222222, \"#7201a8\"], [0.3333333333333333, \"#9c179e\"], [0.4444444444444444, \"#bd3786\"], [0.5555555555555556, \"#d8576b\"], [0.6666666666666666, \"#ed7953\"], [0.7777777777777778, \"#fb9f3a\"], [0.8888888888888888, \"#fdca26\"], [1.0, \"#f0f921\"]], \"type\": \"contour\"}], \"contourcarpet\": [{\"colorbar\": {\"outlinewidth\": 0, \"ticks\": \"\"}, \"type\": \"contourcarpet\"}], \"heatmap\": [{\"colorbar\": {\"outlinewidth\": 0, \"ticks\": \"\"}, \"colorscale\": [[0.0, \"#0d0887\"], [0.1111111111111111, \"#46039f\"], [0.2222222222222222, \"#7201a8\"], [0.3333333333333333, \"#9c179e\"], [0.4444444444444444, \"#bd3786\"], [0.5555555555555556, \"#d8576b\"], [0.6666666666666666, \"#ed7953\"], [0.7777777777777778, \"#fb9f3a\"], [0.8888888888888888, \"#fdca26\"], [1.0, \"#f0f921\"]], \"type\": \"heatmap\"}], \"heatmapgl\": [{\"colorbar\": {\"outlinewidth\": 0, \"ticks\": \"\"}, \"colorscale\": [[0.0, \"#0d0887\"], [0.1111111111111111, \"#46039f\"], [0.2222222222222222, \"#7201a8\"], [0.3333333333333333, \"#9c179e\"], [0.4444444444444444, \"#bd3786\"], [0.5555555555555556, \"#d8576b\"], [0.6666666666666666, \"#ed7953\"], [0.7777777777777778, \"#fb9f3a\"], [0.8888888888888888, \"#fdca26\"], [1.0, \"#f0f921\"]], \"type\": \"heatmapgl\"}], \"histogram\": [{\"marker\": {\"colorbar\": {\"outlinewidth\": 0, \"ticks\": \"\"}}, \"type\": \"histogram\"}], \"histogram2d\": [{\"colorbar\": {\"outlinewidth\": 0, \"ticks\": \"\"}, \"colorscale\": [[0.0, \"#0d0887\"], [0.1111111111111111, \"#46039f\"], [0.2222222222222222, \"#7201a8\"], [0.3333333333333333, \"#9c179e\"], [0.4444444444444444, \"#bd3786\"], [0.5555555555555556, \"#d8576b\"], [0.6666666666666666, \"#ed7953\"], [0.7777777777777778, \"#fb9f3a\"], [0.8888888888888888, \"#fdca26\"], [1.0, \"#f0f921\"]], \"type\": \"histogram2d\"}], \"histogram2dcontour\": [{\"colorbar\": {\"outlinewidth\": 0, \"ticks\": \"\"}, \"colorscale\": [[0.0, \"#0d0887\"], [0.1111111111111111, \"#46039f\"], [0.2222222222222222, \"#7201a8\"], [0.3333333333333333, \"#9c179e\"], [0.4444444444444444, \"#bd3786\"], [0.5555555555555556, \"#d8576b\"], [0.6666666666666666, \"#ed7953\"], [0.7777777777777778, \"#fb9f3a\"], [0.8888888888888888, \"#fdca26\"], [1.0, \"#f0f921\"]], \"type\": \"histogram2dcontour\"}], \"mesh3d\": [{\"colorbar\": {\"outlinewidth\": 0, \"ticks\": \"\"}, \"type\": \"mesh3d\"}], \"parcoords\": [{\"line\": {\"colorbar\": {\"outlinewidth\": 0, \"ticks\": \"\"}}, \"type\": \"parcoords\"}], \"pie\": [{\"automargin\": true, \"type\": \"pie\"}], \"scatter\": [{\"marker\": {\"colorbar\": {\"outlinewidth\": 0, \"ticks\": \"\"}}, \"type\": \"scatter\"}], \"scatter3d\": [{\"line\": {\"colorbar\": {\"outlinewidth\": 0, \"ticks\": \"\"}}, \"marker\": {\"colorbar\": {\"outlinewidth\": 0, \"ticks\": \"\"}}, \"type\": \"scatter3d\"}], \"scattercarpet\": [{\"marker\": {\"colorbar\": {\"outlinewidth\": 0, \"ticks\": \"\"}}, \"type\": \"scattercarpet\"}], \"scattergeo\": [{\"marker\": {\"colorbar\": {\"outlinewidth\": 0, \"ticks\": \"\"}}, \"type\": \"scattergeo\"}], \"scattergl\": [{\"marker\": {\"colorbar\": {\"outlinewidth\": 0, \"ticks\": \"\"}}, \"type\": \"scattergl\"}], \"scattermapbox\": [{\"marker\": {\"colorbar\": {\"outlinewidth\": 0, \"ticks\": \"\"}}, \"type\": \"scattermapbox\"}], \"scatterpolar\": [{\"marker\": {\"colorbar\": {\"outlinewidth\": 0, \"ticks\": \"\"}}, \"type\": \"scatterpolar\"}], \"scatterpolargl\": [{\"marker\": {\"colorbar\": {\"outlinewidth\": 0, \"ticks\": \"\"}}, \"type\": \"scatterpolargl\"}], \"scatterternary\": [{\"marker\": {\"colorbar\": {\"outlinewidth\": 0, \"ticks\": \"\"}}, \"type\": \"scatterternary\"}], \"surface\": [{\"colorbar\": {\"outlinewidth\": 0, \"ticks\": \"\"}, \"colorscale\": [[0.0, \"#0d0887\"], [0.1111111111111111, \"#46039f\"], [0.2222222222222222, \"#7201a8\"], [0.3333333333333333, \"#9c179e\"], [0.4444444444444444, \"#bd3786\"], [0.5555555555555556, \"#d8576b\"], [0.6666666666666666, \"#ed7953\"], [0.7777777777777778, \"#fb9f3a\"], [0.8888888888888888, \"#fdca26\"], [1.0, \"#f0f921\"]], \"type\": \"surface\"}], \"table\": [{\"cells\": {\"fill\": {\"color\": \"#EBF0F8\"}, \"line\": {\"color\": \"white\"}}, \"header\": {\"fill\": {\"color\": \"#C8D4E3\"}, \"line\": {\"color\": \"white\"}}, \"type\": \"table\"}]}, \"layout\": {\"annotationdefaults\": {\"arrowcolor\": \"#2a3f5f\", \"arrowhead\": 0, \"arrowwidth\": 1}, \"autotypenumbers\": \"strict\", \"coloraxis\": {\"colorbar\": {\"outlinewidth\": 0, \"ticks\": \"\"}}, \"colorscale\": {\"diverging\": [[0, \"#8e0152\"], [0.1, \"#c51b7d\"], [0.2, \"#de77ae\"], [0.3, \"#f1b6da\"], [0.4, \"#fde0ef\"], [0.5, \"#f7f7f7\"], [0.6, \"#e6f5d0\"], [0.7, \"#b8e186\"], [0.8, \"#7fbc41\"], [0.9, \"#4d9221\"], [1, \"#276419\"]], \"sequential\": [[0.0, \"#0d0887\"], [0.1111111111111111, \"#46039f\"], [0.2222222222222222, \"#7201a8\"], [0.3333333333333333, \"#9c179e\"], [0.4444444444444444, \"#bd3786\"], [0.5555555555555556, \"#d8576b\"], [0.6666666666666666, \"#ed7953\"], [0.7777777777777778, \"#fb9f3a\"], [0.8888888888888888, \"#fdca26\"], [1.0, \"#f0f921\"]], \"sequentialminus\": [[0.0, \"#0d0887\"], [0.1111111111111111, \"#46039f\"], [0.2222222222222222, \"#7201a8\"], [0.3333333333333333, \"#9c179e\"], [0.4444444444444444, \"#bd3786\"], [0.5555555555555556, \"#d8576b\"], [0.6666666666666666, \"#ed7953\"], [0.7777777777777778, \"#fb9f3a\"], [0.8888888888888888, \"#fdca26\"], [1.0, \"#f0f921\"]]}, \"colorway\": [\"#636efa\", \"#EF553B\", \"#00cc96\", \"#ab63fa\", \"#FFA15A\", \"#19d3f3\", \"#FF6692\", \"#B6E880\", \"#FF97FF\", \"#FECB52\"], \"font\": {\"color\": \"#2a3f5f\"}, \"geo\": {\"bgcolor\": \"white\", \"lakecolor\": \"white\", \"landcolor\": \"#E5ECF6\", \"showlakes\": true, \"showland\": true, \"subunitcolor\": \"white\"}, \"hoverlabel\": {\"align\": \"left\"}, \"hovermode\": \"closest\", \"mapbox\": {\"style\": \"light\"}, \"paper_bgcolor\": \"white\", \"plot_bgcolor\": \"#E5ECF6\", \"polar\": {\"angularaxis\": {\"gridcolor\": \"white\", \"linecolor\": \"white\", \"ticks\": \"\"}, \"bgcolor\": \"#E5ECF6\", \"radialaxis\": {\"gridcolor\": \"white\", \"linecolor\": \"white\", \"ticks\": \"\"}}, \"scene\": {\"xaxis\": {\"backgroundcolor\": \"#E5ECF6\", \"gridcolor\": \"white\", \"gridwidth\": 2, \"linecolor\": \"white\", \"showbackground\": true, \"ticks\": \"\", \"zerolinecolor\": \"white\"}, \"yaxis\": {\"backgroundcolor\": \"#E5ECF6\", \"gridcolor\": \"white\", \"gridwidth\": 2, \"linecolor\": \"white\", \"showbackground\": true, \"ticks\": \"\", \"zerolinecolor\": \"white\"}, \"zaxis\": {\"backgroundcolor\": \"#E5ECF6\", \"gridcolor\": \"white\", \"gridwidth\": 2, \"linecolor\": \"white\", \"showbackground\": true, \"ticks\": \"\", \"zerolinecolor\": \"white\"}}, \"shapedefaults\": {\"line\": {\"color\": \"#2a3f5f\"}}, \"ternary\": {\"aaxis\": {\"gridcolor\": \"white\", \"linecolor\": \"white\", \"ticks\": \"\"}, \"baxis\": {\"gridcolor\": \"white\", \"linecolor\": \"white\", \"ticks\": \"\"}, \"bgcolor\": \"#E5ECF6\", \"caxis\": {\"gridcolor\": \"white\", \"linecolor\": \"white\", \"ticks\": \"\"}}, \"title\": {\"x\": 0.05}, \"xaxis\": {\"automargin\": true, \"gridcolor\": \"white\", \"linecolor\": \"white\", \"ticks\": \"\", \"title\": {\"standoff\": 15}, \"zerolinecolor\": \"white\", \"zerolinewidth\": 2}, \"yaxis\": {\"automargin\": true, \"gridcolor\": \"white\", \"linecolor\": \"white\", \"ticks\": \"\", \"title\": {\"standoff\": 15}, \"zerolinecolor\": \"white\", \"zerolinewidth\": 2}}}, \"title\": {\"text\": \"Ranking of foreigner visitors weekly\"}},                        {\"displayModeBar\": true, \"responsive\": true}                    ).then(function(){\n",
       "                            \n",
       "var gd = document.getElementById('3f945f7c-0ef8-402c-8668-ac53f132bfd0');\n",
       "var x = new MutationObserver(function (mutations, observer) {{\n",
       "        var display = window.getComputedStyle(gd).display;\n",
       "        if (!display || display === 'none') {{\n",
       "            console.log([gd, 'removed!']);\n",
       "            Plotly.purge(gd);\n",
       "            observer.disconnect();\n",
       "        }}\n",
       "}});\n",
       "\n",
       "// Listen for the removal of the full notebook cells\n",
       "var notebookContainer = gd.closest('#notebook-container');\n",
       "if (notebookContainer) {{\n",
       "    x.observe(notebookContainer, {childList: true});\n",
       "}}\n",
       "\n",
       "// Listen for the clearing of the current output cell\n",
       "var outputEl = gd.closest('.output');\n",
       "if (outputEl) {{\n",
       "    x.observe(outputEl, {childList: true});\n",
       "}}\n",
       "\n",
       "                        })                };                });            </script>        </div>"
      ]
     },
     "metadata": {},
     "output_type": "display_data"
    }
   ],
   "source": [
    "fig = go.Figure()\n",
    "\n",
    "config = {'displayModeBar': True}\n",
    "\n",
    "df = visitors1[0:20]\n",
    "fig = px.pie(df, values='VISITORS', names='COUNTRY_NAME_IT', title='Ranking of foreigner visitors weekly'\n",
    "             ,hole=.25,color_discrete_sequence=px.colors.sequential.RdBu)\n",
    "\n",
    "fig.update_traces(textposition='inside',hoverinfo='percent+value', textinfo='percent+label+value', textfont_size=12,\n",
    "                  marker=dict( line=dict(color='#000000', width=1.5)))\n",
    "#fig.update_layout(template='plotly_dark')\n",
    "fig.update_layout(margin=dict(t=50, b=0, l=0, r=0))\n",
    "fig.show(config=config)"
   ]
  },
  {
   "cell_type": "markdown",
   "metadata": {},
   "source": [
    "# Comments\n",
    "\n",
    "1) The graph represents the ranking of foreing visitors during a weekly period. The data was treated as a whole and not considering the single days of the week\n",
    "\n",
    "2) The flux was not scaled by the n° of habitants of the countries in this graph. It was considered only the total number of foreinger people that passed in Padova and the relative flux.\n"
   ]
  },
  {
   "cell_type": "markdown",
   "metadata": {},
   "source": [
    "# Punto 3"
   ]
  },
  {
   "cell_type": "code",
   "execution_count": 9,
   "metadata": {},
   "outputs": [
    {
     "data": {
      "text/html": [
       "<style  type=\"text/css\" >\n",
       "</style><table id=\"T_802b98df_5413_11eb_b43e_00155d47bbd4\" style='display:inline'><caption>Cleaning</caption><thead>    <tr>        <th class=\"blank level0\" ></th>        <th class=\"col_heading level0 col0\" >MONTH</th>        <th class=\"col_heading level0 col1\" >DAY</th>        <th class=\"col_heading level0 col2\" >CUST_CLASS</th>        <th class=\"col_heading level0 col3\" >COD_PRO</th>        <th class=\"col_heading level0 col4\" >FLOW</th>        <th class=\"col_heading level0 col5\" >PROVINCIA</th>    </tr></thead><tbody>\n",
       "                <tr>\n",
       "                        <th id=\"T_802b98df_5413_11eb_b43e_00155d47bbd4level0_row0\" class=\"row_heading level0 row0\" >0</th>\n",
       "                        <td id=\"T_802b98df_5413_11eb_b43e_00155d47bbd4row0_col0\" class=\"data row0 col0\" >Aprile</td>\n",
       "                        <td id=\"T_802b98df_5413_11eb_b43e_00155d47bbd4row0_col1\" class=\"data row0 col1\" >Sabato</td>\n",
       "                        <td id=\"T_802b98df_5413_11eb_b43e_00155d47bbd4row0_col2\" class=\"data row0 col2\" >visitor</td>\n",
       "                        <td id=\"T_802b98df_5413_11eb_b43e_00155d47bbd4row0_col3\" class=\"data row0 col3\" >28.000000</td>\n",
       "                        <td id=\"T_802b98df_5413_11eb_b43e_00155d47bbd4row0_col4\" class=\"data row0 col4\" >1330</td>\n",
       "                        <td id=\"T_802b98df_5413_11eb_b43e_00155d47bbd4row0_col5\" class=\"data row0 col5\" >Padova</td>\n",
       "            </tr>\n",
       "            <tr>\n",
       "                        <th id=\"T_802b98df_5413_11eb_b43e_00155d47bbd4level0_row1\" class=\"row_heading level0 row1\" >1</th>\n",
       "                        <td id=\"T_802b98df_5413_11eb_b43e_00155d47bbd4row1_col0\" class=\"data row1 col0\" >Marzo</td>\n",
       "                        <td id=\"T_802b98df_5413_11eb_b43e_00155d47bbd4row1_col1\" class=\"data row1 col1\" >Venerdì</td>\n",
       "                        <td id=\"T_802b98df_5413_11eb_b43e_00155d47bbd4row1_col2\" class=\"data row1 col2\" >visitor</td>\n",
       "                        <td id=\"T_802b98df_5413_11eb_b43e_00155d47bbd4row1_col3\" class=\"data row1 col3\" >28.000000</td>\n",
       "                        <td id=\"T_802b98df_5413_11eb_b43e_00155d47bbd4row1_col4\" class=\"data row1 col4\" >1282</td>\n",
       "                        <td id=\"T_802b98df_5413_11eb_b43e_00155d47bbd4row1_col5\" class=\"data row1 col5\" >Padova</td>\n",
       "            </tr>\n",
       "            <tr>\n",
       "                        <th id=\"T_802b98df_5413_11eb_b43e_00155d47bbd4level0_row2\" class=\"row_heading level0 row2\" >2</th>\n",
       "                        <td id=\"T_802b98df_5413_11eb_b43e_00155d47bbd4row2_col0\" class=\"data row2 col0\" >Maggio</td>\n",
       "                        <td id=\"T_802b98df_5413_11eb_b43e_00155d47bbd4row2_col1\" class=\"data row2 col1\" >Sabato</td>\n",
       "                        <td id=\"T_802b98df_5413_11eb_b43e_00155d47bbd4row2_col2\" class=\"data row2 col2\" >visitor</td>\n",
       "                        <td id=\"T_802b98df_5413_11eb_b43e_00155d47bbd4row2_col3\" class=\"data row2 col3\" >28.000000</td>\n",
       "                        <td id=\"T_802b98df_5413_11eb_b43e_00155d47bbd4row2_col4\" class=\"data row2 col4\" >1278</td>\n",
       "                        <td id=\"T_802b98df_5413_11eb_b43e_00155d47bbd4row2_col5\" class=\"data row2 col5\" >Padova</td>\n",
       "            </tr>\n",
       "            <tr>\n",
       "                        <th id=\"T_802b98df_5413_11eb_b43e_00155d47bbd4level0_row3\" class=\"row_heading level0 row3\" >3</th>\n",
       "                        <td id=\"T_802b98df_5413_11eb_b43e_00155d47bbd4row3_col0\" class=\"data row3 col0\" >Maggio</td>\n",
       "                        <td id=\"T_802b98df_5413_11eb_b43e_00155d47bbd4row3_col1\" class=\"data row3 col1\" >Lunedì</td>\n",
       "                        <td id=\"T_802b98df_5413_11eb_b43e_00155d47bbd4row3_col2\" class=\"data row3 col2\" >visitor</td>\n",
       "                        <td id=\"T_802b98df_5413_11eb_b43e_00155d47bbd4row3_col3\" class=\"data row3 col3\" >28.000000</td>\n",
       "                        <td id=\"T_802b98df_5413_11eb_b43e_00155d47bbd4row3_col4\" class=\"data row3 col4\" >1273</td>\n",
       "                        <td id=\"T_802b98df_5413_11eb_b43e_00155d47bbd4row3_col5\" class=\"data row3 col5\" >Padova</td>\n",
       "            </tr>\n",
       "            <tr>\n",
       "                        <th id=\"T_802b98df_5413_11eb_b43e_00155d47bbd4level0_row4\" class=\"row_heading level0 row4\" >4</th>\n",
       "                        <td id=\"T_802b98df_5413_11eb_b43e_00155d47bbd4row4_col0\" class=\"data row4 col0\" >Marzo</td>\n",
       "                        <td id=\"T_802b98df_5413_11eb_b43e_00155d47bbd4row4_col1\" class=\"data row4 col1\" >Venerdì</td>\n",
       "                        <td id=\"T_802b98df_5413_11eb_b43e_00155d47bbd4row4_col2\" class=\"data row4 col2\" >visitor</td>\n",
       "                        <td id=\"T_802b98df_5413_11eb_b43e_00155d47bbd4row4_col3\" class=\"data row4 col3\" >28.000000</td>\n",
       "                        <td id=\"T_802b98df_5413_11eb_b43e_00155d47bbd4row4_col4\" class=\"data row4 col4\" >1249</td>\n",
       "                        <td id=\"T_802b98df_5413_11eb_b43e_00155d47bbd4row4_col5\" class=\"data row4 col5\" >Padova</td>\n",
       "            </tr>\n",
       "            <tr>\n",
       "                        <th id=\"T_802b98df_5413_11eb_b43e_00155d47bbd4level0_row5\" class=\"row_heading level0 row5\" >5</th>\n",
       "                        <td id=\"T_802b98df_5413_11eb_b43e_00155d47bbd4row5_col0\" class=\"data row5 col0\" >Marzo</td>\n",
       "                        <td id=\"T_802b98df_5413_11eb_b43e_00155d47bbd4row5_col1\" class=\"data row5 col1\" >Mercoledì</td>\n",
       "                        <td id=\"T_802b98df_5413_11eb_b43e_00155d47bbd4row5_col2\" class=\"data row5 col2\" >visitor</td>\n",
       "                        <td id=\"T_802b98df_5413_11eb_b43e_00155d47bbd4row5_col3\" class=\"data row5 col3\" >28.000000</td>\n",
       "                        <td id=\"T_802b98df_5413_11eb_b43e_00155d47bbd4row5_col4\" class=\"data row5 col4\" >1237</td>\n",
       "                        <td id=\"T_802b98df_5413_11eb_b43e_00155d47bbd4row5_col5\" class=\"data row5 col5\" >Padova</td>\n",
       "            </tr>\n",
       "            <tr>\n",
       "                        <th id=\"T_802b98df_5413_11eb_b43e_00155d47bbd4level0_row6\" class=\"row_heading level0 row6\" >6</th>\n",
       "                        <td id=\"T_802b98df_5413_11eb_b43e_00155d47bbd4row6_col0\" class=\"data row6 col0\" >Marzo</td>\n",
       "                        <td id=\"T_802b98df_5413_11eb_b43e_00155d47bbd4row6_col1\" class=\"data row6 col1\" >Sabato</td>\n",
       "                        <td id=\"T_802b98df_5413_11eb_b43e_00155d47bbd4row6_col2\" class=\"data row6 col2\" >visitor</td>\n",
       "                        <td id=\"T_802b98df_5413_11eb_b43e_00155d47bbd4row6_col3\" class=\"data row6 col3\" >28.000000</td>\n",
       "                        <td id=\"T_802b98df_5413_11eb_b43e_00155d47bbd4row6_col4\" class=\"data row6 col4\" >1229</td>\n",
       "                        <td id=\"T_802b98df_5413_11eb_b43e_00155d47bbd4row6_col5\" class=\"data row6 col5\" >Padova</td>\n",
       "            </tr>\n",
       "            <tr>\n",
       "                        <th id=\"T_802b98df_5413_11eb_b43e_00155d47bbd4level0_row7\" class=\"row_heading level0 row7\" >7</th>\n",
       "                        <td id=\"T_802b98df_5413_11eb_b43e_00155d47bbd4row7_col0\" class=\"data row7 col0\" >Maggio</td>\n",
       "                        <td id=\"T_802b98df_5413_11eb_b43e_00155d47bbd4row7_col1\" class=\"data row7 col1\" >Mercoledì</td>\n",
       "                        <td id=\"T_802b98df_5413_11eb_b43e_00155d47bbd4row7_col2\" class=\"data row7 col2\" >visitor</td>\n",
       "                        <td id=\"T_802b98df_5413_11eb_b43e_00155d47bbd4row7_col3\" class=\"data row7 col3\" >28.000000</td>\n",
       "                        <td id=\"T_802b98df_5413_11eb_b43e_00155d47bbd4row7_col4\" class=\"data row7 col4\" >1226</td>\n",
       "                        <td id=\"T_802b98df_5413_11eb_b43e_00155d47bbd4row7_col5\" class=\"data row7 col5\" >Padova</td>\n",
       "            </tr>\n",
       "            <tr>\n",
       "                        <th id=\"T_802b98df_5413_11eb_b43e_00155d47bbd4level0_row8\" class=\"row_heading level0 row8\" >8</th>\n",
       "                        <td id=\"T_802b98df_5413_11eb_b43e_00155d47bbd4row8_col0\" class=\"data row8 col0\" >Aprile</td>\n",
       "                        <td id=\"T_802b98df_5413_11eb_b43e_00155d47bbd4row8_col1\" class=\"data row8 col1\" >Sabato</td>\n",
       "                        <td id=\"T_802b98df_5413_11eb_b43e_00155d47bbd4row8_col2\" class=\"data row8 col2\" >visitor</td>\n",
       "                        <td id=\"T_802b98df_5413_11eb_b43e_00155d47bbd4row8_col3\" class=\"data row8 col3\" >28.000000</td>\n",
       "                        <td id=\"T_802b98df_5413_11eb_b43e_00155d47bbd4row8_col4\" class=\"data row8 col4\" >1220</td>\n",
       "                        <td id=\"T_802b98df_5413_11eb_b43e_00155d47bbd4row8_col5\" class=\"data row8 col5\" >Padova</td>\n",
       "            </tr>\n",
       "            <tr>\n",
       "                        <th id=\"T_802b98df_5413_11eb_b43e_00155d47bbd4level0_row9\" class=\"row_heading level0 row9\" >9</th>\n",
       "                        <td id=\"T_802b98df_5413_11eb_b43e_00155d47bbd4row9_col0\" class=\"data row9 col0\" >Marzo</td>\n",
       "                        <td id=\"T_802b98df_5413_11eb_b43e_00155d47bbd4row9_col1\" class=\"data row9 col1\" >Giovedì</td>\n",
       "                        <td id=\"T_802b98df_5413_11eb_b43e_00155d47bbd4row9_col2\" class=\"data row9 col2\" >visitor</td>\n",
       "                        <td id=\"T_802b98df_5413_11eb_b43e_00155d47bbd4row9_col3\" class=\"data row9 col3\" >28.000000</td>\n",
       "                        <td id=\"T_802b98df_5413_11eb_b43e_00155d47bbd4row9_col4\" class=\"data row9 col4\" >1216</td>\n",
       "                        <td id=\"T_802b98df_5413_11eb_b43e_00155d47bbd4row9_col5\" class=\"data row9 col5\" >Padova</td>\n",
       "            </tr>\n",
       "    </tbody></table>   <style  type=\"text/css\" >\n",
       "</style><table id=\"T_802cf8d0_5413_11eb_b929_00155d47bbd4\" style='display:inline'><caption>Provincies</caption><thead>    <tr>        <th class=\"blank level0\" ></th>        <th class=\"col_heading level0 col0\" >PROVINCIA</th>        <th class=\"col_heading level0 col1\" >MONTH</th>        <th class=\"col_heading level0 col2\" >DAY</th>        <th class=\"col_heading level0 col3\" >FLOW</th>    </tr></thead><tbody>\n",
       "                <tr>\n",
       "                        <th id=\"T_802cf8d0_5413_11eb_b929_00155d47bbd4level0_row0\" class=\"row_heading level0 row0\" >0</th>\n",
       "                        <td id=\"T_802cf8d0_5413_11eb_b929_00155d47bbd4row0_col0\" class=\"data row0 col0\" >Padova</td>\n",
       "                        <td id=\"T_802cf8d0_5413_11eb_b929_00155d47bbd4row0_col1\" class=\"data row0 col1\" >Maggio</td>\n",
       "                        <td id=\"T_802cf8d0_5413_11eb_b929_00155d47bbd4row0_col2\" class=\"data row0 col2\" >Mercoledì</td>\n",
       "                        <td id=\"T_802cf8d0_5413_11eb_b929_00155d47bbd4row0_col3\" class=\"data row0 col3\" >264919</td>\n",
       "            </tr>\n",
       "            <tr>\n",
       "                        <th id=\"T_802cf8d0_5413_11eb_b929_00155d47bbd4level0_row1\" class=\"row_heading level0 row1\" >1</th>\n",
       "                        <td id=\"T_802cf8d0_5413_11eb_b929_00155d47bbd4row1_col0\" class=\"data row1 col0\" >Padova</td>\n",
       "                        <td id=\"T_802cf8d0_5413_11eb_b929_00155d47bbd4row1_col1\" class=\"data row1 col1\" >Maggio</td>\n",
       "                        <td id=\"T_802cf8d0_5413_11eb_b929_00155d47bbd4row1_col2\" class=\"data row1 col2\" >Venerdì</td>\n",
       "                        <td id=\"T_802cf8d0_5413_11eb_b929_00155d47bbd4row1_col3\" class=\"data row1 col3\" >262395</td>\n",
       "            </tr>\n",
       "            <tr>\n",
       "                        <th id=\"T_802cf8d0_5413_11eb_b929_00155d47bbd4level0_row2\" class=\"row_heading level0 row2\" >2</th>\n",
       "                        <td id=\"T_802cf8d0_5413_11eb_b929_00155d47bbd4row2_col0\" class=\"data row2 col0\" >Padova</td>\n",
       "                        <td id=\"T_802cf8d0_5413_11eb_b929_00155d47bbd4row2_col1\" class=\"data row2 col1\" >Marzo</td>\n",
       "                        <td id=\"T_802cf8d0_5413_11eb_b929_00155d47bbd4row2_col2\" class=\"data row2 col2\" >Mercoledì</td>\n",
       "                        <td id=\"T_802cf8d0_5413_11eb_b929_00155d47bbd4row2_col3\" class=\"data row2 col3\" >261928</td>\n",
       "            </tr>\n",
       "            <tr>\n",
       "                        <th id=\"T_802cf8d0_5413_11eb_b929_00155d47bbd4level0_row3\" class=\"row_heading level0 row3\" >3</th>\n",
       "                        <td id=\"T_802cf8d0_5413_11eb_b929_00155d47bbd4row3_col0\" class=\"data row3 col0\" >Padova</td>\n",
       "                        <td id=\"T_802cf8d0_5413_11eb_b929_00155d47bbd4row3_col1\" class=\"data row3 col1\" >Aprile</td>\n",
       "                        <td id=\"T_802cf8d0_5413_11eb_b929_00155d47bbd4row3_col2\" class=\"data row3 col2\" >Venerdì</td>\n",
       "                        <td id=\"T_802cf8d0_5413_11eb_b929_00155d47bbd4row3_col3\" class=\"data row3 col3\" >257970</td>\n",
       "            </tr>\n",
       "            <tr>\n",
       "                        <th id=\"T_802cf8d0_5413_11eb_b929_00155d47bbd4level0_row4\" class=\"row_heading level0 row4\" >4</th>\n",
       "                        <td id=\"T_802cf8d0_5413_11eb_b929_00155d47bbd4row4_col0\" class=\"data row4 col0\" >Padova</td>\n",
       "                        <td id=\"T_802cf8d0_5413_11eb_b929_00155d47bbd4row4_col1\" class=\"data row4 col1\" >Maggio</td>\n",
       "                        <td id=\"T_802cf8d0_5413_11eb_b929_00155d47bbd4row4_col2\" class=\"data row4 col2\" >Giovedì</td>\n",
       "                        <td id=\"T_802cf8d0_5413_11eb_b929_00155d47bbd4row4_col3\" class=\"data row4 col3\" >257412</td>\n",
       "            </tr>\n",
       "            <tr>\n",
       "                        <th id=\"T_802cf8d0_5413_11eb_b929_00155d47bbd4level0_row5\" class=\"row_heading level0 row5\" >5</th>\n",
       "                        <td id=\"T_802cf8d0_5413_11eb_b929_00155d47bbd4row5_col0\" class=\"data row5 col0\" >Padova</td>\n",
       "                        <td id=\"T_802cf8d0_5413_11eb_b929_00155d47bbd4row5_col1\" class=\"data row5 col1\" >Aprile</td>\n",
       "                        <td id=\"T_802cf8d0_5413_11eb_b929_00155d47bbd4row5_col2\" class=\"data row5 col2\" >Giovedì</td>\n",
       "                        <td id=\"T_802cf8d0_5413_11eb_b929_00155d47bbd4row5_col3\" class=\"data row5 col3\" >254047</td>\n",
       "            </tr>\n",
       "            <tr>\n",
       "                        <th id=\"T_802cf8d0_5413_11eb_b929_00155d47bbd4level0_row6\" class=\"row_heading level0 row6\" >6</th>\n",
       "                        <td id=\"T_802cf8d0_5413_11eb_b929_00155d47bbd4row6_col0\" class=\"data row6 col0\" >Padova</td>\n",
       "                        <td id=\"T_802cf8d0_5413_11eb_b929_00155d47bbd4row6_col1\" class=\"data row6 col1\" >Maggio</td>\n",
       "                        <td id=\"T_802cf8d0_5413_11eb_b929_00155d47bbd4row6_col2\" class=\"data row6 col2\" >Lunedì</td>\n",
       "                        <td id=\"T_802cf8d0_5413_11eb_b929_00155d47bbd4row6_col3\" class=\"data row6 col3\" >252410</td>\n",
       "            </tr>\n",
       "            <tr>\n",
       "                        <th id=\"T_802cf8d0_5413_11eb_b929_00155d47bbd4level0_row7\" class=\"row_heading level0 row7\" >7</th>\n",
       "                        <td id=\"T_802cf8d0_5413_11eb_b929_00155d47bbd4row7_col0\" class=\"data row7 col0\" >Padova</td>\n",
       "                        <td id=\"T_802cf8d0_5413_11eb_b929_00155d47bbd4row7_col1\" class=\"data row7 col1\" >Maggio</td>\n",
       "                        <td id=\"T_802cf8d0_5413_11eb_b929_00155d47bbd4row7_col2\" class=\"data row7 col2\" >Martedì</td>\n",
       "                        <td id=\"T_802cf8d0_5413_11eb_b929_00155d47bbd4row7_col3\" class=\"data row7 col3\" >251072</td>\n",
       "            </tr>\n",
       "            <tr>\n",
       "                        <th id=\"T_802cf8d0_5413_11eb_b929_00155d47bbd4level0_row8\" class=\"row_heading level0 row8\" >8</th>\n",
       "                        <td id=\"T_802cf8d0_5413_11eb_b929_00155d47bbd4row8_col0\" class=\"data row8 col0\" >Padova</td>\n",
       "                        <td id=\"T_802cf8d0_5413_11eb_b929_00155d47bbd4row8_col1\" class=\"data row8 col1\" >Aprile</td>\n",
       "                        <td id=\"T_802cf8d0_5413_11eb_b929_00155d47bbd4row8_col2\" class=\"data row8 col2\" >Martedì</td>\n",
       "                        <td id=\"T_802cf8d0_5413_11eb_b929_00155d47bbd4row8_col3\" class=\"data row8 col3\" >248960</td>\n",
       "            </tr>\n",
       "            <tr>\n",
       "                        <th id=\"T_802cf8d0_5413_11eb_b929_00155d47bbd4level0_row9\" class=\"row_heading level0 row9\" >9</th>\n",
       "                        <td id=\"T_802cf8d0_5413_11eb_b929_00155d47bbd4row9_col0\" class=\"data row9 col0\" >Padova</td>\n",
       "                        <td id=\"T_802cf8d0_5413_11eb_b929_00155d47bbd4row9_col1\" class=\"data row9 col1\" >Marzo</td>\n",
       "                        <td id=\"T_802cf8d0_5413_11eb_b929_00155d47bbd4row9_col2\" class=\"data row9 col2\" >Venerdì</td>\n",
       "                        <td id=\"T_802cf8d0_5413_11eb_b929_00155d47bbd4row9_col3\" class=\"data row9 col3\" >248344</td>\n",
       "            </tr>\n",
       "    </tbody></table>   "
      ],
      "text/plain": [
       "<IPython.core.display.HTML object>"
      ]
     },
     "metadata": {},
     "output_type": "display_data"
    }
   ],
   "source": [
    "day_od.columns = map(str.upper, day_od.columns)#preprocessing\n",
    "\n",
    "day_od1 = day_od[(day_od['COD_COUNTRY'] == 222) & (day_od['CUST_CLASS'] == 'visitor') & (day_od['COD_PRO'] != -999.0)\n",
    "                ].merge(codist_prov,how='left',on='COD_PRO'\n",
    "                ).drop(columns=['COD_REG','PROV_SIGLA','COD_COUNTRY','PRO_COM','ORIGIN','DESTINATION']\n",
    "                ).dropna(axis='rows'       \n",
    "                ).sort_values(by=['FLOW','PROVINCIA'],ascending=False, na_position='last',ignore_index=True\n",
    "                ).copy()\n",
    "\n",
    "day_od2 = day_od1.groupby(['PROVINCIA','MONTH','DAY'],as_index=False\n",
    "                        ).sum(\n",
    "                        ).sort_values(by='FLOW',ascending=False,ignore_index=True\n",
    "                        ).drop(columns=['COD_PRO']\n",
    "                        )\n",
    "\n",
    "display_side([day_od1.head(10),day_od2.head(10)],['Cleaning','Provincies'])"
   ]
  },
  {
   "cell_type": "code",
   "execution_count": 276,
   "metadata": {},
   "outputs": [
    {
     "data": {
      "text/html": [
       "<style  type=\"text/css\" >\n",
       "</style><table id=\"T_61967302_542e_11eb_85cc_00155d47bbd4\" style='display:inline'><caption>N° of inhabiants</caption><thead>    <tr>        <th class=\"blank level0\" ></th>        <th class=\"col_heading level0 col0\" >PROVINCIA</th>        <th class=\"col_heading level0 col1\" >VALUE</th>    </tr></thead><tbody>\n",
       "                <tr>\n",
       "                        <th id=\"T_61967302_542e_11eb_85cc_00155d47bbd4level0_row0\" class=\"row_heading level0 row0\" >0</th>\n",
       "                        <td id=\"T_61967302_542e_11eb_85cc_00155d47bbd4row0_col0\" class=\"data row0 col0\" >Torino</td>\n",
       "                        <td id=\"T_61967302_542e_11eb_85cc_00155d47bbd4row0_col1\" class=\"data row0 col1\" >2269120.000000</td>\n",
       "            </tr>\n",
       "            <tr>\n",
       "                        <th id=\"T_61967302_542e_11eb_85cc_00155d47bbd4level0_row1\" class=\"row_heading level0 row1\" >1</th>\n",
       "                        <td id=\"T_61967302_542e_11eb_85cc_00155d47bbd4row1_col0\" class=\"data row1 col0\" >Vercelli</td>\n",
       "                        <td id=\"T_61967302_542e_11eb_85cc_00155d47bbd4row1_col1\" class=\"data row1 col1\" >172307.000000</td>\n",
       "            </tr>\n",
       "            <tr>\n",
       "                        <th id=\"T_61967302_542e_11eb_85cc_00155d47bbd4level0_row2\" class=\"row_heading level0 row2\" >2</th>\n",
       "                        <td id=\"T_61967302_542e_11eb_85cc_00155d47bbd4row2_col0\" class=\"data row2 col0\" >Novara</td>\n",
       "                        <td id=\"T_61967302_542e_11eb_85cc_00155d47bbd4row2_col1\" class=\"data row2 col1\" >369595.000000</td>\n",
       "            </tr>\n",
       "            <tr>\n",
       "                        <th id=\"T_61967302_542e_11eb_85cc_00155d47bbd4level0_row3\" class=\"row_heading level0 row3\" >3</th>\n",
       "                        <td id=\"T_61967302_542e_11eb_85cc_00155d47bbd4row3_col0\" class=\"data row3 col0\" >Cuneo</td>\n",
       "                        <td id=\"T_61967302_542e_11eb_85cc_00155d47bbd4row3_col1\" class=\"data row3 col1\" >588559.000000</td>\n",
       "            </tr>\n",
       "            <tr>\n",
       "                        <th id=\"T_61967302_542e_11eb_85cc_00155d47bbd4level0_row4\" class=\"row_heading level0 row4\" >4</th>\n",
       "                        <td id=\"T_61967302_542e_11eb_85cc_00155d47bbd4row4_col0\" class=\"data row4 col0\" >Asti</td>\n",
       "                        <td id=\"T_61967302_542e_11eb_85cc_00155d47bbd4row4_col1\" class=\"data row4 col1\" >215884.000000</td>\n",
       "            </tr>\n",
       "            <tr>\n",
       "                        <th id=\"T_61967302_542e_11eb_85cc_00155d47bbd4level0_row5\" class=\"row_heading level0 row5\" >5</th>\n",
       "                        <td id=\"T_61967302_542e_11eb_85cc_00155d47bbd4row5_col0\" class=\"data row5 col0\" >Alessandria</td>\n",
       "                        <td id=\"T_61967302_542e_11eb_85cc_00155d47bbd4row5_col1\" class=\"data row5 col1\" >424174.000000</td>\n",
       "            </tr>\n",
       "            <tr>\n",
       "                        <th id=\"T_61967302_542e_11eb_85cc_00155d47bbd4level0_row6\" class=\"row_heading level0 row6\" >6</th>\n",
       "                        <td id=\"T_61967302_542e_11eb_85cc_00155d47bbd4row6_col0\" class=\"data row6 col0\" >Biella</td>\n",
       "                        <td id=\"T_61967302_542e_11eb_85cc_00155d47bbd4row6_col1\" class=\"data row6 col1\" >177067.000000</td>\n",
       "            </tr>\n",
       "            <tr>\n",
       "                        <th id=\"T_61967302_542e_11eb_85cc_00155d47bbd4level0_row7\" class=\"row_heading level0 row7\" >7</th>\n",
       "                        <td id=\"T_61967302_542e_11eb_85cc_00155d47bbd4row7_col0\" class=\"data row7 col0\" >Verbano-Cusio-Ossola</td>\n",
       "                        <td id=\"T_61967302_542e_11eb_85cc_00155d47bbd4row7_col1\" class=\"data row7 col1\" >159159.000000</td>\n",
       "            </tr>\n",
       "            <tr>\n",
       "                        <th id=\"T_61967302_542e_11eb_85cc_00155d47bbd4level0_row8\" class=\"row_heading level0 row8\" >8</th>\n",
       "                        <td id=\"T_61967302_542e_11eb_85cc_00155d47bbd4row8_col0\" class=\"data row8 col0\" >Valle d'Aosta</td>\n",
       "                        <td id=\"T_61967302_542e_11eb_85cc_00155d47bbd4row8_col1\" class=\"data row8 col1\" >126202.000000</td>\n",
       "            </tr>\n",
       "            <tr>\n",
       "                        <th id=\"T_61967302_542e_11eb_85cc_00155d47bbd4level0_row9\" class=\"row_heading level0 row9\" >9</th>\n",
       "                        <td id=\"T_61967302_542e_11eb_85cc_00155d47bbd4row9_col0\" class=\"data row9 col0\" >Imperia</td>\n",
       "                        <td id=\"T_61967302_542e_11eb_85cc_00155d47bbd4row9_col1\" class=\"data row9 col1\" >214305.000000</td>\n",
       "            </tr>\n",
       "    </tbody></table>   <style  type=\"text/css\" >\n",
       "</style><table id=\"T_6197590a_542e_11eb_98a4_00155d47bbd4\" style='display:inline'><caption>Flow/Inhabitants</caption><thead>    <tr>        <th class=\"blank level0\" ></th>        <th class=\"col_heading level0 col0\" >PROVINCIA</th>        <th class=\"col_heading level0 col1\" >MONTH</th>        <th class=\"col_heading level0 col2\" >DAY</th>        <th class=\"col_heading level0 col3\" >FLOW</th>        <th class=\"col_heading level0 col4\" >VALUE</th>        <th class=\"col_heading level0 col5\" >RATIO</th>    </tr></thead><tbody>\n",
       "                <tr>\n",
       "                        <th id=\"T_6197590a_542e_11eb_98a4_00155d47bbd4level0_row0\" class=\"row_heading level0 row0\" >0</th>\n",
       "                        <td id=\"T_6197590a_542e_11eb_98a4_00155d47bbd4row0_col0\" class=\"data row0 col0\" >Padova</td>\n",
       "                        <td id=\"T_6197590a_542e_11eb_98a4_00155d47bbd4row0_col1\" class=\"data row0 col1\" >Maggio</td>\n",
       "                        <td id=\"T_6197590a_542e_11eb_98a4_00155d47bbd4row0_col2\" class=\"data row0 col2\" >Mercoledì</td>\n",
       "                        <td id=\"T_6197590a_542e_11eb_98a4_00155d47bbd4row0_col3\" class=\"data row0 col3\" >264919</td>\n",
       "                        <td id=\"T_6197590a_542e_11eb_98a4_00155d47bbd4row0_col4\" class=\"data row0 col4\" >936740.000000</td>\n",
       "                        <td id=\"T_6197590a_542e_11eb_98a4_00155d47bbd4row0_col5\" class=\"data row0 col5\" >1.131238</td>\n",
       "            </tr>\n",
       "            <tr>\n",
       "                        <th id=\"T_6197590a_542e_11eb_98a4_00155d47bbd4level0_row1\" class=\"row_heading level0 row1\" >1</th>\n",
       "                        <td id=\"T_6197590a_542e_11eb_98a4_00155d47bbd4row1_col0\" class=\"data row1 col0\" >Padova</td>\n",
       "                        <td id=\"T_6197590a_542e_11eb_98a4_00155d47bbd4row1_col1\" class=\"data row1 col1\" >Maggio</td>\n",
       "                        <td id=\"T_6197590a_542e_11eb_98a4_00155d47bbd4row1_col2\" class=\"data row1 col2\" >Venerdì</td>\n",
       "                        <td id=\"T_6197590a_542e_11eb_98a4_00155d47bbd4row1_col3\" class=\"data row1 col3\" >262395</td>\n",
       "                        <td id=\"T_6197590a_542e_11eb_98a4_00155d47bbd4row1_col4\" class=\"data row1 col4\" >936740.000000</td>\n",
       "                        <td id=\"T_6197590a_542e_11eb_98a4_00155d47bbd4row1_col5\" class=\"data row1 col5\" >1.120460</td>\n",
       "            </tr>\n",
       "            <tr>\n",
       "                        <th id=\"T_6197590a_542e_11eb_98a4_00155d47bbd4level0_row2\" class=\"row_heading level0 row2\" >2</th>\n",
       "                        <td id=\"T_6197590a_542e_11eb_98a4_00155d47bbd4row2_col0\" class=\"data row2 col0\" >Padova</td>\n",
       "                        <td id=\"T_6197590a_542e_11eb_98a4_00155d47bbd4row2_col1\" class=\"data row2 col1\" >Marzo</td>\n",
       "                        <td id=\"T_6197590a_542e_11eb_98a4_00155d47bbd4row2_col2\" class=\"data row2 col2\" >Mercoledì</td>\n",
       "                        <td id=\"T_6197590a_542e_11eb_98a4_00155d47bbd4row2_col3\" class=\"data row2 col3\" >261928</td>\n",
       "                        <td id=\"T_6197590a_542e_11eb_98a4_00155d47bbd4row2_col4\" class=\"data row2 col4\" >936740.000000</td>\n",
       "                        <td id=\"T_6197590a_542e_11eb_98a4_00155d47bbd4row2_col5\" class=\"data row2 col5\" >1.118466</td>\n",
       "            </tr>\n",
       "            <tr>\n",
       "                        <th id=\"T_6197590a_542e_11eb_98a4_00155d47bbd4level0_row3\" class=\"row_heading level0 row3\" >3</th>\n",
       "                        <td id=\"T_6197590a_542e_11eb_98a4_00155d47bbd4row3_col0\" class=\"data row3 col0\" >Padova</td>\n",
       "                        <td id=\"T_6197590a_542e_11eb_98a4_00155d47bbd4row3_col1\" class=\"data row3 col1\" >Aprile</td>\n",
       "                        <td id=\"T_6197590a_542e_11eb_98a4_00155d47bbd4row3_col2\" class=\"data row3 col2\" >Venerdì</td>\n",
       "                        <td id=\"T_6197590a_542e_11eb_98a4_00155d47bbd4row3_col3\" class=\"data row3 col3\" >257970</td>\n",
       "                        <td id=\"T_6197590a_542e_11eb_98a4_00155d47bbd4row3_col4\" class=\"data row3 col4\" >936740.000000</td>\n",
       "                        <td id=\"T_6197590a_542e_11eb_98a4_00155d47bbd4row3_col5\" class=\"data row3 col5\" >1.101565</td>\n",
       "            </tr>\n",
       "            <tr>\n",
       "                        <th id=\"T_6197590a_542e_11eb_98a4_00155d47bbd4level0_row4\" class=\"row_heading level0 row4\" >4</th>\n",
       "                        <td id=\"T_6197590a_542e_11eb_98a4_00155d47bbd4row4_col0\" class=\"data row4 col0\" >Padova</td>\n",
       "                        <td id=\"T_6197590a_542e_11eb_98a4_00155d47bbd4row4_col1\" class=\"data row4 col1\" >Maggio</td>\n",
       "                        <td id=\"T_6197590a_542e_11eb_98a4_00155d47bbd4row4_col2\" class=\"data row4 col2\" >Giovedì</td>\n",
       "                        <td id=\"T_6197590a_542e_11eb_98a4_00155d47bbd4row4_col3\" class=\"data row4 col3\" >257412</td>\n",
       "                        <td id=\"T_6197590a_542e_11eb_98a4_00155d47bbd4row4_col4\" class=\"data row4 col4\" >936740.000000</td>\n",
       "                        <td id=\"T_6197590a_542e_11eb_98a4_00155d47bbd4row4_col5\" class=\"data row4 col5\" >1.099182</td>\n",
       "            </tr>\n",
       "            <tr>\n",
       "                        <th id=\"T_6197590a_542e_11eb_98a4_00155d47bbd4level0_row5\" class=\"row_heading level0 row5\" >5</th>\n",
       "                        <td id=\"T_6197590a_542e_11eb_98a4_00155d47bbd4row5_col0\" class=\"data row5 col0\" >Padova</td>\n",
       "                        <td id=\"T_6197590a_542e_11eb_98a4_00155d47bbd4row5_col1\" class=\"data row5 col1\" >Aprile</td>\n",
       "                        <td id=\"T_6197590a_542e_11eb_98a4_00155d47bbd4row5_col2\" class=\"data row5 col2\" >Giovedì</td>\n",
       "                        <td id=\"T_6197590a_542e_11eb_98a4_00155d47bbd4row5_col3\" class=\"data row5 col3\" >254047</td>\n",
       "                        <td id=\"T_6197590a_542e_11eb_98a4_00155d47bbd4row5_col4\" class=\"data row5 col4\" >936740.000000</td>\n",
       "                        <td id=\"T_6197590a_542e_11eb_98a4_00155d47bbd4row5_col5\" class=\"data row5 col5\" >1.084813</td>\n",
       "            </tr>\n",
       "            <tr>\n",
       "                        <th id=\"T_6197590a_542e_11eb_98a4_00155d47bbd4level0_row6\" class=\"row_heading level0 row6\" >6</th>\n",
       "                        <td id=\"T_6197590a_542e_11eb_98a4_00155d47bbd4row6_col0\" class=\"data row6 col0\" >Padova</td>\n",
       "                        <td id=\"T_6197590a_542e_11eb_98a4_00155d47bbd4row6_col1\" class=\"data row6 col1\" >Maggio</td>\n",
       "                        <td id=\"T_6197590a_542e_11eb_98a4_00155d47bbd4row6_col2\" class=\"data row6 col2\" >Lunedì</td>\n",
       "                        <td id=\"T_6197590a_542e_11eb_98a4_00155d47bbd4row6_col3\" class=\"data row6 col3\" >252410</td>\n",
       "                        <td id=\"T_6197590a_542e_11eb_98a4_00155d47bbd4row6_col4\" class=\"data row6 col4\" >936740.000000</td>\n",
       "                        <td id=\"T_6197590a_542e_11eb_98a4_00155d47bbd4row6_col5\" class=\"data row6 col5\" >1.077823</td>\n",
       "            </tr>\n",
       "            <tr>\n",
       "                        <th id=\"T_6197590a_542e_11eb_98a4_00155d47bbd4level0_row7\" class=\"row_heading level0 row7\" >7</th>\n",
       "                        <td id=\"T_6197590a_542e_11eb_98a4_00155d47bbd4row7_col0\" class=\"data row7 col0\" >Padova</td>\n",
       "                        <td id=\"T_6197590a_542e_11eb_98a4_00155d47bbd4row7_col1\" class=\"data row7 col1\" >Maggio</td>\n",
       "                        <td id=\"T_6197590a_542e_11eb_98a4_00155d47bbd4row7_col2\" class=\"data row7 col2\" >Martedì</td>\n",
       "                        <td id=\"T_6197590a_542e_11eb_98a4_00155d47bbd4row7_col3\" class=\"data row7 col3\" >251072</td>\n",
       "                        <td id=\"T_6197590a_542e_11eb_98a4_00155d47bbd4row7_col4\" class=\"data row7 col4\" >936740.000000</td>\n",
       "                        <td id=\"T_6197590a_542e_11eb_98a4_00155d47bbd4row7_col5\" class=\"data row7 col5\" >1.072110</td>\n",
       "            </tr>\n",
       "            <tr>\n",
       "                        <th id=\"T_6197590a_542e_11eb_98a4_00155d47bbd4level0_row8\" class=\"row_heading level0 row8\" >8</th>\n",
       "                        <td id=\"T_6197590a_542e_11eb_98a4_00155d47bbd4row8_col0\" class=\"data row8 col0\" >Padova</td>\n",
       "                        <td id=\"T_6197590a_542e_11eb_98a4_00155d47bbd4row8_col1\" class=\"data row8 col1\" >Aprile</td>\n",
       "                        <td id=\"T_6197590a_542e_11eb_98a4_00155d47bbd4row8_col2\" class=\"data row8 col2\" >Martedì</td>\n",
       "                        <td id=\"T_6197590a_542e_11eb_98a4_00155d47bbd4row8_col3\" class=\"data row8 col3\" >248960</td>\n",
       "                        <td id=\"T_6197590a_542e_11eb_98a4_00155d47bbd4row8_col4\" class=\"data row8 col4\" >936740.000000</td>\n",
       "                        <td id=\"T_6197590a_542e_11eb_98a4_00155d47bbd4row8_col5\" class=\"data row8 col5\" >1.063091</td>\n",
       "            </tr>\n",
       "            <tr>\n",
       "                        <th id=\"T_6197590a_542e_11eb_98a4_00155d47bbd4level0_row9\" class=\"row_heading level0 row9\" >9</th>\n",
       "                        <td id=\"T_6197590a_542e_11eb_98a4_00155d47bbd4row9_col0\" class=\"data row9 col0\" >Padova</td>\n",
       "                        <td id=\"T_6197590a_542e_11eb_98a4_00155d47bbd4row9_col1\" class=\"data row9 col1\" >Marzo</td>\n",
       "                        <td id=\"T_6197590a_542e_11eb_98a4_00155d47bbd4row9_col2\" class=\"data row9 col2\" >Venerdì</td>\n",
       "                        <td id=\"T_6197590a_542e_11eb_98a4_00155d47bbd4row9_col3\" class=\"data row9 col3\" >248344</td>\n",
       "                        <td id=\"T_6197590a_542e_11eb_98a4_00155d47bbd4row9_col4\" class=\"data row9 col4\" >936740.000000</td>\n",
       "                        <td id=\"T_6197590a_542e_11eb_98a4_00155d47bbd4row9_col5\" class=\"data row9 col5\" >1.060461</td>\n",
       "            </tr>\n",
       "    </tbody></table>   <style  type=\"text/css\" >\n",
       "</style><table id=\"T_6198dfad_542e_11eb_bd05_00155d47bbd4\" style='display:inline'><caption>Total Flux</caption><thead>    <tr>        <th class=\"blank level0\" ></th>        <th class=\"col_heading level0 col0\" >PROVINCIA</th>        <th class=\"col_heading level0 col1\" >RATIO</th>    </tr></thead><tbody>\n",
       "                <tr>\n",
       "                        <th id=\"T_6198dfad_542e_11eb_bd05_00155d47bbd4level0_row0\" class=\"row_heading level0 row0\" >0</th>\n",
       "                        <td id=\"T_6198dfad_542e_11eb_bd05_00155d47bbd4row0_col0\" class=\"data row0 col0\" >Padova</td>\n",
       "                        <td id=\"T_6198dfad_542e_11eb_bd05_00155d47bbd4row0_col1\" class=\"data row0 col1\" >27.273386</td>\n",
       "            </tr>\n",
       "            <tr>\n",
       "                        <th id=\"T_6198dfad_542e_11eb_bd05_00155d47bbd4level0_row1\" class=\"row_heading level0 row1\" >1</th>\n",
       "                        <td id=\"T_6198dfad_542e_11eb_bd05_00155d47bbd4row1_col0\" class=\"data row1 col0\" >Venezia</td>\n",
       "                        <td id=\"T_6198dfad_542e_11eb_bd05_00155d47bbd4row1_col1\" class=\"data row1 col1\" >4.440048</td>\n",
       "            </tr>\n",
       "            <tr>\n",
       "                        <th id=\"T_6198dfad_542e_11eb_bd05_00155d47bbd4level0_row2\" class=\"row_heading level0 row2\" >2</th>\n",
       "                        <td id=\"T_6198dfad_542e_11eb_bd05_00155d47bbd4row2_col0\" class=\"data row2 col0\" >Rovigo</td>\n",
       "                        <td id=\"T_6198dfad_542e_11eb_bd05_00155d47bbd4row2_col1\" class=\"data row2 col1\" >2.828748</td>\n",
       "            </tr>\n",
       "            <tr>\n",
       "                        <th id=\"T_6198dfad_542e_11eb_bd05_00155d47bbd4level0_row3\" class=\"row_heading level0 row3\" >3</th>\n",
       "                        <td id=\"T_6198dfad_542e_11eb_bd05_00155d47bbd4row3_col0\" class=\"data row3 col0\" >Vicenza</td>\n",
       "                        <td id=\"T_6198dfad_542e_11eb_bd05_00155d47bbd4row3_col1\" class=\"data row3 col1\" >2.152098</td>\n",
       "            </tr>\n",
       "            <tr>\n",
       "                        <th id=\"T_6198dfad_542e_11eb_bd05_00155d47bbd4level0_row4\" class=\"row_heading level0 row4\" >4</th>\n",
       "                        <td id=\"T_6198dfad_542e_11eb_bd05_00155d47bbd4row4_col0\" class=\"data row4 col0\" >Treviso</td>\n",
       "                        <td id=\"T_6198dfad_542e_11eb_bd05_00155d47bbd4row4_col1\" class=\"data row4 col1\" >1.637646</td>\n",
       "            </tr>\n",
       "            <tr>\n",
       "                        <th id=\"T_6198dfad_542e_11eb_bd05_00155d47bbd4level0_row5\" class=\"row_heading level0 row5\" >5</th>\n",
       "                        <td id=\"T_6198dfad_542e_11eb_bd05_00155d47bbd4row5_col0\" class=\"data row5 col0\" >Belluno</td>\n",
       "                        <td id=\"T_6198dfad_542e_11eb_bd05_00155d47bbd4row5_col1\" class=\"data row5 col1\" >1.081874</td>\n",
       "            </tr>\n",
       "            <tr>\n",
       "                        <th id=\"T_6198dfad_542e_11eb_bd05_00155d47bbd4level0_row6\" class=\"row_heading level0 row6\" >6</th>\n",
       "                        <td id=\"T_6198dfad_542e_11eb_bd05_00155d47bbd4row6_col0\" class=\"data row6 col0\" >Verona</td>\n",
       "                        <td id=\"T_6198dfad_542e_11eb_bd05_00155d47bbd4row6_col1\" class=\"data row6 col1\" >0.733642</td>\n",
       "            </tr>\n",
       "            <tr>\n",
       "                        <th id=\"T_6198dfad_542e_11eb_bd05_00155d47bbd4level0_row7\" class=\"row_heading level0 row7\" >7</th>\n",
       "                        <td id=\"T_6198dfad_542e_11eb_bd05_00155d47bbd4row7_col0\" class=\"data row7 col0\" >Trento</td>\n",
       "                        <td id=\"T_6198dfad_542e_11eb_bd05_00155d47bbd4row7_col1\" class=\"data row7 col1\" >0.453952</td>\n",
       "            </tr>\n",
       "            <tr>\n",
       "                        <th id=\"T_6198dfad_542e_11eb_bd05_00155d47bbd4level0_row8\" class=\"row_heading level0 row8\" >8</th>\n",
       "                        <td id=\"T_6198dfad_542e_11eb_bd05_00155d47bbd4row8_col0\" class=\"data row8 col0\" >Ferrara</td>\n",
       "                        <td id=\"T_6198dfad_542e_11eb_bd05_00155d47bbd4row8_col1\" class=\"data row8 col1\" >0.345812</td>\n",
       "            </tr>\n",
       "            <tr>\n",
       "                        <th id=\"T_6198dfad_542e_11eb_bd05_00155d47bbd4level0_row9\" class=\"row_heading level0 row9\" >9</th>\n",
       "                        <td id=\"T_6198dfad_542e_11eb_bd05_00155d47bbd4row9_col0\" class=\"data row9 col0\" >Udine</td>\n",
       "                        <td id=\"T_6198dfad_542e_11eb_bd05_00155d47bbd4row9_col1\" class=\"data row9 col1\" >0.299467</td>\n",
       "            </tr>\n",
       "    </tbody></table>   "
      ],
      "text/plain": [
       "<IPython.core.display.HTML object>"
      ]
     },
     "metadata": {},
     "output_type": "display_data"
    }
   ],
   "source": [
    "filename=r\"data/abitanti2.txt\"\n",
    "abitanti = pd.read_csv(filename, header=None,quoting=2,encoding=\"latin-1\")\n",
    "abitanti = pd.DataFrame(abitanti[0].str.split('\\t' ,n=1).tolist())\n",
    "abitanti.columns = [\"PROVINCIA\", \"VALUE\"]\n",
    "abitanti['VALUE'] = abitanti['VALUE'].apply(pd.to_numeric).sort_values(ascending=False)\n",
    "\n",
    "\n",
    "\n",
    "day_od3 = day_od2.merge(abitanti,on='PROVINCIA')\n",
    "day_od3['RATIO'] = 4*day_od3['FLOW']/day_od3['VALUE']\n",
    "day_od3.sort_values(by=['RATIO','PROVINCIA'],ascending=False)\n",
    "\n",
    "day_od_total = day_od3.groupby(['PROVINCIA'], as_index=False)['RATIO'].sum(\n",
    ").sort_values(by='RATIO',ascending=False,ignore_index=True)\n",
    "\n",
    "display_side([abitanti.head(10),day_od3.head(10),day_od_total.head(10)]\n",
    "             ,['N° of inhabiants','Flow/Inhabitants','Total Flux'])\n"
   ]
  },
  {
   "cell_type": "code",
   "execution_count": 337,
   "metadata": {},
   "outputs": [
    {
     "data": {
      "application/vnd.plotly.v1+json": {
       "config": {
        "displayModeBar": true,
        "plotlyServerURL": "https://plot.ly"
       },
       "data": [
        {
         "domain": {
          "x": [
           0,
           1
          ],
          "y": [
           0,
           1
          ]
         },
         "hole": 0.25,
         "hoverinfo": "percent+label+value",
         "hovertemplate": "PROVINCIA=%{label}<br>RATIO=%{value}<extra></extra>",
         "labels": [
          "Padova",
          "Venezia",
          "Rovigo",
          "Vicenza",
          "Treviso",
          "Belluno",
          "Verona",
          "Trento",
          "Ferrara",
          "Udine",
          "Mantova",
          "Bologna",
          "Milano",
          "Trieste",
          "Brescia",
          "Roma",
          "Modena",
          "Monza e della Brianza",
          "Torino",
          "Firenze"
         ],
         "legendgroup": "",
         "marker": {
          "line": {
           "color": "#010000",
           "width": 1.5
          }
         },
         "name": "",
         "pull": [
          0.2,
          0.1,
          0,
          0
         ],
         "showlegend": true,
         "textfont": {
          "size": 12
         },
         "textinfo": "percent+label",
         "textposition": "inside",
         "type": "pie",
         "values": [
          27.273386425262082,
          4.440048175155116,
          2.828747884940778,
          2.1520984610822005,
          1.6376462103626241,
          1.0818740849194728,
          0.733641735504502,
          0.45395241323361085,
          0.3458116579004252,
          0.29946673567808435,
          0.18079375950184814,
          0.15710215951689474,
          0.14165330616096047,
          0.11285469531789397,
          0.06347264975815944,
          0.052095116197647916,
          0.04529445957805714,
          0.041794291142115726,
          0.04041743054576224,
          0.04033712966069913
         ]
        }
       ],
       "layout": {
        "legend": {
         "tracegroupgap": 0
        },
        "margin": {
         "b": 0,
         "l": 0,
         "r": 0,
         "t": 50
        },
        "piecolorway": [
         "rgb(103,0,31)",
         "rgb(178,24,43)",
         "rgb(214,96,77)",
         "rgb(244,165,130)",
         "rgb(253,219,199)",
         "rgb(247,247,247)",
         "rgb(209,229,240)",
         "rgb(146,197,222)",
         "rgb(67,147,195)",
         "rgb(33,102,172)",
         "rgb(5,48,97)"
        ],
        "template": {
         "data": {
          "bar": [
           {
            "error_x": {
             "color": "#2a3f5f"
            },
            "error_y": {
             "color": "#2a3f5f"
            },
            "marker": {
             "line": {
              "color": "#E5ECF6",
              "width": 0.5
             }
            },
            "type": "bar"
           }
          ],
          "barpolar": [
           {
            "marker": {
             "line": {
              "color": "#E5ECF6",
              "width": 0.5
             }
            },
            "type": "barpolar"
           }
          ],
          "carpet": [
           {
            "aaxis": {
             "endlinecolor": "#2a3f5f",
             "gridcolor": "white",
             "linecolor": "white",
             "minorgridcolor": "white",
             "startlinecolor": "#2a3f5f"
            },
            "baxis": {
             "endlinecolor": "#2a3f5f",
             "gridcolor": "white",
             "linecolor": "white",
             "minorgridcolor": "white",
             "startlinecolor": "#2a3f5f"
            },
            "type": "carpet"
           }
          ],
          "choropleth": [
           {
            "colorbar": {
             "outlinewidth": 0,
             "ticks": ""
            },
            "type": "choropleth"
           }
          ],
          "contour": [
           {
            "colorbar": {
             "outlinewidth": 0,
             "ticks": ""
            },
            "colorscale": [
             [
              0,
              "#0d0887"
             ],
             [
              0.1111111111111111,
              "#46039f"
             ],
             [
              0.2222222222222222,
              "#7201a8"
             ],
             [
              0.3333333333333333,
              "#9c179e"
             ],
             [
              0.4444444444444444,
              "#bd3786"
             ],
             [
              0.5555555555555556,
              "#d8576b"
             ],
             [
              0.6666666666666666,
              "#ed7953"
             ],
             [
              0.7777777777777778,
              "#fb9f3a"
             ],
             [
              0.8888888888888888,
              "#fdca26"
             ],
             [
              1,
              "#f0f921"
             ]
            ],
            "type": "contour"
           }
          ],
          "contourcarpet": [
           {
            "colorbar": {
             "outlinewidth": 0,
             "ticks": ""
            },
            "type": "contourcarpet"
           }
          ],
          "heatmap": [
           {
            "colorbar": {
             "outlinewidth": 0,
             "ticks": ""
            },
            "colorscale": [
             [
              0,
              "#0d0887"
             ],
             [
              0.1111111111111111,
              "#46039f"
             ],
             [
              0.2222222222222222,
              "#7201a8"
             ],
             [
              0.3333333333333333,
              "#9c179e"
             ],
             [
              0.4444444444444444,
              "#bd3786"
             ],
             [
              0.5555555555555556,
              "#d8576b"
             ],
             [
              0.6666666666666666,
              "#ed7953"
             ],
             [
              0.7777777777777778,
              "#fb9f3a"
             ],
             [
              0.8888888888888888,
              "#fdca26"
             ],
             [
              1,
              "#f0f921"
             ]
            ],
            "type": "heatmap"
           }
          ],
          "heatmapgl": [
           {
            "colorbar": {
             "outlinewidth": 0,
             "ticks": ""
            },
            "colorscale": [
             [
              0,
              "#0d0887"
             ],
             [
              0.1111111111111111,
              "#46039f"
             ],
             [
              0.2222222222222222,
              "#7201a8"
             ],
             [
              0.3333333333333333,
              "#9c179e"
             ],
             [
              0.4444444444444444,
              "#bd3786"
             ],
             [
              0.5555555555555556,
              "#d8576b"
             ],
             [
              0.6666666666666666,
              "#ed7953"
             ],
             [
              0.7777777777777778,
              "#fb9f3a"
             ],
             [
              0.8888888888888888,
              "#fdca26"
             ],
             [
              1,
              "#f0f921"
             ]
            ],
            "type": "heatmapgl"
           }
          ],
          "histogram": [
           {
            "marker": {
             "colorbar": {
              "outlinewidth": 0,
              "ticks": ""
             }
            },
            "type": "histogram"
           }
          ],
          "histogram2d": [
           {
            "colorbar": {
             "outlinewidth": 0,
             "ticks": ""
            },
            "colorscale": [
             [
              0,
              "#0d0887"
             ],
             [
              0.1111111111111111,
              "#46039f"
             ],
             [
              0.2222222222222222,
              "#7201a8"
             ],
             [
              0.3333333333333333,
              "#9c179e"
             ],
             [
              0.4444444444444444,
              "#bd3786"
             ],
             [
              0.5555555555555556,
              "#d8576b"
             ],
             [
              0.6666666666666666,
              "#ed7953"
             ],
             [
              0.7777777777777778,
              "#fb9f3a"
             ],
             [
              0.8888888888888888,
              "#fdca26"
             ],
             [
              1,
              "#f0f921"
             ]
            ],
            "type": "histogram2d"
           }
          ],
          "histogram2dcontour": [
           {
            "colorbar": {
             "outlinewidth": 0,
             "ticks": ""
            },
            "colorscale": [
             [
              0,
              "#0d0887"
             ],
             [
              0.1111111111111111,
              "#46039f"
             ],
             [
              0.2222222222222222,
              "#7201a8"
             ],
             [
              0.3333333333333333,
              "#9c179e"
             ],
             [
              0.4444444444444444,
              "#bd3786"
             ],
             [
              0.5555555555555556,
              "#d8576b"
             ],
             [
              0.6666666666666666,
              "#ed7953"
             ],
             [
              0.7777777777777778,
              "#fb9f3a"
             ],
             [
              0.8888888888888888,
              "#fdca26"
             ],
             [
              1,
              "#f0f921"
             ]
            ],
            "type": "histogram2dcontour"
           }
          ],
          "mesh3d": [
           {
            "colorbar": {
             "outlinewidth": 0,
             "ticks": ""
            },
            "type": "mesh3d"
           }
          ],
          "parcoords": [
           {
            "line": {
             "colorbar": {
              "outlinewidth": 0,
              "ticks": ""
             }
            },
            "type": "parcoords"
           }
          ],
          "pie": [
           {
            "automargin": true,
            "type": "pie"
           }
          ],
          "scatter": [
           {
            "marker": {
             "colorbar": {
              "outlinewidth": 0,
              "ticks": ""
             }
            },
            "type": "scatter"
           }
          ],
          "scatter3d": [
           {
            "line": {
             "colorbar": {
              "outlinewidth": 0,
              "ticks": ""
             }
            },
            "marker": {
             "colorbar": {
              "outlinewidth": 0,
              "ticks": ""
             }
            },
            "type": "scatter3d"
           }
          ],
          "scattercarpet": [
           {
            "marker": {
             "colorbar": {
              "outlinewidth": 0,
              "ticks": ""
             }
            },
            "type": "scattercarpet"
           }
          ],
          "scattergeo": [
           {
            "marker": {
             "colorbar": {
              "outlinewidth": 0,
              "ticks": ""
             }
            },
            "type": "scattergeo"
           }
          ],
          "scattergl": [
           {
            "marker": {
             "colorbar": {
              "outlinewidth": 0,
              "ticks": ""
             }
            },
            "type": "scattergl"
           }
          ],
          "scattermapbox": [
           {
            "marker": {
             "colorbar": {
              "outlinewidth": 0,
              "ticks": ""
             }
            },
            "type": "scattermapbox"
           }
          ],
          "scatterpolar": [
           {
            "marker": {
             "colorbar": {
              "outlinewidth": 0,
              "ticks": ""
             }
            },
            "type": "scatterpolar"
           }
          ],
          "scatterpolargl": [
           {
            "marker": {
             "colorbar": {
              "outlinewidth": 0,
              "ticks": ""
             }
            },
            "type": "scatterpolargl"
           }
          ],
          "scatterternary": [
           {
            "marker": {
             "colorbar": {
              "outlinewidth": 0,
              "ticks": ""
             }
            },
            "type": "scatterternary"
           }
          ],
          "surface": [
           {
            "colorbar": {
             "outlinewidth": 0,
             "ticks": ""
            },
            "colorscale": [
             [
              0,
              "#0d0887"
             ],
             [
              0.1111111111111111,
              "#46039f"
             ],
             [
              0.2222222222222222,
              "#7201a8"
             ],
             [
              0.3333333333333333,
              "#9c179e"
             ],
             [
              0.4444444444444444,
              "#bd3786"
             ],
             [
              0.5555555555555556,
              "#d8576b"
             ],
             [
              0.6666666666666666,
              "#ed7953"
             ],
             [
              0.7777777777777778,
              "#fb9f3a"
             ],
             [
              0.8888888888888888,
              "#fdca26"
             ],
             [
              1,
              "#f0f921"
             ]
            ],
            "type": "surface"
           }
          ],
          "table": [
           {
            "cells": {
             "fill": {
              "color": "#EBF0F8"
             },
             "line": {
              "color": "white"
             }
            },
            "header": {
             "fill": {
              "color": "#C8D4E3"
             },
             "line": {
              "color": "white"
             }
            },
            "type": "table"
           }
          ]
         },
         "layout": {
          "annotationdefaults": {
           "arrowcolor": "#2a3f5f",
           "arrowhead": 0,
           "arrowwidth": 1
          },
          "autotypenumbers": "strict",
          "coloraxis": {
           "colorbar": {
            "outlinewidth": 0,
            "ticks": ""
           }
          },
          "colorscale": {
           "diverging": [
            [
             0,
             "#8e0152"
            ],
            [
             0.1,
             "#c51b7d"
            ],
            [
             0.2,
             "#de77ae"
            ],
            [
             0.3,
             "#f1b6da"
            ],
            [
             0.4,
             "#fde0ef"
            ],
            [
             0.5,
             "#f7f7f7"
            ],
            [
             0.6,
             "#e6f5d0"
            ],
            [
             0.7,
             "#b8e186"
            ],
            [
             0.8,
             "#7fbc41"
            ],
            [
             0.9,
             "#4d9221"
            ],
            [
             1,
             "#276419"
            ]
           ],
           "sequential": [
            [
             0,
             "#0d0887"
            ],
            [
             0.1111111111111111,
             "#46039f"
            ],
            [
             0.2222222222222222,
             "#7201a8"
            ],
            [
             0.3333333333333333,
             "#9c179e"
            ],
            [
             0.4444444444444444,
             "#bd3786"
            ],
            [
             0.5555555555555556,
             "#d8576b"
            ],
            [
             0.6666666666666666,
             "#ed7953"
            ],
            [
             0.7777777777777778,
             "#fb9f3a"
            ],
            [
             0.8888888888888888,
             "#fdca26"
            ],
            [
             1,
             "#f0f921"
            ]
           ],
           "sequentialminus": [
            [
             0,
             "#0d0887"
            ],
            [
             0.1111111111111111,
             "#46039f"
            ],
            [
             0.2222222222222222,
             "#7201a8"
            ],
            [
             0.3333333333333333,
             "#9c179e"
            ],
            [
             0.4444444444444444,
             "#bd3786"
            ],
            [
             0.5555555555555556,
             "#d8576b"
            ],
            [
             0.6666666666666666,
             "#ed7953"
            ],
            [
             0.7777777777777778,
             "#fb9f3a"
            ],
            [
             0.8888888888888888,
             "#fdca26"
            ],
            [
             1,
             "#f0f921"
            ]
           ]
          },
          "colorway": [
           "#636efa",
           "#EF553B",
           "#00cc96",
           "#ab63fa",
           "#FFA15A",
           "#19d3f3",
           "#FF6692",
           "#B6E880",
           "#FF97FF",
           "#FECB52"
          ],
          "font": {
           "color": "#2a3f5f"
          },
          "geo": {
           "bgcolor": "white",
           "lakecolor": "white",
           "landcolor": "#E5ECF6",
           "showlakes": true,
           "showland": true,
           "subunitcolor": "white"
          },
          "hoverlabel": {
           "align": "left"
          },
          "hovermode": "closest",
          "mapbox": {
           "style": "light"
          },
          "paper_bgcolor": "white",
          "plot_bgcolor": "#E5ECF6",
          "polar": {
           "angularaxis": {
            "gridcolor": "white",
            "linecolor": "white",
            "ticks": ""
           },
           "bgcolor": "#E5ECF6",
           "radialaxis": {
            "gridcolor": "white",
            "linecolor": "white",
            "ticks": ""
           }
          },
          "scene": {
           "xaxis": {
            "backgroundcolor": "#E5ECF6",
            "gridcolor": "white",
            "gridwidth": 2,
            "linecolor": "white",
            "showbackground": true,
            "ticks": "",
            "zerolinecolor": "white"
           },
           "yaxis": {
            "backgroundcolor": "#E5ECF6",
            "gridcolor": "white",
            "gridwidth": 2,
            "linecolor": "white",
            "showbackground": true,
            "ticks": "",
            "zerolinecolor": "white"
           },
           "zaxis": {
            "backgroundcolor": "#E5ECF6",
            "gridcolor": "white",
            "gridwidth": 2,
            "linecolor": "white",
            "showbackground": true,
            "ticks": "",
            "zerolinecolor": "white"
           }
          },
          "shapedefaults": {
           "line": {
            "color": "#2a3f5f"
           }
          },
          "ternary": {
           "aaxis": {
            "gridcolor": "white",
            "linecolor": "white",
            "ticks": ""
           },
           "baxis": {
            "gridcolor": "white",
            "linecolor": "white",
            "ticks": ""
           },
           "bgcolor": "#E5ECF6",
           "caxis": {
            "gridcolor": "white",
            "linecolor": "white",
            "ticks": ""
           }
          },
          "title": {
           "x": 0.05
          },
          "xaxis": {
           "automargin": true,
           "gridcolor": "white",
           "linecolor": "white",
           "ticks": "",
           "title": {
            "standoff": 15
           },
           "zerolinecolor": "white",
           "zerolinewidth": 2
          },
          "yaxis": {
           "automargin": true,
           "gridcolor": "white",
           "linecolor": "white",
           "ticks": "",
           "title": {
            "standoff": 15
           },
           "zerolinecolor": "white",
           "zerolinewidth": 2
          }
         }
        },
        "title": {
         "text": "Ranking of provinces with most visitors by the total flux"
        }
       }
      },
      "text/html": [
       "<div>                            <div id=\"a1445e85-1e1a-4053-a663-c08db3b8e1d5\" class=\"plotly-graph-div\" style=\"height:525px; width:100%;\"></div>            <script type=\"text/javascript\">                require([\"plotly\"], function(Plotly) {                    window.PLOTLYENV=window.PLOTLYENV || {};                                    if (document.getElementById(\"a1445e85-1e1a-4053-a663-c08db3b8e1d5\")) {                    Plotly.newPlot(                        \"a1445e85-1e1a-4053-a663-c08db3b8e1d5\",                        [{\"domain\": {\"x\": [0.0, 1.0], \"y\": [0.0, 1.0]}, \"hole\": 0.25, \"hoverinfo\": \"percent+label+value\", \"hovertemplate\": \"PROVINCIA=%{label}<br>RATIO=%{value}<extra></extra>\", \"labels\": [\"Padova\", \"Venezia\", \"Rovigo\", \"Vicenza\", \"Treviso\", \"Belluno\", \"Verona\", \"Trento\", \"Ferrara\", \"Udine\", \"Mantova\", \"Bologna\", \"Milano\", \"Trieste\", \"Brescia\", \"Roma\", \"Modena\", \"Monza e della Brianza\", \"Torino\", \"Firenze\"], \"legendgroup\": \"\", \"marker\": {\"line\": {\"color\": \"#010000\", \"width\": 1.5}}, \"name\": \"\", \"pull\": [0.2, 0.1, 0, 0], \"showlegend\": true, \"textfont\": {\"size\": 12}, \"textinfo\": \"percent+label\", \"textposition\": \"inside\", \"type\": \"pie\", \"values\": [27.273386425262082, 4.440048175155116, 2.828747884940778, 2.1520984610822005, 1.6376462103626241, 1.0818740849194728, 0.733641735504502, 0.45395241323361085, 0.3458116579004252, 0.29946673567808435, 0.18079375950184814, 0.15710215951689474, 0.14165330616096047, 0.11285469531789397, 0.06347264975815944, 0.052095116197647916, 0.04529445957805714, 0.041794291142115726, 0.04041743054576224, 0.04033712966069913]}],                        {\"legend\": {\"tracegroupgap\": 0}, \"margin\": {\"b\": 0, \"l\": 0, \"r\": 0, \"t\": 50}, \"piecolorway\": [\"rgb(103,0,31)\", \"rgb(178,24,43)\", \"rgb(214,96,77)\", \"rgb(244,165,130)\", \"rgb(253,219,199)\", \"rgb(247,247,247)\", \"rgb(209,229,240)\", \"rgb(146,197,222)\", \"rgb(67,147,195)\", \"rgb(33,102,172)\", \"rgb(5,48,97)\"], \"template\": {\"data\": {\"bar\": [{\"error_x\": {\"color\": \"#2a3f5f\"}, \"error_y\": {\"color\": \"#2a3f5f\"}, \"marker\": {\"line\": {\"color\": \"#E5ECF6\", \"width\": 0.5}}, \"type\": \"bar\"}], \"barpolar\": [{\"marker\": {\"line\": {\"color\": \"#E5ECF6\", \"width\": 0.5}}, \"type\": \"barpolar\"}], \"carpet\": [{\"aaxis\": {\"endlinecolor\": \"#2a3f5f\", \"gridcolor\": \"white\", \"linecolor\": \"white\", \"minorgridcolor\": \"white\", \"startlinecolor\": \"#2a3f5f\"}, \"baxis\": {\"endlinecolor\": \"#2a3f5f\", \"gridcolor\": \"white\", \"linecolor\": \"white\", \"minorgridcolor\": \"white\", \"startlinecolor\": \"#2a3f5f\"}, \"type\": \"carpet\"}], \"choropleth\": [{\"colorbar\": {\"outlinewidth\": 0, \"ticks\": \"\"}, \"type\": \"choropleth\"}], \"contour\": [{\"colorbar\": {\"outlinewidth\": 0, \"ticks\": \"\"}, \"colorscale\": [[0.0, \"#0d0887\"], [0.1111111111111111, \"#46039f\"], [0.2222222222222222, \"#7201a8\"], [0.3333333333333333, \"#9c179e\"], [0.4444444444444444, \"#bd3786\"], [0.5555555555555556, \"#d8576b\"], [0.6666666666666666, \"#ed7953\"], [0.7777777777777778, \"#fb9f3a\"], [0.8888888888888888, \"#fdca26\"], [1.0, \"#f0f921\"]], \"type\": \"contour\"}], \"contourcarpet\": [{\"colorbar\": {\"outlinewidth\": 0, \"ticks\": \"\"}, \"type\": \"contourcarpet\"}], \"heatmap\": [{\"colorbar\": {\"outlinewidth\": 0, \"ticks\": \"\"}, \"colorscale\": [[0.0, \"#0d0887\"], [0.1111111111111111, \"#46039f\"], [0.2222222222222222, \"#7201a8\"], [0.3333333333333333, \"#9c179e\"], [0.4444444444444444, \"#bd3786\"], [0.5555555555555556, \"#d8576b\"], [0.6666666666666666, \"#ed7953\"], [0.7777777777777778, \"#fb9f3a\"], [0.8888888888888888, \"#fdca26\"], [1.0, \"#f0f921\"]], \"type\": \"heatmap\"}], \"heatmapgl\": [{\"colorbar\": {\"outlinewidth\": 0, \"ticks\": \"\"}, \"colorscale\": [[0.0, \"#0d0887\"], [0.1111111111111111, \"#46039f\"], [0.2222222222222222, \"#7201a8\"], [0.3333333333333333, \"#9c179e\"], [0.4444444444444444, \"#bd3786\"], [0.5555555555555556, \"#d8576b\"], [0.6666666666666666, \"#ed7953\"], [0.7777777777777778, \"#fb9f3a\"], [0.8888888888888888, \"#fdca26\"], [1.0, \"#f0f921\"]], \"type\": \"heatmapgl\"}], \"histogram\": [{\"marker\": {\"colorbar\": {\"outlinewidth\": 0, \"ticks\": \"\"}}, \"type\": \"histogram\"}], \"histogram2d\": [{\"colorbar\": {\"outlinewidth\": 0, \"ticks\": \"\"}, \"colorscale\": [[0.0, \"#0d0887\"], [0.1111111111111111, \"#46039f\"], [0.2222222222222222, \"#7201a8\"], [0.3333333333333333, \"#9c179e\"], [0.4444444444444444, \"#bd3786\"], [0.5555555555555556, \"#d8576b\"], [0.6666666666666666, \"#ed7953\"], [0.7777777777777778, \"#fb9f3a\"], [0.8888888888888888, \"#fdca26\"], [1.0, \"#f0f921\"]], \"type\": \"histogram2d\"}], \"histogram2dcontour\": [{\"colorbar\": {\"outlinewidth\": 0, \"ticks\": \"\"}, \"colorscale\": [[0.0, \"#0d0887\"], [0.1111111111111111, \"#46039f\"], [0.2222222222222222, \"#7201a8\"], [0.3333333333333333, \"#9c179e\"], [0.4444444444444444, \"#bd3786\"], [0.5555555555555556, \"#d8576b\"], [0.6666666666666666, \"#ed7953\"], [0.7777777777777778, \"#fb9f3a\"], [0.8888888888888888, \"#fdca26\"], [1.0, \"#f0f921\"]], \"type\": \"histogram2dcontour\"}], \"mesh3d\": [{\"colorbar\": {\"outlinewidth\": 0, \"ticks\": \"\"}, \"type\": \"mesh3d\"}], \"parcoords\": [{\"line\": {\"colorbar\": {\"outlinewidth\": 0, \"ticks\": \"\"}}, \"type\": \"parcoords\"}], \"pie\": [{\"automargin\": true, \"type\": \"pie\"}], \"scatter\": [{\"marker\": {\"colorbar\": {\"outlinewidth\": 0, \"ticks\": \"\"}}, \"type\": \"scatter\"}], \"scatter3d\": [{\"line\": {\"colorbar\": {\"outlinewidth\": 0, \"ticks\": \"\"}}, \"marker\": {\"colorbar\": {\"outlinewidth\": 0, \"ticks\": \"\"}}, \"type\": \"scatter3d\"}], \"scattercarpet\": [{\"marker\": {\"colorbar\": {\"outlinewidth\": 0, \"ticks\": \"\"}}, \"type\": \"scattercarpet\"}], \"scattergeo\": [{\"marker\": {\"colorbar\": {\"outlinewidth\": 0, \"ticks\": \"\"}}, \"type\": \"scattergeo\"}], \"scattergl\": [{\"marker\": {\"colorbar\": {\"outlinewidth\": 0, \"ticks\": \"\"}}, \"type\": \"scattergl\"}], \"scattermapbox\": [{\"marker\": {\"colorbar\": {\"outlinewidth\": 0, \"ticks\": \"\"}}, \"type\": \"scattermapbox\"}], \"scatterpolar\": [{\"marker\": {\"colorbar\": {\"outlinewidth\": 0, \"ticks\": \"\"}}, \"type\": \"scatterpolar\"}], \"scatterpolargl\": [{\"marker\": {\"colorbar\": {\"outlinewidth\": 0, \"ticks\": \"\"}}, \"type\": \"scatterpolargl\"}], \"scatterternary\": [{\"marker\": {\"colorbar\": {\"outlinewidth\": 0, \"ticks\": \"\"}}, \"type\": \"scatterternary\"}], \"surface\": [{\"colorbar\": {\"outlinewidth\": 0, \"ticks\": \"\"}, \"colorscale\": [[0.0, \"#0d0887\"], [0.1111111111111111, \"#46039f\"], [0.2222222222222222, \"#7201a8\"], [0.3333333333333333, \"#9c179e\"], [0.4444444444444444, \"#bd3786\"], [0.5555555555555556, \"#d8576b\"], [0.6666666666666666, \"#ed7953\"], [0.7777777777777778, \"#fb9f3a\"], [0.8888888888888888, \"#fdca26\"], [1.0, \"#f0f921\"]], \"type\": \"surface\"}], \"table\": [{\"cells\": {\"fill\": {\"color\": \"#EBF0F8\"}, \"line\": {\"color\": \"white\"}}, \"header\": {\"fill\": {\"color\": \"#C8D4E3\"}, \"line\": {\"color\": \"white\"}}, \"type\": \"table\"}]}, \"layout\": {\"annotationdefaults\": {\"arrowcolor\": \"#2a3f5f\", \"arrowhead\": 0, \"arrowwidth\": 1}, \"autotypenumbers\": \"strict\", \"coloraxis\": {\"colorbar\": {\"outlinewidth\": 0, \"ticks\": \"\"}}, \"colorscale\": {\"diverging\": [[0, \"#8e0152\"], [0.1, \"#c51b7d\"], [0.2, \"#de77ae\"], [0.3, \"#f1b6da\"], [0.4, \"#fde0ef\"], [0.5, \"#f7f7f7\"], [0.6, \"#e6f5d0\"], [0.7, \"#b8e186\"], [0.8, \"#7fbc41\"], [0.9, \"#4d9221\"], [1, \"#276419\"]], \"sequential\": [[0.0, \"#0d0887\"], [0.1111111111111111, \"#46039f\"], [0.2222222222222222, \"#7201a8\"], [0.3333333333333333, \"#9c179e\"], [0.4444444444444444, \"#bd3786\"], [0.5555555555555556, \"#d8576b\"], [0.6666666666666666, \"#ed7953\"], [0.7777777777777778, \"#fb9f3a\"], [0.8888888888888888, \"#fdca26\"], [1.0, \"#f0f921\"]], \"sequentialminus\": [[0.0, \"#0d0887\"], [0.1111111111111111, \"#46039f\"], [0.2222222222222222, \"#7201a8\"], [0.3333333333333333, \"#9c179e\"], [0.4444444444444444, \"#bd3786\"], [0.5555555555555556, \"#d8576b\"], [0.6666666666666666, \"#ed7953\"], [0.7777777777777778, \"#fb9f3a\"], [0.8888888888888888, \"#fdca26\"], [1.0, \"#f0f921\"]]}, \"colorway\": [\"#636efa\", \"#EF553B\", \"#00cc96\", \"#ab63fa\", \"#FFA15A\", \"#19d3f3\", \"#FF6692\", \"#B6E880\", \"#FF97FF\", \"#FECB52\"], \"font\": {\"color\": \"#2a3f5f\"}, \"geo\": {\"bgcolor\": \"white\", \"lakecolor\": \"white\", \"landcolor\": \"#E5ECF6\", \"showlakes\": true, \"showland\": true, \"subunitcolor\": \"white\"}, \"hoverlabel\": {\"align\": \"left\"}, \"hovermode\": \"closest\", \"mapbox\": {\"style\": \"light\"}, \"paper_bgcolor\": \"white\", \"plot_bgcolor\": \"#E5ECF6\", \"polar\": {\"angularaxis\": {\"gridcolor\": \"white\", \"linecolor\": \"white\", \"ticks\": \"\"}, \"bgcolor\": \"#E5ECF6\", \"radialaxis\": {\"gridcolor\": \"white\", \"linecolor\": \"white\", \"ticks\": \"\"}}, \"scene\": {\"xaxis\": {\"backgroundcolor\": \"#E5ECF6\", \"gridcolor\": \"white\", \"gridwidth\": 2, \"linecolor\": \"white\", \"showbackground\": true, \"ticks\": \"\", \"zerolinecolor\": \"white\"}, \"yaxis\": {\"backgroundcolor\": \"#E5ECF6\", \"gridcolor\": \"white\", \"gridwidth\": 2, \"linecolor\": \"white\", \"showbackground\": true, \"ticks\": \"\", \"zerolinecolor\": \"white\"}, \"zaxis\": {\"backgroundcolor\": \"#E5ECF6\", \"gridcolor\": \"white\", \"gridwidth\": 2, \"linecolor\": \"white\", \"showbackground\": true, \"ticks\": \"\", \"zerolinecolor\": \"white\"}}, \"shapedefaults\": {\"line\": {\"color\": \"#2a3f5f\"}}, \"ternary\": {\"aaxis\": {\"gridcolor\": \"white\", \"linecolor\": \"white\", \"ticks\": \"\"}, \"baxis\": {\"gridcolor\": \"white\", \"linecolor\": \"white\", \"ticks\": \"\"}, \"bgcolor\": \"#E5ECF6\", \"caxis\": {\"gridcolor\": \"white\", \"linecolor\": \"white\", \"ticks\": \"\"}}, \"title\": {\"x\": 0.05}, \"xaxis\": {\"automargin\": true, \"gridcolor\": \"white\", \"linecolor\": \"white\", \"ticks\": \"\", \"title\": {\"standoff\": 15}, \"zerolinecolor\": \"white\", \"zerolinewidth\": 2}, \"yaxis\": {\"automargin\": true, \"gridcolor\": \"white\", \"linecolor\": \"white\", \"ticks\": \"\", \"title\": {\"standoff\": 15}, \"zerolinecolor\": \"white\", \"zerolinewidth\": 2}}}, \"title\": {\"text\": \"Ranking of provinces with most visitors by the total flux\"}},                        {\"displayModeBar\": true, \"responsive\": true}                    ).then(function(){\n",
       "                            \n",
       "var gd = document.getElementById('a1445e85-1e1a-4053-a663-c08db3b8e1d5');\n",
       "var x = new MutationObserver(function (mutations, observer) {{\n",
       "        var display = window.getComputedStyle(gd).display;\n",
       "        if (!display || display === 'none') {{\n",
       "            console.log([gd, 'removed!']);\n",
       "            Plotly.purge(gd);\n",
       "            observer.disconnect();\n",
       "        }}\n",
       "}});\n",
       "\n",
       "// Listen for the removal of the full notebook cells\n",
       "var notebookContainer = gd.closest('#notebook-container');\n",
       "if (notebookContainer) {{\n",
       "    x.observe(notebookContainer, {childList: true});\n",
       "}}\n",
       "\n",
       "// Listen for the clearing of the current output cell\n",
       "var outputEl = gd.closest('.output');\n",
       "if (outputEl) {{\n",
       "    x.observe(outputEl, {childList: true});\n",
       "}}\n",
       "\n",
       "                        })                };                });            </script>        </div>"
      ]
     },
     "metadata": {},
     "output_type": "display_data"
    }
   ],
   "source": [
    "fig = go.Figure()\n",
    "\n",
    "config = {'displayModeBar': True}\n",
    "\n",
    "df = day_od_total[0:20]\n",
    "fig = px.pie(df, values='RATIO', names='PROVINCIA', title='Ranking of provinces with most visitors by the total flux'\n",
    "             ,hole=.25,color_discrete_sequence=px.colors.sequential.RdBu)\n",
    "\n",
    "fig.update_traces(textposition='inside',hoverinfo='percent+label+value'\n",
    "                  ,textinfo='percent+label', textfont_size=12\n",
    "                  ,marker=dict( line=dict(color='#010000', width=1.5))\n",
    "                  ,pull=[0.2, 0.1, 0, 0]\n",
    "                  )\n",
    "#fig.update_layout(template='plotly_dark')\n",
    "fig.update_traces( selector=dict(type='pie'))\n",
    "fig.update_layout(margin=dict(t=50, b=0, l=0, r=0))\n",
    "fig.show(config=config)"
   ]
  },
  {
   "cell_type": "code",
   "execution_count": 341,
   "metadata": {},
   "outputs": [
    {
     "data": {
      "application/vnd.plotly.v1+json": {
       "config": {
        "displayModeBar": true,
        "plotlyServerURL": "https://plot.ly"
       },
       "data": [
        {
         "alignmentgroup": "True",
         "hovertemplate": "<b>%{hovertext}</b><br><br>DAY=Lunedì<br>MONTH=Febbraio<br>=%{y}<extra></extra>",
         "hovertext": [
          "Padova",
          "Venezia",
          "Vicenza",
          "Treviso",
          "Verona",
          "Rovigo",
          "Milano",
          "Roma",
          "Trento",
          "Belluno",
          "Bologna",
          "Udine",
          "Ferrara",
          "Torino",
          "Napoli",
          "Brescia",
          "Mantova",
          "Ascoli Piceno",
          "Firenze",
          "Bergamo",
          "Monza e della Brianza"
         ],
         "legendgroup": "Lunedì",
         "marker": {
          "color": "#636efa"
         },
         "name": "Lunedì",
         "offsetgroup": "Lunedì",
         "orientation": "h",
         "showlegend": true,
         "textposition": "outside",
         "type": "bar",
         "x": [
          1.000755812712172,
          0.1689176523515849,
          0.07930917836339961,
          0.05822271303328751,
          0.02498859475456237,
          0.1090186125211506,
          0.003384592745199029,
          0.0012838276061964426,
          0.01474352562891509,
          0.03703269887750122,
          0.0039316082116819,
          0.009898352982067735,
          0.010928741263779811,
          0.0012075165703003808,
          0.0008332790498039021,
          0.0020247116211793074,
          0.008364054963789763,
          0.0006142712487462627,
          0.0006316246570475495,
          0.0012312843429774939,
          0.0010416451569236135
         ],
         "xaxis": "x",
         "y": [
          "Padova",
          "Venezia",
          "Vicenza",
          "Treviso",
          "Verona",
          "Rovigo",
          "Milano",
          "Roma",
          "Trento",
          "Belluno",
          "Bologna",
          "Udine",
          "Ferrara",
          "Torino",
          "Napoli",
          "Brescia",
          "Mantova",
          "Ascoli Piceno",
          "Firenze",
          "Bergamo",
          "Monza e della Brianza"
         ],
         "yaxis": "y"
        },
        {
         "alignmentgroup": "True",
         "hovertemplate": "<b>%{hovertext}</b><br><br>DAY=Martedì<br>MONTH=Febbraio<br>=%{y}<extra></extra>",
         "hovertext": [
          "Padova",
          "Venezia",
          "Vicenza",
          "Treviso",
          "Verona",
          "Rovigo",
          "Milano",
          "Roma",
          "Trento",
          "Belluno",
          "Bologna",
          "Udine",
          "Ferrara",
          "Torino",
          "Napoli",
          "Brescia",
          "Mantova",
          "Firenze",
          "Bergamo",
          "Monza e della Brianza"
         ],
         "legendgroup": "Martedì",
         "marker": {
          "color": "#EF553B"
         },
         "name": "Martedì",
         "offsetgroup": "Martedì",
         "orientation": "h",
         "showlegend": true,
         "textposition": "outside",
         "type": "bar",
         "x": [
          1.0373807032901339,
          0.17294786960841285,
          0.08120444298219193,
          0.06334317459601992,
          0.027580646734307088,
          0.11255499153976312,
          0.003570083761559955,
          0.0017328917688788892,
          0.01741810490129617,
          0.03767691556857004,
          0.004485355847130054,
          0.011099756130272904,
          0.012023921031774623,
          0.0018033422648427585,
          0.000736536126065059,
          0.002471478974209483,
          0.006353184606641701,
          0.0014606320194224581,
          0.001540905552030314,
          0.001408744771698455
         ],
         "xaxis": "x",
         "y": [
          "Padova",
          "Venezia",
          "Vicenza",
          "Treviso",
          "Verona",
          "Rovigo",
          "Milano",
          "Roma",
          "Trento",
          "Belluno",
          "Bologna",
          "Udine",
          "Ferrara",
          "Torino",
          "Napoli",
          "Brescia",
          "Mantova",
          "Firenze",
          "Bergamo",
          "Monza e della Brianza"
         ],
         "yaxis": "y"
        },
        {
         "alignmentgroup": "True",
         "hovertemplate": "<b>%{hovertext}</b><br><br>DAY=Mercoledì<br>MONTH=Febbraio<br>=%{y}<extra></extra>",
         "hovertext": [
          "Padova",
          "Venezia",
          "Vicenza",
          "Treviso",
          "Verona",
          "Rovigo",
          "Milano",
          "Roma",
          "Trento",
          "Belluno",
          "Bologna",
          "Udine",
          "Ferrara",
          "Torino",
          "Napoli",
          "Brescia",
          "Mantova",
          "Firenze",
          "Bergamo",
          "Monza e della Brianza"
         ],
         "legendgroup": "Mercoledì",
         "marker": {
          "color": "#00cc96"
         },
         "name": "Mercoledì",
         "offsetgroup": "Mercoledì",
         "orientation": "h",
         "showlegend": true,
         "textposition": "outside",
         "type": "bar",
         "x": [
          1.0452676302922903,
          0.17419911147768385,
          0.08284020926687087,
          0.05956593270379302,
          0.02651435110384354,
          0.10341793570219966,
          0.00423290499335633,
          0.0014335156604239248,
          0.01714397904789423,
          0.03494387506100537,
          0.005438592848151521,
          0.011341547958842497,
          0.012634916060234888,
          0.0015071922154844168,
          0.0007300865978158027,
          0.0027946723785291848,
          0.005274891806431871,
          0.0008526932870141918,
          0.001022470039197685,
          0.0018492643094282653
         ],
         "xaxis": "x",
         "y": [
          "Padova",
          "Venezia",
          "Vicenza",
          "Treviso",
          "Verona",
          "Rovigo",
          "Milano",
          "Roma",
          "Trento",
          "Belluno",
          "Bologna",
          "Udine",
          "Ferrara",
          "Torino",
          "Napoli",
          "Brescia",
          "Mantova",
          "Firenze",
          "Bergamo",
          "Monza e della Brianza"
         ],
         "yaxis": "y"
        },
        {
         "alignmentgroup": "True",
         "hovertemplate": "<b>%{hovertext}</b><br><br>DAY=Giovedì<br>MONTH=Febbraio<br>=%{y}<extra></extra>",
         "hovertext": [
          "Padova",
          "Venezia",
          "Vicenza",
          "Treviso",
          "Verona",
          "Rovigo",
          "Milano",
          "Roma",
          "Trento",
          "Belluno",
          "Bologna",
          "Udine",
          "Ferrara",
          "Torino",
          "Napoli",
          "Brescia",
          "Mantova",
          "Firenze",
          "Bergamo",
          "Monza e della Brianza"
         ],
         "legendgroup": "Giovedì",
         "marker": {
          "color": "#ab63fa"
         },
         "name": "Giovedì",
         "offsetgroup": "Giovedì",
         "orientation": "h",
         "showlegend": true,
         "textposition": "outside",
         "type": "bar",
         "x": [
          1.034395883596302,
          0.16476090501808913,
          0.07400336421054583,
          0.052633476820445786,
          0.021078844109529368,
          0.10651438240270727,
          0.004281132657610171,
          0.0013297441872478176,
          0.012135625618172321,
          0.032132747681796,
          0.004279678153963597,
          0.011341547958842497,
          0.010836515599106564,
          0.0013220984346354533,
          0.000688809617020563,
          0.0022560167046630154,
          0.004585172988279637,
          0.001286935238734382,
          0.0010008685594963256,
          0.0018079656027660956
         ],
         "xaxis": "x",
         "y": [
          "Padova",
          "Venezia",
          "Vicenza",
          "Treviso",
          "Verona",
          "Rovigo",
          "Milano",
          "Roma",
          "Trento",
          "Belluno",
          "Bologna",
          "Udine",
          "Ferrara",
          "Torino",
          "Napoli",
          "Brescia",
          "Mantova",
          "Firenze",
          "Bergamo",
          "Monza e della Brianza"
         ],
         "yaxis": "y"
        },
        {
         "alignmentgroup": "True",
         "hovertemplate": "<b>%{hovertext}</b><br><br>DAY=Venerdì<br>MONTH=Febbraio<br>=%{y}<extra></extra>",
         "hovertext": [
          "Padova",
          "Venezia",
          "Vicenza",
          "Treviso",
          "Verona",
          "Rovigo",
          "Milano",
          "Roma",
          "Trento",
          "Belluno",
          "Bologna",
          "Udine",
          "Ferrara",
          "Torino",
          "Napoli",
          "Brescia",
          "Mantova",
          "Firenze",
          "Bergamo",
          "Monza e della Brianza"
         ],
         "legendgroup": "Venerdì",
         "marker": {
          "color": "#FFA15A"
         },
         "name": "Venerdì",
         "offsetgroup": "Venerdì",
         "orientation": "h",
         "showlegend": true,
         "textposition": "outside",
         "type": "bar",
         "x": [
          1.0429916518991396,
          0.17112489924456858,
          0.06982358747179114,
          0.05361159315769309,
          0.01993452684756849,
          0.10336717428087987,
          0.00433430674896697,
          0.0017338101004999167,
          0.01472870801521769,
          0.03264031234748658,
          0.004089821821809944,
          0.011318879974914098,
          0.012173787736868651,
          0.000916654914680581,
          0.0009287320678928939,
          0.0022116568256387425,
          0.005255463107328991,
          0.001965931745060498,
          0.001022470039197685,
          0.0008167966428740228
         ],
         "xaxis": "x",
         "y": [
          "Padova",
          "Venezia",
          "Vicenza",
          "Treviso",
          "Verona",
          "Rovigo",
          "Milano",
          "Roma",
          "Trento",
          "Belluno",
          "Bologna",
          "Udine",
          "Ferrara",
          "Torino",
          "Napoli",
          "Brescia",
          "Mantova",
          "Firenze",
          "Bergamo",
          "Monza e della Brianza"
         ],
         "yaxis": "y"
        },
        {
         "alignmentgroup": "True",
         "hovertemplate": "<b>%{hovertext}</b><br><br>DAY=Sabato<br>MONTH=Febbraio<br>=%{y}<extra></extra>",
         "hovertext": [
          "Padova",
          "Venezia",
          "Vicenza",
          "Treviso",
          "Verona",
          "Rovigo",
          "Milano",
          "Roma",
          "Trento",
          "Belluno",
          "Bologna",
          "Udine",
          "Ferrara",
          "Torino",
          "Napoli",
          "Brescia",
          "Mantova",
          "Ascoli Piceno",
          "Firenze",
          "Bergamo",
          "Monza e della Brianza"
         ],
         "legendgroup": "Sabato",
         "marker": {
          "color": "#19d3f3"
         },
         "name": "Sabato",
         "offsetgroup": "Sabato",
         "orientation": "h",
         "showlegend": true,
         "textposition": "outside",
         "type": "bar",
         "x": [
          0.8387898456348614,
          0.1182587586930849,
          0.04928614788624705,
          0.0346352347253837,
          0.016596934833515927,
          0.06648054145516075,
          0.005202404705536103,
          0.0017824816764143742,
          0.012594971642791787,
          0.027252318204001952,
          0.005126120968148634,
          0.006959071066018614,
          0.008507817566107068,
          0.0011387674516993372,
          0.00039471112885447994,
          0.0012103909848051571,
          0.004089741161156202,
          0.016047836373496115,
          0.0016540670706432703,
          0.0006516446376576795,
          0.000844329113982136
         ],
         "xaxis": "x",
         "y": [
          "Padova",
          "Venezia",
          "Vicenza",
          "Treviso",
          "Verona",
          "Rovigo",
          "Milano",
          "Roma",
          "Trento",
          "Belluno",
          "Bologna",
          "Udine",
          "Ferrara",
          "Torino",
          "Napoli",
          "Brescia",
          "Mantova",
          "Ascoli Piceno",
          "Firenze",
          "Bergamo",
          "Monza e della Brianza"
         ],
         "yaxis": "y"
        },
        {
         "alignmentgroup": "True",
         "hovertemplate": "<b>%{hovertext}</b><br><br>DAY=Domenica<br>MONTH=Febbraio<br>=%{y}<extra></extra>",
         "hovertext": [
          "Padova",
          "Venezia",
          "Vicenza",
          "Treviso",
          "Verona",
          "Rovigo",
          "Milano",
          "Roma",
          "Trento",
          "Belluno",
          "Bologna",
          "Udine",
          "Ferrara",
          "Torino",
          "Napoli",
          "Brescia",
          "Mantova",
          "Ascoli Piceno",
          "Firenze",
          "Bergamo"
         ],
         "legendgroup": "Domenica",
         "marker": {
          "color": "#FF6692"
         },
         "name": "Domenica",
         "offsetgroup": "Domenica",
         "orientation": "h",
         "showlegend": true,
         "textposition": "outside",
         "type": "bar",
         "x": [
          0.6439011892307364,
          0.09046431851837966,
          0.04619070347218039,
          0.03834937233778819,
          0.0192886811201739,
          0.07262267343485618,
          0.004338016569294188,
          0.0014785139098542723,
          0.012313436982541146,
          0.03191800878477306,
          0.0049679073580205894,
          0.007344426792801404,
          0.00940701779667123,
          0.0005535185446340432,
          0.00047597518479510815,
          0.0015082358868252744,
          0.00429374250173644,
          0.0006142712487462627,
          0.0005842528077689833,
          0.0009504651068598199
         ],
         "xaxis": "x",
         "y": [
          "Padova",
          "Venezia",
          "Vicenza",
          "Treviso",
          "Verona",
          "Rovigo",
          "Milano",
          "Roma",
          "Trento",
          "Belluno",
          "Bologna",
          "Udine",
          "Ferrara",
          "Torino",
          "Napoli",
          "Brescia",
          "Mantova",
          "Ascoli Piceno",
          "Firenze",
          "Bergamo"
         ],
         "yaxis": "y"
        }
       ],
       "frames": [
        {
         "data": [
          {
           "alignmentgroup": "True",
           "hovertemplate": "<b>%{hovertext}</b><br><br>DAY=Lunedì<br>MONTH=Febbraio<br>=%{y}<extra></extra>",
           "hovertext": [
            "Padova",
            "Venezia",
            "Vicenza",
            "Treviso",
            "Verona",
            "Rovigo",
            "Milano",
            "Roma",
            "Trento",
            "Belluno",
            "Bologna",
            "Udine",
            "Ferrara",
            "Torino",
            "Napoli",
            "Brescia",
            "Mantova",
            "Ascoli Piceno",
            "Firenze",
            "Bergamo",
            "Monza e della Brianza"
           ],
           "legendgroup": "Lunedì",
           "marker": {
            "color": "#636efa"
           },
           "name": "Lunedì",
           "offsetgroup": "Lunedì",
           "orientation": "h",
           "showlegend": true,
           "textposition": "auto",
           "type": "bar",
           "x": [
            1.000755812712172,
            0.1689176523515849,
            0.07930917836339961,
            0.05822271303328751,
            0.02498859475456237,
            0.1090186125211506,
            0.003384592745199029,
            0.0012838276061964426,
            0.01474352562891509,
            0.03703269887750122,
            0.0039316082116819,
            0.009898352982067735,
            0.010928741263779811,
            0.0012075165703003808,
            0.0008332790498039021,
            0.0020247116211793074,
            0.008364054963789763,
            0.0006142712487462627,
            0.0006316246570475495,
            0.0012312843429774939,
            0.0010416451569236135
           ],
           "xaxis": "x",
           "y": [
            "Padova",
            "Venezia",
            "Vicenza",
            "Treviso",
            "Verona",
            "Rovigo",
            "Milano",
            "Roma",
            "Trento",
            "Belluno",
            "Bologna",
            "Udine",
            "Ferrara",
            "Torino",
            "Napoli",
            "Brescia",
            "Mantova",
            "Ascoli Piceno",
            "Firenze",
            "Bergamo",
            "Monza e della Brianza"
           ],
           "yaxis": "y"
          },
          {
           "alignmentgroup": "True",
           "hovertemplate": "<b>%{hovertext}</b><br><br>DAY=Martedì<br>MONTH=Febbraio<br>=%{y}<extra></extra>",
           "hovertext": [
            "Padova",
            "Venezia",
            "Vicenza",
            "Treviso",
            "Verona",
            "Rovigo",
            "Milano",
            "Roma",
            "Trento",
            "Belluno",
            "Bologna",
            "Udine",
            "Ferrara",
            "Torino",
            "Napoli",
            "Brescia",
            "Mantova",
            "Firenze",
            "Bergamo",
            "Monza e della Brianza"
           ],
           "legendgroup": "Martedì",
           "marker": {
            "color": "#EF553B"
           },
           "name": "Martedì",
           "offsetgroup": "Martedì",
           "orientation": "h",
           "showlegend": true,
           "textposition": "auto",
           "type": "bar",
           "x": [
            1.0373807032901339,
            0.17294786960841285,
            0.08120444298219193,
            0.06334317459601992,
            0.027580646734307088,
            0.11255499153976312,
            0.003570083761559955,
            0.0017328917688788892,
            0.01741810490129617,
            0.03767691556857004,
            0.004485355847130054,
            0.011099756130272904,
            0.012023921031774623,
            0.0018033422648427585,
            0.000736536126065059,
            0.002471478974209483,
            0.006353184606641701,
            0.0014606320194224581,
            0.001540905552030314,
            0.001408744771698455
           ],
           "xaxis": "x",
           "y": [
            "Padova",
            "Venezia",
            "Vicenza",
            "Treviso",
            "Verona",
            "Rovigo",
            "Milano",
            "Roma",
            "Trento",
            "Belluno",
            "Bologna",
            "Udine",
            "Ferrara",
            "Torino",
            "Napoli",
            "Brescia",
            "Mantova",
            "Firenze",
            "Bergamo",
            "Monza e della Brianza"
           ],
           "yaxis": "y"
          },
          {
           "alignmentgroup": "True",
           "hovertemplate": "<b>%{hovertext}</b><br><br>DAY=Mercoledì<br>MONTH=Febbraio<br>=%{y}<extra></extra>",
           "hovertext": [
            "Padova",
            "Venezia",
            "Vicenza",
            "Treviso",
            "Verona",
            "Rovigo",
            "Milano",
            "Roma",
            "Trento",
            "Belluno",
            "Bologna",
            "Udine",
            "Ferrara",
            "Torino",
            "Napoli",
            "Brescia",
            "Mantova",
            "Firenze",
            "Bergamo",
            "Monza e della Brianza"
           ],
           "legendgroup": "Mercoledì",
           "marker": {
            "color": "#00cc96"
           },
           "name": "Mercoledì",
           "offsetgroup": "Mercoledì",
           "orientation": "h",
           "showlegend": true,
           "textposition": "auto",
           "type": "bar",
           "x": [
            1.0452676302922903,
            0.17419911147768385,
            0.08284020926687087,
            0.05956593270379302,
            0.02651435110384354,
            0.10341793570219966,
            0.00423290499335633,
            0.0014335156604239248,
            0.01714397904789423,
            0.03494387506100537,
            0.005438592848151521,
            0.011341547958842497,
            0.012634916060234888,
            0.0015071922154844168,
            0.0007300865978158027,
            0.0027946723785291848,
            0.005274891806431871,
            0.0008526932870141918,
            0.001022470039197685,
            0.0018492643094282653
           ],
           "xaxis": "x",
           "y": [
            "Padova",
            "Venezia",
            "Vicenza",
            "Treviso",
            "Verona",
            "Rovigo",
            "Milano",
            "Roma",
            "Trento",
            "Belluno",
            "Bologna",
            "Udine",
            "Ferrara",
            "Torino",
            "Napoli",
            "Brescia",
            "Mantova",
            "Firenze",
            "Bergamo",
            "Monza e della Brianza"
           ],
           "yaxis": "y"
          },
          {
           "alignmentgroup": "True",
           "hovertemplate": "<b>%{hovertext}</b><br><br>DAY=Giovedì<br>MONTH=Febbraio<br>=%{y}<extra></extra>",
           "hovertext": [
            "Padova",
            "Venezia",
            "Vicenza",
            "Treviso",
            "Verona",
            "Rovigo",
            "Milano",
            "Roma",
            "Trento",
            "Belluno",
            "Bologna",
            "Udine",
            "Ferrara",
            "Torino",
            "Napoli",
            "Brescia",
            "Mantova",
            "Firenze",
            "Bergamo",
            "Monza e della Brianza"
           ],
           "legendgroup": "Giovedì",
           "marker": {
            "color": "#ab63fa"
           },
           "name": "Giovedì",
           "offsetgroup": "Giovedì",
           "orientation": "h",
           "showlegend": true,
           "textposition": "auto",
           "type": "bar",
           "x": [
            1.034395883596302,
            0.16476090501808913,
            0.07400336421054583,
            0.052633476820445786,
            0.021078844109529368,
            0.10651438240270727,
            0.004281132657610171,
            0.0013297441872478176,
            0.012135625618172321,
            0.032132747681796,
            0.004279678153963597,
            0.011341547958842497,
            0.010836515599106564,
            0.0013220984346354533,
            0.000688809617020563,
            0.0022560167046630154,
            0.004585172988279637,
            0.001286935238734382,
            0.0010008685594963256,
            0.0018079656027660956
           ],
           "xaxis": "x",
           "y": [
            "Padova",
            "Venezia",
            "Vicenza",
            "Treviso",
            "Verona",
            "Rovigo",
            "Milano",
            "Roma",
            "Trento",
            "Belluno",
            "Bologna",
            "Udine",
            "Ferrara",
            "Torino",
            "Napoli",
            "Brescia",
            "Mantova",
            "Firenze",
            "Bergamo",
            "Monza e della Brianza"
           ],
           "yaxis": "y"
          },
          {
           "alignmentgroup": "True",
           "hovertemplate": "<b>%{hovertext}</b><br><br>DAY=Venerdì<br>MONTH=Febbraio<br>=%{y}<extra></extra>",
           "hovertext": [
            "Padova",
            "Venezia",
            "Vicenza",
            "Treviso",
            "Verona",
            "Rovigo",
            "Milano",
            "Roma",
            "Trento",
            "Belluno",
            "Bologna",
            "Udine",
            "Ferrara",
            "Torino",
            "Napoli",
            "Brescia",
            "Mantova",
            "Firenze",
            "Bergamo",
            "Monza e della Brianza"
           ],
           "legendgroup": "Venerdì",
           "marker": {
            "color": "#FFA15A"
           },
           "name": "Venerdì",
           "offsetgroup": "Venerdì",
           "orientation": "h",
           "showlegend": true,
           "textposition": "auto",
           "type": "bar",
           "x": [
            1.0429916518991396,
            0.17112489924456858,
            0.06982358747179114,
            0.05361159315769309,
            0.01993452684756849,
            0.10336717428087987,
            0.00433430674896697,
            0.0017338101004999167,
            0.01472870801521769,
            0.03264031234748658,
            0.004089821821809944,
            0.011318879974914098,
            0.012173787736868651,
            0.000916654914680581,
            0.0009287320678928939,
            0.0022116568256387425,
            0.005255463107328991,
            0.001965931745060498,
            0.001022470039197685,
            0.0008167966428740228
           ],
           "xaxis": "x",
           "y": [
            "Padova",
            "Venezia",
            "Vicenza",
            "Treviso",
            "Verona",
            "Rovigo",
            "Milano",
            "Roma",
            "Trento",
            "Belluno",
            "Bologna",
            "Udine",
            "Ferrara",
            "Torino",
            "Napoli",
            "Brescia",
            "Mantova",
            "Firenze",
            "Bergamo",
            "Monza e della Brianza"
           ],
           "yaxis": "y"
          },
          {
           "alignmentgroup": "True",
           "hovertemplate": "<b>%{hovertext}</b><br><br>DAY=Sabato<br>MONTH=Febbraio<br>=%{y}<extra></extra>",
           "hovertext": [
            "Padova",
            "Venezia",
            "Vicenza",
            "Treviso",
            "Verona",
            "Rovigo",
            "Milano",
            "Roma",
            "Trento",
            "Belluno",
            "Bologna",
            "Udine",
            "Ferrara",
            "Torino",
            "Napoli",
            "Brescia",
            "Mantova",
            "Ascoli Piceno",
            "Firenze",
            "Bergamo",
            "Monza e della Brianza"
           ],
           "legendgroup": "Sabato",
           "marker": {
            "color": "#19d3f3"
           },
           "name": "Sabato",
           "offsetgroup": "Sabato",
           "orientation": "h",
           "showlegend": true,
           "textposition": "auto",
           "type": "bar",
           "x": [
            0.8387898456348614,
            0.1182587586930849,
            0.04928614788624705,
            0.0346352347253837,
            0.016596934833515927,
            0.06648054145516075,
            0.005202404705536103,
            0.0017824816764143742,
            0.012594971642791787,
            0.027252318204001952,
            0.005126120968148634,
            0.006959071066018614,
            0.008507817566107068,
            0.0011387674516993372,
            0.00039471112885447994,
            0.0012103909848051571,
            0.004089741161156202,
            0.016047836373496115,
            0.0016540670706432703,
            0.0006516446376576795,
            0.000844329113982136
           ],
           "xaxis": "x",
           "y": [
            "Padova",
            "Venezia",
            "Vicenza",
            "Treviso",
            "Verona",
            "Rovigo",
            "Milano",
            "Roma",
            "Trento",
            "Belluno",
            "Bologna",
            "Udine",
            "Ferrara",
            "Torino",
            "Napoli",
            "Brescia",
            "Mantova",
            "Ascoli Piceno",
            "Firenze",
            "Bergamo",
            "Monza e della Brianza"
           ],
           "yaxis": "y"
          },
          {
           "alignmentgroup": "True",
           "hovertemplate": "<b>%{hovertext}</b><br><br>DAY=Domenica<br>MONTH=Febbraio<br>=%{y}<extra></extra>",
           "hovertext": [
            "Padova",
            "Venezia",
            "Vicenza",
            "Treviso",
            "Verona",
            "Rovigo",
            "Milano",
            "Roma",
            "Trento",
            "Belluno",
            "Bologna",
            "Udine",
            "Ferrara",
            "Torino",
            "Napoli",
            "Brescia",
            "Mantova",
            "Ascoli Piceno",
            "Firenze",
            "Bergamo"
           ],
           "legendgroup": "Domenica",
           "marker": {
            "color": "#FF6692"
           },
           "name": "Domenica",
           "offsetgroup": "Domenica",
           "orientation": "h",
           "showlegend": true,
           "textposition": "auto",
           "type": "bar",
           "x": [
            0.6439011892307364,
            0.09046431851837966,
            0.04619070347218039,
            0.03834937233778819,
            0.0192886811201739,
            0.07262267343485618,
            0.004338016569294188,
            0.0014785139098542723,
            0.012313436982541146,
            0.03191800878477306,
            0.0049679073580205894,
            0.007344426792801404,
            0.00940701779667123,
            0.0005535185446340432,
            0.00047597518479510815,
            0.0015082358868252744,
            0.00429374250173644,
            0.0006142712487462627,
            0.0005842528077689833,
            0.0009504651068598199
           ],
           "xaxis": "x",
           "y": [
            "Padova",
            "Venezia",
            "Vicenza",
            "Treviso",
            "Verona",
            "Rovigo",
            "Milano",
            "Roma",
            "Trento",
            "Belluno",
            "Bologna",
            "Udine",
            "Ferrara",
            "Torino",
            "Napoli",
            "Brescia",
            "Mantova",
            "Ascoli Piceno",
            "Firenze",
            "Bergamo"
           ],
           "yaxis": "y"
          }
         ],
         "name": "Febbraio"
        },
        {
         "data": [
          {
           "alignmentgroup": "True",
           "hovertemplate": "<b>%{hovertext}</b><br><br>DAY=Lunedì<br>MONTH=Marzo<br>=%{y}<extra></extra>",
           "hovertext": [
            "Padova",
            "Venezia",
            "Vicenza",
            "Treviso",
            "Verona",
            "Rovigo",
            "Milano",
            "Roma",
            "Trento",
            "Belluno",
            "Bologna",
            "Udine",
            "Ferrara",
            "Torino",
            "Napoli",
            "Brescia",
            "Mantova",
            "Firenze",
            "Bergamo",
            "Monza e della Brianza"
           ],
           "legendgroup": "Lunedì",
           "marker": {
            "color": "#636efa"
           },
           "name": "Lunedì",
           "offsetgroup": "Lunedì",
           "orientation": "h",
           "showlegend": true,
           "textposition": "auto",
           "type": "bar",
           "x": [
            1.015295599632769,
            0.17266200536112622,
            0.08847966413501328,
            0.06224335714768655,
            0.028672949575269745,
            0.10803722504230119,
            0.003223833864352893,
            0.0013233158659006251,
            0.017025438138315016,
            0.03976573938506588,
            0.004085866481556743,
            0.009036969592788558,
            0.012242956985373586,
            0.0005464673529826541,
            0.000726216880866249,
            0.002579210108982717,
            0.006557185947221939,
            0.0003789747942285297,
            0.0013824947008870107,
            0.0010003464502614438
           ],
           "xaxis": "x",
           "y": [
            "Padova",
            "Venezia",
            "Vicenza",
            "Treviso",
            "Verona",
            "Rovigo",
            "Milano",
            "Roma",
            "Trento",
            "Belluno",
            "Bologna",
            "Udine",
            "Ferrara",
            "Torino",
            "Napoli",
            "Brescia",
            "Mantova",
            "Firenze",
            "Bergamo",
            "Monza e della Brianza"
           ],
           "yaxis": "y"
          },
          {
           "alignmentgroup": "True",
           "hovertemplate": "<b>%{hovertext}</b><br><br>DAY=Martedì<br>MONTH=Marzo<br>=%{y}<extra></extra>",
           "hovertext": [
            "Padova",
            "Venezia",
            "Vicenza",
            "Treviso",
            "Verona",
            "Rovigo",
            "Milano",
            "Roma",
            "Trento",
            "Belluno",
            "Bologna",
            "Udine",
            "Ferrara",
            "Torino",
            "Napoli",
            "Brescia",
            "Mantova",
            "Firenze",
            "Bergamo",
            "Monza e della Brianza"
           ],
           "legendgroup": "Martedì",
           "marker": {
            "color": "#EF553B"
           },
           "name": "Martedì",
           "offsetgroup": "Martedì",
           "orientation": "h",
           "showlegend": true,
           "textposition": "auto",
           "type": "bar",
           "x": [
            1.0386403911437538,
            0.17936809942452248,
            0.0973674820783963,
            0.0721011471456582,
            0.03197586530865683,
            0.11705583756345178,
            0.003734552462733309,
            0.001577693724925242,
            0.016529048079452043,
            0.04730112249877989,
            0.004509087888649261,
            0.012588287074904465,
            0.014537070394120614,
            0.0010770695247496827,
            0.0008926147096970592,
            0.0025982214857074052,
            0.008393198012444082,
            0.0007105777391784932,
            0.0015049030858613815,
            0.0011747187672794936
           ],
           "xaxis": "x",
           "y": [
            "Padova",
            "Venezia",
            "Vicenza",
            "Treviso",
            "Verona",
            "Rovigo",
            "Milano",
            "Roma",
            "Trento",
            "Belluno",
            "Bologna",
            "Udine",
            "Ferrara",
            "Torino",
            "Napoli",
            "Brescia",
            "Mantova",
            "Firenze",
            "Bergamo",
            "Monza e della Brianza"
           ],
           "yaxis": "y"
          },
          {
           "alignmentgroup": "True",
           "hovertemplate": "<b>%{hovertext}</b><br><br>DAY=Mercoledì<br>MONTH=Marzo<br>=%{y}<extra></extra>",
           "hovertext": [
            "Padova",
            "Venezia",
            "Vicenza",
            "Treviso",
            "Verona",
            "Rovigo",
            "Milano",
            "Roma",
            "Trento",
            "Belluno",
            "Bologna",
            "Udine",
            "Ferrara",
            "Torino",
            "Napoli",
            "Brescia",
            "Mantova",
            "Firenze",
            "Bergamo",
            "Monza e della Brianza"
           ],
           "legendgroup": "Mercoledì",
           "marker": {
            "color": "#00cc96"
           },
           "name": "Mercoledì",
           "offsetgroup": "Mercoledì",
           "orientation": "h",
           "showlegend": true,
           "textposition": "auto",
           "type": "bar",
           "x": [
            1.1184661699084057,
            0.1987365737529758,
            0.1049439066547421,
            0.07737936940794664,
            0.03689989716315515,
            0.13067681895093064,
            0.00463480219547167,
            0.0017273817791527244,
            0.019714835024393498,
            0.05138116154221572,
            0.006083313309423301,
            0.014001258073108026,
            0.013995244614165285,
            0.0013309124241996898,
            0.0007520149938632739,
            0.0032794624850087375,
            0.00869434284853872,
            0.0004263466435070959,
            0.0012564860692957467,
            0.0012114287287569778
           ],
           "xaxis": "x",
           "y": [
            "Padova",
            "Venezia",
            "Vicenza",
            "Treviso",
            "Verona",
            "Rovigo",
            "Milano",
            "Roma",
            "Trento",
            "Belluno",
            "Bologna",
            "Udine",
            "Ferrara",
            "Torino",
            "Napoli",
            "Brescia",
            "Mantova",
            "Firenze",
            "Bergamo",
            "Monza e della Brianza"
           ],
           "yaxis": "y"
          },
          {
           "alignmentgroup": "True",
           "hovertemplate": "<b>%{hovertext}</b><br><br>DAY=Giovedì<br>MONTH=Marzo<br>=%{y}<extra></extra>",
           "hovertext": [
            "Padova",
            "Venezia",
            "Vicenza",
            "Treviso",
            "Verona",
            "Rovigo",
            "Milano",
            "Roma",
            "Trento",
            "Belluno",
            "Bologna",
            "Udine",
            "Ferrara",
            "Torino",
            "Napoli",
            "Brescia",
            "Mantova",
            "Firenze",
            "Bergamo",
            "Monza e della Brianza"
           ],
           "legendgroup": "Giovedì",
           "marker": {
            "color": "#ab63fa"
           },
           "name": "Giovedì",
           "offsetgroup": "Giovedì",
           "orientation": "h",
           "showlegend": true,
           "textposition": "auto",
           "type": "bar",
           "x": [
            1.0489314003885817,
            0.17947588430464692,
            0.09009226092557496,
            0.06917130558247504,
            0.030046997196639436,
            0.10807106598984771,
            0.0051665431090396575,
            0.002019411234639469,
            0.015958569952102063,
            0.03960956564177648,
            0.00547023557017713,
            0.009989024917781333,
            0.014779162763887889,
            0.0016429276547736567,
            0.0005688483915843976,
            0.0019169804864060736,
            0.006974902977933855,
            0.0007816355130963425,
            0.0014472991399910894,
            0.0013169698680047448
           ],
           "xaxis": "x",
           "y": [
            "Padova",
            "Venezia",
            "Vicenza",
            "Treviso",
            "Verona",
            "Rovigo",
            "Milano",
            "Roma",
            "Trento",
            "Belluno",
            "Bologna",
            "Udine",
            "Ferrara",
            "Torino",
            "Napoli",
            "Brescia",
            "Mantova",
            "Firenze",
            "Bergamo",
            "Monza e della Brianza"
           ],
           "yaxis": "y"
          },
          {
           "alignmentgroup": "True",
           "hovertemplate": "<b>%{hovertext}</b><br><br>DAY=Venerdì<br>MONTH=Marzo<br>=%{y}<extra></extra>",
           "hovertext": [
            "Padova",
            "Venezia",
            "Vicenza",
            "Treviso",
            "Verona",
            "Rovigo",
            "Milano",
            "Roma",
            "Trento",
            "Belluno",
            "Bologna",
            "Udine",
            "Ferrara",
            "Torino",
            "Napoli",
            "Brescia",
            "Mantova",
            "Firenze",
            "Bergamo",
            "Monza e della Brianza"
           ],
           "legendgroup": "Venerdì",
           "marker": {
            "color": "#FFA15A"
           },
           "name": "Venerdì",
           "offsetgroup": "Venerdì",
           "orientation": "h",
           "showlegend": true,
           "textposition": "auto",
           "type": "bar",
           "x": [
            1.0604607468454428,
            0.1724183178060622,
            0.07908211732105042,
            0.060643212909332674,
            0.024472785079663335,
            0.10218274111675127,
            0.0057094134835893005,
            0.002249912471517371,
            0.016810582739702686,
            0.03617374328940947,
            0.006020027865372084,
            0.013034090758829652,
            0.01598962461272426,
            0.0019531800874347765,
            0.0007210572582668441,
            0.0024207819696103142,
            0.006809759035559377,
            0.0010619189546611926,
            0.0010728734918341906,
            0.0024549786738067543
           ],
           "xaxis": "x",
           "y": [
            "Padova",
            "Venezia",
            "Vicenza",
            "Treviso",
            "Verona",
            "Rovigo",
            "Milano",
            "Roma",
            "Trento",
            "Belluno",
            "Bologna",
            "Udine",
            "Ferrara",
            "Torino",
            "Napoli",
            "Brescia",
            "Mantova",
            "Firenze",
            "Bergamo",
            "Monza e della Brianza"
           ],
           "yaxis": "y"
          },
          {
           "alignmentgroup": "True",
           "hovertemplate": "<b>%{hovertext}</b><br><br>DAY=Sabato<br>MONTH=Marzo<br>=%{y}<extra></extra>",
           "hovertext": [
            "Padova",
            "Venezia",
            "Vicenza",
            "Treviso",
            "Verona",
            "Rovigo",
            "Milano",
            "Roma",
            "Trento",
            "Belluno",
            "Bologna",
            "Udine",
            "Ferrara",
            "Torino",
            "Napoli",
            "Brescia",
            "Mantova",
            "Firenze",
            "Bergamo",
            "Monza e della Brianza"
           ],
           "legendgroup": "Sabato",
           "marker": {
            "color": "#19d3f3"
           },
           "name": "Sabato",
           "offsetgroup": "Sabato",
           "orientation": "h",
           "showlegend": true,
           "textposition": "auto",
           "type": "bar",
           "x": [
            0.8198646369323398,
            0.10839878531126398,
            0.044642981265147055,
            0.0340943408983345,
            0.01507551301931794,
            0.06658206429780034,
            0.006824832795306335,
            0.002399600525744853,
            0.013321034713964489,
            0.026100536847242558,
            0.004216392709912379,
            0.009052081582074158,
            0.00810433028316161,
            0.0013996615428007334,
            0.0005843272593826124,
            0.0011438511662687479,
            0.002885161816777653,
            0.0010342853759153622,
            0.0010980752181524434,
            0.0009911689598920727
           ],
           "xaxis": "x",
           "y": [
            "Padova",
            "Venezia",
            "Vicenza",
            "Treviso",
            "Verona",
            "Rovigo",
            "Milano",
            "Roma",
            "Trento",
            "Belluno",
            "Bologna",
            "Udine",
            "Ferrara",
            "Torino",
            "Napoli",
            "Brescia",
            "Mantova",
            "Firenze",
            "Bergamo",
            "Monza e della Brianza"
           ],
           "yaxis": "y"
          },
          {
           "alignmentgroup": "True",
           "hovertemplate": "<b>%{hovertext}</b><br><br>DAY=Domenica<br>MONTH=Marzo<br>=%{y}<extra></extra>",
           "hovertext": [
            "Padova",
            "Venezia",
            "Vicenza",
            "Treviso",
            "Verona",
            "Rovigo",
            "Milano",
            "Roma",
            "Trento",
            "Belluno",
            "Bologna",
            "Udine",
            "Ferrara",
            "Torino",
            "Napoli",
            "Brescia",
            "Mantova",
            "Firenze",
            "Bergamo",
            "Monza e della Brianza"
           ],
           "legendgroup": "Domenica",
           "marker": {
            "color": "#FF6692"
           },
           "name": "Domenica",
           "offsetgroup": "Domenica",
           "orientation": "h",
           "showlegend": true,
           "textposition": "auto",
           "type": "bar",
           "x": [
            0.6068492858210389,
            0.07998575365062703,
            0.042020194531072606,
            0.03587027563047937,
            0.017277456841575993,
            0.06133671742808799,
            0.00443323529102613,
            0.0014638206039178322,
            0.012958003178378138,
            0.0288530990727184,
            0.004936264635994981,
            0.006195915607095834,
            0.005372144967216658,
            0.0008496685939923847,
            0.0001367299988842316,
            0.0007097580643883644,
            0.003788596325061565,
            0.0007816355130963425,
            0.0003888266346244718,
            0.0008167966428740228
           ],
           "xaxis": "x",
           "y": [
            "Padova",
            "Venezia",
            "Vicenza",
            "Treviso",
            "Verona",
            "Rovigo",
            "Milano",
            "Roma",
            "Trento",
            "Belluno",
            "Bologna",
            "Udine",
            "Ferrara",
            "Torino",
            "Napoli",
            "Brescia",
            "Mantova",
            "Firenze",
            "Bergamo",
            "Monza e della Brianza"
           ],
           "yaxis": "y"
          }
         ],
         "name": "Marzo"
        },
        {
         "data": [
          {
           "alignmentgroup": "True",
           "hovertemplate": "<b>%{hovertext}</b><br><br>DAY=Lunedì<br>MONTH=Aprile<br>=%{y}<extra></extra>",
           "hovertext": [
            "Padova",
            "Venezia",
            "Vicenza",
            "Treviso",
            "Verona",
            "Rovigo",
            "Milano",
            "Roma",
            "Trento",
            "Belluno",
            "Bologna",
            "Udine",
            "Ferrara",
            "Torino",
            "Napoli",
            "Brescia",
            "Mantova",
            "Ascoli Piceno",
            "Firenze",
            "Bergamo",
            "Monza e della Brianza"
           ],
           "legendgroup": "Lunedì",
           "marker": {
            "color": "#636efa"
           },
           "name": "Lunedì",
           "offsetgroup": "Lunedì",
           "orientation": "h",
           "showlegend": true,
           "textposition": "auto",
           "type": "bar",
           "x": [
            1.0060892029805495,
            0.17123268412469306,
            0.08555104007859092,
            0.06681841743481103,
            0.028001096637376047,
            0.11712351945854484,
            0.006546596270764946,
            0.002740301557146055,
            0.01777372763003382,
            0.04308443142996584,
            0.008235018407164703,
            0.012792298930260059,
            0.01666978888968946,
            0.002212311380623325,
            0.001068041878076828,
            0.0031812370385978475,
            0.008364054963789763,
            0.0020731654645186367,
            0.0018593450841837239,
            0.0023149585746623643,
            0.0021521214916175096
           ],
           "xaxis": "x",
           "y": [
            "Padova",
            "Venezia",
            "Vicenza",
            "Treviso",
            "Verona",
            "Rovigo",
            "Milano",
            "Roma",
            "Trento",
            "Belluno",
            "Bologna",
            "Udine",
            "Ferrara",
            "Torino",
            "Napoli",
            "Brescia",
            "Mantova",
            "Ascoli Piceno",
            "Firenze",
            "Bergamo",
            "Monza e della Brianza"
           ],
           "yaxis": "y"
          },
          {
           "alignmentgroup": "True",
           "hovertemplate": "<b>%{hovertext}</b><br><br>DAY=Martedì<br>MONTH=Aprile<br>=%{y}<extra></extra>",
           "hovertext": [
            "Padova",
            "Venezia",
            "Vicenza",
            "Treviso",
            "Verona",
            "Rovigo",
            "Milano",
            "Roma",
            "Trento",
            "Belluno",
            "Bologna",
            "Udine",
            "Ferrara",
            "Torino",
            "Napoli",
            "Brescia",
            "Mantova",
            "Firenze",
            "Bergamo",
            "Monza e della Brianza"
           ],
           "legendgroup": "Martedì",
           "marker": {
            "color": "#EF553B"
           },
           "name": "Martedì",
           "offsetgroup": "Martedì",
           "orientation": "h",
           "showlegend": true,
           "textposition": "auto",
           "type": "bar",
           "x": [
            1.063091145888934,
            0.18073181247305378,
            0.09210800691377705,
            0.07227693763944919,
            0.03230095543989571,
            0.12455160744500846,
            0.004741150378185267,
            0.0016869751878275145,
            0.02107064667770579,
            0.04743777452415813,
            0.0060358492263848885,
            0.013358998528470044,
            0.013453418834209958,
            0.0009959808207587082,
            0.000853917540201522,
            0.0022813652069626,
            0.006576614646324819,
            0.0011211337662594004,
            0.0014580998798417691,
            0.0006837230325181427
           ],
           "xaxis": "x",
           "y": [
            "Padova",
            "Venezia",
            "Vicenza",
            "Treviso",
            "Verona",
            "Rovigo",
            "Milano",
            "Roma",
            "Trento",
            "Belluno",
            "Bologna",
            "Udine",
            "Ferrara",
            "Torino",
            "Napoli",
            "Brescia",
            "Mantova",
            "Firenze",
            "Bergamo",
            "Monza e della Brianza"
           ],
           "yaxis": "y"
          },
          {
           "alignmentgroup": "True",
           "hovertemplate": "<b>%{hovertext}</b><br><br>DAY=Mercoledì<br>MONTH=Aprile<br>=%{y}<extra></extra>",
           "hovertext": [
            "Padova",
            "Venezia",
            "Vicenza",
            "Treviso",
            "Verona",
            "Rovigo",
            "Milano",
            "Roma",
            "Trento",
            "Belluno",
            "Bologna",
            "Udine",
            "Ferrara",
            "Torino",
            "Napoli",
            "Brescia",
            "Mantova",
            "Firenze",
            "Bergamo",
            "Monza e della Brianza"
           ],
           "legendgroup": "Mercoledì",
           "marker": {
            "color": "#00cc96"
           },
           "name": "Mercoledì",
           "offsetgroup": "Mercoledì",
           "orientation": "h",
           "showlegend": true,
           "textposition": "auto",
           "type": "bar",
           "x": [
            1.0352883404146294,
            0.18032410444823513,
            0.09431837665256416,
            0.07328209866804895,
            0.03170712413349935,
            0.11414551607445009,
            0.0044047933351841215,
            0.0021167543864683835,
            0.01650682165890594,
            0.04544655929721816,
            0.007084014393483181,
            0.010578392499919717,
            0.012127674904532027,
            0.001124665068396559,
            0.0015285381950737214,
            0.0028548750714906977,
            0.00744119175640297,
            0.0015237944851272131,
            0.0013104897685491455,
            0.0015464071272390208
           ],
           "xaxis": "x",
           "y": [
            "Padova",
            "Venezia",
            "Vicenza",
            "Treviso",
            "Verona",
            "Rovigo",
            "Milano",
            "Roma",
            "Trento",
            "Belluno",
            "Bologna",
            "Udine",
            "Ferrara",
            "Torino",
            "Napoli",
            "Brescia",
            "Mantova",
            "Firenze",
            "Bergamo",
            "Monza e della Brianza"
           ],
           "yaxis": "y"
          },
          {
           "alignmentgroup": "True",
           "hovertemplate": "<b>%{hovertext}</b><br><br>DAY=Giovedì<br>MONTH=Aprile<br>=%{y}<extra></extra>",
           "hovertext": [
            "Padova",
            "Venezia",
            "Vicenza",
            "Treviso",
            "Verona",
            "Rovigo",
            "Milano",
            "Roma",
            "Trento",
            "Belluno",
            "Bologna",
            "Udine",
            "Ferrara",
            "Torino",
            "Napoli",
            "Brescia",
            "Mantova",
            "Ascoli Piceno",
            "Firenze",
            "Bergamo",
            "Monza e della Brianza"
           ],
           "legendgroup": "Giovedì",
           "marker": {
            "color": "#ab63fa"
           },
           "name": "Giovedì",
           "offsetgroup": "Giovedì",
           "orientation": "h",
           "showlegend": true,
           "textposition": "auto",
           "type": "bar",
           "x": [
            1.0848132886393236,
            0.1902684312145013,
            0.09860936696308173,
            0.0749002727006378,
            0.03223160287856475,
            0.11839255499153976,
            0.004973632452024294,
            0.0015354504703579772,
            0.018314570529989,
            0.043182040019521716,
            0.005778752109926817,
            0.013034090758829652,
            0.013534116290799049,
            0.0014278663094062897,
            0.000853917540201522,
            0.002290870895324944,
            0.00750919220326305,
            0.0007678390609328285,
            0.001539585101553402,
            0.001497702592627595,
            0.0024412124382526975
           ],
           "xaxis": "x",
           "y": [
            "Padova",
            "Venezia",
            "Vicenza",
            "Treviso",
            "Verona",
            "Rovigo",
            "Milano",
            "Roma",
            "Trento",
            "Belluno",
            "Bologna",
            "Udine",
            "Ferrara",
            "Torino",
            "Napoli",
            "Brescia",
            "Mantova",
            "Ascoli Piceno",
            "Firenze",
            "Bergamo",
            "Monza e della Brianza"
           ],
           "yaxis": "y"
          },
          {
           "alignmentgroup": "True",
           "hovertemplate": "<b>%{hovertext}</b><br><br>DAY=Venerdì<br>MONTH=Aprile<br>=%{y}<extra></extra>",
           "hovertext": [
            "Padova",
            "Venezia",
            "Vicenza",
            "Treviso",
            "Verona",
            "Rovigo",
            "Milano",
            "Roma",
            "Trento",
            "Belluno",
            "Bologna",
            "Udine",
            "Ferrara",
            "Torino",
            "Napoli",
            "Brescia",
            "Mantova",
            "Firenze",
            "Bergamo",
            "Monza e della Brianza"
           ],
           "legendgroup": "Venerdì",
           "marker": {
            "color": "#FFA15A"
           },
           "name": "Venerdì",
           "offsetgroup": "Venerdì",
           "orientation": "h",
           "showlegend": true,
           "textposition": "auto",
           "type": "bar",
           "x": [
            1.101565002028311,
            0.18265319511875083,
            0.08980495919852086,
            0.06917581303103379,
            0.029622212758487292,
            0.10969543147208122,
            0.005772480429152015,
            0.001821051604497529,
            0.016099337282227382,
            0.041971693509028796,
            0.006660792986390663,
            0.013918142132037228,
            0.013176741840190215,
            0.0018474122126639402,
            0.0009197027283439353,
            0.0023922649045232816,
            0.010064066135291747,
            0.0029449499634841996,
            0.0024697691791887746,
            0.002023636626446315
           ],
           "xaxis": "x",
           "y": [
            "Padova",
            "Venezia",
            "Vicenza",
            "Treviso",
            "Verona",
            "Rovigo",
            "Milano",
            "Roma",
            "Trento",
            "Belluno",
            "Bologna",
            "Udine",
            "Ferrara",
            "Torino",
            "Napoli",
            "Brescia",
            "Mantova",
            "Firenze",
            "Bergamo",
            "Monza e della Brianza"
           ],
           "yaxis": "y"
          },
          {
           "alignmentgroup": "True",
           "hovertemplate": "<b>%{hovertext}</b><br><br>DAY=Sabato<br>MONTH=Aprile<br>=%{y}<extra></extra>",
           "hovertext": [
            "Padova",
            "Venezia",
            "Vicenza",
            "Treviso",
            "Verona",
            "Rovigo",
            "Milano",
            "Roma",
            "Trento",
            "Belluno",
            "Bologna",
            "Udine",
            "Ferrara",
            "Torino",
            "Napoli",
            "Brescia",
            "Mantova",
            "Firenze",
            "Bergamo",
            "Monza e della Brianza"
           ],
           "legendgroup": "Sabato",
           "marker": {
            "color": "#19d3f3"
           },
           "name": "Sabato",
           "offsetgroup": "Sabato",
           "orientation": "h",
           "showlegend": true,
           "textposition": "auto",
           "type": "bar",
           "x": [
            0.8813374041889959,
            0.1218812679250942,
            0.05531021635673607,
            0.03649681098014469,
            0.018482457594701466,
            0.08576988155668358,
            0.006741980141331788,
            0.0024822503716373278,
            0.015528859154877403,
            0.0337725719863348,
            0.006518400737275424,
            0.00941476932492855,
            0.014848332012392823,
            0.0025437173882386123,
            0.0007429856543143152,
            0.0016856754029223654,
            0.006790330336456497,
            0.001630381146003987,
            0.0011556791640227354,
            0.0014959309302074802
           ],
           "xaxis": "x",
           "y": [
            "Padova",
            "Venezia",
            "Vicenza",
            "Treviso",
            "Verona",
            "Rovigo",
            "Milano",
            "Roma",
            "Trento",
            "Belluno",
            "Bologna",
            "Udine",
            "Ferrara",
            "Torino",
            "Napoli",
            "Brescia",
            "Mantova",
            "Firenze",
            "Bergamo",
            "Monza e della Brianza"
           ],
           "yaxis": "y"
          },
          {
           "alignmentgroup": "True",
           "hovertemplate": "<b>%{hovertext}</b><br><br>DAY=Domenica<br>MONTH=Aprile<br>=%{y}<extra></extra>",
           "hovertext": [
            "Padova",
            "Venezia",
            "Vicenza",
            "Treviso",
            "Verona",
            "Rovigo",
            "Milano",
            "Roma",
            "Trento",
            "Belluno",
            "Bologna",
            "Udine",
            "Ferrara",
            "Torino",
            "Napoli",
            "Brescia",
            "Mantova",
            "Ascoli Piceno",
            "Firenze",
            "Bergamo",
            "Monza e della Brianza"
           ],
           "legendgroup": "Domenica",
           "marker": {
            "color": "#FF6692"
           },
           "name": "Domenica",
           "offsetgroup": "Domenica",
           "orientation": "h",
           "showlegend": true,
           "textposition": "auto",
           "type": "bar",
           "x": [
            0.6635010782074001,
            0.08961141207565561,
            0.04381814727457241,
            0.03576660431362827,
            0.018426108638620056,
            0.06392554991539763,
            0.007281140695554213,
            0.0026659166958428277,
            0.01606229324798388,
            0.035236700829673014,
            0.005695689964609593,
            0.00788090241244019,
            0.012415880106635925,
            0.0024397123113806232,
            0.0010770712176257867,
            0.0017078553424345019,
            0.005682894487592347,
            0.0007678390609328285,
            0.0019422458204212147,
            0.001468900619692449,
            0.0031157579804014695
           ],
           "xaxis": "x",
           "y": [
            "Padova",
            "Venezia",
            "Vicenza",
            "Treviso",
            "Verona",
            "Rovigo",
            "Milano",
            "Roma",
            "Trento",
            "Belluno",
            "Bologna",
            "Udine",
            "Ferrara",
            "Torino",
            "Napoli",
            "Brescia",
            "Mantova",
            "Ascoli Piceno",
            "Firenze",
            "Bergamo",
            "Monza e della Brianza"
           ],
           "yaxis": "y"
          }
         ],
         "name": "Aprile"
        },
        {
         "data": [
          {
           "alignmentgroup": "True",
           "hovertemplate": "<b>%{hovertext}</b><br><br>DAY=Lunedì<br>MONTH=Maggio<br>=%{y}<extra></extra>",
           "hovertext": [
            "Padova",
            "Venezia",
            "Vicenza",
            "Treviso",
            "Verona",
            "Rovigo",
            "Milano",
            "Roma",
            "Trento",
            "Belluno",
            "Bologna",
            "Udine",
            "Ferrara",
            "Torino",
            "Napoli",
            "Brescia",
            "Mantova",
            "Firenze",
            "Bergamo",
            "Monza e della Brianza"
           ],
           "legendgroup": "Lunedì",
           "marker": {
            "color": "#636efa"
           },
           "name": "Lunedì",
           "offsetgroup": "Lunedì",
           "orientation": "h",
           "showlegend": true,
           "textposition": "auto",
           "type": "bar",
           "x": [
            1.077823088583812,
            0.18455583256790448,
            0.09578268868077534,
            0.07055058484145049,
            0.03398275505217155,
            0.11314720812182741,
            0.004469096887522576,
            0.0014895338893066022,
            0.01818862081356108,
            0.046325036603221084,
            0.004888800552956567,
            0.011507779840984092,
            0.01328049571294762,
            0.0010576787477083627,
            0.0006539821644745795,
            0.0023288936487743206,
            0.0064211850535017805,
            0.001350097704439137,
            0.0009504651068598199,
            0.0009452815080452175
           ],
           "xaxis": "x",
           "y": [
            "Padova",
            "Venezia",
            "Vicenza",
            "Treviso",
            "Verona",
            "Rovigo",
            "Milano",
            "Roma",
            "Trento",
            "Belluno",
            "Bologna",
            "Udine",
            "Ferrara",
            "Torino",
            "Napoli",
            "Brescia",
            "Mantova",
            "Firenze",
            "Bergamo",
            "Monza e della Brianza"
           ],
           "yaxis": "y"
          },
          {
           "alignmentgroup": "True",
           "hovertemplate": "<b>%{hovertext}</b><br><br>DAY=Martedì<br>MONTH=Maggio<br>=%{y}<extra></extra>",
           "hovertext": [
            "Padova",
            "Venezia",
            "Vicenza",
            "Treviso",
            "Verona",
            "Rovigo",
            "Milano",
            "Roma",
            "Trento",
            "Belluno",
            "Bologna",
            "Udine",
            "Ferrara",
            "Torino",
            "Napoli",
            "Brescia",
            "Mantova",
            "Firenze",
            "Bergamo",
            "Monza e della Brianza"
           ],
           "legendgroup": "Martedì",
           "marker": {
            "color": "#EF553B"
           },
           "name": "Martedì",
           "offsetgroup": "Martedì",
           "orientation": "h",
           "showlegend": true,
           "textposition": "auto",
           "type": "bar",
           "x": [
            1.0721096568951898,
            0.18700676701595217,
            0.08571786043623524,
            0.06761172838114984,
            0.03217091938740016,
            0.11174280879864636,
            0.005970337513270337,
            0.00267601834367413,
            0.015751123360338435,
            0.038028306490971206,
            0.006020027865372084,
            0.013600790357039637,
            0.013914547157576194,
            0.0014084755323649698,
            0.0016407599866107793,
            0.0025823786717701653,
            0.006654329442736338,
            0.001843554467757535,
            0.0015877087580499264,
            0.0020190478812616296
           ],
           "xaxis": "x",
           "y": [
            "Padova",
            "Venezia",
            "Vicenza",
            "Treviso",
            "Verona",
            "Rovigo",
            "Milano",
            "Roma",
            "Trento",
            "Belluno",
            "Bologna",
            "Udine",
            "Ferrara",
            "Torino",
            "Napoli",
            "Brescia",
            "Mantova",
            "Firenze",
            "Bergamo",
            "Monza e della Brianza"
           ],
           "yaxis": "y"
          },
          {
           "alignmentgroup": "True",
           "hovertemplate": "<b>%{hovertext}</b><br><br>DAY=Mercoledì<br>MONTH=Maggio<br>=%{y}<extra></extra>",
           "hovertext": [
            "Padova",
            "Venezia",
            "Vicenza",
            "Treviso",
            "Verona",
            "Rovigo",
            "Milano",
            "Roma",
            "Trento",
            "Belluno",
            "Bologna",
            "Udine",
            "Ferrara",
            "Torino",
            "Napoli",
            "Brescia",
            "Mantova",
            "Firenze",
            "Bergamo",
            "Monza e della Brianza"
           ],
           "legendgroup": "Mercoledì",
           "marker": {
            "color": "#00cc96"
           },
           "name": "Mercoledì",
           "offsetgroup": "Mercoledì",
           "orientation": "h",
           "showlegend": true,
           "textposition": "auto",
           "type": "bar",
           "x": [
            1.1312381237056173,
            0.19773370573790466,
            0.0986418042548459,
            0.07644632755628676,
            0.03624104783051101,
            0.12426395939086295,
            0.004772065547578755,
            0.001843091563402189,
            0.018922092691582484,
            0.046481210346510496,
            0.006055625927650894,
            0.012595843069547264,
            0.013903018949492038,
            0.0017257791566774785,
            0.0010164456520827783,
            0.002848537945915802,
            0.00750919220326305,
            0.0018593450841837239,
            0.0015445057986472072,
            0.001688658227964272
           ],
           "xaxis": "x",
           "y": [
            "Padova",
            "Venezia",
            "Vicenza",
            "Treviso",
            "Verona",
            "Rovigo",
            "Milano",
            "Roma",
            "Trento",
            "Belluno",
            "Bologna",
            "Udine",
            "Ferrara",
            "Torino",
            "Napoli",
            "Brescia",
            "Mantova",
            "Firenze",
            "Bergamo",
            "Monza e della Brianza"
           ],
           "yaxis": "y"
          },
          {
           "alignmentgroup": "True",
           "hovertemplate": "<b>%{hovertext}</b><br><br>DAY=Giovedì<br>MONTH=Maggio<br>=%{y}<extra></extra>",
           "hovertext": [
            "Padova",
            "Venezia",
            "Vicenza",
            "Treviso",
            "Verona",
            "Rovigo",
            "Milano",
            "Roma",
            "Trento",
            "Belluno",
            "Bologna",
            "Udine",
            "Ferrara",
            "Torino",
            "Napoli",
            "Brescia",
            "Mantova",
            "Ascoli Piceno",
            "Firenze",
            "Bergamo",
            "Monza e della Brianza"
           ],
           "legendgroup": "Giovedì",
           "marker": {
            "color": "#ab63fa"
           },
           "name": "Giovedì",
           "offsetgroup": "Giovedì",
           "orientation": "h",
           "showlegend": true,
           "textposition": "auto",
           "type": "bar",
           "x": [
            1.0991822704272263,
            0.1919648715016777,
            0.09697823457722624,
            0.07553131549886187,
            0.03413879831516621,
            0.12472081218274111,
            0.004995891373987605,
            0.0015694287403359946,
            0.01798858302864615,
            0.045407515861395804,
            0.006071447288663698,
            0.011197984060629301,
            0.013822321492902946,
            0.001054153151882668,
            0.000763624144711935,
            0.002693278369330847,
            0.007295476513131372,
            0.003608843586384294,
            0.0015553757179795906,
            0.001314090015166039,
            0.0013123811228200593
           ],
           "xaxis": "x",
           "y": [
            "Padova",
            "Venezia",
            "Vicenza",
            "Treviso",
            "Verona",
            "Rovigo",
            "Milano",
            "Roma",
            "Trento",
            "Belluno",
            "Bologna",
            "Udine",
            "Ferrara",
            "Torino",
            "Napoli",
            "Brescia",
            "Mantova",
            "Ascoli Piceno",
            "Firenze",
            "Bergamo",
            "Monza e della Brianza"
           ],
           "yaxis": "y"
          },
          {
           "alignmentgroup": "True",
           "hovertemplate": "<b>%{hovertext}</b><br><br>DAY=Venerdì<br>MONTH=Maggio<br>=%{y}<extra></extra>",
           "hovertext": [
            "Padova",
            "Venezia",
            "Vicenza",
            "Treviso",
            "Verona",
            "Rovigo",
            "Milano",
            "Roma",
            "Trento",
            "Belluno",
            "Bologna",
            "Udine",
            "Ferrara",
            "Torino",
            "Napoli",
            "Brescia",
            "Mantova",
            "Firenze",
            "Bergamo",
            "Monza e della Brianza"
           ],
           "legendgroup": "Venerdì",
           "marker": {
            "color": "#FFA15A"
           },
           "name": "Venerdì",
           "offsetgroup": "Venerdì",
           "orientation": "h",
           "showlegend": true,
           "textposition": "auto",
           "type": "bar",
           "x": [
            1.120460319832611,
            0.1864537837179223,
            0.08554177228094402,
            0.06702125261995448,
            0.029262446346582923,
            0.11345177664974619,
            0.005673551887092855,
            0.0020533895046174863,
            0.01720324950268384,
            0.0412298682284041,
            0.006285035662336558,
            0.011160204087415302,
            0.013603285539303985,
            0.002178818220279227,
            0.000998386972984861,
            0.0023162193976245284,
            0.005634322739835148,
            0.0025028127035509147,
            0.0014076964272052635,
            0.002312727573081503
           ],
           "xaxis": "x",
           "y": [
            "Padova",
            "Venezia",
            "Vicenza",
            "Treviso",
            "Verona",
            "Rovigo",
            "Milano",
            "Roma",
            "Trento",
            "Belluno",
            "Bologna",
            "Udine",
            "Ferrara",
            "Torino",
            "Napoli",
            "Brescia",
            "Mantova",
            "Firenze",
            "Bergamo",
            "Monza e della Brianza"
           ],
           "yaxis": "y"
          },
          {
           "alignmentgroup": "True",
           "hovertemplate": "<b>%{hovertext}</b><br><br>DAY=Sabato<br>MONTH=Maggio<br>=%{y}<extra></extra>",
           "hovertext": [
            "Padova",
            "Venezia",
            "Vicenza",
            "Treviso",
            "Verona",
            "Rovigo",
            "Milano",
            "Roma",
            "Trento",
            "Belluno",
            "Bologna",
            "Udine",
            "Ferrara",
            "Torino",
            "Napoli",
            "Brescia",
            "Mantova",
            "Firenze",
            "Bergamo",
            "Monza e della Brianza"
           ],
           "legendgroup": "Sabato",
           "marker": {
            "color": "#19d3f3"
           },
           "name": "Sabato",
           "offsetgroup": "Sabato",
           "orientation": "h",
           "showlegend": true,
           "textposition": "auto",
           "type": "bar",
           "x": [
            0.8961376689369516,
            0.12452902693684743,
            0.05365128057793986,
            0.04272610488832796,
            0.019284346585090716,
            0.08101522842639594,
            0.006525573955577375,
            0.0019248230776736364,
            0.015528859154877403,
            0.03353831137140068,
            0.008511892224888781,
            0.008515605962435373,
            0.012185315944952806,
            0.002111831899591031,
            0.0007623342390620838,
            0.0034252163732313478,
            0.00544003574880635,
            0.0027515149122633873,
            0.0012888882888477862,
            0.0013215586131894302
           ],
           "xaxis": "x",
           "y": [
            "Padova",
            "Venezia",
            "Vicenza",
            "Treviso",
            "Verona",
            "Rovigo",
            "Milano",
            "Roma",
            "Trento",
            "Belluno",
            "Bologna",
            "Udine",
            "Ferrara",
            "Torino",
            "Napoli",
            "Brescia",
            "Mantova",
            "Firenze",
            "Bergamo",
            "Monza e della Brianza"
           ],
           "yaxis": "y"
          },
          {
           "alignmentgroup": "True",
           "hovertemplate": "<b>%{hovertext}</b><br><br>DAY=Domenica<br>MONTH=Maggio<br>=%{y}<extra></extra>",
           "hovertext": [
            "Padova",
            "Venezia",
            "Vicenza",
            "Treviso",
            "Verona",
            "Rovigo",
            "Milano",
            "Roma",
            "Trento",
            "Belluno",
            "Bologna",
            "Udine",
            "Ferrara",
            "Torino",
            "Napoli",
            "Brescia",
            "Mantova",
            "Firenze",
            "Bergamo",
            "Monza e della Brianza"
           ],
           "legendgroup": "Domenica",
           "marker": {
            "color": "#FF6692"
           },
           "name": "Domenica",
           "offsetgroup": "Domenica",
           "orientation": "h",
           "showlegend": true,
           "textposition": "auto",
           "type": "bar",
           "x": [
            0.6887588872045605,
            0.09938234577389544,
            0.04697846627216741,
            0.03717743571251493,
            0.01738582021865562,
            0.05888324873096447,
            0.005714359910692259,
            0.0019542096895465164,
            0.015617764837061815,
            0.0379502196193265,
            0.005620538499798772,
            0.006709723242806221,
            0.00734346854960732,
            0.00104005076857989,
            0.000661721598373687,
            0.0017585523470336707,
            0.007091475172551134,
            0.0023014823441170084,
            0.0007200493233786514,
            0.0013399135939281724
           ],
           "xaxis": "x",
           "y": [
            "Padova",
            "Venezia",
            "Vicenza",
            "Treviso",
            "Verona",
            "Rovigo",
            "Milano",
            "Roma",
            "Trento",
            "Belluno",
            "Bologna",
            "Udine",
            "Ferrara",
            "Torino",
            "Napoli",
            "Brescia",
            "Mantova",
            "Firenze",
            "Bergamo",
            "Monza e della Brianza"
           ],
           "yaxis": "y"
          }
         ],
         "name": "Maggio"
        }
       ],
       "layout": {
        "autosize": false,
        "barmode": "stack",
        "height": 700,
        "legend": {
         "title": {
          "text": "DAY"
         },
         "tracegroupgap": 0
        },
        "sliders": [
         {
          "active": 0,
          "currentvalue": {
           "prefix": "MONTH="
          },
          "len": 0.9,
          "pad": {
           "b": 10,
           "t": 60
          },
          "steps": [
           {
            "args": [
             [
              "Febbraio"
             ],
             {
              "frame": {
               "duration": 0,
               "redraw": true
              },
              "fromcurrent": true,
              "mode": "immediate",
              "transition": {
               "duration": 0,
               "easing": "linear"
              }
             }
            ],
            "label": "Febbraio",
            "method": "animate"
           },
           {
            "args": [
             [
              "Marzo"
             ],
             {
              "frame": {
               "duration": 0,
               "redraw": true
              },
              "fromcurrent": true,
              "mode": "immediate",
              "transition": {
               "duration": 0,
               "easing": "linear"
              }
             }
            ],
            "label": "Marzo",
            "method": "animate"
           },
           {
            "args": [
             [
              "Aprile"
             ],
             {
              "frame": {
               "duration": 0,
               "redraw": true
              },
              "fromcurrent": true,
              "mode": "immediate",
              "transition": {
               "duration": 0,
               "easing": "linear"
              }
             }
            ],
            "label": "Aprile",
            "method": "animate"
           },
           {
            "args": [
             [
              "Maggio"
             ],
             {
              "frame": {
               "duration": 0,
               "redraw": true
              },
              "fromcurrent": true,
              "mode": "immediate",
              "transition": {
               "duration": 0,
               "easing": "linear"
              }
             }
            ],
            "label": "Maggio",
            "method": "animate"
           }
          ],
          "x": 0.1,
          "xanchor": "left",
          "y": 0,
          "yanchor": "top"
         }
        ],
        "template": {
         "data": {
          "bar": [
           {
            "error_x": {
             "color": "rgb(51,51,51)"
            },
            "error_y": {
             "color": "rgb(51,51,51)"
            },
            "marker": {
             "line": {
              "color": "rgb(237,237,237)",
              "width": 0.5
             }
            },
            "type": "bar"
           }
          ],
          "barpolar": [
           {
            "marker": {
             "line": {
              "color": "rgb(237,237,237)",
              "width": 0.5
             }
            },
            "type": "barpolar"
           }
          ],
          "carpet": [
           {
            "aaxis": {
             "endlinecolor": "rgb(51,51,51)",
             "gridcolor": "white",
             "linecolor": "white",
             "minorgridcolor": "white",
             "startlinecolor": "rgb(51,51,51)"
            },
            "baxis": {
             "endlinecolor": "rgb(51,51,51)",
             "gridcolor": "white",
             "linecolor": "white",
             "minorgridcolor": "white",
             "startlinecolor": "rgb(51,51,51)"
            },
            "type": "carpet"
           }
          ],
          "choropleth": [
           {
            "colorbar": {
             "outlinewidth": 0,
             "tickcolor": "rgb(237,237,237)",
             "ticklen": 6,
             "ticks": "inside"
            },
            "type": "choropleth"
           }
          ],
          "contour": [
           {
            "colorbar": {
             "outlinewidth": 0,
             "tickcolor": "rgb(237,237,237)",
             "ticklen": 6,
             "ticks": "inside"
            },
            "colorscale": [
             [
              0,
              "rgb(20,44,66)"
             ],
             [
              1,
              "rgb(90,179,244)"
             ]
            ],
            "type": "contour"
           }
          ],
          "contourcarpet": [
           {
            "colorbar": {
             "outlinewidth": 0,
             "tickcolor": "rgb(237,237,237)",
             "ticklen": 6,
             "ticks": "inside"
            },
            "type": "contourcarpet"
           }
          ],
          "heatmap": [
           {
            "colorbar": {
             "outlinewidth": 0,
             "tickcolor": "rgb(237,237,237)",
             "ticklen": 6,
             "ticks": "inside"
            },
            "colorscale": [
             [
              0,
              "rgb(20,44,66)"
             ],
             [
              1,
              "rgb(90,179,244)"
             ]
            ],
            "type": "heatmap"
           }
          ],
          "heatmapgl": [
           {
            "colorbar": {
             "outlinewidth": 0,
             "tickcolor": "rgb(237,237,237)",
             "ticklen": 6,
             "ticks": "inside"
            },
            "colorscale": [
             [
              0,
              "rgb(20,44,66)"
             ],
             [
              1,
              "rgb(90,179,244)"
             ]
            ],
            "type": "heatmapgl"
           }
          ],
          "histogram": [
           {
            "marker": {
             "colorbar": {
              "outlinewidth": 0,
              "tickcolor": "rgb(237,237,237)",
              "ticklen": 6,
              "ticks": "inside"
             }
            },
            "type": "histogram"
           }
          ],
          "histogram2d": [
           {
            "colorbar": {
             "outlinewidth": 0,
             "tickcolor": "rgb(237,237,237)",
             "ticklen": 6,
             "ticks": "inside"
            },
            "colorscale": [
             [
              0,
              "rgb(20,44,66)"
             ],
             [
              1,
              "rgb(90,179,244)"
             ]
            ],
            "type": "histogram2d"
           }
          ],
          "histogram2dcontour": [
           {
            "colorbar": {
             "outlinewidth": 0,
             "tickcolor": "rgb(237,237,237)",
             "ticklen": 6,
             "ticks": "inside"
            },
            "colorscale": [
             [
              0,
              "rgb(20,44,66)"
             ],
             [
              1,
              "rgb(90,179,244)"
             ]
            ],
            "type": "histogram2dcontour"
           }
          ],
          "mesh3d": [
           {
            "colorbar": {
             "outlinewidth": 0,
             "tickcolor": "rgb(237,237,237)",
             "ticklen": 6,
             "ticks": "inside"
            },
            "type": "mesh3d"
           }
          ],
          "parcoords": [
           {
            "line": {
             "colorbar": {
              "outlinewidth": 0,
              "tickcolor": "rgb(237,237,237)",
              "ticklen": 6,
              "ticks": "inside"
             }
            },
            "type": "parcoords"
           }
          ],
          "pie": [
           {
            "automargin": true,
            "type": "pie"
           }
          ],
          "scatter": [
           {
            "marker": {
             "colorbar": {
              "outlinewidth": 0,
              "tickcolor": "rgb(237,237,237)",
              "ticklen": 6,
              "ticks": "inside"
             }
            },
            "type": "scatter"
           }
          ],
          "scatter3d": [
           {
            "line": {
             "colorbar": {
              "outlinewidth": 0,
              "tickcolor": "rgb(237,237,237)",
              "ticklen": 6,
              "ticks": "inside"
             }
            },
            "marker": {
             "colorbar": {
              "outlinewidth": 0,
              "tickcolor": "rgb(237,237,237)",
              "ticklen": 6,
              "ticks": "inside"
             }
            },
            "type": "scatter3d"
           }
          ],
          "scattercarpet": [
           {
            "marker": {
             "colorbar": {
              "outlinewidth": 0,
              "tickcolor": "rgb(237,237,237)",
              "ticklen": 6,
              "ticks": "inside"
             }
            },
            "type": "scattercarpet"
           }
          ],
          "scattergeo": [
           {
            "marker": {
             "colorbar": {
              "outlinewidth": 0,
              "tickcolor": "rgb(237,237,237)",
              "ticklen": 6,
              "ticks": "inside"
             }
            },
            "type": "scattergeo"
           }
          ],
          "scattergl": [
           {
            "marker": {
             "colorbar": {
              "outlinewidth": 0,
              "tickcolor": "rgb(237,237,237)",
              "ticklen": 6,
              "ticks": "inside"
             }
            },
            "type": "scattergl"
           }
          ],
          "scattermapbox": [
           {
            "marker": {
             "colorbar": {
              "outlinewidth": 0,
              "tickcolor": "rgb(237,237,237)",
              "ticklen": 6,
              "ticks": "inside"
             }
            },
            "type": "scattermapbox"
           }
          ],
          "scatterpolar": [
           {
            "marker": {
             "colorbar": {
              "outlinewidth": 0,
              "tickcolor": "rgb(237,237,237)",
              "ticklen": 6,
              "ticks": "inside"
             }
            },
            "type": "scatterpolar"
           }
          ],
          "scatterpolargl": [
           {
            "marker": {
             "colorbar": {
              "outlinewidth": 0,
              "tickcolor": "rgb(237,237,237)",
              "ticklen": 6,
              "ticks": "inside"
             }
            },
            "type": "scatterpolargl"
           }
          ],
          "scatterternary": [
           {
            "marker": {
             "colorbar": {
              "outlinewidth": 0,
              "tickcolor": "rgb(237,237,237)",
              "ticklen": 6,
              "ticks": "inside"
             }
            },
            "type": "scatterternary"
           }
          ],
          "surface": [
           {
            "colorbar": {
             "outlinewidth": 0,
             "tickcolor": "rgb(237,237,237)",
             "ticklen": 6,
             "ticks": "inside"
            },
            "colorscale": [
             [
              0,
              "rgb(20,44,66)"
             ],
             [
              1,
              "rgb(90,179,244)"
             ]
            ],
            "type": "surface"
           }
          ],
          "table": [
           {
            "cells": {
             "fill": {
              "color": "rgb(237,237,237)"
             },
             "line": {
              "color": "white"
             }
            },
            "header": {
             "fill": {
              "color": "rgb(217,217,217)"
             },
             "line": {
              "color": "white"
             }
            },
            "type": "table"
           }
          ]
         },
         "layout": {
          "annotationdefaults": {
           "arrowhead": 0,
           "arrowwidth": 1
          },
          "autotypenumbers": "strict",
          "coloraxis": {
           "colorbar": {
            "outlinewidth": 0,
            "tickcolor": "rgb(237,237,237)",
            "ticklen": 6,
            "ticks": "inside"
           }
          },
          "colorscale": {
           "sequential": [
            [
             0,
             "rgb(20,44,66)"
            ],
            [
             1,
             "rgb(90,179,244)"
            ]
           ],
           "sequentialminus": [
            [
             0,
             "rgb(20,44,66)"
            ],
            [
             1,
             "rgb(90,179,244)"
            ]
           ]
          },
          "colorway": [
           "#F8766D",
           "#A3A500",
           "#00BF7D",
           "#00B0F6",
           "#E76BF3"
          ],
          "font": {
           "color": "rgb(51,51,51)"
          },
          "geo": {
           "bgcolor": "white",
           "lakecolor": "white",
           "landcolor": "rgb(237,237,237)",
           "showlakes": true,
           "showland": true,
           "subunitcolor": "white"
          },
          "hoverlabel": {
           "align": "left"
          },
          "hovermode": "closest",
          "paper_bgcolor": "white",
          "plot_bgcolor": "rgb(237,237,237)",
          "polar": {
           "angularaxis": {
            "gridcolor": "white",
            "linecolor": "white",
            "showgrid": true,
            "tickcolor": "rgb(51,51,51)",
            "ticks": "outside"
           },
           "bgcolor": "rgb(237,237,237)",
           "radialaxis": {
            "gridcolor": "white",
            "linecolor": "white",
            "showgrid": true,
            "tickcolor": "rgb(51,51,51)",
            "ticks": "outside"
           }
          },
          "scene": {
           "xaxis": {
            "backgroundcolor": "rgb(237,237,237)",
            "gridcolor": "white",
            "gridwidth": 2,
            "linecolor": "white",
            "showbackground": true,
            "showgrid": true,
            "tickcolor": "rgb(51,51,51)",
            "ticks": "outside",
            "zerolinecolor": "white"
           },
           "yaxis": {
            "backgroundcolor": "rgb(237,237,237)",
            "gridcolor": "white",
            "gridwidth": 2,
            "linecolor": "white",
            "showbackground": true,
            "showgrid": true,
            "tickcolor": "rgb(51,51,51)",
            "ticks": "outside",
            "zerolinecolor": "white"
           },
           "zaxis": {
            "backgroundcolor": "rgb(237,237,237)",
            "gridcolor": "white",
            "gridwidth": 2,
            "linecolor": "white",
            "showbackground": true,
            "showgrid": true,
            "tickcolor": "rgb(51,51,51)",
            "ticks": "outside",
            "zerolinecolor": "white"
           }
          },
          "shapedefaults": {
           "fillcolor": "black",
           "line": {
            "width": 0
           },
           "opacity": 0.3
          },
          "ternary": {
           "aaxis": {
            "gridcolor": "white",
            "linecolor": "white",
            "showgrid": true,
            "tickcolor": "rgb(51,51,51)",
            "ticks": "outside"
           },
           "baxis": {
            "gridcolor": "white",
            "linecolor": "white",
            "showgrid": true,
            "tickcolor": "rgb(51,51,51)",
            "ticks": "outside"
           },
           "bgcolor": "rgb(237,237,237)",
           "caxis": {
            "gridcolor": "white",
            "linecolor": "white",
            "showgrid": true,
            "tickcolor": "rgb(51,51,51)",
            "ticks": "outside"
           }
          },
          "xaxis": {
           "automargin": true,
           "gridcolor": "white",
           "linecolor": "white",
           "showgrid": true,
           "tickcolor": "rgb(51,51,51)",
           "ticks": "outside",
           "title": {
            "standoff": 15
           },
           "zerolinecolor": "white"
          },
          "yaxis": {
           "automargin": true,
           "gridcolor": "white",
           "linecolor": "white",
           "showgrid": true,
           "tickcolor": "rgb(51,51,51)",
           "ticks": "outside",
           "title": {
            "standoff": 15
           },
           "zerolinecolor": "white"
          }
         }
        },
        "title": {
         "text": "Ranking of provinces with most visitors montly"
        },
        "uniformtext": {
         "minsize": 5,
         "mode": "hide"
        },
        "updatemenus": [
         {
          "buttons": [
           {
            "args": [
             null,
             {
              "frame": {
               "duration": 500,
               "redraw": true
              },
              "fromcurrent": true,
              "mode": "immediate",
              "transition": {
               "duration": 500,
               "easing": "linear"
              }
             }
            ],
            "label": "&#9654;",
            "method": "animate"
           },
           {
            "args": [
             [
              null
             ],
             {
              "frame": {
               "duration": 0,
               "redraw": true
              },
              "fromcurrent": true,
              "mode": "immediate",
              "transition": {
               "duration": 0,
               "easing": "linear"
              }
             }
            ],
            "label": "&#9724;",
            "method": "animate"
           }
          ],
          "direction": "left",
          "pad": {
           "r": 10,
           "t": 70
          },
          "showactive": false,
          "type": "buttons",
          "x": 0.1,
          "xanchor": "right",
          "y": 0,
          "yanchor": "top"
         }
        ],
        "width": 900,
        "xaxis": {
         "anchor": "y",
         "domain": [
          0,
          1
         ],
         "fixedrange": true,
         "mirror": "all",
         "range": [
          -3,
          1
         ],
         "side": "top",
         "tickwidth": 1,
         "title": {
          "text": ""
         },
         "type": "log"
        },
        "yaxis": {
         "anchor": "x",
         "categoryorder": "total ascending",
         "domain": [
          0,
          1
         ],
         "tickangle": -25,
         "title": {
          "text": ""
         },
         "visible": true
        }
       }
      },
      "text/html": [
       "<div>                            <div id=\"6e43cf42-5876-4b91-a14b-606f10583365\" class=\"plotly-graph-div\" style=\"height:700px; width:900px;\"></div>            <script type=\"text/javascript\">                require([\"plotly\"], function(Plotly) {                    window.PLOTLYENV=window.PLOTLYENV || {};                                    if (document.getElementById(\"6e43cf42-5876-4b91-a14b-606f10583365\")) {                    Plotly.newPlot(                        \"6e43cf42-5876-4b91-a14b-606f10583365\",                        [{\"alignmentgroup\": \"True\", \"hovertemplate\": \"<b>%{hovertext}</b><br><br>DAY=Luned\\u00ec<br>MONTH=Febbraio<br>=%{y}<extra></extra>\", \"hovertext\": [\"Padova\", \"Venezia\", \"Vicenza\", \"Treviso\", \"Verona\", \"Rovigo\", \"Milano\", \"Roma\", \"Trento\", \"Belluno\", \"Bologna\", \"Udine\", \"Ferrara\", \"Torino\", \"Napoli\", \"Brescia\", \"Mantova\", \"Ascoli Piceno\", \"Firenze\", \"Bergamo\", \"Monza e della Brianza\"], \"legendgroup\": \"Luned\\u00ec\", \"marker\": {\"color\": \"#636efa\"}, \"name\": \"Luned\\u00ec\", \"offsetgroup\": \"Luned\\u00ec\", \"orientation\": \"h\", \"showlegend\": true, \"textposition\": \"outside\", \"type\": \"bar\", \"x\": [1.000755812712172, 0.1689176523515849, 0.07930917836339961, 0.05822271303328751, 0.02498859475456237, 0.1090186125211506, 0.003384592745199029, 0.0012838276061964426, 0.01474352562891509, 0.03703269887750122, 0.0039316082116819, 0.009898352982067735, 0.010928741263779811, 0.0012075165703003808, 0.0008332790498039021, 0.0020247116211793074, 0.008364054963789763, 0.0006142712487462627, 0.0006316246570475495, 0.0012312843429774939, 0.0010416451569236135], \"xaxis\": \"x\", \"y\": [\"Padova\", \"Venezia\", \"Vicenza\", \"Treviso\", \"Verona\", \"Rovigo\", \"Milano\", \"Roma\", \"Trento\", \"Belluno\", \"Bologna\", \"Udine\", \"Ferrara\", \"Torino\", \"Napoli\", \"Brescia\", \"Mantova\", \"Ascoli Piceno\", \"Firenze\", \"Bergamo\", \"Monza e della Brianza\"], \"yaxis\": \"y\"}, {\"alignmentgroup\": \"True\", \"hovertemplate\": \"<b>%{hovertext}</b><br><br>DAY=Marted\\u00ec<br>MONTH=Febbraio<br>=%{y}<extra></extra>\", \"hovertext\": [\"Padova\", \"Venezia\", \"Vicenza\", \"Treviso\", \"Verona\", \"Rovigo\", \"Milano\", \"Roma\", \"Trento\", \"Belluno\", \"Bologna\", \"Udine\", \"Ferrara\", \"Torino\", \"Napoli\", \"Brescia\", \"Mantova\", \"Firenze\", \"Bergamo\", \"Monza e della Brianza\"], \"legendgroup\": \"Marted\\u00ec\", \"marker\": {\"color\": \"#EF553B\"}, \"name\": \"Marted\\u00ec\", \"offsetgroup\": \"Marted\\u00ec\", \"orientation\": \"h\", \"showlegend\": true, \"textposition\": \"outside\", \"type\": \"bar\", \"x\": [1.0373807032901339, 0.17294786960841285, 0.08120444298219193, 0.06334317459601992, 0.027580646734307088, 0.11255499153976312, 0.003570083761559955, 0.0017328917688788892, 0.01741810490129617, 0.03767691556857004, 0.004485355847130054, 0.011099756130272904, 0.012023921031774623, 0.0018033422648427585, 0.000736536126065059, 0.002471478974209483, 0.006353184606641701, 0.0014606320194224581, 0.001540905552030314, 0.001408744771698455], \"xaxis\": \"x\", \"y\": [\"Padova\", \"Venezia\", \"Vicenza\", \"Treviso\", \"Verona\", \"Rovigo\", \"Milano\", \"Roma\", \"Trento\", \"Belluno\", \"Bologna\", \"Udine\", \"Ferrara\", \"Torino\", \"Napoli\", \"Brescia\", \"Mantova\", \"Firenze\", \"Bergamo\", \"Monza e della Brianza\"], \"yaxis\": \"y\"}, {\"alignmentgroup\": \"True\", \"hovertemplate\": \"<b>%{hovertext}</b><br><br>DAY=Mercoled\\u00ec<br>MONTH=Febbraio<br>=%{y}<extra></extra>\", \"hovertext\": [\"Padova\", \"Venezia\", \"Vicenza\", \"Treviso\", \"Verona\", \"Rovigo\", \"Milano\", \"Roma\", \"Trento\", \"Belluno\", \"Bologna\", \"Udine\", \"Ferrara\", \"Torino\", \"Napoli\", \"Brescia\", \"Mantova\", \"Firenze\", \"Bergamo\", \"Monza e della Brianza\"], \"legendgroup\": \"Mercoled\\u00ec\", \"marker\": {\"color\": \"#00cc96\"}, \"name\": \"Mercoled\\u00ec\", \"offsetgroup\": \"Mercoled\\u00ec\", \"orientation\": \"h\", \"showlegend\": true, \"textposition\": \"outside\", \"type\": \"bar\", \"x\": [1.0452676302922903, 0.17419911147768385, 0.08284020926687087, 0.05956593270379302, 0.02651435110384354, 0.10341793570219966, 0.00423290499335633, 0.0014335156604239248, 0.01714397904789423, 0.03494387506100537, 0.005438592848151521, 0.011341547958842497, 0.012634916060234888, 0.0015071922154844168, 0.0007300865978158027, 0.0027946723785291848, 0.005274891806431871, 0.0008526932870141918, 0.001022470039197685, 0.0018492643094282653], \"xaxis\": \"x\", \"y\": [\"Padova\", \"Venezia\", \"Vicenza\", \"Treviso\", \"Verona\", \"Rovigo\", \"Milano\", \"Roma\", \"Trento\", \"Belluno\", \"Bologna\", \"Udine\", \"Ferrara\", \"Torino\", \"Napoli\", \"Brescia\", \"Mantova\", \"Firenze\", \"Bergamo\", \"Monza e della Brianza\"], \"yaxis\": \"y\"}, {\"alignmentgroup\": \"True\", \"hovertemplate\": \"<b>%{hovertext}</b><br><br>DAY=Gioved\\u00ec<br>MONTH=Febbraio<br>=%{y}<extra></extra>\", \"hovertext\": [\"Padova\", \"Venezia\", \"Vicenza\", \"Treviso\", \"Verona\", \"Rovigo\", \"Milano\", \"Roma\", \"Trento\", \"Belluno\", \"Bologna\", \"Udine\", \"Ferrara\", \"Torino\", \"Napoli\", \"Brescia\", \"Mantova\", \"Firenze\", \"Bergamo\", \"Monza e della Brianza\"], \"legendgroup\": \"Gioved\\u00ec\", \"marker\": {\"color\": \"#ab63fa\"}, \"name\": \"Gioved\\u00ec\", \"offsetgroup\": \"Gioved\\u00ec\", \"orientation\": \"h\", \"showlegend\": true, \"textposition\": \"outside\", \"type\": \"bar\", \"x\": [1.034395883596302, 0.16476090501808913, 0.07400336421054583, 0.052633476820445786, 0.021078844109529368, 0.10651438240270727, 0.004281132657610171, 0.0013297441872478176, 0.012135625618172321, 0.032132747681796, 0.004279678153963597, 0.011341547958842497, 0.010836515599106564, 0.0013220984346354533, 0.000688809617020563, 0.0022560167046630154, 0.004585172988279637, 0.001286935238734382, 0.0010008685594963256, 0.0018079656027660956], \"xaxis\": \"x\", \"y\": [\"Padova\", \"Venezia\", \"Vicenza\", \"Treviso\", \"Verona\", \"Rovigo\", \"Milano\", \"Roma\", \"Trento\", \"Belluno\", \"Bologna\", \"Udine\", \"Ferrara\", \"Torino\", \"Napoli\", \"Brescia\", \"Mantova\", \"Firenze\", \"Bergamo\", \"Monza e della Brianza\"], \"yaxis\": \"y\"}, {\"alignmentgroup\": \"True\", \"hovertemplate\": \"<b>%{hovertext}</b><br><br>DAY=Venerd\\u00ec<br>MONTH=Febbraio<br>=%{y}<extra></extra>\", \"hovertext\": [\"Padova\", \"Venezia\", \"Vicenza\", \"Treviso\", \"Verona\", \"Rovigo\", \"Milano\", \"Roma\", \"Trento\", \"Belluno\", \"Bologna\", \"Udine\", \"Ferrara\", \"Torino\", \"Napoli\", \"Brescia\", \"Mantova\", \"Firenze\", \"Bergamo\", \"Monza e della Brianza\"], \"legendgroup\": \"Venerd\\u00ec\", \"marker\": {\"color\": \"#FFA15A\"}, \"name\": \"Venerd\\u00ec\", \"offsetgroup\": \"Venerd\\u00ec\", \"orientation\": \"h\", \"showlegend\": true, \"textposition\": \"outside\", \"type\": \"bar\", \"x\": [1.0429916518991396, 0.17112489924456858, 0.06982358747179114, 0.05361159315769309, 0.01993452684756849, 0.10336717428087987, 0.00433430674896697, 0.0017338101004999167, 0.01472870801521769, 0.03264031234748658, 0.004089821821809944, 0.011318879974914098, 0.012173787736868651, 0.000916654914680581, 0.0009287320678928939, 0.0022116568256387425, 0.005255463107328991, 0.001965931745060498, 0.001022470039197685, 0.0008167966428740228], \"xaxis\": \"x\", \"y\": [\"Padova\", \"Venezia\", \"Vicenza\", \"Treviso\", \"Verona\", \"Rovigo\", \"Milano\", \"Roma\", \"Trento\", \"Belluno\", \"Bologna\", \"Udine\", \"Ferrara\", \"Torino\", \"Napoli\", \"Brescia\", \"Mantova\", \"Firenze\", \"Bergamo\", \"Monza e della Brianza\"], \"yaxis\": \"y\"}, {\"alignmentgroup\": \"True\", \"hovertemplate\": \"<b>%{hovertext}</b><br><br>DAY=Sabato<br>MONTH=Febbraio<br>=%{y}<extra></extra>\", \"hovertext\": [\"Padova\", \"Venezia\", \"Vicenza\", \"Treviso\", \"Verona\", \"Rovigo\", \"Milano\", \"Roma\", \"Trento\", \"Belluno\", \"Bologna\", \"Udine\", \"Ferrara\", \"Torino\", \"Napoli\", \"Brescia\", \"Mantova\", \"Ascoli Piceno\", \"Firenze\", \"Bergamo\", \"Monza e della Brianza\"], \"legendgroup\": \"Sabato\", \"marker\": {\"color\": \"#19d3f3\"}, \"name\": \"Sabato\", \"offsetgroup\": \"Sabato\", \"orientation\": \"h\", \"showlegend\": true, \"textposition\": \"outside\", \"type\": \"bar\", \"x\": [0.8387898456348614, 0.1182587586930849, 0.04928614788624705, 0.0346352347253837, 0.016596934833515927, 0.06648054145516075, 0.005202404705536103, 0.0017824816764143742, 0.012594971642791787, 0.027252318204001952, 0.005126120968148634, 0.006959071066018614, 0.008507817566107068, 0.0011387674516993372, 0.00039471112885447994, 0.0012103909848051571, 0.004089741161156202, 0.016047836373496115, 0.0016540670706432703, 0.0006516446376576795, 0.000844329113982136], \"xaxis\": \"x\", \"y\": [\"Padova\", \"Venezia\", \"Vicenza\", \"Treviso\", \"Verona\", \"Rovigo\", \"Milano\", \"Roma\", \"Trento\", \"Belluno\", \"Bologna\", \"Udine\", \"Ferrara\", \"Torino\", \"Napoli\", \"Brescia\", \"Mantova\", \"Ascoli Piceno\", \"Firenze\", \"Bergamo\", \"Monza e della Brianza\"], \"yaxis\": \"y\"}, {\"alignmentgroup\": \"True\", \"hovertemplate\": \"<b>%{hovertext}</b><br><br>DAY=Domenica<br>MONTH=Febbraio<br>=%{y}<extra></extra>\", \"hovertext\": [\"Padova\", \"Venezia\", \"Vicenza\", \"Treviso\", \"Verona\", \"Rovigo\", \"Milano\", \"Roma\", \"Trento\", \"Belluno\", \"Bologna\", \"Udine\", \"Ferrara\", \"Torino\", \"Napoli\", \"Brescia\", \"Mantova\", \"Ascoli Piceno\", \"Firenze\", \"Bergamo\"], \"legendgroup\": \"Domenica\", \"marker\": {\"color\": \"#FF6692\"}, \"name\": \"Domenica\", \"offsetgroup\": \"Domenica\", \"orientation\": \"h\", \"showlegend\": true, \"textposition\": \"outside\", \"type\": \"bar\", \"x\": [0.6439011892307364, 0.09046431851837966, 0.04619070347218039, 0.03834937233778819, 0.0192886811201739, 0.07262267343485618, 0.004338016569294188, 0.0014785139098542723, 0.012313436982541146, 0.03191800878477306, 0.0049679073580205894, 0.007344426792801404, 0.00940701779667123, 0.0005535185446340432, 0.00047597518479510815, 0.0015082358868252744, 0.00429374250173644, 0.0006142712487462627, 0.0005842528077689833, 0.0009504651068598199], \"xaxis\": \"x\", \"y\": [\"Padova\", \"Venezia\", \"Vicenza\", \"Treviso\", \"Verona\", \"Rovigo\", \"Milano\", \"Roma\", \"Trento\", \"Belluno\", \"Bologna\", \"Udine\", \"Ferrara\", \"Torino\", \"Napoli\", \"Brescia\", \"Mantova\", \"Ascoli Piceno\", \"Firenze\", \"Bergamo\"], \"yaxis\": \"y\"}],                        {\"autosize\": false, \"barmode\": \"stack\", \"height\": 700, \"legend\": {\"title\": {\"text\": \"DAY\"}, \"tracegroupgap\": 0}, \"sliders\": [{\"active\": 0, \"currentvalue\": {\"prefix\": \"MONTH=\"}, \"len\": 0.9, \"pad\": {\"b\": 10, \"t\": 60}, \"steps\": [{\"args\": [[\"Febbraio\"], {\"frame\": {\"duration\": 0, \"redraw\": true}, \"fromcurrent\": true, \"mode\": \"immediate\", \"transition\": {\"duration\": 0, \"easing\": \"linear\"}}], \"label\": \"Febbraio\", \"method\": \"animate\"}, {\"args\": [[\"Marzo\"], {\"frame\": {\"duration\": 0, \"redraw\": true}, \"fromcurrent\": true, \"mode\": \"immediate\", \"transition\": {\"duration\": 0, \"easing\": \"linear\"}}], \"label\": \"Marzo\", \"method\": \"animate\"}, {\"args\": [[\"Aprile\"], {\"frame\": {\"duration\": 0, \"redraw\": true}, \"fromcurrent\": true, \"mode\": \"immediate\", \"transition\": {\"duration\": 0, \"easing\": \"linear\"}}], \"label\": \"Aprile\", \"method\": \"animate\"}, {\"args\": [[\"Maggio\"], {\"frame\": {\"duration\": 0, \"redraw\": true}, \"fromcurrent\": true, \"mode\": \"immediate\", \"transition\": {\"duration\": 0, \"easing\": \"linear\"}}], \"label\": \"Maggio\", \"method\": \"animate\"}], \"x\": 0.1, \"xanchor\": \"left\", \"y\": 0, \"yanchor\": \"top\"}], \"template\": {\"data\": {\"bar\": [{\"error_x\": {\"color\": \"rgb(51,51,51)\"}, \"error_y\": {\"color\": \"rgb(51,51,51)\"}, \"marker\": {\"line\": {\"color\": \"rgb(237,237,237)\", \"width\": 0.5}}, \"type\": \"bar\"}], \"barpolar\": [{\"marker\": {\"line\": {\"color\": \"rgb(237,237,237)\", \"width\": 0.5}}, \"type\": \"barpolar\"}], \"carpet\": [{\"aaxis\": {\"endlinecolor\": \"rgb(51,51,51)\", \"gridcolor\": \"white\", \"linecolor\": \"white\", \"minorgridcolor\": \"white\", \"startlinecolor\": \"rgb(51,51,51)\"}, \"baxis\": {\"endlinecolor\": \"rgb(51,51,51)\", \"gridcolor\": \"white\", \"linecolor\": \"white\", \"minorgridcolor\": \"white\", \"startlinecolor\": \"rgb(51,51,51)\"}, \"type\": \"carpet\"}], \"choropleth\": [{\"colorbar\": {\"outlinewidth\": 0, \"tickcolor\": \"rgb(237,237,237)\", \"ticklen\": 6, \"ticks\": \"inside\"}, \"type\": \"choropleth\"}], \"contour\": [{\"colorbar\": {\"outlinewidth\": 0, \"tickcolor\": \"rgb(237,237,237)\", \"ticklen\": 6, \"ticks\": \"inside\"}, \"colorscale\": [[0, \"rgb(20,44,66)\"], [1, \"rgb(90,179,244)\"]], \"type\": \"contour\"}], \"contourcarpet\": [{\"colorbar\": {\"outlinewidth\": 0, \"tickcolor\": \"rgb(237,237,237)\", \"ticklen\": 6, \"ticks\": \"inside\"}, \"type\": \"contourcarpet\"}], \"heatmap\": [{\"colorbar\": {\"outlinewidth\": 0, \"tickcolor\": \"rgb(237,237,237)\", \"ticklen\": 6, \"ticks\": \"inside\"}, \"colorscale\": [[0, \"rgb(20,44,66)\"], [1, \"rgb(90,179,244)\"]], \"type\": \"heatmap\"}], \"heatmapgl\": [{\"colorbar\": {\"outlinewidth\": 0, \"tickcolor\": \"rgb(237,237,237)\", \"ticklen\": 6, \"ticks\": \"inside\"}, \"colorscale\": [[0, \"rgb(20,44,66)\"], [1, \"rgb(90,179,244)\"]], \"type\": \"heatmapgl\"}], \"histogram\": [{\"marker\": {\"colorbar\": {\"outlinewidth\": 0, \"tickcolor\": \"rgb(237,237,237)\", \"ticklen\": 6, \"ticks\": \"inside\"}}, \"type\": \"histogram\"}], \"histogram2d\": [{\"colorbar\": {\"outlinewidth\": 0, \"tickcolor\": \"rgb(237,237,237)\", \"ticklen\": 6, \"ticks\": \"inside\"}, \"colorscale\": [[0, \"rgb(20,44,66)\"], [1, \"rgb(90,179,244)\"]], \"type\": \"histogram2d\"}], \"histogram2dcontour\": [{\"colorbar\": {\"outlinewidth\": 0, \"tickcolor\": \"rgb(237,237,237)\", \"ticklen\": 6, \"ticks\": \"inside\"}, \"colorscale\": [[0, \"rgb(20,44,66)\"], [1, \"rgb(90,179,244)\"]], \"type\": \"histogram2dcontour\"}], \"mesh3d\": [{\"colorbar\": {\"outlinewidth\": 0, \"tickcolor\": \"rgb(237,237,237)\", \"ticklen\": 6, \"ticks\": \"inside\"}, \"type\": \"mesh3d\"}], \"parcoords\": [{\"line\": {\"colorbar\": {\"outlinewidth\": 0, \"tickcolor\": \"rgb(237,237,237)\", \"ticklen\": 6, \"ticks\": \"inside\"}}, \"type\": \"parcoords\"}], \"pie\": [{\"automargin\": true, \"type\": \"pie\"}], \"scatter\": [{\"marker\": {\"colorbar\": {\"outlinewidth\": 0, \"tickcolor\": \"rgb(237,237,237)\", \"ticklen\": 6, \"ticks\": \"inside\"}}, \"type\": \"scatter\"}], \"scatter3d\": [{\"line\": {\"colorbar\": {\"outlinewidth\": 0, \"tickcolor\": \"rgb(237,237,237)\", \"ticklen\": 6, \"ticks\": \"inside\"}}, \"marker\": {\"colorbar\": {\"outlinewidth\": 0, \"tickcolor\": \"rgb(237,237,237)\", \"ticklen\": 6, \"ticks\": \"inside\"}}, \"type\": \"scatter3d\"}], \"scattercarpet\": [{\"marker\": {\"colorbar\": {\"outlinewidth\": 0, \"tickcolor\": \"rgb(237,237,237)\", \"ticklen\": 6, \"ticks\": \"inside\"}}, \"type\": \"scattercarpet\"}], \"scattergeo\": [{\"marker\": {\"colorbar\": {\"outlinewidth\": 0, \"tickcolor\": \"rgb(237,237,237)\", \"ticklen\": 6, \"ticks\": \"inside\"}}, \"type\": \"scattergeo\"}], \"scattergl\": [{\"marker\": {\"colorbar\": {\"outlinewidth\": 0, \"tickcolor\": \"rgb(237,237,237)\", \"ticklen\": 6, \"ticks\": \"inside\"}}, \"type\": \"scattergl\"}], \"scattermapbox\": [{\"marker\": {\"colorbar\": {\"outlinewidth\": 0, \"tickcolor\": \"rgb(237,237,237)\", \"ticklen\": 6, \"ticks\": \"inside\"}}, \"type\": \"scattermapbox\"}], \"scatterpolar\": [{\"marker\": {\"colorbar\": {\"outlinewidth\": 0, \"tickcolor\": \"rgb(237,237,237)\", \"ticklen\": 6, \"ticks\": \"inside\"}}, \"type\": \"scatterpolar\"}], \"scatterpolargl\": [{\"marker\": {\"colorbar\": {\"outlinewidth\": 0, \"tickcolor\": \"rgb(237,237,237)\", \"ticklen\": 6, \"ticks\": \"inside\"}}, \"type\": \"scatterpolargl\"}], \"scatterternary\": [{\"marker\": {\"colorbar\": {\"outlinewidth\": 0, \"tickcolor\": \"rgb(237,237,237)\", \"ticklen\": 6, \"ticks\": \"inside\"}}, \"type\": \"scatterternary\"}], \"surface\": [{\"colorbar\": {\"outlinewidth\": 0, \"tickcolor\": \"rgb(237,237,237)\", \"ticklen\": 6, \"ticks\": \"inside\"}, \"colorscale\": [[0, \"rgb(20,44,66)\"], [1, \"rgb(90,179,244)\"]], \"type\": \"surface\"}], \"table\": [{\"cells\": {\"fill\": {\"color\": \"rgb(237,237,237)\"}, \"line\": {\"color\": \"white\"}}, \"header\": {\"fill\": {\"color\": \"rgb(217,217,217)\"}, \"line\": {\"color\": \"white\"}}, \"type\": \"table\"}]}, \"layout\": {\"annotationdefaults\": {\"arrowhead\": 0, \"arrowwidth\": 1}, \"autotypenumbers\": \"strict\", \"coloraxis\": {\"colorbar\": {\"outlinewidth\": 0, \"tickcolor\": \"rgb(237,237,237)\", \"ticklen\": 6, \"ticks\": \"inside\"}}, \"colorscale\": {\"sequential\": [[0, \"rgb(20,44,66)\"], [1, \"rgb(90,179,244)\"]], \"sequentialminus\": [[0, \"rgb(20,44,66)\"], [1, \"rgb(90,179,244)\"]]}, \"colorway\": [\"#F8766D\", \"#A3A500\", \"#00BF7D\", \"#00B0F6\", \"#E76BF3\"], \"font\": {\"color\": \"rgb(51,51,51)\"}, \"geo\": {\"bgcolor\": \"white\", \"lakecolor\": \"white\", \"landcolor\": \"rgb(237,237,237)\", \"showlakes\": true, \"showland\": true, \"subunitcolor\": \"white\"}, \"hoverlabel\": {\"align\": \"left\"}, \"hovermode\": \"closest\", \"paper_bgcolor\": \"white\", \"plot_bgcolor\": \"rgb(237,237,237)\", \"polar\": {\"angularaxis\": {\"gridcolor\": \"white\", \"linecolor\": \"white\", \"showgrid\": true, \"tickcolor\": \"rgb(51,51,51)\", \"ticks\": \"outside\"}, \"bgcolor\": \"rgb(237,237,237)\", \"radialaxis\": {\"gridcolor\": \"white\", \"linecolor\": \"white\", \"showgrid\": true, \"tickcolor\": \"rgb(51,51,51)\", \"ticks\": \"outside\"}}, \"scene\": {\"xaxis\": {\"backgroundcolor\": \"rgb(237,237,237)\", \"gridcolor\": \"white\", \"gridwidth\": 2, \"linecolor\": \"white\", \"showbackground\": true, \"showgrid\": true, \"tickcolor\": \"rgb(51,51,51)\", \"ticks\": \"outside\", \"zerolinecolor\": \"white\"}, \"yaxis\": {\"backgroundcolor\": \"rgb(237,237,237)\", \"gridcolor\": \"white\", \"gridwidth\": 2, \"linecolor\": \"white\", \"showbackground\": true, \"showgrid\": true, \"tickcolor\": \"rgb(51,51,51)\", \"ticks\": \"outside\", \"zerolinecolor\": \"white\"}, \"zaxis\": {\"backgroundcolor\": \"rgb(237,237,237)\", \"gridcolor\": \"white\", \"gridwidth\": 2, \"linecolor\": \"white\", \"showbackground\": true, \"showgrid\": true, \"tickcolor\": \"rgb(51,51,51)\", \"ticks\": \"outside\", \"zerolinecolor\": \"white\"}}, \"shapedefaults\": {\"fillcolor\": \"black\", \"line\": {\"width\": 0}, \"opacity\": 0.3}, \"ternary\": {\"aaxis\": {\"gridcolor\": \"white\", \"linecolor\": \"white\", \"showgrid\": true, \"tickcolor\": \"rgb(51,51,51)\", \"ticks\": \"outside\"}, \"baxis\": {\"gridcolor\": \"white\", \"linecolor\": \"white\", \"showgrid\": true, \"tickcolor\": \"rgb(51,51,51)\", \"ticks\": \"outside\"}, \"bgcolor\": \"rgb(237,237,237)\", \"caxis\": {\"gridcolor\": \"white\", \"linecolor\": \"white\", \"showgrid\": true, \"tickcolor\": \"rgb(51,51,51)\", \"ticks\": \"outside\"}}, \"xaxis\": {\"automargin\": true, \"gridcolor\": \"white\", \"linecolor\": \"white\", \"showgrid\": true, \"tickcolor\": \"rgb(51,51,51)\", \"ticks\": \"outside\", \"title\": {\"standoff\": 15}, \"zerolinecolor\": \"white\"}, \"yaxis\": {\"automargin\": true, \"gridcolor\": \"white\", \"linecolor\": \"white\", \"showgrid\": true, \"tickcolor\": \"rgb(51,51,51)\", \"ticks\": \"outside\", \"title\": {\"standoff\": 15}, \"zerolinecolor\": \"white\"}}}, \"title\": {\"text\": \"Ranking of provinces with most visitors montly\"}, \"uniformtext\": {\"minsize\": 5, \"mode\": \"hide\"}, \"updatemenus\": [{\"buttons\": [{\"args\": [null, {\"frame\": {\"duration\": 500, \"redraw\": true}, \"fromcurrent\": true, \"mode\": \"immediate\", \"transition\": {\"duration\": 500, \"easing\": \"linear\"}}], \"label\": \"&#9654;\", \"method\": \"animate\"}, {\"args\": [[null], {\"frame\": {\"duration\": 0, \"redraw\": true}, \"fromcurrent\": true, \"mode\": \"immediate\", \"transition\": {\"duration\": 0, \"easing\": \"linear\"}}], \"label\": \"&#9724;\", \"method\": \"animate\"}], \"direction\": \"left\", \"pad\": {\"r\": 10, \"t\": 70}, \"showactive\": false, \"type\": \"buttons\", \"x\": 0.1, \"xanchor\": \"right\", \"y\": 0, \"yanchor\": \"top\"}], \"width\": 900, \"xaxis\": {\"anchor\": \"y\", \"domain\": [0.0, 1.0], \"fixedrange\": true, \"mirror\": \"all\", \"range\": [-3, 1], \"side\": \"top\", \"tickwidth\": 1, \"title\": {\"text\": \"\"}, \"type\": \"log\"}, \"yaxis\": {\"anchor\": \"x\", \"categoryorder\": \"total ascending\", \"domain\": [0.0, 1.0], \"tickangle\": -25, \"title\": {\"text\": \"\"}, \"visible\": true}},                        {\"displayModeBar\": true, \"responsive\": true}                    ).then(function(){\n",
       "                            Plotly.addFrames('6e43cf42-5876-4b91-a14b-606f10583365', [{\"data\": [{\"alignmentgroup\": \"True\", \"hovertemplate\": \"<b>%{hovertext}</b><br><br>DAY=Luned\\u00ec<br>MONTH=Febbraio<br>=%{y}<extra></extra>\", \"hovertext\": [\"Padova\", \"Venezia\", \"Vicenza\", \"Treviso\", \"Verona\", \"Rovigo\", \"Milano\", \"Roma\", \"Trento\", \"Belluno\", \"Bologna\", \"Udine\", \"Ferrara\", \"Torino\", \"Napoli\", \"Brescia\", \"Mantova\", \"Ascoli Piceno\", \"Firenze\", \"Bergamo\", \"Monza e della Brianza\"], \"legendgroup\": \"Luned\\u00ec\", \"marker\": {\"color\": \"#636efa\"}, \"name\": \"Luned\\u00ec\", \"offsetgroup\": \"Luned\\u00ec\", \"orientation\": \"h\", \"showlegend\": true, \"textposition\": \"auto\", \"x\": [1.000755812712172, 0.1689176523515849, 0.07930917836339961, 0.05822271303328751, 0.02498859475456237, 0.1090186125211506, 0.003384592745199029, 0.0012838276061964426, 0.01474352562891509, 0.03703269887750122, 0.0039316082116819, 0.009898352982067735, 0.010928741263779811, 0.0012075165703003808, 0.0008332790498039021, 0.0020247116211793074, 0.008364054963789763, 0.0006142712487462627, 0.0006316246570475495, 0.0012312843429774939, 0.0010416451569236135], \"xaxis\": \"x\", \"y\": [\"Padova\", \"Venezia\", \"Vicenza\", \"Treviso\", \"Verona\", \"Rovigo\", \"Milano\", \"Roma\", \"Trento\", \"Belluno\", \"Bologna\", \"Udine\", \"Ferrara\", \"Torino\", \"Napoli\", \"Brescia\", \"Mantova\", \"Ascoli Piceno\", \"Firenze\", \"Bergamo\", \"Monza e della Brianza\"], \"yaxis\": \"y\", \"type\": \"bar\"}, {\"alignmentgroup\": \"True\", \"hovertemplate\": \"<b>%{hovertext}</b><br><br>DAY=Marted\\u00ec<br>MONTH=Febbraio<br>=%{y}<extra></extra>\", \"hovertext\": [\"Padova\", \"Venezia\", \"Vicenza\", \"Treviso\", \"Verona\", \"Rovigo\", \"Milano\", \"Roma\", \"Trento\", \"Belluno\", \"Bologna\", \"Udine\", \"Ferrara\", \"Torino\", \"Napoli\", \"Brescia\", \"Mantova\", \"Firenze\", \"Bergamo\", \"Monza e della Brianza\"], \"legendgroup\": \"Marted\\u00ec\", \"marker\": {\"color\": \"#EF553B\"}, \"name\": \"Marted\\u00ec\", \"offsetgroup\": \"Marted\\u00ec\", \"orientation\": \"h\", \"showlegend\": true, \"textposition\": \"auto\", \"x\": [1.0373807032901339, 0.17294786960841285, 0.08120444298219193, 0.06334317459601992, 0.027580646734307088, 0.11255499153976312, 0.003570083761559955, 0.0017328917688788892, 0.01741810490129617, 0.03767691556857004, 0.004485355847130054, 0.011099756130272904, 0.012023921031774623, 0.0018033422648427585, 0.000736536126065059, 0.002471478974209483, 0.006353184606641701, 0.0014606320194224581, 0.001540905552030314, 0.001408744771698455], \"xaxis\": \"x\", \"y\": [\"Padova\", \"Venezia\", \"Vicenza\", \"Treviso\", \"Verona\", \"Rovigo\", \"Milano\", \"Roma\", \"Trento\", \"Belluno\", \"Bologna\", \"Udine\", \"Ferrara\", \"Torino\", \"Napoli\", \"Brescia\", \"Mantova\", \"Firenze\", \"Bergamo\", \"Monza e della Brianza\"], \"yaxis\": \"y\", \"type\": \"bar\"}, {\"alignmentgroup\": \"True\", \"hovertemplate\": \"<b>%{hovertext}</b><br><br>DAY=Mercoled\\u00ec<br>MONTH=Febbraio<br>=%{y}<extra></extra>\", \"hovertext\": [\"Padova\", \"Venezia\", \"Vicenza\", \"Treviso\", \"Verona\", \"Rovigo\", \"Milano\", \"Roma\", \"Trento\", \"Belluno\", \"Bologna\", \"Udine\", \"Ferrara\", \"Torino\", \"Napoli\", \"Brescia\", \"Mantova\", \"Firenze\", \"Bergamo\", \"Monza e della Brianza\"], \"legendgroup\": \"Mercoled\\u00ec\", \"marker\": {\"color\": \"#00cc96\"}, \"name\": \"Mercoled\\u00ec\", \"offsetgroup\": \"Mercoled\\u00ec\", \"orientation\": \"h\", \"showlegend\": true, \"textposition\": \"auto\", \"x\": [1.0452676302922903, 0.17419911147768385, 0.08284020926687087, 0.05956593270379302, 0.02651435110384354, 0.10341793570219966, 0.00423290499335633, 0.0014335156604239248, 0.01714397904789423, 0.03494387506100537, 0.005438592848151521, 0.011341547958842497, 0.012634916060234888, 0.0015071922154844168, 0.0007300865978158027, 0.0027946723785291848, 0.005274891806431871, 0.0008526932870141918, 0.001022470039197685, 0.0018492643094282653], \"xaxis\": \"x\", \"y\": [\"Padova\", \"Venezia\", \"Vicenza\", \"Treviso\", \"Verona\", \"Rovigo\", \"Milano\", \"Roma\", \"Trento\", \"Belluno\", \"Bologna\", \"Udine\", \"Ferrara\", \"Torino\", \"Napoli\", \"Brescia\", \"Mantova\", \"Firenze\", \"Bergamo\", \"Monza e della Brianza\"], \"yaxis\": \"y\", \"type\": \"bar\"}, {\"alignmentgroup\": \"True\", \"hovertemplate\": \"<b>%{hovertext}</b><br><br>DAY=Gioved\\u00ec<br>MONTH=Febbraio<br>=%{y}<extra></extra>\", \"hovertext\": [\"Padova\", \"Venezia\", \"Vicenza\", \"Treviso\", \"Verona\", \"Rovigo\", \"Milano\", \"Roma\", \"Trento\", \"Belluno\", \"Bologna\", \"Udine\", \"Ferrara\", \"Torino\", \"Napoli\", \"Brescia\", \"Mantova\", \"Firenze\", \"Bergamo\", \"Monza e della Brianza\"], \"legendgroup\": \"Gioved\\u00ec\", \"marker\": {\"color\": \"#ab63fa\"}, \"name\": \"Gioved\\u00ec\", \"offsetgroup\": \"Gioved\\u00ec\", \"orientation\": \"h\", \"showlegend\": true, \"textposition\": \"auto\", \"x\": [1.034395883596302, 0.16476090501808913, 0.07400336421054583, 0.052633476820445786, 0.021078844109529368, 0.10651438240270727, 0.004281132657610171, 0.0013297441872478176, 0.012135625618172321, 0.032132747681796, 0.004279678153963597, 0.011341547958842497, 0.010836515599106564, 0.0013220984346354533, 0.000688809617020563, 0.0022560167046630154, 0.004585172988279637, 0.001286935238734382, 0.0010008685594963256, 0.0018079656027660956], \"xaxis\": \"x\", \"y\": [\"Padova\", \"Venezia\", \"Vicenza\", \"Treviso\", \"Verona\", \"Rovigo\", \"Milano\", \"Roma\", \"Trento\", \"Belluno\", \"Bologna\", \"Udine\", \"Ferrara\", \"Torino\", \"Napoli\", \"Brescia\", \"Mantova\", \"Firenze\", \"Bergamo\", \"Monza e della Brianza\"], \"yaxis\": \"y\", \"type\": \"bar\"}, {\"alignmentgroup\": \"True\", \"hovertemplate\": \"<b>%{hovertext}</b><br><br>DAY=Venerd\\u00ec<br>MONTH=Febbraio<br>=%{y}<extra></extra>\", \"hovertext\": [\"Padova\", \"Venezia\", \"Vicenza\", \"Treviso\", \"Verona\", \"Rovigo\", \"Milano\", \"Roma\", \"Trento\", \"Belluno\", \"Bologna\", \"Udine\", \"Ferrara\", \"Torino\", \"Napoli\", \"Brescia\", \"Mantova\", \"Firenze\", \"Bergamo\", \"Monza e della Brianza\"], \"legendgroup\": \"Venerd\\u00ec\", \"marker\": {\"color\": \"#FFA15A\"}, \"name\": \"Venerd\\u00ec\", \"offsetgroup\": \"Venerd\\u00ec\", \"orientation\": \"h\", \"showlegend\": true, \"textposition\": \"auto\", \"x\": [1.0429916518991396, 0.17112489924456858, 0.06982358747179114, 0.05361159315769309, 0.01993452684756849, 0.10336717428087987, 0.00433430674896697, 0.0017338101004999167, 0.01472870801521769, 0.03264031234748658, 0.004089821821809944, 0.011318879974914098, 0.012173787736868651, 0.000916654914680581, 0.0009287320678928939, 0.0022116568256387425, 0.005255463107328991, 0.001965931745060498, 0.001022470039197685, 0.0008167966428740228], \"xaxis\": \"x\", \"y\": [\"Padova\", \"Venezia\", \"Vicenza\", \"Treviso\", \"Verona\", \"Rovigo\", \"Milano\", \"Roma\", \"Trento\", \"Belluno\", \"Bologna\", \"Udine\", \"Ferrara\", \"Torino\", \"Napoli\", \"Brescia\", \"Mantova\", \"Firenze\", \"Bergamo\", \"Monza e della Brianza\"], \"yaxis\": \"y\", \"type\": \"bar\"}, {\"alignmentgroup\": \"True\", \"hovertemplate\": \"<b>%{hovertext}</b><br><br>DAY=Sabato<br>MONTH=Febbraio<br>=%{y}<extra></extra>\", \"hovertext\": [\"Padova\", \"Venezia\", \"Vicenza\", \"Treviso\", \"Verona\", \"Rovigo\", \"Milano\", \"Roma\", \"Trento\", \"Belluno\", \"Bologna\", \"Udine\", \"Ferrara\", \"Torino\", \"Napoli\", \"Brescia\", \"Mantova\", \"Ascoli Piceno\", \"Firenze\", \"Bergamo\", \"Monza e della Brianza\"], \"legendgroup\": \"Sabato\", \"marker\": {\"color\": \"#19d3f3\"}, \"name\": \"Sabato\", \"offsetgroup\": \"Sabato\", \"orientation\": \"h\", \"showlegend\": true, \"textposition\": \"auto\", \"x\": [0.8387898456348614, 0.1182587586930849, 0.04928614788624705, 0.0346352347253837, 0.016596934833515927, 0.06648054145516075, 0.005202404705536103, 0.0017824816764143742, 0.012594971642791787, 0.027252318204001952, 0.005126120968148634, 0.006959071066018614, 0.008507817566107068, 0.0011387674516993372, 0.00039471112885447994, 0.0012103909848051571, 0.004089741161156202, 0.016047836373496115, 0.0016540670706432703, 0.0006516446376576795, 0.000844329113982136], \"xaxis\": \"x\", \"y\": [\"Padova\", \"Venezia\", \"Vicenza\", \"Treviso\", \"Verona\", \"Rovigo\", \"Milano\", \"Roma\", \"Trento\", \"Belluno\", \"Bologna\", \"Udine\", \"Ferrara\", \"Torino\", \"Napoli\", \"Brescia\", \"Mantova\", \"Ascoli Piceno\", \"Firenze\", \"Bergamo\", \"Monza e della Brianza\"], \"yaxis\": \"y\", \"type\": \"bar\"}, {\"alignmentgroup\": \"True\", \"hovertemplate\": \"<b>%{hovertext}</b><br><br>DAY=Domenica<br>MONTH=Febbraio<br>=%{y}<extra></extra>\", \"hovertext\": [\"Padova\", \"Venezia\", \"Vicenza\", \"Treviso\", \"Verona\", \"Rovigo\", \"Milano\", \"Roma\", \"Trento\", \"Belluno\", \"Bologna\", \"Udine\", \"Ferrara\", \"Torino\", \"Napoli\", \"Brescia\", \"Mantova\", \"Ascoli Piceno\", \"Firenze\", \"Bergamo\"], \"legendgroup\": \"Domenica\", \"marker\": {\"color\": \"#FF6692\"}, \"name\": \"Domenica\", \"offsetgroup\": \"Domenica\", \"orientation\": \"h\", \"showlegend\": true, \"textposition\": \"auto\", \"x\": [0.6439011892307364, 0.09046431851837966, 0.04619070347218039, 0.03834937233778819, 0.0192886811201739, 0.07262267343485618, 0.004338016569294188, 0.0014785139098542723, 0.012313436982541146, 0.03191800878477306, 0.0049679073580205894, 0.007344426792801404, 0.00940701779667123, 0.0005535185446340432, 0.00047597518479510815, 0.0015082358868252744, 0.00429374250173644, 0.0006142712487462627, 0.0005842528077689833, 0.0009504651068598199], \"xaxis\": \"x\", \"y\": [\"Padova\", \"Venezia\", \"Vicenza\", \"Treviso\", \"Verona\", \"Rovigo\", \"Milano\", \"Roma\", \"Trento\", \"Belluno\", \"Bologna\", \"Udine\", \"Ferrara\", \"Torino\", \"Napoli\", \"Brescia\", \"Mantova\", \"Ascoli Piceno\", \"Firenze\", \"Bergamo\"], \"yaxis\": \"y\", \"type\": \"bar\"}], \"name\": \"Febbraio\"}, {\"data\": [{\"alignmentgroup\": \"True\", \"hovertemplate\": \"<b>%{hovertext}</b><br><br>DAY=Luned\\u00ec<br>MONTH=Marzo<br>=%{y}<extra></extra>\", \"hovertext\": [\"Padova\", \"Venezia\", \"Vicenza\", \"Treviso\", \"Verona\", \"Rovigo\", \"Milano\", \"Roma\", \"Trento\", \"Belluno\", \"Bologna\", \"Udine\", \"Ferrara\", \"Torino\", \"Napoli\", \"Brescia\", \"Mantova\", \"Firenze\", \"Bergamo\", \"Monza e della Brianza\"], \"legendgroup\": \"Luned\\u00ec\", \"marker\": {\"color\": \"#636efa\"}, \"name\": \"Luned\\u00ec\", \"offsetgroup\": \"Luned\\u00ec\", \"orientation\": \"h\", \"showlegend\": true, \"textposition\": \"auto\", \"x\": [1.015295599632769, 0.17266200536112622, 0.08847966413501328, 0.06224335714768655, 0.028672949575269745, 0.10803722504230119, 0.003223833864352893, 0.0013233158659006251, 0.017025438138315016, 0.03976573938506588, 0.004085866481556743, 0.009036969592788558, 0.012242956985373586, 0.0005464673529826541, 0.000726216880866249, 0.002579210108982717, 0.006557185947221939, 0.0003789747942285297, 0.0013824947008870107, 0.0010003464502614438], \"xaxis\": \"x\", \"y\": [\"Padova\", \"Venezia\", \"Vicenza\", \"Treviso\", \"Verona\", \"Rovigo\", \"Milano\", \"Roma\", \"Trento\", \"Belluno\", \"Bologna\", \"Udine\", \"Ferrara\", \"Torino\", \"Napoli\", \"Brescia\", \"Mantova\", \"Firenze\", \"Bergamo\", \"Monza e della Brianza\"], \"yaxis\": \"y\", \"type\": \"bar\"}, {\"alignmentgroup\": \"True\", \"hovertemplate\": \"<b>%{hovertext}</b><br><br>DAY=Marted\\u00ec<br>MONTH=Marzo<br>=%{y}<extra></extra>\", \"hovertext\": [\"Padova\", \"Venezia\", \"Vicenza\", \"Treviso\", \"Verona\", \"Rovigo\", \"Milano\", \"Roma\", \"Trento\", \"Belluno\", \"Bologna\", \"Udine\", \"Ferrara\", \"Torino\", \"Napoli\", \"Brescia\", \"Mantova\", \"Firenze\", \"Bergamo\", \"Monza e della Brianza\"], \"legendgroup\": \"Marted\\u00ec\", \"marker\": {\"color\": \"#EF553B\"}, \"name\": \"Marted\\u00ec\", \"offsetgroup\": \"Marted\\u00ec\", \"orientation\": \"h\", \"showlegend\": true, \"textposition\": \"auto\", \"x\": [1.0386403911437538, 0.17936809942452248, 0.0973674820783963, 0.0721011471456582, 0.03197586530865683, 0.11705583756345178, 0.003734552462733309, 0.001577693724925242, 0.016529048079452043, 0.04730112249877989, 0.004509087888649261, 0.012588287074904465, 0.014537070394120614, 0.0010770695247496827, 0.0008926147096970592, 0.0025982214857074052, 0.008393198012444082, 0.0007105777391784932, 0.0015049030858613815, 0.0011747187672794936], \"xaxis\": \"x\", \"y\": [\"Padova\", \"Venezia\", \"Vicenza\", \"Treviso\", \"Verona\", \"Rovigo\", \"Milano\", \"Roma\", \"Trento\", \"Belluno\", \"Bologna\", \"Udine\", \"Ferrara\", \"Torino\", \"Napoli\", \"Brescia\", \"Mantova\", \"Firenze\", \"Bergamo\", \"Monza e della Brianza\"], \"yaxis\": \"y\", \"type\": \"bar\"}, {\"alignmentgroup\": \"True\", \"hovertemplate\": \"<b>%{hovertext}</b><br><br>DAY=Mercoled\\u00ec<br>MONTH=Marzo<br>=%{y}<extra></extra>\", \"hovertext\": [\"Padova\", \"Venezia\", \"Vicenza\", \"Treviso\", \"Verona\", \"Rovigo\", \"Milano\", \"Roma\", \"Trento\", \"Belluno\", \"Bologna\", \"Udine\", \"Ferrara\", \"Torino\", \"Napoli\", \"Brescia\", \"Mantova\", \"Firenze\", \"Bergamo\", \"Monza e della Brianza\"], \"legendgroup\": \"Mercoled\\u00ec\", \"marker\": {\"color\": \"#00cc96\"}, \"name\": \"Mercoled\\u00ec\", \"offsetgroup\": \"Mercoled\\u00ec\", \"orientation\": \"h\", \"showlegend\": true, \"textposition\": \"auto\", \"x\": [1.1184661699084057, 0.1987365737529758, 0.1049439066547421, 0.07737936940794664, 0.03689989716315515, 0.13067681895093064, 0.00463480219547167, 0.0017273817791527244, 0.019714835024393498, 0.05138116154221572, 0.006083313309423301, 0.014001258073108026, 0.013995244614165285, 0.0013309124241996898, 0.0007520149938632739, 0.0032794624850087375, 0.00869434284853872, 0.0004263466435070959, 0.0012564860692957467, 0.0012114287287569778], \"xaxis\": \"x\", \"y\": [\"Padova\", \"Venezia\", \"Vicenza\", \"Treviso\", \"Verona\", \"Rovigo\", \"Milano\", \"Roma\", \"Trento\", \"Belluno\", \"Bologna\", \"Udine\", \"Ferrara\", \"Torino\", \"Napoli\", \"Brescia\", \"Mantova\", \"Firenze\", \"Bergamo\", \"Monza e della Brianza\"], \"yaxis\": \"y\", \"type\": \"bar\"}, {\"alignmentgroup\": \"True\", \"hovertemplate\": \"<b>%{hovertext}</b><br><br>DAY=Gioved\\u00ec<br>MONTH=Marzo<br>=%{y}<extra></extra>\", \"hovertext\": [\"Padova\", \"Venezia\", \"Vicenza\", \"Treviso\", \"Verona\", \"Rovigo\", \"Milano\", \"Roma\", \"Trento\", \"Belluno\", \"Bologna\", \"Udine\", \"Ferrara\", \"Torino\", \"Napoli\", \"Brescia\", \"Mantova\", \"Firenze\", \"Bergamo\", \"Monza e della Brianza\"], \"legendgroup\": \"Gioved\\u00ec\", \"marker\": {\"color\": \"#ab63fa\"}, \"name\": \"Gioved\\u00ec\", \"offsetgroup\": \"Gioved\\u00ec\", \"orientation\": \"h\", \"showlegend\": true, \"textposition\": \"auto\", \"x\": [1.0489314003885817, 0.17947588430464692, 0.09009226092557496, 0.06917130558247504, 0.030046997196639436, 0.10807106598984771, 0.0051665431090396575, 0.002019411234639469, 0.015958569952102063, 0.03960956564177648, 0.00547023557017713, 0.009989024917781333, 0.014779162763887889, 0.0016429276547736567, 0.0005688483915843976, 0.0019169804864060736, 0.006974902977933855, 0.0007816355130963425, 0.0014472991399910894, 0.0013169698680047448], \"xaxis\": \"x\", \"y\": [\"Padova\", \"Venezia\", \"Vicenza\", \"Treviso\", \"Verona\", \"Rovigo\", \"Milano\", \"Roma\", \"Trento\", \"Belluno\", \"Bologna\", \"Udine\", \"Ferrara\", \"Torino\", \"Napoli\", \"Brescia\", \"Mantova\", \"Firenze\", \"Bergamo\", \"Monza e della Brianza\"], \"yaxis\": \"y\", \"type\": \"bar\"}, {\"alignmentgroup\": \"True\", \"hovertemplate\": \"<b>%{hovertext}</b><br><br>DAY=Venerd\\u00ec<br>MONTH=Marzo<br>=%{y}<extra></extra>\", \"hovertext\": [\"Padova\", \"Venezia\", \"Vicenza\", \"Treviso\", \"Verona\", \"Rovigo\", \"Milano\", \"Roma\", \"Trento\", \"Belluno\", \"Bologna\", \"Udine\", \"Ferrara\", \"Torino\", \"Napoli\", \"Brescia\", \"Mantova\", \"Firenze\", \"Bergamo\", \"Monza e della Brianza\"], \"legendgroup\": \"Venerd\\u00ec\", \"marker\": {\"color\": \"#FFA15A\"}, \"name\": \"Venerd\\u00ec\", \"offsetgroup\": \"Venerd\\u00ec\", \"orientation\": \"h\", \"showlegend\": true, \"textposition\": \"auto\", \"x\": [1.0604607468454428, 0.1724183178060622, 0.07908211732105042, 0.060643212909332674, 0.024472785079663335, 0.10218274111675127, 0.0057094134835893005, 0.002249912471517371, 0.016810582739702686, 0.03617374328940947, 0.006020027865372084, 0.013034090758829652, 0.01598962461272426, 0.0019531800874347765, 0.0007210572582668441, 0.0024207819696103142, 0.006809759035559377, 0.0010619189546611926, 0.0010728734918341906, 0.0024549786738067543], \"xaxis\": \"x\", \"y\": [\"Padova\", \"Venezia\", \"Vicenza\", \"Treviso\", \"Verona\", \"Rovigo\", \"Milano\", \"Roma\", \"Trento\", \"Belluno\", \"Bologna\", \"Udine\", \"Ferrara\", \"Torino\", \"Napoli\", \"Brescia\", \"Mantova\", \"Firenze\", \"Bergamo\", \"Monza e della Brianza\"], \"yaxis\": \"y\", \"type\": \"bar\"}, {\"alignmentgroup\": \"True\", \"hovertemplate\": \"<b>%{hovertext}</b><br><br>DAY=Sabato<br>MONTH=Marzo<br>=%{y}<extra></extra>\", \"hovertext\": [\"Padova\", \"Venezia\", \"Vicenza\", \"Treviso\", \"Verona\", \"Rovigo\", \"Milano\", \"Roma\", \"Trento\", \"Belluno\", \"Bologna\", \"Udine\", \"Ferrara\", \"Torino\", \"Napoli\", \"Brescia\", \"Mantova\", \"Firenze\", \"Bergamo\", \"Monza e della Brianza\"], \"legendgroup\": \"Sabato\", \"marker\": {\"color\": \"#19d3f3\"}, \"name\": \"Sabato\", \"offsetgroup\": \"Sabato\", \"orientation\": \"h\", \"showlegend\": true, \"textposition\": \"auto\", \"x\": [0.8198646369323398, 0.10839878531126398, 0.044642981265147055, 0.0340943408983345, 0.01507551301931794, 0.06658206429780034, 0.006824832795306335, 0.002399600525744853, 0.013321034713964489, 0.026100536847242558, 0.004216392709912379, 0.009052081582074158, 0.00810433028316161, 0.0013996615428007334, 0.0005843272593826124, 0.0011438511662687479, 0.002885161816777653, 0.0010342853759153622, 0.0010980752181524434, 0.0009911689598920727], \"xaxis\": \"x\", \"y\": [\"Padova\", \"Venezia\", \"Vicenza\", \"Treviso\", \"Verona\", \"Rovigo\", \"Milano\", \"Roma\", \"Trento\", \"Belluno\", \"Bologna\", \"Udine\", \"Ferrara\", \"Torino\", \"Napoli\", \"Brescia\", \"Mantova\", \"Firenze\", \"Bergamo\", \"Monza e della Brianza\"], \"yaxis\": \"y\", \"type\": \"bar\"}, {\"alignmentgroup\": \"True\", \"hovertemplate\": \"<b>%{hovertext}</b><br><br>DAY=Domenica<br>MONTH=Marzo<br>=%{y}<extra></extra>\", \"hovertext\": [\"Padova\", \"Venezia\", \"Vicenza\", \"Treviso\", \"Verona\", \"Rovigo\", \"Milano\", \"Roma\", \"Trento\", \"Belluno\", \"Bologna\", \"Udine\", \"Ferrara\", \"Torino\", \"Napoli\", \"Brescia\", \"Mantova\", \"Firenze\", \"Bergamo\", \"Monza e della Brianza\"], \"legendgroup\": \"Domenica\", \"marker\": {\"color\": \"#FF6692\"}, \"name\": \"Domenica\", \"offsetgroup\": \"Domenica\", \"orientation\": \"h\", \"showlegend\": true, \"textposition\": \"auto\", \"x\": [0.6068492858210389, 0.07998575365062703, 0.042020194531072606, 0.03587027563047937, 0.017277456841575993, 0.06133671742808799, 0.00443323529102613, 0.0014638206039178322, 0.012958003178378138, 0.0288530990727184, 0.004936264635994981, 0.006195915607095834, 0.005372144967216658, 0.0008496685939923847, 0.0001367299988842316, 0.0007097580643883644, 0.003788596325061565, 0.0007816355130963425, 0.0003888266346244718, 0.0008167966428740228], \"xaxis\": \"x\", \"y\": [\"Padova\", \"Venezia\", \"Vicenza\", \"Treviso\", \"Verona\", \"Rovigo\", \"Milano\", \"Roma\", \"Trento\", \"Belluno\", \"Bologna\", \"Udine\", \"Ferrara\", \"Torino\", \"Napoli\", \"Brescia\", \"Mantova\", \"Firenze\", \"Bergamo\", \"Monza e della Brianza\"], \"yaxis\": \"y\", \"type\": \"bar\"}], \"name\": \"Marzo\"}, {\"data\": [{\"alignmentgroup\": \"True\", \"hovertemplate\": \"<b>%{hovertext}</b><br><br>DAY=Luned\\u00ec<br>MONTH=Aprile<br>=%{y}<extra></extra>\", \"hovertext\": [\"Padova\", \"Venezia\", \"Vicenza\", \"Treviso\", \"Verona\", \"Rovigo\", \"Milano\", \"Roma\", \"Trento\", \"Belluno\", \"Bologna\", \"Udine\", \"Ferrara\", \"Torino\", \"Napoli\", \"Brescia\", \"Mantova\", \"Ascoli Piceno\", \"Firenze\", \"Bergamo\", \"Monza e della Brianza\"], \"legendgroup\": \"Luned\\u00ec\", \"marker\": {\"color\": \"#636efa\"}, \"name\": \"Luned\\u00ec\", \"offsetgroup\": \"Luned\\u00ec\", \"orientation\": \"h\", \"showlegend\": true, \"textposition\": \"auto\", \"x\": [1.0060892029805495, 0.17123268412469306, 0.08555104007859092, 0.06681841743481103, 0.028001096637376047, 0.11712351945854484, 0.006546596270764946, 0.002740301557146055, 0.01777372763003382, 0.04308443142996584, 0.008235018407164703, 0.012792298930260059, 0.01666978888968946, 0.002212311380623325, 0.001068041878076828, 0.0031812370385978475, 0.008364054963789763, 0.0020731654645186367, 0.0018593450841837239, 0.0023149585746623643, 0.0021521214916175096], \"xaxis\": \"x\", \"y\": [\"Padova\", \"Venezia\", \"Vicenza\", \"Treviso\", \"Verona\", \"Rovigo\", \"Milano\", \"Roma\", \"Trento\", \"Belluno\", \"Bologna\", \"Udine\", \"Ferrara\", \"Torino\", \"Napoli\", \"Brescia\", \"Mantova\", \"Ascoli Piceno\", \"Firenze\", \"Bergamo\", \"Monza e della Brianza\"], \"yaxis\": \"y\", \"type\": \"bar\"}, {\"alignmentgroup\": \"True\", \"hovertemplate\": \"<b>%{hovertext}</b><br><br>DAY=Marted\\u00ec<br>MONTH=Aprile<br>=%{y}<extra></extra>\", \"hovertext\": [\"Padova\", \"Venezia\", \"Vicenza\", \"Treviso\", \"Verona\", \"Rovigo\", \"Milano\", \"Roma\", \"Trento\", \"Belluno\", \"Bologna\", \"Udine\", \"Ferrara\", \"Torino\", \"Napoli\", \"Brescia\", \"Mantova\", \"Firenze\", \"Bergamo\", \"Monza e della Brianza\"], \"legendgroup\": \"Marted\\u00ec\", \"marker\": {\"color\": \"#EF553B\"}, \"name\": \"Marted\\u00ec\", \"offsetgroup\": \"Marted\\u00ec\", \"orientation\": \"h\", \"showlegend\": true, \"textposition\": \"auto\", \"x\": [1.063091145888934, 0.18073181247305378, 0.09210800691377705, 0.07227693763944919, 0.03230095543989571, 0.12455160744500846, 0.004741150378185267, 0.0016869751878275145, 0.02107064667770579, 0.04743777452415813, 0.0060358492263848885, 0.013358998528470044, 0.013453418834209958, 0.0009959808207587082, 0.000853917540201522, 0.0022813652069626, 0.006576614646324819, 0.0011211337662594004, 0.0014580998798417691, 0.0006837230325181427], \"xaxis\": \"x\", \"y\": [\"Padova\", \"Venezia\", \"Vicenza\", \"Treviso\", \"Verona\", \"Rovigo\", \"Milano\", \"Roma\", \"Trento\", \"Belluno\", \"Bologna\", \"Udine\", \"Ferrara\", \"Torino\", \"Napoli\", \"Brescia\", \"Mantova\", \"Firenze\", \"Bergamo\", \"Monza e della Brianza\"], \"yaxis\": \"y\", \"type\": \"bar\"}, {\"alignmentgroup\": \"True\", \"hovertemplate\": \"<b>%{hovertext}</b><br><br>DAY=Mercoled\\u00ec<br>MONTH=Aprile<br>=%{y}<extra></extra>\", \"hovertext\": [\"Padova\", \"Venezia\", \"Vicenza\", \"Treviso\", \"Verona\", \"Rovigo\", \"Milano\", \"Roma\", \"Trento\", \"Belluno\", \"Bologna\", \"Udine\", \"Ferrara\", \"Torino\", \"Napoli\", \"Brescia\", \"Mantova\", \"Firenze\", \"Bergamo\", \"Monza e della Brianza\"], \"legendgroup\": \"Mercoled\\u00ec\", \"marker\": {\"color\": \"#00cc96\"}, \"name\": \"Mercoled\\u00ec\", \"offsetgroup\": \"Mercoled\\u00ec\", \"orientation\": \"h\", \"showlegend\": true, \"textposition\": \"auto\", \"x\": [1.0352883404146294, 0.18032410444823513, 0.09431837665256416, 0.07328209866804895, 0.03170712413349935, 0.11414551607445009, 0.0044047933351841215, 0.0021167543864683835, 0.01650682165890594, 0.04544655929721816, 0.007084014393483181, 0.010578392499919717, 0.012127674904532027, 0.001124665068396559, 0.0015285381950737214, 0.0028548750714906977, 0.00744119175640297, 0.0015237944851272131, 0.0013104897685491455, 0.0015464071272390208], \"xaxis\": \"x\", \"y\": [\"Padova\", \"Venezia\", \"Vicenza\", \"Treviso\", \"Verona\", \"Rovigo\", \"Milano\", \"Roma\", \"Trento\", \"Belluno\", \"Bologna\", \"Udine\", \"Ferrara\", \"Torino\", \"Napoli\", \"Brescia\", \"Mantova\", \"Firenze\", \"Bergamo\", \"Monza e della Brianza\"], \"yaxis\": \"y\", \"type\": \"bar\"}, {\"alignmentgroup\": \"True\", \"hovertemplate\": \"<b>%{hovertext}</b><br><br>DAY=Gioved\\u00ec<br>MONTH=Aprile<br>=%{y}<extra></extra>\", \"hovertext\": [\"Padova\", \"Venezia\", \"Vicenza\", \"Treviso\", \"Verona\", \"Rovigo\", \"Milano\", \"Roma\", \"Trento\", \"Belluno\", \"Bologna\", \"Udine\", \"Ferrara\", \"Torino\", \"Napoli\", \"Brescia\", \"Mantova\", \"Ascoli Piceno\", \"Firenze\", \"Bergamo\", \"Monza e della Brianza\"], \"legendgroup\": \"Gioved\\u00ec\", \"marker\": {\"color\": \"#ab63fa\"}, \"name\": \"Gioved\\u00ec\", \"offsetgroup\": \"Gioved\\u00ec\", \"orientation\": \"h\", \"showlegend\": true, \"textposition\": \"auto\", \"x\": [1.0848132886393236, 0.1902684312145013, 0.09860936696308173, 0.0749002727006378, 0.03223160287856475, 0.11839255499153976, 0.004973632452024294, 0.0015354504703579772, 0.018314570529989, 0.043182040019521716, 0.005778752109926817, 0.013034090758829652, 0.013534116290799049, 0.0014278663094062897, 0.000853917540201522, 0.002290870895324944, 0.00750919220326305, 0.0007678390609328285, 0.001539585101553402, 0.001497702592627595, 0.0024412124382526975], \"xaxis\": \"x\", \"y\": [\"Padova\", \"Venezia\", \"Vicenza\", \"Treviso\", \"Verona\", \"Rovigo\", \"Milano\", \"Roma\", \"Trento\", \"Belluno\", \"Bologna\", \"Udine\", \"Ferrara\", \"Torino\", \"Napoli\", \"Brescia\", \"Mantova\", \"Ascoli Piceno\", \"Firenze\", \"Bergamo\", \"Monza e della Brianza\"], \"yaxis\": \"y\", \"type\": \"bar\"}, {\"alignmentgroup\": \"True\", \"hovertemplate\": \"<b>%{hovertext}</b><br><br>DAY=Venerd\\u00ec<br>MONTH=Aprile<br>=%{y}<extra></extra>\", \"hovertext\": [\"Padova\", \"Venezia\", \"Vicenza\", \"Treviso\", \"Verona\", \"Rovigo\", \"Milano\", \"Roma\", \"Trento\", \"Belluno\", \"Bologna\", \"Udine\", \"Ferrara\", \"Torino\", \"Napoli\", \"Brescia\", \"Mantova\", \"Firenze\", \"Bergamo\", \"Monza e della Brianza\"], \"legendgroup\": \"Venerd\\u00ec\", \"marker\": {\"color\": \"#FFA15A\"}, \"name\": \"Venerd\\u00ec\", \"offsetgroup\": \"Venerd\\u00ec\", \"orientation\": \"h\", \"showlegend\": true, \"textposition\": \"auto\", \"x\": [1.101565002028311, 0.18265319511875083, 0.08980495919852086, 0.06917581303103379, 0.029622212758487292, 0.10969543147208122, 0.005772480429152015, 0.001821051604497529, 0.016099337282227382, 0.041971693509028796, 0.006660792986390663, 0.013918142132037228, 0.013176741840190215, 0.0018474122126639402, 0.0009197027283439353, 0.0023922649045232816, 0.010064066135291747, 0.0029449499634841996, 0.0024697691791887746, 0.002023636626446315], \"xaxis\": \"x\", \"y\": [\"Padova\", \"Venezia\", \"Vicenza\", \"Treviso\", \"Verona\", \"Rovigo\", \"Milano\", \"Roma\", \"Trento\", \"Belluno\", \"Bologna\", \"Udine\", \"Ferrara\", \"Torino\", \"Napoli\", \"Brescia\", \"Mantova\", \"Firenze\", \"Bergamo\", \"Monza e della Brianza\"], \"yaxis\": \"y\", \"type\": \"bar\"}, {\"alignmentgroup\": \"True\", \"hovertemplate\": \"<b>%{hovertext}</b><br><br>DAY=Sabato<br>MONTH=Aprile<br>=%{y}<extra></extra>\", \"hovertext\": [\"Padova\", \"Venezia\", \"Vicenza\", \"Treviso\", \"Verona\", \"Rovigo\", \"Milano\", \"Roma\", \"Trento\", \"Belluno\", \"Bologna\", \"Udine\", \"Ferrara\", \"Torino\", \"Napoli\", \"Brescia\", \"Mantova\", \"Firenze\", \"Bergamo\", \"Monza e della Brianza\"], \"legendgroup\": \"Sabato\", \"marker\": {\"color\": \"#19d3f3\"}, \"name\": \"Sabato\", \"offsetgroup\": \"Sabato\", \"orientation\": \"h\", \"showlegend\": true, \"textposition\": \"auto\", \"x\": [0.8813374041889959, 0.1218812679250942, 0.05531021635673607, 0.03649681098014469, 0.018482457594701466, 0.08576988155668358, 0.006741980141331788, 0.0024822503716373278, 0.015528859154877403, 0.0337725719863348, 0.006518400737275424, 0.00941476932492855, 0.014848332012392823, 0.0025437173882386123, 0.0007429856543143152, 0.0016856754029223654, 0.006790330336456497, 0.001630381146003987, 0.0011556791640227354, 0.0014959309302074802], \"xaxis\": \"x\", \"y\": [\"Padova\", \"Venezia\", \"Vicenza\", \"Treviso\", \"Verona\", \"Rovigo\", \"Milano\", \"Roma\", \"Trento\", \"Belluno\", \"Bologna\", \"Udine\", \"Ferrara\", \"Torino\", \"Napoli\", \"Brescia\", \"Mantova\", \"Firenze\", \"Bergamo\", \"Monza e della Brianza\"], \"yaxis\": \"y\", \"type\": \"bar\"}, {\"alignmentgroup\": \"True\", \"hovertemplate\": \"<b>%{hovertext}</b><br><br>DAY=Domenica<br>MONTH=Aprile<br>=%{y}<extra></extra>\", \"hovertext\": [\"Padova\", \"Venezia\", \"Vicenza\", \"Treviso\", \"Verona\", \"Rovigo\", \"Milano\", \"Roma\", \"Trento\", \"Belluno\", \"Bologna\", \"Udine\", \"Ferrara\", \"Torino\", \"Napoli\", \"Brescia\", \"Mantova\", \"Ascoli Piceno\", \"Firenze\", \"Bergamo\", \"Monza e della Brianza\"], \"legendgroup\": \"Domenica\", \"marker\": {\"color\": \"#FF6692\"}, \"name\": \"Domenica\", \"offsetgroup\": \"Domenica\", \"orientation\": \"h\", \"showlegend\": true, \"textposition\": \"auto\", \"x\": [0.6635010782074001, 0.08961141207565561, 0.04381814727457241, 0.03576660431362827, 0.018426108638620056, 0.06392554991539763, 0.007281140695554213, 0.0026659166958428277, 0.01606229324798388, 0.035236700829673014, 0.005695689964609593, 0.00788090241244019, 0.012415880106635925, 0.0024397123113806232, 0.0010770712176257867, 0.0017078553424345019, 0.005682894487592347, 0.0007678390609328285, 0.0019422458204212147, 0.001468900619692449, 0.0031157579804014695], \"xaxis\": \"x\", \"y\": [\"Padova\", \"Venezia\", \"Vicenza\", \"Treviso\", \"Verona\", \"Rovigo\", \"Milano\", \"Roma\", \"Trento\", \"Belluno\", \"Bologna\", \"Udine\", \"Ferrara\", \"Torino\", \"Napoli\", \"Brescia\", \"Mantova\", \"Ascoli Piceno\", \"Firenze\", \"Bergamo\", \"Monza e della Brianza\"], \"yaxis\": \"y\", \"type\": \"bar\"}], \"name\": \"Aprile\"}, {\"data\": [{\"alignmentgroup\": \"True\", \"hovertemplate\": \"<b>%{hovertext}</b><br><br>DAY=Luned\\u00ec<br>MONTH=Maggio<br>=%{y}<extra></extra>\", \"hovertext\": [\"Padova\", \"Venezia\", \"Vicenza\", \"Treviso\", \"Verona\", \"Rovigo\", \"Milano\", \"Roma\", \"Trento\", \"Belluno\", \"Bologna\", \"Udine\", \"Ferrara\", \"Torino\", \"Napoli\", \"Brescia\", \"Mantova\", \"Firenze\", \"Bergamo\", \"Monza e della Brianza\"], \"legendgroup\": \"Luned\\u00ec\", \"marker\": {\"color\": \"#636efa\"}, \"name\": \"Luned\\u00ec\", \"offsetgroup\": \"Luned\\u00ec\", \"orientation\": \"h\", \"showlegend\": true, \"textposition\": \"auto\", \"x\": [1.077823088583812, 0.18455583256790448, 0.09578268868077534, 0.07055058484145049, 0.03398275505217155, 0.11314720812182741, 0.004469096887522576, 0.0014895338893066022, 0.01818862081356108, 0.046325036603221084, 0.004888800552956567, 0.011507779840984092, 0.01328049571294762, 0.0010576787477083627, 0.0006539821644745795, 0.0023288936487743206, 0.0064211850535017805, 0.001350097704439137, 0.0009504651068598199, 0.0009452815080452175], \"xaxis\": \"x\", \"y\": [\"Padova\", \"Venezia\", \"Vicenza\", \"Treviso\", \"Verona\", \"Rovigo\", \"Milano\", \"Roma\", \"Trento\", \"Belluno\", \"Bologna\", \"Udine\", \"Ferrara\", \"Torino\", \"Napoli\", \"Brescia\", \"Mantova\", \"Firenze\", \"Bergamo\", \"Monza e della Brianza\"], \"yaxis\": \"y\", \"type\": \"bar\"}, {\"alignmentgroup\": \"True\", \"hovertemplate\": \"<b>%{hovertext}</b><br><br>DAY=Marted\\u00ec<br>MONTH=Maggio<br>=%{y}<extra></extra>\", \"hovertext\": [\"Padova\", \"Venezia\", \"Vicenza\", \"Treviso\", \"Verona\", \"Rovigo\", \"Milano\", \"Roma\", \"Trento\", \"Belluno\", \"Bologna\", \"Udine\", \"Ferrara\", \"Torino\", \"Napoli\", \"Brescia\", \"Mantova\", \"Firenze\", \"Bergamo\", \"Monza e della Brianza\"], \"legendgroup\": \"Marted\\u00ec\", \"marker\": {\"color\": \"#EF553B\"}, \"name\": \"Marted\\u00ec\", \"offsetgroup\": \"Marted\\u00ec\", \"orientation\": \"h\", \"showlegend\": true, \"textposition\": \"auto\", \"x\": [1.0721096568951898, 0.18700676701595217, 0.08571786043623524, 0.06761172838114984, 0.03217091938740016, 0.11174280879864636, 0.005970337513270337, 0.00267601834367413, 0.015751123360338435, 0.038028306490971206, 0.006020027865372084, 0.013600790357039637, 0.013914547157576194, 0.0014084755323649698, 0.0016407599866107793, 0.0025823786717701653, 0.006654329442736338, 0.001843554467757535, 0.0015877087580499264, 0.0020190478812616296], \"xaxis\": \"x\", \"y\": [\"Padova\", \"Venezia\", \"Vicenza\", \"Treviso\", \"Verona\", \"Rovigo\", \"Milano\", \"Roma\", \"Trento\", \"Belluno\", \"Bologna\", \"Udine\", \"Ferrara\", \"Torino\", \"Napoli\", \"Brescia\", \"Mantova\", \"Firenze\", \"Bergamo\", \"Monza e della Brianza\"], \"yaxis\": \"y\", \"type\": \"bar\"}, {\"alignmentgroup\": \"True\", \"hovertemplate\": \"<b>%{hovertext}</b><br><br>DAY=Mercoled\\u00ec<br>MONTH=Maggio<br>=%{y}<extra></extra>\", \"hovertext\": [\"Padova\", \"Venezia\", \"Vicenza\", \"Treviso\", \"Verona\", \"Rovigo\", \"Milano\", \"Roma\", \"Trento\", \"Belluno\", \"Bologna\", \"Udine\", \"Ferrara\", \"Torino\", \"Napoli\", \"Brescia\", \"Mantova\", \"Firenze\", \"Bergamo\", \"Monza e della Brianza\"], \"legendgroup\": \"Mercoled\\u00ec\", \"marker\": {\"color\": \"#00cc96\"}, \"name\": \"Mercoled\\u00ec\", \"offsetgroup\": \"Mercoled\\u00ec\", \"orientation\": \"h\", \"showlegend\": true, \"textposition\": \"auto\", \"x\": [1.1312381237056173, 0.19773370573790466, 0.0986418042548459, 0.07644632755628676, 0.03624104783051101, 0.12426395939086295, 0.004772065547578755, 0.001843091563402189, 0.018922092691582484, 0.046481210346510496, 0.006055625927650894, 0.012595843069547264, 0.013903018949492038, 0.0017257791566774785, 0.0010164456520827783, 0.002848537945915802, 0.00750919220326305, 0.0018593450841837239, 0.0015445057986472072, 0.001688658227964272], \"xaxis\": \"x\", \"y\": [\"Padova\", \"Venezia\", \"Vicenza\", \"Treviso\", \"Verona\", \"Rovigo\", \"Milano\", \"Roma\", \"Trento\", \"Belluno\", \"Bologna\", \"Udine\", \"Ferrara\", \"Torino\", \"Napoli\", \"Brescia\", \"Mantova\", \"Firenze\", \"Bergamo\", \"Monza e della Brianza\"], \"yaxis\": \"y\", \"type\": \"bar\"}, {\"alignmentgroup\": \"True\", \"hovertemplate\": \"<b>%{hovertext}</b><br><br>DAY=Gioved\\u00ec<br>MONTH=Maggio<br>=%{y}<extra></extra>\", \"hovertext\": [\"Padova\", \"Venezia\", \"Vicenza\", \"Treviso\", \"Verona\", \"Rovigo\", \"Milano\", \"Roma\", \"Trento\", \"Belluno\", \"Bologna\", \"Udine\", \"Ferrara\", \"Torino\", \"Napoli\", \"Brescia\", \"Mantova\", \"Ascoli Piceno\", \"Firenze\", \"Bergamo\", \"Monza e della Brianza\"], \"legendgroup\": \"Gioved\\u00ec\", \"marker\": {\"color\": \"#ab63fa\"}, \"name\": \"Gioved\\u00ec\", \"offsetgroup\": \"Gioved\\u00ec\", \"orientation\": \"h\", \"showlegend\": true, \"textposition\": \"auto\", \"x\": [1.0991822704272263, 0.1919648715016777, 0.09697823457722624, 0.07553131549886187, 0.03413879831516621, 0.12472081218274111, 0.004995891373987605, 0.0015694287403359946, 0.01798858302864615, 0.045407515861395804, 0.006071447288663698, 0.011197984060629301, 0.013822321492902946, 0.001054153151882668, 0.000763624144711935, 0.002693278369330847, 0.007295476513131372, 0.003608843586384294, 0.0015553757179795906, 0.001314090015166039, 0.0013123811228200593], \"xaxis\": \"x\", \"y\": [\"Padova\", \"Venezia\", \"Vicenza\", \"Treviso\", \"Verona\", \"Rovigo\", \"Milano\", \"Roma\", \"Trento\", \"Belluno\", \"Bologna\", \"Udine\", \"Ferrara\", \"Torino\", \"Napoli\", \"Brescia\", \"Mantova\", \"Ascoli Piceno\", \"Firenze\", \"Bergamo\", \"Monza e della Brianza\"], \"yaxis\": \"y\", \"type\": \"bar\"}, {\"alignmentgroup\": \"True\", \"hovertemplate\": \"<b>%{hovertext}</b><br><br>DAY=Venerd\\u00ec<br>MONTH=Maggio<br>=%{y}<extra></extra>\", \"hovertext\": [\"Padova\", \"Venezia\", \"Vicenza\", \"Treviso\", \"Verona\", \"Rovigo\", \"Milano\", \"Roma\", \"Trento\", \"Belluno\", \"Bologna\", \"Udine\", \"Ferrara\", \"Torino\", \"Napoli\", \"Brescia\", \"Mantova\", \"Firenze\", \"Bergamo\", \"Monza e della Brianza\"], \"legendgroup\": \"Venerd\\u00ec\", \"marker\": {\"color\": \"#FFA15A\"}, \"name\": \"Venerd\\u00ec\", \"offsetgroup\": \"Venerd\\u00ec\", \"orientation\": \"h\", \"showlegend\": true, \"textposition\": \"auto\", \"x\": [1.120460319832611, 0.1864537837179223, 0.08554177228094402, 0.06702125261995448, 0.029262446346582923, 0.11345177664974619, 0.005673551887092855, 0.0020533895046174863, 0.01720324950268384, 0.0412298682284041, 0.006285035662336558, 0.011160204087415302, 0.013603285539303985, 0.002178818220279227, 0.000998386972984861, 0.0023162193976245284, 0.005634322739835148, 0.0025028127035509147, 0.0014076964272052635, 0.002312727573081503], \"xaxis\": \"x\", \"y\": [\"Padova\", \"Venezia\", \"Vicenza\", \"Treviso\", \"Verona\", \"Rovigo\", \"Milano\", \"Roma\", \"Trento\", \"Belluno\", \"Bologna\", \"Udine\", \"Ferrara\", \"Torino\", \"Napoli\", \"Brescia\", \"Mantova\", \"Firenze\", \"Bergamo\", \"Monza e della Brianza\"], \"yaxis\": \"y\", \"type\": \"bar\"}, {\"alignmentgroup\": \"True\", \"hovertemplate\": \"<b>%{hovertext}</b><br><br>DAY=Sabato<br>MONTH=Maggio<br>=%{y}<extra></extra>\", \"hovertext\": [\"Padova\", \"Venezia\", \"Vicenza\", \"Treviso\", \"Verona\", \"Rovigo\", \"Milano\", \"Roma\", \"Trento\", \"Belluno\", \"Bologna\", \"Udine\", \"Ferrara\", \"Torino\", \"Napoli\", \"Brescia\", \"Mantova\", \"Firenze\", \"Bergamo\", \"Monza e della Brianza\"], \"legendgroup\": \"Sabato\", \"marker\": {\"color\": \"#19d3f3\"}, \"name\": \"Sabato\", \"offsetgroup\": \"Sabato\", \"orientation\": \"h\", \"showlegend\": true, \"textposition\": \"auto\", \"x\": [0.8961376689369516, 0.12452902693684743, 0.05365128057793986, 0.04272610488832796, 0.019284346585090716, 0.08101522842639594, 0.006525573955577375, 0.0019248230776736364, 0.015528859154877403, 0.03353831137140068, 0.008511892224888781, 0.008515605962435373, 0.012185315944952806, 0.002111831899591031, 0.0007623342390620838, 0.0034252163732313478, 0.00544003574880635, 0.0027515149122633873, 0.0012888882888477862, 0.0013215586131894302], \"xaxis\": \"x\", \"y\": [\"Padova\", \"Venezia\", \"Vicenza\", \"Treviso\", \"Verona\", \"Rovigo\", \"Milano\", \"Roma\", \"Trento\", \"Belluno\", \"Bologna\", \"Udine\", \"Ferrara\", \"Torino\", \"Napoli\", \"Brescia\", \"Mantova\", \"Firenze\", \"Bergamo\", \"Monza e della Brianza\"], \"yaxis\": \"y\", \"type\": \"bar\"}, {\"alignmentgroup\": \"True\", \"hovertemplate\": \"<b>%{hovertext}</b><br><br>DAY=Domenica<br>MONTH=Maggio<br>=%{y}<extra></extra>\", \"hovertext\": [\"Padova\", \"Venezia\", \"Vicenza\", \"Treviso\", \"Verona\", \"Rovigo\", \"Milano\", \"Roma\", \"Trento\", \"Belluno\", \"Bologna\", \"Udine\", \"Ferrara\", \"Torino\", \"Napoli\", \"Brescia\", \"Mantova\", \"Firenze\", \"Bergamo\", \"Monza e della Brianza\"], \"legendgroup\": \"Domenica\", \"marker\": {\"color\": \"#FF6692\"}, \"name\": \"Domenica\", \"offsetgroup\": \"Domenica\", \"orientation\": \"h\", \"showlegend\": true, \"textposition\": \"auto\", \"x\": [0.6887588872045605, 0.09938234577389544, 0.04697846627216741, 0.03717743571251493, 0.01738582021865562, 0.05888324873096447, 0.005714359910692259, 0.0019542096895465164, 0.015617764837061815, 0.0379502196193265, 0.005620538499798772, 0.006709723242806221, 0.00734346854960732, 0.00104005076857989, 0.000661721598373687, 0.0017585523470336707, 0.007091475172551134, 0.0023014823441170084, 0.0007200493233786514, 0.0013399135939281724], \"xaxis\": \"x\", \"y\": [\"Padova\", \"Venezia\", \"Vicenza\", \"Treviso\", \"Verona\", \"Rovigo\", \"Milano\", \"Roma\", \"Trento\", \"Belluno\", \"Bologna\", \"Udine\", \"Ferrara\", \"Torino\", \"Napoli\", \"Brescia\", \"Mantova\", \"Firenze\", \"Bergamo\", \"Monza e della Brianza\"], \"yaxis\": \"y\", \"type\": \"bar\"}], \"name\": \"Maggio\"}]);\n",
       "                        }).then(function(){\n",
       "                            \n",
       "var gd = document.getElementById('6e43cf42-5876-4b91-a14b-606f10583365');\n",
       "var x = new MutationObserver(function (mutations, observer) {{\n",
       "        var display = window.getComputedStyle(gd).display;\n",
       "        if (!display || display === 'none') {{\n",
       "            console.log([gd, 'removed!']);\n",
       "            Plotly.purge(gd);\n",
       "            observer.disconnect();\n",
       "        }}\n",
       "}});\n",
       "\n",
       "// Listen for the removal of the full notebook cells\n",
       "var notebookContainer = gd.closest('#notebook-container');\n",
       "if (notebookContainer) {{\n",
       "    x.observe(notebookContainer, {childList: true});\n",
       "}}\n",
       "\n",
       "// Listen for the clearing of the current output cell\n",
       "var outputEl = gd.closest('.output');\n",
       "if (outputEl) {{\n",
       "    x.observe(outputEl, {childList: true});\n",
       "}}\n",
       "\n",
       "                        })                };                });            </script>        </div>"
      ]
     },
     "metadata": {},
     "output_type": "display_data"
    }
   ],
   "source": [
    "fig = go.Figure()\n",
    "fig = make_subplots(\n",
    "    rows=2, cols=1, subplot_titles=(\"Plot 1\", \"Plot 2\")\n",
    ")\n",
    "#config = dict({'scrollZoom': True})\n",
    "config = {'displayModeBar': True,}\n",
    "\n",
    "\n",
    "data = day_od3\n",
    "\n",
    "#defining graph\n",
    "fig = px.bar(data[0:566], x=\"RATIO\", y=\"PROVINCIA\", color='DAY', barmode='stack'\n",
    "             ,title=\"Ranking of provinces with most visitors montly\"\n",
    "             ,category_orders={'MONTH':['Febbraio','Marzo','Aprile','Maggio']\n",
    "             ,'DAY':['Lunedì','Martedì','Mercoledì','Giovedì','Venerdì','Sabato','Domenica']}\n",
    "             ,orientation='h'\n",
    "             ,labels={\"RATIO\": \"\",\"PROVINCIA\": \"\",}\n",
    "             ,hover_name=\"PROVINCIA\"\n",
    "             ,log_x=True\n",
    "             #,color_discrete_sequence=['light blue', \"blue\", \"purple\", \"red\"]\n",
    "             ,animation_frame=\"MONTH\"\n",
    "             #, animation_group=\"MONTH\"\n",
    "            )\n",
    "\n",
    "\n",
    "#defining graph style\n",
    "fig.update_traces(textposition='outside')\n",
    "fig.update_layout(uniformtext_minsize=5\n",
    "                  ,template='ggplot2'\n",
    "                  ,uniformtext_mode='hide'\n",
    "                  ,xaxis_range=[-3,1]\n",
    "                  ,width=900\n",
    "                  ,height=700\n",
    "                  ,autosize=False\n",
    "                 )\n",
    "\n",
    "fig.update_yaxes(categoryorder='total ascending', tickangle=-25,visible=True)\n",
    "fig.update_xaxes(fixedrange=True,mirror='all',tickwidth=1,side='top')\n",
    "fig.show(config=config)"
   ]
  },
  {
   "cell_type": "markdown",
   "metadata": {},
   "source": [
    "# Commenti\n",
    "\n",
    "### First Graph\n",
    "1) The flux is scaled on the n° of habitants per province\n",
    "\n",
    "2) Since this graph takes into account the total flux ratio and not montly or daily data, so here anomalies like 'Ascoli Piceno' province below aren't relevant\n",
    "\n",
    "3) About 93% of the total flux is given by visitors living in Veneto\n",
    "\n",
    "\n",
    "### Second Graph\n",
    "1) The flux is scaled on the n° of habitants per province\n",
    "\n",
    "2) The graph has a logarithmic scale due to visualization needs.\n",
    "\n",
    "3) The first province is indeed Padova, then follow the nearby provincies as expected. Also, there's an important flux of visitors coming from Lombardia region (Milano, Mantova, Varese, Brescia, Bergamo, Monza)\n",
    "\n",
    "4) It is visible a general progressive increase in the flux from February to April and a decrease in the weekend days as expected.\n",
    "\n",
    "5) Ascoli Piceno province does not have all data regarding months and days, despite this we see an unusual important flux with a peak on satudays of February. \n",
    "\n",
    "6) The ranking of the first 13 provinces remains constant during all the months period, while for the rest there are some slight changes."
   ]
  }
 ],
 "metadata": {
  "kernelspec": {
   "display_name": "Python 3",
   "language": "python",
   "name": "python3"
  },
  "language_info": {
   "codemirror_mode": {
    "name": "ipython",
    "version": 3
   },
   "file_extension": ".py",
   "mimetype": "text/x-python",
   "name": "python",
   "nbconvert_exporter": "python",
   "pygments_lexer": "ipython3",
   "version": "3.8.3"
  }
 },
 "nbformat": 4,
 "nbformat_minor": 4
}
