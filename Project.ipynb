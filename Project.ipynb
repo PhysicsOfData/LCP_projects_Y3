{
 "cells": [
  {
   "cell_type": "code",
   "execution_count": 29,
   "metadata": {},
   "outputs": [],
   "source": [
    "import numpy as np\n",
    "import matplotlib.pyplot as plt\n",
    "import pandas as pd"
   ]
  },
  {
   "cell_type": "markdown",
   "metadata": {},
   "source": [
    "# Cellular Automata S.I.R. Model\n",
    "\n",
    "### Description\n",
    "\n",
    "Based on the reference [paper](https://www.math.uh.edu/~zpkilpat/teaching/math4309/project/physa99_fuentes.pdf), the aim of the project is to simulate and then study the evolution of Susceptible-Infected-Removed populations over space and time.\n",
    "\n",
    "### Assignments\n",
    "1. Consider a grid of a given form (squared or exagonal or whatever) and then let propagate the SIR model. \n",
    "2. Repeat point 1 several times in order to obtain several reference datasets\n",
    "3. Try to predict the evolution of the epidemic both in space and time on the basis of the previous steps, e.g. by means of \n",
    "4. Define a metric on how the epidemic evolved e.g. assigning a probability for a given node not to get infected or predict the fraction of the nodes that got infected at the end of the epidemic\n",
    "\n",
    "### Contacts\n",
    "* Leonardo Badia <badia@dei.unipd.it>"
   ]
  },
  {
   "cell_type": "code",
   "execution_count": 37,
   "metadata": {},
   "outputs": [
    {
     "data": {
      "image/png": "[encoded data removed]",
      "text/plain": [
       "<Figure size 504x504 with 1 Axes>"
      ]
     },
     "metadata": {
      "needs_background": "light"
     },
     "output_type": "display_data"
    }
   ],
   "source": [
    "def change_status(index):\n",
    "    global population;\n",
    "    status = population[index];   \n",
    "    if status!=0 and status!=1 and status!=-1:\n",
    "        raise Exception('status must be a number equal to -1, 0 or 1.');        \n",
    "    if status==0:\n",
    "        population[index] = 1;\n",
    "    elif status==1:\n",
    "        population[index] = -1;\n",
    "    else:\n",
    "        population = population; # useless but for clarity \n",
    "                  \n",
    "\n",
    "def draw_line(mat, point1, point2):\n",
    "    x0, y0 = point1[0], point1[1];\n",
    "    x1, y1 = point2[0], point2[1];\n",
    "    if not (0 <= x0 < mat.shape[0] and 0 <= x1 < mat.shape[0] and\n",
    "            0 <= y0 < mat.shape[1] and 0 <= y1 < mat.shape[1]):\n",
    "        raise ValueError('Invalid coordinates.')\n",
    "        \n",
    "    if (x0, y0) == (x1, y1):\n",
    "        mat[x0, y0] = 0\n",
    "        return mat\n",
    "    \n",
    "    # Swap axes if Y slope is smaller than X slope\n",
    "    transpose = abs(x1 - x0) < abs(y1 - y0)\n",
    "    if transpose:\n",
    "        mat = mat.T\n",
    "        x0, y0, x1, y1 = y0, x0, y1, x1\n",
    "        \n",
    "    # Swap line direction to go left-to-right if necessary\n",
    "    if x0 > x1:\n",
    "        x0, y0, x1, y1 = x1, y1, x0, y0\n",
    "        \n",
    "    # Compute intermediate coordinates using line equation\n",
    "    x = np.arange(x0 + 1, x1)\n",
    "    y = np.round(((y1 - y0) / (x1 - x0)) * (x - x0) + y0).astype(x.dtype)\n",
    "    \n",
    "    # Write intermediate coordinates\n",
    "    mat[x, y] = 0\n",
    "\n",
    "    return mat if not transpose else mat.T\n",
    "    \n",
    "\n",
    "    \n",
    "def new_population(N, vertices):\n",
    "    from numpy import pi, floor, ceil, cos, sin;\n",
    "    \n",
    "    if vertices < 3:\n",
    "        raise Exception('The number of vertices must be greater than 2.');\n",
    "        \n",
    "    n = vertices;\n",
    "    \n",
    "    if N%2 ==0: N+=1;\n",
    "    M = np.ones((N,N), dtype=int)+1\n",
    "\n",
    "    center = [floor(N/2), floor(N/2)];\n",
    "    radius = floor(N/2);\n",
    "    angle = 2*pi/n;\n",
    "    \n",
    "    vertices=np.zeros((n+1,2), dtype=int);\n",
    "    for vertex in range(n):\n",
    "        x = int(floor(center[0] + radius*cos(vertex*angle)));\n",
    "        y = int(floor(center[1] - radius*sin(vertex*angle)));\n",
    "        M[x,y] = 0;\n",
    "        vertices[vertex]=[x,y];\n",
    "    vertices[n]=vertices[0];\n",
    "\n",
    "    for i in range(1,len(vertices)):\n",
    "        M = draw_line(M, vertices[i-1], vertices[i]);\n",
    "            \n",
    "       \n",
    "    for row in range(N):\n",
    "        row_i = M[row,:]\n",
    "        \n",
    "        x1 = np.argwhere(M[row,:]==0)\n",
    "        x2 = np.argwhere(M[row,:]==0)\n",
    "        if len(x1)==0 or len(x2)==0: continue;\n",
    "        x1 = min(x1); x2 = max(x2);\n",
    "        if x1==0 and x2==0: continue;\n",
    "        M = draw_line(M, [row, x1], [row, x2]);\n",
    "          \n",
    "    return M;\n",
    "\n",
    "\n",
    "\n",
    "resolution, polygon_sides = 1050, 6\n",
    "population = new_population(resolution, polygon_sides);\n",
    "\n",
    "center = int(np.floor(resolution/2))\n",
    "\n",
    "# 0 = S , 1 = I , -1 = R\n",
    "change_status((center,center));\n",
    "change_status((center,center));\n",
    "change_status((center+1,center+1));\n",
    "\n",
    "#print(population)\n",
    "plt.figure(figsize = (7,7));\n",
    "plt.axis('off');\n",
    "plt.imshow(population, cmap='gray', vmin=-1, vmax=2);"
   ]
  }
 ],
 "metadata": {
  "kernelspec": {
   "display_name": "Python 3",
   "language": "python",
   "name": "python3"
  },
  "language_info": {
   "codemirror_mode": {
    "name": "ipython",
    "version": 3
   },
   "file_extension": ".py",
   "mimetype": "text/x-python",
   "name": "python",
   "nbconvert_exporter": "python",
   "pygments_lexer": "ipython3",
   "version": "3.8.5"
  }
 },
 "nbformat": 4,
 "nbformat_minor": 2
}
