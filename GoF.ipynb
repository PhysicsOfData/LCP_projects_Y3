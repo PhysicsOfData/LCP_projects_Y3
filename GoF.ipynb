{
 "cells": [
  {
   "cell_type": "code",
   "execution_count": null,
   "metadata": {},
   "outputs": [],
   "source": [
    "import numpy as np\n",
    "import matplotlib\n",
    "import matplotlib.pyplot as plt\n",
    "%matplotlib inline\n",
    "import matplotlib.animation as animation # do the animation\n",
    "from matplotlib.animation import FuncAnimation\n",
    "from IPython.display import HTML  # display the animation in notebook"
   ]
  },
  {
   "cell_type": "markdown",
   "metadata": {},
   "source": [
    "# Game of Life "
   ]
  },
  {
   "cell_type": "code",
   "execution_count": 145,
   "metadata": {},
   "outputs": [],
   "source": [
    "# values for cell on or off in the grid\n",
    "alive = 1 # values for cell alive\n",
    "dead = 0 # value for cell dead\n",
    "vals = [alive, dead]"
   ]
  },
  {
   "cell_type": "markdown",
   "metadata": {},
   "source": [
    "# GoF Patterns"
   ]
  },
  {
   "cell_type": "code",
   "execution_count": 160,
   "metadata": {},
   "outputs": [],
   "source": [
    "#oscillators The \"glider\"\n",
    "def glider(grid):\n",
    "    glider = np.array([[0, 0, alive], [alive, 0, alive], [0, alive, alive]])\n",
    "    grid[1:1+3, 1:1+3] = glider # add the glider in the top left corner, but we can change the code in order to put it where we want"
   ]
  },
  {
   "cell_type": "code",
   "execution_count": null,
   "metadata": {},
   "outputs": [],
   "source": []
  },
  {
   "cell_type": "code",
   "execution_count": null,
   "metadata": {},
   "outputs": [],
   "source": []
  },
  {
   "cell_type": "code",
   "execution_count": null,
   "metadata": {},
   "outputs": [],
   "source": []
  },
  {
   "cell_type": "code",
   "execution_count": null,
   "metadata": {},
   "outputs": [],
   "source": []
  },
  {
   "cell_type": "markdown",
   "metadata": {},
   "source": [
    "### Update grid function"
   ]
  },
  {
   "attachments": {
    "d415ee4c-1526-44d7-947a-6fa40078d48a.png": {
     "image/png": "[encoded data removed]"
    }
   },
   "cell_type": "markdown",
   "metadata": {},
   "source": [
    "![GameOfLifeDiagram.png](attachment:d415ee4c-1526-44d7-947a-6fa40078d48a.png)"
   ]
  },
  {
   "cell_type": "code",
   "execution_count": 161,
   "metadata": {},
   "outputs": [],
   "source": [
    "def update_grid(frameNum, img, grid, N):\n",
    "    \n",
    "    grid_tmp = grid.copy() # not to mess up with the original one\n",
    "    for i in range(N):\n",
    "        for j in range(N):\n",
    "            # get the total number of neighbors of the cell\n",
    "            neighbors = grid[(i+1)%N,j] + grid[i,(j+1)%N] + grid[(i-1)%N,j] + grid[i,(j-1)%N] + grid[(i+1)%N,(j+1)%N] + grid[(i-1)%N,(j-1)%N] + grid[(i+1)%N,(j-1)%N] + grid[(i-1)%N,(j+1)%N]\n",
    " \n",
    "            # check if it is still alive or not\n",
    "            if grid[i, j] == alive:\n",
    "                if (neighbors < 2) or (neighbors > 3):\n",
    "                    grid_tmp[i, j] = dead\n",
    "            else:\n",
    "                if neighbors == 3:  # a dead cell with 3 neighbors can reborn\n",
    "                    grid_tmp[i, j] = alive\n",
    " \n",
    "    # update the image\n",
    "    img.set_data(grid_tmp)\n",
    "    grid[:] = grid_tmp[:] # change the old grid\n",
    "    \n",
    "    return img, "
   ]
  },
  {
   "cell_type": "markdown",
   "metadata": {},
   "source": [
    "### Grid animation "
   ]
  },
  {
   "cell_type": "code",
   "execution_count": 162,
   "metadata": {},
   "outputs": [],
   "source": [
    "def show_GoF(grid, N):\n",
    "    # show the grid \n",
    "    fig, ax = plt.subplots()\n",
    "    img = ax.imshow(grid, interpolation='nearest', cmap='Greys') \n",
    "    animation_grid = FuncAnimation(fig, update_grid, fargs=(img, grid, N, ), frames=100, interval=500, save_count=50) # animation  # init_func=create_grid\n",
    "    plt.close()\n",
    "    \n",
    "    return animation_grid"
   ]
  },
  {
   "cell_type": "markdown",
   "metadata": {},
   "source": [
    "### Grid generation"
   ]
  },
  {
   "cell_type": "code",
   "execution_count": 169,
   "metadata": {},
   "outputs": [],
   "source": [
    "# I will use a predefined number, then it could be chosen by the user as input.\n",
    "# Grid = matrix NxN in a two dimensional space\n",
    "# the random pattern is the default one if not explicitly declared, the same for the size\n",
    "def create_grid(N=50, pattern='random'):\n",
    "    \n",
    "    # create grid for each case of pattern\n",
    "    if(pattern == 'random'):\n",
    "        grid = np.random.choice(vals, N*N, p=[0.2, 0.8]).reshape(N, N)\n",
    "        \n",
    "    elif(pattern == 'glider'):\n",
    "        grid = np.zeros((N, N))\n",
    "        glider(grid)\n",
    "        \n",
    "    # we could create classes for each pattern and return the grid \n",
    "        \n",
    "    return grid"
   ]
  },
  {
   "cell_type": "markdown",
   "metadata": {},
   "source": [
    "# GoF implementation"
   ]
  },
  {
   "cell_type": "code",
   "execution_count": 170,
   "metadata": {},
   "outputs": [],
   "source": [
    "# here we can generate the grid with dimension and pattern parameters\n",
    "# show the grid and the animation\n",
    "N = 50\n",
    "grid = create_grid(N, pattern='glider')\n",
    "#print(grid)"
   ]
  },
  {
   "cell_type": "code",
   "execution_count": 171,
   "metadata": {},
   "outputs": [
    {
     "data": {
      "text/html": [
       "<video width=\"432\" height=\"288\" controls autoplay loop>\n",
       "  <source type=\"video/mp4\" src=\"data:video/mp4;base64,AAAAIGZ0eXBNNFYgAAACAE00ViBpc29taXNvMmF2YzEAAAAIZnJlZQAAJeRtZGF0AAACrgYF//+q\n",
       "3EXpvebZSLeWLNgg2SPu73gyNjQgLSBjb3JlIDE2MSByMzAzME0gOGJkNmQyOCAtIEguMjY0L01Q\n",
       "RUctNCBBVkMgY29kZWMgLSBDb3B5bGVmdCAyMDAzLTIwMjAgLSBodHRwOi8vd3d3LnZpZGVvbGFu\n",
       "Lm9yZy94MjY0Lmh0bWwgLSBvcHRpb25zOiBjYWJhYz0xIHJlZj0zIGRlYmxvY2s9MTowOjAgYW5h\n",
       "bHlzZT0weDM6MHgxMTMgbWU9aGV4IHN1Ym1lPTcgcHN5PTEgcHN5X3JkPTEuMDA6MC4wMCBtaXhl\n",
       "ZF9yZWY9MSBtZV9yYW5nZT0xNiBjaHJvbWFfbWU9MSB0cmVsbGlzPTEgOHg4ZGN0PTEgY3FtPTAg\n",
       "ZGVhZHpvbmU9MjEsMTEgZmFzdF9wc2tpcD0xIGNocm9tYV9xcF9vZmZzZXQ9LTIgdGhyZWFkcz05\n",
       "IGxvb2thaGVhZF90aHJlYWRzPTEgc2xpY2VkX3RocmVhZHM9MCBucj0wIGRlY2ltYXRlPTEgaW50\n",
       "ZXJsYWNlZD0wIGJsdXJheV9jb21wYXQ9MCBjb25zdHJhaW5lZF9pbnRyYT0wIGJmcmFtZXM9MyBi\n",
       "X3B5cmFtaWQ9MiBiX2FkYXB0PTEgYl9iaWFzPTAgZGlyZWN0PTEgd2VpZ2h0Yj0xIG9wZW5fZ29w\n",
       "PTAgd2VpZ2h0cD0yIGtleWludD0yNTAga2V5aW50X21pbj0yIHNjZW5lY3V0PTQwIGludHJhX3Jl\n",
       "ZnJlc2g9MCByY19sb29rYWhlYWQ9NDAgcmM9Y3JmIG1idHJlZT0xIGNyZj0yMy4wIHFjb21wPTAu\n",
       "NjAgcXBtaW49MCBxcG1heD02OSBxcHN0ZXA9NCBpcF9yYXRpbz0xLjQwIGFxPTE6MS4wMACAAAAH\n",
       "MWWIhAAX//731LfMsu1Tb7YLqPeiniZfQ3UlAZuWxO06gAAAAwAGd13N19ntQXAfaAAHjXCheBU4\n",
       "Tu/MAmG9YxJTTjfTdHFvufpq2qEu2w7pK/hLM5aiRh3TJGYEMmAGop2WLin3Xz+0a64w0d5kIO8k\n",
       "7c72Sp7SR1SU2xyCtjqhFkndrmzVNYlAWpOb8PU9p1sMndIteZ/eb3S3TQb2VQ45kk6Rws8mJdOC\n",
       "qgbaeaUQq8gt2y8xbMNsTTWi+c+RPGE2adfNBLEPluAaWL59xF3iY10gIYeEZxF4YdwPvlI1ObTV\n",
       "KkASFrLZ2dZg1Sq1Cj3B5oo+JkivwE737a8Aj86vbOfYGSYOu/NAG85i1mYYY8rXUV5y5J2MEQm8\n",
       "f/wLswYTvTscDdvxaoZoh0m88SjMJLnk7/LLNt8DRBylzSQ7wpT4YHHsm+r9R8VmZ+4Fqh5dirzh\n",
       "Z/0gLR3TGcVfoBHLtIHOn6SqKeO+bx9+QmQkFmJRmCMHnMwW3aMPd/xdHKYH2gGyU9WcJX21sBUx\n",
       "xf/UgXuF19nei7CNF29lYXmcMteHgfqDOL/YMvPR38oUlkhyphBGGiVVXSI5PXKEZ3nWHEV/om4u\n",
       "+nVL/5f8VR71O1DN4ejm9NpaPc0yLXVI9Rwi5NbZLKcEDdUwejBOlKQ4zUpv1ujwN2VHHKgy/5gf\n",
       "n9vZ12xXFn//zc902OAHgFkOFnpiRS1pT2lICcgnXaSSLhhfwnfDO1fNvNxvS3MIV2qjKEopP55S\n",
       "M8anyt5RpEs0w/3ll5piwFWrNYfL1UUgcSu5T8s2Rsxur4xOArK3bjsjyh4T6rKp/QvAwBYOma2z\n",
       "Er4xG4ni4dOphgdh+GXK1b7vZZCZe29yHj52I66ECqZa876PooWARo6hCv3coyYJ/FRzNfSZNmlc\n",
       "1dAGRmFBPIbiLZZ/e0zBPKDaAw2ekSsKmYNWKo/cS7thyBFWEf7pEcrxKffu8KRoGttqsN6xBxCW\n",
       "+wJODFpwuTiuI+DeA2eZLY+ZxYBZeEHFEeuIt0igA4GaQOwkgOif2+QDwX7X5nZSIj5CxCI9bdH+\n",
       "A0TIrbUIWVez/T2+j3WvduO1Gsbu3fAVBJ7K2o7+ByA6fdPquAzmV8U26tsfLEDR7vdghQTgv0yE\n",
       "cF6oCkcoz6RDEr0c50qTBRue3Gq8hxJdRJUOdTNNUaFrhH65V8QF/d/xi/bA2eq8+gnKgJcxtxA3\n",
       "GagAfPoeTMycU6/gajSQ7DJOc6sc6HaAmkO9LIEM9nfhO+nrO68CnLUjvvj14w+2G6ILQC2HohYi\n",
       "lULqrrcdbNZetqMDhtF8MfKY1/FwAJ+HHb+F4K1FbfXMpeznuSBfGB5Rd0PFAh0IhfVSNmWO4x0b\n",
       "Ab/xTd2iWDWRaemvrQJFlFJG0gO24ktnzK/nMAcbisaIFP5AAAOa4THhTtE+6saWRK4xXGYc/CHi\n",
       "P4RNBvT//+2vLs/FAUGt76Zx8HeWHKCvUyvKHHL5vK8f0BNwPazmD+V2yFwzXU1zeV4/vezFgWh7\n",
       "U9DKglsivufbxFbqXgl7ekF4PiZYE4ZOeaJvLE73l101fagKODNjm6JsHkdzu1eAE71Jz42WS6t3\n",
       "934PotCm+GqwXko827ed8VsYCsiUn6njbfzYrnM5Wqdj7fhiugf2BBZD8aPhB2H0E4eDRMfWODgy\n",
       "n1ZeJftOVp8tN85uC4Heoxhq3a8aMCA+Nz/79ypHtM4lMF2O9l+1s8NWSku/yTDnGX4aAkdNnrC/\n",
       "LuuBL2bAkLY0pihXDucRa+YF/tw3CyWPUY7IxP4p8CbkAGMEjKSKsRlKsdVk3NxW3ZMdzYnm2S7j\n",
       "DwfypmaIF+h4+fyL84P2Ei7lg8DE3o72QqHAfePY7yH61dTMQHY1Aavq8Em3hNFCocJbx2sM60uV\n",
       "R3Nodl0RXrYQcazaU5Jo6PrDBi81PuEv7VLtrQorV2X9mKfUWU3o4hcWEkN7Kv4xkWIeYEiOO6VX\n",
       "b7zaN4qOw25oPZxWSM2D8P5L8YWFE57Qn0d46pOd7A6qkQtFqjBI0mRkFY5xg5uTBFfO5Yg5j7bi\n",
       "rKfHlQAqyvptitBcIh4FqlrvSTA8Pp/LQmKGTlS3ZQ/4wtUqr9nzSs6YtzcpyaMRjvG57oXaNmxh\n",
       "LA7IaWOnJ6euzCWI/ux9HoFllU6SubD1j/fdHEjr246ZhGX4/Zh1N4d3+4QOokjU34fFPKSinrZt\n",
       "qRwd3d2MAmMPUUF1F8xHfjeJhtvfKts/Ze8B1/dMLKS9vWBvzpyQCscXXGrfU4s9q/ZAF2MpITJ/\n",
       "UFkGH1nB3FCN4wJTTfRVyLYumRutDSztsvf2dFG2GxiuwcXwswYL9xxzEOq5aiiYcIZ/zAS8zgKc\n",
       "9lbm6keAIEN+YN51d+0CWUK+P6ye3oM1Qmv08MnhJjs/5x0oMZb3gG6iU/85aHwkqFnt62CHzu68\n",
       "1YwDX3zNciEC1vVcETgAAOmBAAAAp0GaJGxBf/7aplgDuVFSSv8eboANtijvo+Ns9SCRoZj8GpVJ\n",
       "E3KWFnyNuVqMhA3crFA1HDkwgzN1nIiyXumtOUW/dkLpH/6/QLQoPHeSB0xaf441yxoN0DK8zJm2\n",
       "JizgvwNUUZH6H7MnUiFp8/8rFThGy7eI+e28OYsnGNMy35vfhb12gW1DFiL4LfTsWUXOodDuI/FT\n",
       "G6ujMTlWT8EJH85zLvRHAFJAAAAAekGeQniCnwAEi1Cs9wACIDnH/8lrAax+h37xUMdD8M2lQKFP\n",
       "h+qoUrc/q+/x+AxJGtvNsWqQRY6pIRe0BCJjvXXkUjjjnnZkoltZL5tDlaf52vOk8QMIx66bf4x/\n",
       "+/tXyGfLlEdMM5XoMkhJK0tq3+t9zRUe7hUASBJxAAAAPgGeYXRBLwAM4KpvR82hqAAhQ3BMom16\n",
       "9eu0EpxeN5Q1dskfspAqACMkVOqPcaYbs7CAP/9XQZu7WnY7oDKgAAAAXQGeY2pBLwAM4p3nAB+h\n",
       "BR+hzX3FHGpQ4O6EYjIzhYYbQfIibFptyFAvhSvxFejwAaa7rH+WZEFSXqh//6A1Nkklt/6P6fX4\n",
       "40KFqp0qMT0dPRbgMshXESnyx8gScQAAAGRBmmhJqEFomUwIL//+2qZYA5UDqurDwAHOinnlpErM\n",
       "lVPalE4uB32Zx5RJLhGT3ZtxMocyJj2GRbnL+EDx8RgkpHJXQXgfDcnqscSnZe3iv+OvmuK1YlpT\n",
       "ygoxtouJ5eJsGARdAAAAQ0GehkURLBT/AARt60iyO4ABbnrzJpaA4c1qhUrHWttE5+qLC6vrtJNf\n",
       "tUJURiOb/s2YQCx4rST/4Qcoxq84gMAwA3sAAABOAZ6ldEEvAAzoDoAJ3UfEfQ5r7ijjUocLMOy3\n",
       "hnRkZwsB57hRWeMsdqxR4ar/zLwmmcunXNrDKBYmRLv7Qv/5sgu/IsBucwToFRcTdAZVAAAASgGe\n",
       "p2pBLwAMk4OU4KAAmnyYDA+hGwFnYBjmHeweI5hvSxtaQghp57tZmI6NIuODbcoRDYxs3mkA5fsF\n",
       "G/6xwD7gUYpg4bBmAG9AAAAAT0GarEmoQWyZTAgt//7WpVADkAMyH3mQNOeuMEJXRdBzQALidTR6\n",
       "pfHQZ6fKSJNqcfh6lWpLNCX5r8kYza/H4hmBFa26+GPNzOVNAqGIFnAAAAArQZ7KRRUsFP8ABG61\n",
       "td5XCGcTIRuzXQAKWPr/4KbZAbmks98lpZfsFtQBVQAAAFkBnul0QS8ADJLGEwFnZ9X0ZAuegAHF\n",
       "OCYd8ug71+39c7r5sFUSRbFG9y0sZIT+o7nplFYrXoaBg5pU/r//3kYAHObk3yxhhL6xFqFADAPu\n",
       "qtSGzU7v8GfBWwAAABkBnutqQS8ABi+ezmKh1j6hG5ojSGwPpBLwAAAAJUGa8EmoQWyZTAgt//7W\n",
       "pVABoP2TX+qGOd7JSkx7zfzvyDJ4BW0AAAA5QZ8ORRUsFP8AAjjBC4mJgAACIA+X/wlcydDCsFxR\n",
       "+IWsAgSl/RDBLhMmZ3RV4E+vrehmMxLYHgspAAAAFgGfLXRBLwAGQFU4EQXqnOn+R0pIGfEAAAAx\n",
       "AZ8vakEvAAZBMnlbgA+DMf/GEMleyocAsaW4DDPKQzU56Iese9h4K6iwGyUhL7A+YAAAAB5BmzJJ\n",
       "qEFsmUwUTBb//talUAGUvFUMc72M3wkAekAAAAAmAZ9RakEvAAZBczIot+nHUzoclb9EAA2kF9/+\n",
       "X8BuYpA5aIvugZ8AAABTQZtWSeEKUmUwILf//talUAGW/ZPiX4x4KeQVmg/+EABcTqaToIZ0JsiX\n",
       "DhPRMVkDmf/47XJQ80HS+cvkbtAd4X3qc9yMABxh9t8ql1nP++QgWcAAAAAoQZ90RTRMFP8AAil6\n",
       "/Byp5IIrmMsFKaSAABoS3j/5/wHjSkyNCwwBxwAAAC8Bn5N0QS8ABhmjIa/AtPH3QxXZAAOFcb/6\n",
       "/gLMEzRCg0gdHnZZPOJzAFBOTyARsQAAACEBn5VqQS8ABhlMkwNiAkX/hNgA7S1jf/BLTADCHRDY\n",
       "F5AAAAB4QZuXSahBaJlMCC///tqmWADKWHsggo/xqB+CQAWi71f9fwBgJ9+YUT8M6jxqljDdSGpD\n",
       "xJR0zspe1zGoUb11K+8PwKTE6U96ZwYOzGxvIGYyh5a227ADNo7SmoB6rn9vkMFeKA2K6VoG+ENX\n",
       "BH/Olj/TqX/+mgFJAAAAekGbu0nhClJlMCC///7aplgAym71f/+lAA0ZUrIZ2seUHcYmtIjreww+\n",
       "naYzdD+AuS09dUub+0iiNVeiNhatxBnZrVEKd8pb5DDLCeWZOf0ZWgYoM3ItJ2p/NGE/5lPoE6dG\n",
       "J2DZJaGOIgLMuH3BIN/+So+5Xs5RADuhAAAAPkGf2UU0TBT/AAERmPpyom6MeQiiqACoWETiuNcB\n",
       "jn4vKV0bC7V40s6G4HxvTl97mioRKo9eiw3szeKt8H+AAAAAKgGf+HRBLwADBc9dEO2E0EhLgAvd\n",
       "bkgunFsRJM6is55jWIf8EhiX4xBSQQAAADIBn/pqQS8AAw28euuyqAAHK9Df/BLTADCHRrJDaE3u\n",
       "etcR7hMZ8X4KKB/24GMG4IaE3AAAAE1Bm/9JqEFomUwILf/+1qVQAMpePCJzYsgAhFlowjdxY7C4\n",
       "iv7lzmW3XZR2v80HcfI+pNrDgFc/Z1qZ1LMtCHj/vMCBVasu8h6fogB3QQAAAEZBnh1FESwU/wAB\n",
       "EjCPWdAAIRCU/82gvsnQxRz5eYdDaypVD4hmTIsQKdLt3DrHNkW+ClhyUXvH7IXSx7STxREWRer5\n",
       "fB/hAAAASQGePHRBLwADDtHYjFABD+RD/7NYE7RRYjf59Te3Wn/X/TKNbvTtkZy/kvZS2NcWl/qN\n",
       "taK/YuXLYwvCP2OPBJ/UfNOju6y6DUgAAABFAZ4+akEvAAMHcI4ijpVQAEKGE9f8/qRauApFQXqU\n",
       "hhCr//UqCdtF9e7Bgsk+34xxnhrXnzOUtRJdT0N6q52p+CHROQm4AAAANkGaI0moQWyZTAgt//7W\n",
       "pVAAy37JJROR9ODksX5J7cF1NU5oAF2QIQ2wCSOZRmk0pr8h9RADuwAAACFBnkFFFSwU/wABFKpM\n",
       "7ut8nHsGxIstOMg0eFhEoYpINSAAAAAoAZ5gdEEvAAMOmpePVxU+HYyaTKmHRAANlW0aWiVVvTka\n",
       "vY6DV9g/wQAAACkBnmJqQS8AAw6l2gStOG/L8K4bBW7vwADl1tGlaSCKqi8WxZFWnEGhNwAAAFRB\n",
       "mmVJqEFsmUwUTBb//talUADGfsnvD8yzyCaK+xALgASscIbZvGaP4g0AEsEz2otXiv9Xp5Di8qLf\n",
       "wRYnMbZflteJ1IMbjhKP0Syizq82n3Y0AbMAAAA/AZ6EakEvAAL6T//u7sPbKaLcq18o2ADr1tGk\n",
       "PLpXus0R3UzfiSBsYvPFwAKfmkAAomwo+lGlVVFUesbCW+EHAAAAekGah0nhClJlMFLBf/7aplgA\n",
       "Yq7s4w1bng4AAla5lT0a0trfI18/yOFzhOHkkMlDw2jbuv8eJP8L4luZF9Hhd0z768/44GKsUp7/\n",
       "jZY8CqMCWmyjouoXr7cPHA+vA2GPgH1Y0Jrz/PAWf7MwFQFhD9P8Rp8KN4z00C2hAAAAPAGepmpB\n",
       "LwABeNtJ+ZyTfgnAA7NkNGTab/YGYiT3kJkzLjlAQD+v3/q7Ne7ypYflkdgd5b4/vN5gJxEGhQAA\n",
       "AIFBmqtJ4Q6JlMCC//7aplgAYrd3L/9KABoyZi8zUt1i+jWCQICpmHWGuZxoJ/16BYIIm98CL2lP\n",
       "mxplMXLXXyACph5xf5aLJ1ej7RdzskdA/2GNqbxAWfxvA84svEc9a6OzXIzHp4zrxJYsbZv9yrJO\n",
       "ENB9grh4x11cSZNB/k/5u4wAAABaQZ7JRRU8FP8AAIZO3/RJYiAAy9PKCipLz4OoDbePHPpw6T6A\n",
       "9JXGr8Bmq5N1ZkJEvFskSFklWgXZs0Z/7ohiyixx1Z2fKLt5ZWUWrCuwF5GfrZnOXyV3SQ2YAAAA\n",
       "SAGe6HRBLwABeNs5NJqIiLdsAF2u0abXJZyapaBrjpZ58bcmI1X5EdGWgtBfddusH3HUh+dlP7IY\n",
       "C+GjnFwgMKm+CwlJKtyKCQAAADEBnupqQS8AAXjnraCs/9sJQAQngo/gthKFodvzKFU0SZdigq9N\n",
       "iwz6ZIBYpgpzzkUEAAAAaUGa70moQWiZTAgv//7aplgAYrHkeg9y77Eu4ifTEu1DM8ACEZtBPv8Y\n",
       "/8DyfGl8W8jcggzGc7p+miGCDpEKEy6u90ikdcQile8nCq7X/y4IshdgF/rxfRmWAB0ar7Me6vJ1\n",
       "huXo1PncYAAAAEpBnw1FESwU/wAAhlUmdxprlGBBrAAgfPuLFLX3Md67SJgJgXPGC4SnTL5mcEpp\n",
       "DEm+4U1s6BVU+5OhimphFM9v37UWy71AvAeLuQAAAEABnyx0QS8AAX1o0pigAnY3BMsQv73vBfmB\n",
       "wz4Pl3B8wbK+FF4rcfJLXWD7mXEYFC/l2O/7kJVn8IacWkW9DobNAAAANAGfLmpBLwABfXdZQmAe\n",
       "KACdjcEyxEDgJJr8liuh4j3XvpBhNHbCIyM7slteyH60E33uhs0AAAB4QZszSahBbJlMCC///tqm\n",
       "WABjP2Ty8ih/uDD4AJ2VK/OXJKqf6yuhhM1BeezNAhKHEPooq3bXIkAsyWnxy9T83hV8bIXnCZXT\n",
       "yYV3hSuFtH5A8kq6YpEp3VYFwnyLU3ZSdir1L+bzTAev8a6OpiuO9m38lIaiAPSAAAAAT0GfUUUV\n",
       "LBT/AACGVSZ1v4mGTOOSsAC3t+DSpclOcFvX7IcINN/d804vQ5HM1H8S3UWz0qsZRDyNXk/pls4T\n",
       "DXLj+LyRHb/h+GLNasNJDZgAAAAnAZ9wdEEvAAF9TUymYSy335uVEib7RAA64NphVZ12zRsAisW7\n",
       "g0UFAAAAMAGfcmpBLwABfVLtA1wnDfl+FcR7bl+AAcU4JlEfsmdIudq9qDV//R4CnRGBQk5FBAAA\n",
       "AE1Bm3dJqEFsmUwIL//+2qZYAGC/ZUkwak1HsnAwAXUlShbabooKDgkE9SwVN9OYKksy0/FcmLlV\n",
       "857gHbmn/xAOJIgTkgPPdf//6yANSAAAAE1Bn5VFFSwU/wAAgla2u8RFPgIJeLQaRdAApfbhqBUl\n",
       "RLm8usToQDQ1n9Sbk8ijKf/4MMLXslEYwpVmoIzqIigWP47X3VgGSTfuEDxgQQAAAC4Bn7R0QS8A\n",
       "AXOZ41IbPR5LuMmy0AA5eHJBeNhYey4iFIkeF3T/9osWYPlx3wd0AAAAEgGftmpBLwAAubBjKeg7\n",
       "yMIhqwAAAFxBm7tJqEFsmUwILf/+1qVQADBW00v6/XgsoZj1I9zrcraAAnY8JROwaO2ERbSqG2vX\n",
       "rmq65JP8zhBISZ2wJfhlC7Mni9BC8KUaWcUXuaKYj5CDFhuVDn4325DL/QAAADRBn9lFFSwU/wAA\n",
       "QGe2a1//z2ULUpqd+xPecx4AAdfG4apCH3X7l0ty/BNQuy/6YkBzVayYAAAAIgGf+HRBLwAAuCgA\n",
       "LLIUADszTH//+AMBLXrJzNJcQBdYitkAAAAzAZ/6akEvAAC530moAAJrP+3/xhDJXsqHAK0vQphH\n",
       "N/CTNALGcKbx8wVhPNQaxG+U+VxgAAAAUUGb/0moQWyZTAgt//7WpVAAMBtZ2ENn+lldc8vFTWgA\n",
       "RlwCUTto1Iu3TJy/WLADhq73y59tj8UCn2lP4miAC24fxYO+5qwZXZJPwDwe2zCX+QAAAB5Bnh1F\n",
       "FSwU/wAAQS/sAxIA/MxnXflGIPhmTT2I8dkAAAAbAZ48dEEvAAC565Z71tZKm0YCEOlUJz5PQ0mA\n",
       "AAAANgGePmpBLwAAuFaSWWL3YjqaqACac5IO5X/QXEkszFY5UkVjeO7C60kR5nzC/FpivOEb5WCq\n",
       "TAAAAERBmiBJqEFsmUwIL//+2qZYADBfsopsE3+d9dqzkUrB2CIc2ADLgWV/wD4ZP7BX5JnkNxwz\n",
       "68h4tK2Jqbjfhnc7NZuVoQAAAJZBmkRJ4QpSZTAgv//+2qZYAC8fvcZO/P7rav/kEe+v0ACnSVkK\n",
       "auvHwpD7T0ZD6Kg1B0IAFGttsl1m36QvoVSKoDXe8C6ii9os99zlHFgf//hDpcGcl5aC4XfR/DpM\n",
       "Cvd8rIFJbCi6KoqnMN2Khg5H3fReH1MBwzUmnItgEmkM/fBVe9H3xhXX2yiW5Rwn5tmyqcSnRxwA\n",
       "AAA2QZ5iRTRMFP8AAD9YZwc1cRnIQh3vLoAFR9nv9sem+iFAQP4O9q3bWKib5Hsz0x2qfUFytFbR\n",
       "AAAAQQGegXRBLwAAtWR2+/p1sOgANwJyQdywQQrSTwsO8xyY9/RQZQv2/1X/laqhac45/9q8LMv1\n",
       "JO/CZiYWdg3fuQTMAAAALAGeg2pBLwAAXPD4/JtoejSkvqgAdfDkgunFsG6dFGeyNgbWxT6/U78J\n",
       "suqTAAAAQEGaiEmoQWiZTAgt//7WpVAAF3E0ilMnmnty+n+4poAIgPCUTt7/dNKlXLgAQkDL/6O2\n",
       "wu9UTNj3hScphUzIG4kAAAA1QZ6mRREsFP8AAB9ebdWN9nMasoAKgyg/+X8BuYn36gi/xOBmuA15\n",
       "K1uPjcas3fDC8UTUk48AAAAxAZ7FdEEvAABZsVfe976R4a4AL5yIf//5lNrFgBvn09bFaOfU0h8y\n",
       "IPQCr7blIG7pxwAAAE4BnsdqQS8AAFm5bts272jooAITzkg8SXSb+GKBWHOpi44T6MU32GpwbxvU\n",
       "DijWqdWxPjBmc1kkycwx5xxKcWqUVdX+WXwcVsH82JSk44AAAABXQZrMSahBbJlMCC3//talUAAX\n",
       "j96+efY9LYF2v8oAF29L4Ru499aGxILgfhGhbmuGtdTrC6MQOC38yVXUPgUvkwMrJzGukDryn/Ez\n",
       "lpYCQJvGdMIYxRnwAAAAN0Ge6kUVLBT/AAAfZrUoXf+AATun+qo0yECxTTONOZhz8q4ad4dQWFCK\n",
       "B4JiAKp7RP/+3rWB7FkAAABbAZ8JdEEvAABas0X2igAhCQ3/wUw4A3NZp0IezfQxalZruZRnfgRx\n",
       "KnjDO1blIygP/fGtMyjSV5SwXjnWSjRcLVBUUJeuvnS6ZAEqq4OSY9NJ2fabSkA3Je6ccAAAADsB\n",
       "nwtqQS8AAFqvohc7lE2AE7p0TeqbI9mbDA7Qt9DlKUJTSoEjmQGwTZSH3uj7iuoLNZrFwLcSDe6c\n",
       "cAAAADlBmxBJqEFsmUwILf/+1qVQABbxI9j+Pwe39kgkOL6QyEArKysOwaABdkMrHqUzHHGYsOrn\n",
       "7Ub5CY0AAAAcQZ8uRRUsFP8AAB78M4OauGkm8M7MhzcGgDB8wQAAAE8Bn010QS8AAFq4wo93RUAB\n",
       "brNo03OB0p2L3gusFzyPWKCpnspSe/B0RBxghPpkwQgAP4gZhpUBlJKRQEZJjalADAtqn0UUo7kz\n",
       "s9qDdOOBAAAAQQGfT2pBLwAAWHYza0Xv8rymTzztwAX0YT1uhrSE0vIVa0yODoMsithx+zw6IKlP\n",
       "6sNSH28hPdKXCHf2A2IPAkJ2AAAAUUGbUUmoQWyZTAgt//7WpVAAFv/ezkpGXNVPpTAAC4hv+yLC\n",
       "ynSCRgN6d3fsZf7BOlkjm353CYLJpiiTOjI9srH7LpW/2c0aSu98cnbHdtA6YAAAAHpBm3NJ4QpS\n",
       "ZTBRUsF//tqmWAALcDPbMwGZB6RsAAS/ELzyg0g9U/j8rTiF0IP8Qp3FS3v9/EgMvwG5PPG0tnCH\n",
       "360i9Ee1WFax9nkT4XOJSkVJm3AXG2HW/d3Ind766qzGW9Ppl5bDcKgLJ/WP9FIO5ZiXwaX1zBQd\n",
       "gQAAAD8Bn5JqQS8AACu3YNczkm/BOAB2bIaNN1AHMGv9eMfWTJmBNamyafJul/Jp/wW8TeJbtL1m\n",
       "SmzwjVpqPnmgxW0AAACHQZuXSeEOiZTAgt/+1qVQAAt9onIKp5bW0ADm2ofVjbd1i40Rkh1hnXXM\n",
       "m8uVvh72MH8sty4jZWKxLvoorGyARyBHvm4J3p2vF1opz2KpzVY76lXre9/rpRUkJ8MTMeLYAaAk\n",
       "WmLTfiabsK7+d0fuVzTLoYbNKFMHcqJ6uHgnGD+GYvKGAtXAAAAAXEGftUUVPBT/AAAPfV8Y25Yi\n",
       "AAy9PKCipL4j5Ak4+qJpeWf0iLbYT/292FVAJa3AKZQTkxJgjgBJYr9LP/bAiqsgvsW7LF0xiX6V\n",
       "VJUroBcxCRJUJxv+SWI1b5eZAAAASQGf1HRBLwAAK7dfH+saERbtgAu12xDombTym2m93rmIJM09\n",
       "uevuactkc0jYX1lHHFF192QKVh/nq6Wu8Dl5WDKm+AXgiuH7j4AAAAA0AZ/WakEvAAAruKs0FZ/7\n",
       "YSgAhPBR/BbCULQ7fmUKpoky7FENVvq9UeZIBYpgpzzzKmQZoQAAAGVBm9tJqEFomUwILf/+1qVQ\n",
       "AAtwmkUpk8wajtUXsUHUhRZABNamVj0jRmyOjqfP+WzPcY9Ou0mNaY9H99wrZjG+ecNwuxvx8FoU\n",
       "LYsp8c4JOhAsHP/cQbRQ6snUIskpVvS9G6onYQAAAExBn/lFESwU/wAAD33wQXvk5RaNWABA+fcW\n",
       "KWsC5H6HWDNQJ/kWC4WDWfWId3lUlDdCu2i7M0qKfcnQxS+S/PFqCoUM5sMMO0ueuHSaAAAAQQGe\n",
       "GHRBLwAALDrlsJQATsbgmWIX973gvzAZnC2xXWcLAee4UXJW7elQmqXo8AELMLO81LPbyfhDOmoK\n",
       "FX56AlVhAAAANgGeGmpBLwAALDxww+YOTYATsbgmWIYFpl7mYH5ZcCPdknGngT90ZGcLc2NOTl2r\n",
       "n7356xtVgAAAAHxBmh9JqEFsmUwIK//+1qVQAAt/1tBZA+Qe7kAPy3871v8Gug82SzgxEev7wYsu\n",
       "hfLCO7aeLz/4cpP5PHaIUukIT+nuUfuU8bc249gFqwcZBQRPXzdrI0M+IAeNPseBPmV2pTJXTPlh\n",
       "u4ursoiVtFCq403xrzalrfOkDEwRAAAAU0GePUUVLBT/AAAPffBBfiicD5dABLW/BpUvUPC3M0NM\n",
       "BeTKUlH0coWw2FR5hEIFBs4VFs8PZt7tNeZEcbTI7EbEmSz9U8dv4SFgBSZXC8tdMxw3AAAAKgGe\n",
       "XHRBLwAALDfVlMwllvvzcqJE32iAB1wbTCqzrtmjYBFYt3CGUSX5gAAAADIBnl5qQS8AACw4fWxr\n",
       "hOG/L8K4j23L8AA4pwTKI/ZM6Rc7V7UGr/+jwFOjjifhUYBvwAAAAEdBmkNJqEFsmUwIJf/+tSqA\n",
       "AFd+iRRUhOVElwGAC91uSDn1B0wkzs4YPnnKxvASmDic6mH0dio/jBv//1AAAbmVzLf837nI+QAA\n",
       "AFJBnmFFFSwU/wAADyb9GJJ26EpuMiRO4CBS9WAAx6E0n6CLfP9j7QISAQNrFxk4gjGEf/yFOiBk\n",
       "sBeTF49QRnak7sY3elVnLduizaWCHgNMrKaAAAAAMAGegHRBLwAAKxM8akNno8l3GTZaAAcvDkgv\n",
       "GwsTWySis+WJ2r//9FgAHy9eh6zPTQAAABgBnoJqQS8AACsb/bB6Mp6UhDnvG23bN+AAAAfibW9v\n",
       "dgAAAGxtdmhkAAAAAAAAAAAAAAAAAAAD6AAAw1AAAQAAAQAAAAAAAAAAAAAAAAEAAAAAAAAAAAAA\n",
       "AAAAAAABAAAAAAAAAAAAAAAAAABAAAAAAAAAAAAAAAAAAAAAAAAAAAAAAAAAAAAAAAAAAgAABwx0\n",
       "cmFrAAAAXHRraGQAAAADAAAAAAAAAAAAAAABAAAAAAAAw1AAAAAAAAAAAAAAAAAAAAAAAAEAAAAA\n",
       "AAAAAAAAAAAAAAABAAAAAAAAAAAAAAAAAABAAAAAAbAAAAEgAAAAAAAkZWR0cwAAABxlbHN0AAAA\n",
       "AAAAAAEAAMNQAABAAAABAAAAAAaEbWRpYQAAACBtZGhkAAAAAAAAAAAAAAAAAABAAAAMgABVxAAA\n",
       "AAAALWhkbHIAAAAAAAAAAHZpZGUAAAAAAAAAAAAAAABWaWRlb0hhbmRsZXIAAAAGL21pbmYAAAAU\n",
       "dm1oZAAAAAEAAAAAAAAAAAAAACRkaW5mAAAAHGRyZWYAAAAAAAAAAQAAAAx1cmwgAAAAAQAABe9z\n",
       "dGJsAAAAt3N0c2QAAAAAAAAAAQAAAKdhdmMxAAAAAAAAAAEAAAAAAAAAAAAAAAAAAAAAAbABIABI\n",
       "AAAASAAAAAAAAAABAAAAAAAAAAAAAAAAAAAAAAAAAAAAAAAAAAAAAAAAAAAAGP//AAAANWF2Y0MB\n",
       "ZAAV/+EAGGdkABWs2UGwloQAAAMABAAAAwAQPFi2WAEABmjr48siwP34+AAAAAAcdXVpZGtoQPJf\n",
       "JE/FujmlG88DI/MAAAAAAAAAGHN0dHMAAAAAAAAAAQAAAGQAACAAAAAAFHN0c3MAAAAAAAAAAQAA\n",
       "AAEAAAMwY3R0cwAAAAAAAABkAAAAAQAAQAAAAAABAACgAAAAAAEAAEAAAAAAAQAAAAAAAAABAAAg\n",
       "AAAAAAEAAKAAAAAAAQAAQAAAAAABAAAAAAAAAAEAACAAAAAAAQAAoAAAAAABAABAAAAAAAEAAAAA\n",
       "AAAAAQAAIAAAAAABAACgAAAAAAEAAEAAAAAAAQAAAAAAAAABAAAgAAAAAAEAAGAAAAAAAQAAIAAA\n",
       "AAABAACgAAAAAAEAAEAAAAAAAQAAAAAAAAABAAAgAAAAAAEAAEAAAAAAAQAAoAAAAAABAABAAAAA\n",
       "AAEAAAAAAAAAAQAAIAAAAAABAACgAAAAAAEAAEAAAAAAAQAAAAAAAAABAAAgAAAAAAEAAKAAAAAA\n",
       "AQAAQAAAAAABAAAAAAAAAAEAACAAAAAAAQAAYAAAAAABAAAgAAAAAAEAAGAAAAAAAQAAIAAAAAAB\n",
       "AACgAAAAAAEAAEAAAAAAAQAAAAAAAAABAAAgAAAAAAEAAKAAAAAAAQAAQAAAAAABAAAAAAAAAAEA\n",
       "ACAAAAAAAQAAoAAAAAABAABAAAAAAAEAAAAAAAAAAQAAIAAAAAABAACgAAAAAAEAAEAAAAAAAQAA\n",
       "AAAAAAABAAAgAAAAAAEAAKAAAAAAAQAAQAAAAAABAAAAAAAAAAEAACAAAAAAAQAAoAAAAAABAABA\n",
       "AAAAAAEAAAAAAAAAAQAAIAAAAAABAABAAAAAAAEAAKAAAAAAAQAAQAAAAAABAAAAAAAAAAEAACAA\n",
       "AAAAAQAAoAAAAAABAABAAAAAAAEAAAAAAAAAAQAAIAAAAAABAACgAAAAAAEAAEAAAAAAAQAAAAAA\n",
       "AAABAAAgAAAAAAEAAKAAAAAAAQAAQAAAAAABAAAAAAAAAAEAACAAAAAAAQAAQAAAAAABAABgAAAA\n",
       "AAEAACAAAAAAAQAAoAAAAAABAABAAAAAAAEAAAAAAAAAAQAAIAAAAAABAACgAAAAAAEAAEAAAAAA\n",
       "AQAAAAAAAAABAAAgAAAAAAEAAKAAAAAAAQAAQAAAAAABAAAAAAAAAAEAACAAAAAAAQAAoAAAAAAB\n",
       "AABAAAAAAAEAAAAAAAAAAQAAIAAAAAAcc3RzYwAAAAAAAAABAAAAAQAAAGQAAAABAAABpHN0c3oA\n",
       "AAAAAAAAAAAAAGQAAAnnAAAAqwAAAH4AAABCAAAAYQAAAGgAAABHAAAAUgAAAE4AAABTAAAALwAA\n",
       "AF0AAAAdAAAAKQAAAD0AAAAaAAAANQAAACIAAAAqAAAAVwAAACwAAAAzAAAAJQAAAHwAAAB+AAAA\n",
       "QgAAAC4AAAA2AAAAUQAAAEoAAABNAAAASQAAADoAAAAlAAAALAAAAC0AAABYAAAAQwAAAH4AAABA\n",
       "AAAAhQAAAF4AAABMAAAANQAAAG0AAABOAAAARAAAADgAAAB8AAAAUwAAACsAAAA0AAAAUQAAAFEA\n",
       "AAAyAAAAFgAAAGAAAAA4AAAAJgAAADcAAABVAAAAIgAAAB8AAAA6AAAASAAAAJoAAAA6AAAARQAA\n",
       "ADAAAABEAAAAOQAAADUAAABSAAAAWwAAADsAAABfAAAAPwAAAD0AAAAgAAAAUwAAAEUAAABVAAAA\n",
       "fgAAAEMAAACLAAAAYAAAAE0AAAA4AAAAaQAAAFAAAABFAAAAOgAAAIAAAABXAAAALgAAADYAAABL\n",
       "AAAAVgAAADQAAAAcAAAAFHN0Y28AAAAAAAAAAQAAADAAAABidWR0YQAAAFptZXRhAAAAAAAAACFo\n",
       "ZGxyAAAAAAAAAABtZGlyYXBwbAAAAAAAAAAAAAAAAC1pbHN0AAAAJal0b28AAAAdZGF0YQAAAAEA\n",
       "AAAATGF2ZjU4LjQ1LjEwMA==\n",
       "\">\n",
       "  Your browser does not support the video tag.\n",
       "</video>"
      ],
      "text/plain": [
       "<IPython.core.display.HTML object>"
      ]
     },
     "execution_count": 171,
     "metadata": {},
     "output_type": "execute_result"
    }
   ],
   "source": [
    "# show the GoF grid animation\n",
    "animation = show_GoF(grid, grid.shape[0])\n",
    "HTML(animation.to_html5_video()) # must use it in notebook in order to visualize the animation"
   ]
  },
  {
   "cell_type": "code",
   "execution_count": null,
   "metadata": {},
   "outputs": [],
   "source": []
  },
  {
   "cell_type": "code",
   "execution_count": null,
   "metadata": {},
   "outputs": [],
   "source": []
  }
 ],
 "metadata": {
  "kernelspec": {
   "display_name": "Python [conda env:HLP] *",
   "language": "python",
   "name": "conda-env-HLP-py"
  },
  "language_info": {
   "codemirror_mode": {
    "name": "ipython",
    "version": 3
   },
   "file_extension": ".py",
   "mimetype": "text/x-python",
   "name": "python",
   "nbconvert_exporter": "python",
   "pygments_lexer": "ipython3",
   "version": "3.8.5"
  }
 },
 "nbformat": 4,
 "nbformat_minor": 4
}
