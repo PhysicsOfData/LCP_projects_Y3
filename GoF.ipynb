{
 "cells": [
  {
   "cell_type": "code",
   "execution_count": 1,
   "metadata": {},
   "outputs": [],
   "source": [
    "import numpy as np\n",
    "import matplotlib\n",
    "import matplotlib.pyplot as plt\n",
    "%matplotlib inline\n",
    "import matplotlib.animation as animation # do the animation\n",
    "from IPython.display import HTML  # display the animation in notebook"
   ]
  },
  {
   "cell_type": "markdown",
   "metadata": {},
   "source": [
    "# Game of Life "
   ]
  },
  {
   "cell_type": "markdown",
   "metadata": {},
   "source": [
    "### Update grid function"
   ]
  },
  {
   "attachments": {
    "d415ee4c-1526-44d7-947a-6fa40078d48a.png": {
     "image/png": "[encoded data removed]"
    }
   },
   "cell_type": "markdown",
   "metadata": {},
   "source": [
    "![GameOfLifeDiagram.png](attachment:d415ee4c-1526-44d7-947a-6fa40078d48a.png)"
   ]
  },
  {
   "cell_type": "code",
   "execution_count": 2,
   "metadata": {},
   "outputs": [],
   "source": [
    "def update_grid(frameNum, img, grid):\n",
    "    \n",
    "    grid_tmp = grid.copy() # not to mess up with the original one\n",
    "    size  =  grid_tmp.shape[0]\n",
    "    for i in range(N):\n",
    "        for j in range(N):\n",
    "            # get the total number of neighbors of the cell\n",
    "            neighbors = grid[i, (j-1)%size] + grid[i, (j+1)%size] + grid[(i-1)%size, j] + grid[(i+1)%size, j] \n",
    "            + grid[(i-1)%size, (j-1)%size] + grid[(i-1)%size, (j+1)%size] + grid[(i+1)%size, (j-1)%size] + grid[(i+1)%size, (j+1)%size]\n",
    " \n",
    "            # check if it is still alive or not\n",
    "            if grid[i, j] == alive:\n",
    "                if (neighbors < 2) or (neighbors > 3):\n",
    "                    grid_tmp[i, j] = dead\n",
    "            else:\n",
    "                if neighbors == 3:  # a dead cell with 3 neighbors can reborn\n",
    "                    grid_tmp[i, j] = alive\n",
    " \n",
    "    # update the image\n",
    "    img.set_data(grid_tmp)\n",
    "    grid[:] = grid_tmp[:] # change the old grid\n",
    "    \n",
    "    return img"
   ]
  },
  {
   "cell_type": "markdown",
   "metadata": {},
   "source": [
    "### Grid animation "
   ]
  },
  {
   "cell_type": "code",
   "execution_count": 3,
   "metadata": {},
   "outputs": [],
   "source": [
    "def show_GoF(grid):\n",
    "    # show the grid \n",
    "    fig, ax = plt.subplots()\n",
    "    img = ax.imshow(grid, interpolation='nearest', cmap='Greys')\n",
    "    animation_grid = animation.FuncAnimation(fig, update_grid, fargs=(img, grid, ), frames=25, interval=500, save_count=50) # animation\n",
    "    plt.close(animation_grid._fig)\n",
    "    \n",
    "    return animation_grid"
   ]
  },
  {
   "cell_type": "markdown",
   "metadata": {},
   "source": [
    "### Grid generation"
   ]
  },
  {
   "cell_type": "code",
   "execution_count": 4,
   "metadata": {},
   "outputs": [],
   "source": [
    "# I will use a predefined number, then it could be chosen by the user as input.\n",
    "# Grid = matrix NxN in a two dimensional space\n",
    "\n",
    "# values for cell on or off in the grid\n",
    "alive = 1 # values for cell alive\n",
    "dead = 0 # value for cell dead\n",
    "vals = [alive, dead]\n",
    "\n",
    "# dimension of the grid\n",
    "N = 10\n",
    "\n",
    "# creation of the grid with random values\n",
    "grid = np.random.choice(vals, N*N, p=[0.2, 0.8]).reshape(N, N)"
   ]
  },
  {
   "cell_type": "code",
   "execution_count": 5,
   "metadata": {},
   "outputs": [
    {
     "name": "stdout",
     "output_type": "stream",
     "text": [
      "[[0 0 1 0 0 0 1 0 0 1]\n",
      " [0 0 0 0 0 1 0 0 1 0]\n",
      " [0 0 0 0 0 1 0 0 0 0]\n",
      " [0 0 1 0 0 0 0 0 1 0]\n",
      " [0 0 0 0 0 0 1 0 0 0]\n",
      " [0 0 0 0 0 0 1 0 0 0]\n",
      " [0 1 0 0 1 0 0 0 0 1]\n",
      " [0 0 0 1 0 0 0 1 0 0]\n",
      " [0 0 0 0 0 0 0 0 0 0]\n",
      " [0 0 0 0 0 0 0 0 1 0]]\n"
     ]
    }
   ],
   "source": [
    "print(grid)"
   ]
  },
  {
   "cell_type": "code",
   "execution_count": 6,
   "metadata": {},
   "outputs": [
    {
     "data": {
      "text/html": [
       "<video width=\"432\" height=\"288\" controls autoplay loop>\n",
       "  <source type=\"video/mp4\" src=\"data:video/mp4;base64,AAAAIGZ0eXBNNFYgAAACAE00ViBpc29taXNvMmF2YzEAAAAIZnJlZQAACoVtZGF0AAACrgYF//+q\n",
       "3EXpvebZSLeWLNgg2SPu73gyNjQgLSBjb3JlIDE2MSByMzAzME0gOGJkNmQyOCAtIEguMjY0L01Q\n",
       "RUctNCBBVkMgY29kZWMgLSBDb3B5bGVmdCAyMDAzLTIwMjAgLSBodHRwOi8vd3d3LnZpZGVvbGFu\n",
       "Lm9yZy94MjY0Lmh0bWwgLSBvcHRpb25zOiBjYWJhYz0xIHJlZj0zIGRlYmxvY2s9MTowOjAgYW5h\n",
       "bHlzZT0weDM6MHgxMTMgbWU9aGV4IHN1Ym1lPTcgcHN5PTEgcHN5X3JkPTEuMDA6MC4wMCBtaXhl\n",
       "ZF9yZWY9MSBtZV9yYW5nZT0xNiBjaHJvbWFfbWU9MSB0cmVsbGlzPTEgOHg4ZGN0PTEgY3FtPTAg\n",
       "ZGVhZHpvbmU9MjEsMTEgZmFzdF9wc2tpcD0xIGNocm9tYV9xcF9vZmZzZXQ9LTIgdGhyZWFkcz05\n",
       "IGxvb2thaGVhZF90aHJlYWRzPTEgc2xpY2VkX3RocmVhZHM9MCBucj0wIGRlY2ltYXRlPTEgaW50\n",
       "ZXJsYWNlZD0wIGJsdXJheV9jb21wYXQ9MCBjb25zdHJhaW5lZF9pbnRyYT0wIGJmcmFtZXM9MyBi\n",
       "X3B5cmFtaWQ9MiBiX2FkYXB0PTEgYl9iaWFzPTAgZGlyZWN0PTEgd2VpZ2h0Yj0xIG9wZW5fZ29w\n",
       "PTAgd2VpZ2h0cD0yIGtleWludD0yNTAga2V5aW50X21pbj0yIHNjZW5lY3V0PTQwIGludHJhX3Jl\n",
       "ZnJlc2g9MCByY19sb29rYWhlYWQ9NDAgcmM9Y3JmIG1idHJlZT0xIGNyZj0yMy4wIHFjb21wPTAu\n",
       "NjAgcXBtaW49MCBxcG1heD02OSBxcHN0ZXA9NCBpcF9yYXRpbz0xLjQwIGFxPTE6MS4wMACAAAAF\n",
       "D2WIhAAX//731LfMsu1Tb7YLqPeiniZfQ3UlAZuWxO06gAAAAwAGd13N19ntQXAfaAAHjXC//h8H\n",
       "CPAAb8O0ucWagGfLKplxhY9o6J1OjzfFt4ap8Tx3hjRF4WiAbgbthL/W0n4MLU3aSf0+A3wJLnDC\n",
       "5AK6Cfdx65dmXaJBDZ8YFZmNVCKwheoGmp4Wv1O3fUjT659+cCj9g+ullUh5nQOL3yXeL1WFh3VQ\n",
       "tkJz1/hr9MTB/glMAChT4FOU5NbWcEeMAkH4CZAsIfJyndbcUa11jRtaM4Qjc6b5E5ejyHHhyk6N\n",
       "NbVBv/moSwsYW2AQoQggicaPnTX+EEBZltQxBKtWlr71j0xKAl0zr9jj6xkPcT0GMWKVG4DZPxEh\n",
       "Tm7bo2jgv2yYFJoWO4muKkmpmapty/LDjS1KuH2r+rgNUFgdGEbu+MZXXO7mDZOz5jUjSg5/cJE+\n",
       "qcXmDu2mR9LUvHLPbz7rBnMFO3FDDeYxf5mvcGZCIV5rFqdBlCpAHvdXoEx1MM0dfAIKZQYrVoI3\n",
       "Lwn2QT4YP6G4gai+LMI7bGFJyq+LR4Ck0X2ji7LtHMT41au0U5vZ3TLUYdwqB0EBAGwUaa80yX5G\n",
       "gbVWQn3r6IbUlL0c8impQqiBZM4GiyKVez3YDGgRAyB5w2mUPIjGoDD6FKQsTPGREexY3Pw6QFrc\n",
       "DX7/2wqZUBPtW4z9QjbNbYdF8aa600SCxut/Q7D6sptXqQkfdXMWgpXfGkKxpwxnRMs3j/AVE4eg\n",
       "SN/z5Odoh+30KiO7jzeQKZeeVaLuz0vrhiTlL0xEVotG/q06k+3TCS8VJ+wqvNM7BerVvIXbWSS+\n",
       "NRCio8PQS4eDh8s3+xKLavqe83Q2YntVikPqYOwrHkGSsG34BrAR/Xjo8jV1acpvcFeGdLjM2AzD\n",
       "SAEPApiQN/XhUvw6KE73+juWLAv01YysU08CrOLeA+wmUuUlA8CLwzvltnKNlauCW98vlk2rw3Ej\n",
       "PnXdcc79t5SM1KonsCq+FonK3xHHAyD4XeP6lLfoYLivnAZm3R3d7Mag+0l99NOc7pIk31TafPGR\n",
       "07xLl487JHUOuB2+dQ8txWJtBoARtl9F+YksoAF1DrgdvnUPLcViGCMKaBX48NowCzwlV6dmx8/J\n",
       "MgAYA46CkDOj+mDk/JXq6cDcKfz9HLxjNdKaUerZC/3FgzfG4NuByQmsvYo/Gimwq+o8V9qzs06D\n",
       "v+PSyvCIM1Tm7HZ16JrS5uQD5liV10w3Thux+6FEqcmx4H2R3Z2vG5RVX2h3OpENhcwPBiGxUwXs\n",
       "BHQP/Znrz+rcXxLX6mWC+8w53BNM/afN7IE3JwZvlQs4kpnUksEEpRk63880WKIQXtA4FsqcGkN1\n",
       "zXC1KZ1aHiiB3fVlDxvjMz2H/EQ2ntIGEjv43Fn50kmTOExITO/mLizAT5lJhKlEYqQavtsyidMq\n",
       "y0yBIDqVJ/ElLd2t8Wab27Nu9SNCtmqswIMVPivQ6+7zpvCN4RzCzO24/yRYg1VN/yTRA6NMQqtM\n",
       "6AUk3XxyZeF0iRLht/lZIPV71qKqwcEaeY9pAROWwsDcQUFFPz/3ThJ9aRW80GmFUEPJSX+O9YMq\n",
       "ldRdxwdskrBx6XH/dsjCMau3PaUHRR418JfDF6DqLMRcng5pHiGUhBHfpCPDw6hHJkOts+BqLJRj\n",
       "qgSF/31mW0qvuazMuD2ZP9zNdgGvZEwnY1yxDNoiYjv+qrXeV8LgAAiZAAAAukGaJGxBf/7aplgA\n",
       "ABqOAxgAj01oJ70OBf1jKrbwV//4RZsSau51niVDBmaqfL5yiLHwatYJibsiHEVGVf0uhqkaB/e/\n",
       "opJEWXHm+pn6Z88HZAVqBzPtX7d0HFXqc8L2jmkuXgMSTFtQDX7ehVgK8rJhtpIX/kUdNRVGBWYt\n",
       "Ic42VFjhDn7dOZN6Hg4GmDoafIY34EQ2hTcFLo74UtZWqGHx84XFJJ1CMGyMe2YD5XQP4TC8XBFo\n",
       "jC81nAAAABxBnkJ4gp8AAAMAJJWuHb8L9SpTQ9EHEg7nI4oxAAAAGwGeYXRBLwAAAwBm1jJ4eXvQ\n",
       "IBgj+94V2wB5UAAAAA8BnmNqQS8AAAMAMi5lt4kAAAAVQZpoSahBaJlMCC///tqmWAAAAwPvAAAA\n",
       "EkGehkURLBT/AAADABHLj9qRwQAAAA8BnqV0QS8AAAMAMisYkxkAAAAPAZ6nakEvAAADADIuZbeI\n",
       "AAAAFUGarEmoQWyZTAgt//7WpVAAAAMD7gAAABJBnspFFSwU/wAAAwARy4/akcEAAAAPAZ7pdEEv\n",
       "AAADADIrGJMYAAAADwGe62pBLwAAAwAyLmW3iAAAABVBmvBJqEFsmUwILf/+1qVQAAADA+8AAAAS\n",
       "QZ8ORRUsFP8AAAMAEcuP2pHBAAAADwGfLXRBLwAAAwAyKxiTGQAAAA8Bny9qQS8AAAMAMi5lt4gA\n",
       "AAAVQZs0SahBbJlMCCv//talUAAAAwPuAAAAEkGfUkUVLBT/AAADABHLj9qRwQAAAA8Bn3F0QS8A\n",
       "AAMAMisYkxgAAAAPAZ9zakEvAAADADIuZbeIAAAAFEGbeEmoQWyZTAgl//61KoAAAB6xAAAAEkGf\n",
       "lkUVLBT/AAADABHLj9qRwAAAAA8Bn7V0QS8AAAMAMisYkxkAAAAPAZ+3akEvAAADADIuZbeJAAAE\n",
       "Xm1vb3YAAABsbXZoZAAAAAAAAAAAAAAAAAAAA+gAADDUAAEAAAEAAAAAAAAAAAAAAAABAAAAAAAA\n",
       "AAAAAAAAAAAAAQAAAAAAAAAAAAAAAAAAQAAAAAAAAAAAAAAAAAAAAAAAAAAAAAAAAAAAAAAAAAIA\n",
       "AAOIdHJhawAAAFx0a2hkAAAAAwAAAAAAAAAAAAAAAQAAAAAAADDUAAAAAAAAAAAAAAAAAAAAAAAB\n",
       "AAAAAAAAAAAAAAAAAAAAAQAAAAAAAAAAAAAAAAAAQAAAAAGwAAABIAAAAAAAJGVkdHMAAAAcZWxz\n",
       "dAAAAAAAAAABAAAw1AAAQAAAAQAAAAADAG1kaWEAAAAgbWRoZAAAAAAAAAAAAAAAAAAAQAAAAyAA\n",
       "VcQAAAAAAC1oZGxyAAAAAAAAAAB2aWRlAAAAAAAAAAAAAAAAVmlkZW9IYW5kbGVyAAAAAqttaW5m\n",
       "AAAAFHZtaGQAAAABAAAAAAAAAAAAAAAkZGluZgAAABxkcmVmAAAAAAAAAAEAAAAMdXJsIAAAAAEA\n",
       "AAJrc3RibAAAALdzdHNkAAAAAAAAAAEAAACnYXZjMQAAAAAAAAABAAAAAAAAAAAAAAAAAAAAAAGw\n",
       "ASAASAAAAEgAAAAAAAAAAQAAAAAAAAAAAAAAAAAAAAAAAAAAAAAAAAAAAAAAAAAAABj//wAAADVh\n",
       "dmNDAWQAFf/hABhnZAAVrNlBsJaEAAADAAQAAAMAEDxYtlgBAAZo6+PLIsD9+PgAAAAAHHV1aWRr\n",
       "aEDyXyRPxbo5pRvPAyPzAAAAAAAAABhzdHRzAAAAAAAAAAEAAAAZAAAgAAAAABRzdHNzAAAAAAAA\n",
       "AAEAAAABAAAA2GN0dHMAAAAAAAAAGQAAAAEAAEAAAAAAAQAAoAAAAAABAABAAAAAAAEAAAAAAAAA\n",
       "AQAAIAAAAAABAACgAAAAAAEAAEAAAAAAAQAAAAAAAAABAAAgAAAAAAEAAKAAAAAAAQAAQAAAAAAB\n",
       "AAAAAAAAAAEAACAAAAAAAQAAoAAAAAABAABAAAAAAAEAAAAAAAAAAQAAIAAAAAABAACgAAAAAAEA\n",
       "AEAAAAAAAQAAAAAAAAABAAAgAAAAAAEAAKAAAAAAAQAAQAAAAAABAAAAAAAAAAEAACAAAAAAHHN0\n",
       "c2MAAAAAAAAAAQAAAAEAAAAZAAAAAQAAAHhzdHN6AAAAAAAAAAAAAAAZAAAHxQAAAL4AAAAgAAAA\n",
       "HwAAABMAAAAZAAAAFgAAABMAAAATAAAAGQAAABYAAAATAAAAEwAAABkAAAAWAAAAEwAAABMAAAAZ\n",
       "AAAAFgAAABMAAAATAAAAGAAAABYAAAATAAAAEwAAABRzdGNvAAAAAAAAAAEAAAAwAAAAYnVkdGEA\n",
       "AABabWV0YQAAAAAAAAAhaGRscgAAAAAAAAAAbWRpcmFwcGwAAAAAAAAAAAAAAAAtaWxzdAAAACWp\n",
       "dG9vAAAAHWRhdGEAAAABAAAAAExhdmY1OC40NS4xMDA=\n",
       "\">\n",
       "  Your browser does not support the video tag.\n",
       "</video>"
      ],
      "text/plain": [
       "<IPython.core.display.HTML object>"
      ]
     },
     "execution_count": 6,
     "metadata": {},
     "output_type": "execute_result"
    }
   ],
   "source": [
    "# show the GoF grid animation\n",
    "animation = show_GoF(grid)\n",
    "HTML(animation.to_html5_video())"
   ]
  },
  {
   "cell_type": "code",
   "execution_count": null,
   "metadata": {},
   "outputs": [],
   "source": []
  },
  {
   "cell_type": "code",
   "execution_count": null,
   "metadata": {},
   "outputs": [],
   "source": []
  },
  {
   "cell_type": "code",
   "execution_count": null,
   "metadata": {},
   "outputs": [],
   "source": []
  }
 ],
 "metadata": {
  "kernelspec": {
   "display_name": "Python [conda env:HLP] *",
   "language": "python",
   "name": "conda-env-HLP-py"
  },
  "language_info": {
   "codemirror_mode": {
    "name": "ipython",
    "version": 3
   },
   "file_extension": ".py",
   "mimetype": "text/x-python",
   "name": "python",
   "nbconvert_exporter": "python",
   "pygments_lexer": "ipython3",
   "version": "3.8.5"
  }
 },
 "nbformat": 4,
 "nbformat_minor": 4
}
