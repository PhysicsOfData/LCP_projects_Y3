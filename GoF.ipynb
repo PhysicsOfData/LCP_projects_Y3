{
 "cells": [
  {
   "cell_type": "code",
   "execution_count": 96,
   "metadata": {},
   "outputs": [],
   "source": [
    "import numpy as np\n",
    "import matplotlib\n",
    "import matplotlib.pyplot as plt\n",
    "%matplotlib inline\n",
    "import matplotlib.animation as animation # do the animation\n",
    "from matplotlib.animation import FuncAnimation\n",
    "from IPython.display import HTML  # display the animation in notebook"
   ]
  },
  {
   "cell_type": "markdown",
   "metadata": {},
   "source": [
    "# Game of Life "
   ]
  },
  {
   "cell_type": "code",
   "execution_count": 97,
   "metadata": {},
   "outputs": [],
   "source": [
    "# values for cell on or off in the grid\n",
    "alive = 1 # values for cell alive\n",
    "dead = 0 # value for cell dead\n",
    "vals = [alive, dead]"
   ]
  },
  {
   "cell_type": "markdown",
   "metadata": {},
   "source": [
    "### Update grid function"
   ]
  },
  {
   "attachments": {
    "d415ee4c-1526-44d7-947a-6fa40078d48a.png": {
     "image/png": "[encoded data removed]"
    }
   },
   "cell_type": "markdown",
   "metadata": {},
   "source": [
    "![GameOfLifeDiagram.png](attachment:d415ee4c-1526-44d7-947a-6fa40078d48a.png)"
   ]
  },
  {
   "cell_type": "code",
   "execution_count": 98,
   "metadata": {},
   "outputs": [],
   "source": [
    "def update_grid(frameNum, img, grid):\n",
    "    \n",
    "    grid_tmp = grid.copy() # not to mess up with the original one\n",
    "    size  =  grid_tmp.shape[0]\n",
    "    for i in range(size):\n",
    "        for j in range(size):\n",
    "            # get the total number of neighbors of the cell\n",
    "            neighbors = grid[i, (j-1)%size] + grid[i, (j+1)%size] + grid[(i-1)%size, j] + grid[(i+1)%size, j] \n",
    "            + grid[(i-1)%size, (j-1)%size] + grid[(i-1)%size, (j+1)%size] + grid[(i+1)%size, (j-1)%size] + grid[(i+1)%size, (j+1)%size]\n",
    " \n",
    "            # check if it is still alive or not\n",
    "            if grid[i, j] == alive:\n",
    "                if (neighbors < 2) or (neighbors > 3):\n",
    "                    grid_tmp[i, j] = dead\n",
    "            else:\n",
    "                if neighbors == 3:  # a dead cell with 3 neighbors can reborn\n",
    "                    grid_tmp[i, j] = alive\n",
    " \n",
    "    # update the image\n",
    "    img.set_data(grid_tmp)\n",
    "    grid[:] = grid_tmp[:] # change the old grid\n",
    "    \n",
    "    return img"
   ]
  },
  {
   "cell_type": "markdown",
   "metadata": {},
   "source": [
    "### Grid animation "
   ]
  },
  {
   "cell_type": "code",
   "execution_count": 159,
   "metadata": {},
   "outputs": [],
   "source": [
    "def show_GoF(grid):\n",
    "    # show the grid \n",
    "    fig, ax = plt.subplots()\n",
    "    img = ax.imshow(grid, interpolation='nearest', cmap='Greys') \n",
    "    plt.show()\n",
    "    animation_grid = FuncAnimation(fig, update_grid, fargs=(img, grid, ), frames=25, interval=500) # animation  # init_func=create_grid\n",
    "    #plt.close(animation_grid._fig)\n",
    "    \n",
    "    return animation_grid"
   ]
  },
  {
   "cell_type": "markdown",
   "metadata": {},
   "source": [
    "### Grid generation"
   ]
  },
  {
   "cell_type": "code",
   "execution_count": 160,
   "metadata": {},
   "outputs": [],
   "source": [
    "# I will use a predefined number, then it could be chosen by the user as input.\n",
    "# Grid = matrix NxN in a two dimensional space\n",
    "def create_grid(N=20, pattern='random'):\n",
    "    # create grid for each case of pattern\n",
    "    if(pattern == 'random'):\n",
    "        grid = np.random.choice(vals, N*N, p=[0.2, 0.8]).reshape(N, N)\n",
    "        \n",
    "    # we could create classes for each pattern and return the grid \n",
    "        \n",
    "    return grid"
   ]
  },
  {
   "cell_type": "markdown",
   "metadata": {},
   "source": [
    "# GoF implementation"
   ]
  },
  {
   "cell_type": "code",
   "execution_count": 161,
   "metadata": {},
   "outputs": [
    {
     "name": "stdout",
     "output_type": "stream",
     "text": [
      "[[0 1 1 0 0]\n",
      " [0 0 0 0 0]\n",
      " [0 0 0 0 1]\n",
      " [0 0 0 0 1]\n",
      " [0 0 0 1 0]]\n"
     ]
    }
   ],
   "source": [
    "# here we can generate the grid with dimension and pattern parameters\n",
    "# show the grid and the animation\n",
    "grid = create_grid(N=5)\n",
    "print(grid)"
   ]
  },
  {
   "cell_type": "code",
   "execution_count": 162,
   "metadata": {},
   "outputs": [
    {
     "data": {
      "image/png": "[encoded data removed]",
      "text/plain": [
       "<Figure size 432x288 with 1 Axes>"
      ]
     },
     "metadata": {
      "needs_background": "light"
     },
     "output_type": "display_data"
    },
    {
     "data": {
      "text/html": [
       "<video width=\"432\" height=\"288\" controls autoplay loop>\n",
       "  <source type=\"video/mp4\" src=\"data:video/mp4;base64,AAAAIGZ0eXBNNFYgAAACAE00ViBpc29taXNvMmF2YzEAAAAIZnJlZQAACeFtZGF0AAACrgYF//+q\n",
       "3EXpvebZSLeWLNgg2SPu73gyNjQgLSBjb3JlIDE2MSByMzAzME0gOGJkNmQyOCAtIEguMjY0L01Q\n",
       "RUctNCBBVkMgY29kZWMgLSBDb3B5bGVmdCAyMDAzLTIwMjAgLSBodHRwOi8vd3d3LnZpZGVvbGFu\n",
       "Lm9yZy94MjY0Lmh0bWwgLSBvcHRpb25zOiBjYWJhYz0xIHJlZj0zIGRlYmxvY2s9MTowOjAgYW5h\n",
       "bHlzZT0weDM6MHgxMTMgbWU9aGV4IHN1Ym1lPTcgcHN5PTEgcHN5X3JkPTEuMDA6MC4wMCBtaXhl\n",
       "ZF9yZWY9MSBtZV9yYW5nZT0xNiBjaHJvbWFfbWU9MSB0cmVsbGlzPTEgOHg4ZGN0PTEgY3FtPTAg\n",
       "ZGVhZHpvbmU9MjEsMTEgZmFzdF9wc2tpcD0xIGNocm9tYV9xcF9vZmZzZXQ9LTIgdGhyZWFkcz05\n",
       "IGxvb2thaGVhZF90aHJlYWRzPTEgc2xpY2VkX3RocmVhZHM9MCBucj0wIGRlY2ltYXRlPTEgaW50\n",
       "ZXJsYWNlZD0wIGJsdXJheV9jb21wYXQ9MCBjb25zdHJhaW5lZF9pbnRyYT0wIGJmcmFtZXM9MyBi\n",
       "X3B5cmFtaWQ9MiBiX2FkYXB0PTEgYl9iaWFzPTAgZGlyZWN0PTEgd2VpZ2h0Yj0xIG9wZW5fZ29w\n",
       "PTAgd2VpZ2h0cD0yIGtleWludD0yNTAga2V5aW50X21pbj0yIHNjZW5lY3V0PTQwIGludHJhX3Jl\n",
       "ZnJlc2g9MCByY19sb29rYWhlYWQ9NDAgcmM9Y3JmIG1idHJlZT0xIGNyZj0yMy4wIHFjb21wPTAu\n",
       "NjAgcXBtaW49MCBxcG1heD02OSBxcHN0ZXA9NCBpcF9yYXRpbz0xLjQwIGFxPTE6MS4wMACAAAAE\n",
       "0GWIhAAX//731LfMsu1Tb7YLqPeiniZfQ3UlAZuWxO06gAAAAwAGd13N19ntQXAfaAAHjMSJ+tVX\n",
       "f/iAJqc4Frw81X5B2Dyy0OUTi9AHVd8RWwWO+D1XCg79DzVdg91wDCkT9Ou0ZA3VYhJW8rWn1cDH\n",
       "zacRVnAbQiQgxoeVsY7NZdlBJx/zBVfAcqzS9DAfFZixs0vV7dLFYKQDCT8DhUWoWoVRPavz2hWs\n",
       "QiJh3V1gFT1ibatXmWMuuFigdYSOFWJlDQkacbJEMG5hZQpPAxXNlOx3eKUAEKDlXVPMqkD0mgEU\n",
       "63o+hWzqn6s7Bk8AdWXuq5WHfsxBPGzLspvTuayvnWtdI0hFulvRDHf9phHUe0TKdLC6FCKjMr28\n",
       "m6h7YsLL1hy6zAuEmPhLpD+s91+xZb03XBUqf0tb85vKKh290cc0Zm3Xp8ixW69ytWT/1YJ8HHLK\n",
       "v1vD9AsQJCaxG300cCwCrGbz1GJP4WV7tCf07GZqBnYwxfqOJsKQDyD+kh51WsDzr1T53eIXUtRC\n",
       "B6IftTGeQOz5v8c0S/IBgjGA4ge1LPs/I6ZJaBu8xyE3kwzrVlGFZylDiiuHZKGUsu/PYPWTGUyq\n",
       "nh+AfWH4Zf/NEfWbOqsu2c7n70sK2EFHRbquaksalvN4mB1ERyiTsRYGeQK5gYowmmfgVnayei6c\n",
       "Y1C9sxidnYEhv2jp58Wae4c+fJS2FY8gyW+2Bep02frx0eRq6tOU3uCvDOlxmbAZhWsKoQswnyKf\n",
       "PsFFqHKcwEXRXaW+A7mRlypLRoPHX2Qj+7a/yfcAC7s7Qoz4ZDElhQoEoEO56sMmxUDIe/9hKgfg\n",
       "nXB503ecdQcGuoJuN5vC8NOgPTksQqi1Ve53YoXSmvZq7N1YkHjTo7Q2OrEEpJ3wVZ7HTS4BI+OV\n",
       "9xPN8eDG7Apc+3TdqCAmO3sMfBqUrTa3ZnISCkoI5dN/CWfGlNBJ15K2jlQ0G6fYCeNu4reErLKy\n",
       "C0gxfzm7b648O8KA9DEKSNGNH5+Zr7vz8zrVD59s5f8M/FrKz0Sc1hmySqGjo3JuD28AQ07NU/Bf\n",
       "ztJsvrBX0kwdU4SG2Yn04QaKceeAB1TAUI8bjJfjdqtiWoALsbIY3zjqeCDxJJOr5k3JnkGe320X\n",
       "WE5TsNyqaa+XuU+I1ljor4VETAdR+P3PtXyJmjrDXTrgLeH8NY+6xyyt+kiKjHqlq4duHPvMC8BS\n",
       "Z9Aw6E3LaptlbdERSMTOAeuXohpNONnDFuqLmJey8wH3/ujR3CptYgo+xOqrM5KJ1ka6qF4TxBC0\n",
       "Ub+zRc3JS7XK+EU7EGo+ngWTsGQIm/y7sjCkIrMtGDjCMDuGdszj0sXK3PwVdcYdAwXX4ZfW+AhC\n",
       "sFanbH/FV/I44LG46mSS/fR0cjPG7zF9x1o2pB7jJBtLWSlnh1tXGUBSjIEp1T4EeqoaW8l+/69v\n",
       "dvvj3FWMRGkPZDjlk7zaz/BUZJabM6KNm92i3GHjkEw3HaOc140urvx6l4EnBZ7Bh2axAcD0xtl8\n",
       "7LpfBL7GY1mfUH9hmFpgkbblnfwfu/6XqDDsuQ2nhykZe7pKc0HN8NnRoZdzZS7SPFjKwjqcboIF\n",
       "s855tI/VrMITDfqnDjY/w/RMiMnjRsa80SrMtuta2DAAAA0pAAAAXEGaJGxBf/7aplgAABnuBKUg\n",
       "CuKilC3sxG58QnuuJPC2KjrYzS5/gc2/BANErISVqKrqhWbI+n/42m+GkMat6dC6XkJpA7va/LSo\n",
       "RP6kH38/y9WetWwBN0em7Z/gAAAAGUGeQniCnwAAAwAjla4dvxEUuandWb2WqhEAAAAXAZ5hdEEv\n",
       "AAADAGRWMnh5k3z3+4o6cfQAAAAPAZ5jakEvAAADAC+uZbgZAAAAFUGaaEmoQWiZTAgv//7aplgA\n",
       "AAMD7wAAABJBnoZFESwU/wAAAwAQy4/al0EAAAAPAZ6ldEEvAAADAC+rGJO5AAAADwGep2pBLwAA\n",
       "AwAvrmW4GAAAABVBmqxJqEFsmUwILf/+1qVQAAADA+4AAAASQZ7KRRUsFP8AAAMAEMuP2pdBAAAA\n",
       "DwGe6XRBLwAAAwAvqxiTuAAAAA8BnutqQS8AAAMAL65luBgAAAAVQZrwSahBbJlMCC3//talUAAA\n",
       "AwPvAAAAEkGfDkUVLBT/AAADABDLj9qXQQAAAA8Bny10QS8AAAMAL6sYk7kAAAAPAZ8vakEvAAAD\n",
       "AC+uZbgYAAAAFUGbNEmoQWyZTAgr//7WpVAAAAMD7gAAABJBn1JFFSwU/wAAAwAQy4/al0EAAAAP\n",
       "AZ9xdEEvAAADAC+rGJO4AAAADwGfc2pBLwAAAwAvrmW4GAAAABRBm3hJqEFsmUwIJf/+tSqAAAAe\n",
       "sQAAABJBn5ZFFSwU/wAAAwAQy4/al0AAAAAPAZ+1dEEvAAADAC+rGJO5AAAADwGft2pBLwAAAwAv\n",
       "rmW4GQAABF5tb292AAAAbG12aGQAAAAAAAAAAAAAAAAAAAPoAAAw1AABAAABAAAAAAAAAAAAAAAA\n",
       "AQAAAAAAAAAAAAAAAAAAAAEAAAAAAAAAAAAAAAAAAEAAAAAAAAAAAAAAAAAAAAAAAAAAAAAAAAAA\n",
       "AAAAAAACAAADiHRyYWsAAABcdGtoZAAAAAMAAAAAAAAAAAAAAAEAAAAAAAAw1AAAAAAAAAAAAAAA\n",
       "AAAAAAAAAQAAAAAAAAAAAAAAAAAAAAEAAAAAAAAAAAAAAAAAAEAAAAABsAAAASAAAAAAACRlZHRz\n",
       "AAAAHGVsc3QAAAAAAAAAAQAAMNQAAEAAAAEAAAAAAwBtZGlhAAAAIG1kaGQAAAAAAAAAAAAAAAAA\n",
       "AEAAAAMgAFXEAAAAAAAtaGRscgAAAAAAAAAAdmlkZQAAAAAAAAAAAAAAAFZpZGVvSGFuZGxlcgAA\n",
       "AAKrbWluZgAAABR2bWhkAAAAAQAAAAAAAAAAAAAAJGRpbmYAAAAcZHJlZgAAAAAAAAABAAAADHVy\n",
       "bCAAAAABAAACa3N0YmwAAAC3c3RzZAAAAAAAAAABAAAAp2F2YzEAAAAAAAAAAQAAAAAAAAAAAAAA\n",
       "AAAAAAABsAEgAEgAAABIAAAAAAAAAAEAAAAAAAAAAAAAAAAAAAAAAAAAAAAAAAAAAAAAAAAAAAAY\n",
       "//8AAAA1YXZjQwFkABX/4QAYZ2QAFazZQbCWhAAAAwAEAAADABA8WLZYAQAGaOvjyyLA/fj4AAAA\n",
       "ABx1dWlka2hA8l8kT8W6OaUbzwMj8wAAAAAAAAAYc3R0cwAAAAAAAAABAAAAGQAAIAAAAAAUc3Rz\n",
       "cwAAAAAAAAABAAAAAQAAANhjdHRzAAAAAAAAABkAAAABAABAAAAAAAEAAKAAAAAAAQAAQAAAAAAB\n",
       "AAAAAAAAAAEAACAAAAAAAQAAoAAAAAABAABAAAAAAAEAAAAAAAAAAQAAIAAAAAABAACgAAAAAAEA\n",
       "AEAAAAAAAQAAAAAAAAABAAAgAAAAAAEAAKAAAAAAAQAAQAAAAAABAAAAAAAAAAEAACAAAAAAAQAA\n",
       "oAAAAAABAABAAAAAAAEAAAAAAAAAAQAAIAAAAAABAACgAAAAAAEAAEAAAAAAAQAAAAAAAAABAAAg\n",
       "AAAAABxzdHNjAAAAAAAAAAEAAAABAAAAGQAAAAEAAAB4c3RzegAAAAAAAAAAAAAAGQAAB4YAAABg\n",
       "AAAAHQAAABsAAAATAAAAGQAAABYAAAATAAAAEwAAABkAAAAWAAAAEwAAABMAAAAZAAAAFgAAABMA\n",
       "AAATAAAAGQAAABYAAAATAAAAEwAAABgAAAAWAAAAEwAAABMAAAAUc3RjbwAAAAAAAAABAAAAMAAA\n",
       "AGJ1ZHRhAAAAWm1ldGEAAAAAAAAAIWhkbHIAAAAAAAAAAG1kaXJhcHBsAAAAAAAAAAAAAAAALWls\n",
       "c3QAAAAlqXRvbwAAAB1kYXRhAAAAAQAAAABMYXZmNTguNDUuMTAw\n",
       "\">\n",
       "  Your browser does not support the video tag.\n",
       "</video>"
      ],
      "text/plain": [
       "<IPython.core.display.HTML object>"
      ]
     },
     "execution_count": 162,
     "metadata": {},
     "output_type": "execute_result"
    }
   ],
   "source": [
    "# show the GoF grid animation\n",
    "animation = show_GoF(grid)\n",
    "HTML(animation.to_html5_video())"
   ]
  },
  {
   "cell_type": "code",
   "execution_count": null,
   "metadata": {},
   "outputs": [],
   "source": []
  },
  {
   "cell_type": "code",
   "execution_count": null,
   "metadata": {},
   "outputs": [],
   "source": []
  }
 ],
 "metadata": {
  "kernelspec": {
   "display_name": "Python [conda env:HLP] *",
   "language": "python",
   "name": "conda-env-HLP-py"
  },
  "language_info": {
   "codemirror_mode": {
    "name": "ipython",
    "version": 3
   },
   "file_extension": ".py",
   "mimetype": "text/x-python",
   "name": "python",
   "nbconvert_exporter": "python",
   "pygments_lexer": "ipython3",
   "version": "3.8.5"
  }
 },
 "nbformat": 4,
 "nbformat_minor": 4
}
