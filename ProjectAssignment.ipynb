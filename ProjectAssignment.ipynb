{
 "cells": [
  {
   "cell_type": "markdown",
   "metadata": {},
   "source": [
    "# The motion of intermediate-mass black holes\n",
    "\n",
    "### Description\n",
    "\n",
    "Intermediate-mass black holes (IMBHs), i.e. black holes with mass 100 - 10'000 Msun, are expected to form in massive star clusters via several dynamical processes, but they are extremely difficult to detect with current observational facilities (even with gravitational wave detectors). \n",
    "\n",
    "\n",
    "### Assignemnt\n",
    "\n",
    "In this project, the students will analyze the data of N-body simulations of star clusters hosting IMBHs to estimate the distance of the IMBH from the center of mass of the star cluster. The distribution of such distances probes the effect of Brownian motion and/or other dynamical perturbations on IMBHs.\n",
    "\n",
    "### Datasets\n",
    "\n",
    "The relevant data can be found in the directory `/data/IMBH_wobble/` on your VM. \n",
    "\n",
    "Verbatim instructions from Prof. Mapelli:\n",
    "\n",
    "```\n",
    "Inside this folder there are 16 subfolders corresponding to 16 simulations.\n",
    "The names are interpreted as follows: bh100w08 has a black hole 100 times more massive than the typical star, etc...\n",
    "Each one of these folders contains snapshots (saves of the simulation at different evolutionary times),\n",
    "called e.g. c_0000.dat, c_0100.dat, ... Each file has at the beginning two lines commented with the character '#',\n",
    "indicating the meaning of each column and the age of the snapshot.\n",
     "The students task will be to locate in each simulation the black hole of intermediate mass, if present\n",
    "(it is the most massive particle), determine the x,y,z components of the distance from the centre of mass\n",
    "of the simulation (which also has to be calculated), graphing its temporal evolution and the distribution over\n",
    "all times for a given simulation - e.g. by plotting a histogram, measuring the standard deviation, skewness and kurtosis\n",
    "(within each simulation). Discuss the statistical significance of the results and any strategies to improve it.\n",
    "```\n",
    "\n",
    "the simulations have been produced by means of the [NBODY6](https://www.ast.cam.ac.uk/~sverre/web/pages/nbody.htm) simulation code.\n",
    "\n",
    "### Contacts\n",
    "\n",
    "* Michela Mapelli <michela.mapelli@unipd.it>\n",
    "* Mario Pasquato <mario.pasquato@gmail.com>"
   ]
  },
  {
   "cell_type": "code",
   "execution_count": null,
   "metadata": {},
   "outputs": [],
   "source": []
  }
 ],
 "metadata": {
  "kernelspec": {
   "display_name": "Python 3",
   "language": "python",
   "name": "python3"
  },
  "language_info": {
   "codemirror_mode": {
    "name": "ipython",
    "version": 3
   },
   "file_extension": ".py",
   "mimetype": "text/x-python",
   "name": "python",
   "nbconvert_exporter": "python",
   "pygments_lexer": "ipython3",
   "version": "3.5.4"
  }
 },
 "nbformat": 4,
 "nbformat_minor": 2
}
